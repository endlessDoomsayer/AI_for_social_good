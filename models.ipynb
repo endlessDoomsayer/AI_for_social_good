{
 "cells": [
  {
   "cell_type": "markdown",
   "id": "d898cc52-c59a-4e18-9374-5c8ef25cfcaf",
   "metadata": {
    "id": "d898cc52-c59a-4e18-9374-5c8ef25cfcaf"
   },
   "source": [
    "# Notebook for the development of module \"scheduling_problem\" of AI for carbon reduction project"
   ]
  },
  {
   "cell_type": "markdown",
   "id": "54925e3b-53ef-4b05-9a6d-955832765d53",
   "metadata": {
    "id": "54925e3b-53ef-4b05-9a6d-955832765d53"
   },
   "source": [
    "# General model\n",
    "We list below the common sets, parameters, variables and constraints that will be used in all the models.\n",
    "\n",
    "## Sets\n",
    "$$\n",
    "T = \\{0, ..., T_H-1\\} = \\text{Discrete time steps in the scheduling horizon (e.g., minutes).}\n",
    "$$\n",
    "$$\n",
    "I = \\{1, ...., N_M\\} = \\text{Set of machines.}\n",
    "$$\n",
    "$$\n",
    "J_i = \\{1, ..., N_i\\} = \\text{Set of jobs to be processed by machine $i$.}\n",
    "$$\n",
    "\n",
    "Other sets that will be used in the constraints:\n",
    "\n",
    "$SHARED = \\{M'$ : if $k,l \\in M'$ then $k$ and $l$ have shared resources$\\}$\n",
    "\n",
    "$DEPEN = \\{(k,l)$ : $l$ must start its job only after $k$ has finished its$\\}$\n",
    "\n",
    "\n",
    "## Parameters\n",
    "For each machine:\n",
    "$$\n",
    " e_{i} = \\text{energy used by the machine $i$ per unit of time}\n",
    " $$\n",
    " $$\n",
    " f_{i} = \\text{fixed cost for starting the machine $i$ at any time}\n",
    " $$\n",
    " $$\n",
    "d_i = \\text{duration of any of the job of machine $i$}\n",
    "$$\n",
    "$$\n",
    "N_i = \\text{number of jobs to complete for machine $i$}\n",
    "$$\n",
    "$$\n",
    "c_i = \\text{time of cooldown for machine $i$}\n",
    "$$\n",
    "$$\n",
    "T_{j,i} = \\text{threshold for job $j$ of machine $i$}\n",
    "$$\n",
    "For each time step:\n",
    "$$\n",
    "p_t = \\text{energy produced at time $t$ by one solar panel}\n",
    "$$\n",
    "$$\n",
    "m_t = \\text{maximum energy that we can use at time $t$}\n",
    "$$\n",
    "For each solar panel:\n",
    "$$\n",
    "c_p = \\text{cost of a solar panel}\n",
    "$$\n",
    "For each battery:\n",
    "$$\n",
    "c_b = \\text{cost of a battery}\n",
    "$$\n",
    "$$\n",
    "B = \\text{capacity of a battery}\n",
    "$$\n",
    "\n",
    "## Variables\n",
    "$$\n",
    "x_{itj} = \\text{if machine $i$ is working at time $t$ for job $j$}\n",
    "$$\n",
    "$$\n",
    "y_{itj} = \\text{if machine $i$ starts working at time $t$ for job $j$}\n",
    "$$\n",
    "\n",
    "## Constraints\n",
    "\n",
    "1. Every machine $i \\in I$ must do the required number $N_i$ of jobs with a certain duration $d_i$. For every $i \\in I$ and $j \\in J_i$:\n",
    "$$\n",
    "\\sum_{t \\in T} x_{itj} \\ge  d_i\n",
    "$$\n",
    "2. Knapsack contraint that says that not all machines can run at the same time due to max power load for slot (parameter $m_t$, which could depend on time). For every $t \\in T$:\n",
    "$$\n",
    "   \\sum_{i \\in I} \\sum_{j \\in J_i} e_{i}x_{itj} \\le m_t\n",
    "$$\n",
    "3. Some machines may be allowed to run only at specific times for noise or maintenance windows / downtime or worker availability. For some $t \\in T$ and $i \\in I$:\n",
    "   $$\n",
    "   x_{itj} = 0 \\, \\, \\forall j \\in J_i\n",
    "   $$\n",
    "4. Shared resources: some machines can't run in the same time slot $t \\in T$ because of shared resources. Given a set $SHARED = \\{M'$ : if $k,l \\in M'$ then $k$ and $l$ have shared resources$\\}$ and $\\forall t \\in T$:\n",
    "   $$\n",
    "   \\sum_{i \\in M'} \\sum_{j \\in J_i} x_{itj} \\le 1  \\,\\, \\forall M' \\in SHARED\n",
    "   $$\n",
    "5. A machine works only if it has just started or it was already working. For every $i \\in I$, for every $j \\in J_i$ and for every $t \\in T$:\n",
    "$$            \n",
    "y_{itj} \\le x_{itj} \\le y_{itj}+x_{i(t-1)j}\n",
    "$$\n",
    "6. Machine dependencies: one machine starts only after another has finished. Given a set $DEPEN = \\{(k,l)$ : $l$ must start its job only after $k$ has finished its$\\}$ and for every time $t \\in T$.\n",
    "$$\n",
    "y_{ltj} \\cdot d_k \\le  \\sum_{t' < t, \\, t' \\in T} (x_{kt'j}) \\text{ for every dependency }(k,l) \\in DEPEN \\text{ and for every $j \\in J_l$}\n",
    "$$\n",
    "7. Cooldown Periods: some machines require a cooldown phase between uses (if this is not needed, set $c_i = 0$). For every $i \\in I$ and for every $t \\in T$:\n",
    "$$\n",
    "   c_i \\cdot \\sum_{j \\in J_i} y_{itj} \\le \\sum_{t-c_i \\le t' < t, \\, t' \\in T}\\sum_{j \\in J_i} (1-x_{it'j})\n",
    "$$\n",
    "8. Job deadlines: all jobs must finish before a specific time. For every $i \\in I$ and for every $j \\in J_i$, calling $T_{j,i}$ the threshold for job $j$ on machine $i$:\n",
    "$$\n",
    "     \\sum_{t' \\le T_{j,i}, \\, t' \\in T} x_{it'j} \\ge d_i\n",
    "$$\n",
    "9. Only one job at a time. For every $i \\in I$ and for every $t \\in T$:\n",
    "$$\n",
    "    \\sum_{j \\in J_i} x_{itj} \\le 1\n",
    "$$\n",
    "$$\n",
    "    \\sum_{j \\in J_i} y_{itj} \\le 1\n",
    "$$\n"
   ]
  },
  {
   "cell_type": "markdown",
   "id": "a37338b3",
   "metadata": {
    "id": "a37338b3"
   },
   "source": [
    "## PHASE 1\n",
    "Determine the minimum number of solar panels ($M$) and battery units ($N$) for 100% self-sufficiency."
   ]
  },
  {
   "cell_type": "markdown",
   "id": "1e398c26",
   "metadata": {
    "id": "1e398c26"
   },
   "source": [
    "### Additional variables\n",
    "$$\n",
    "N = \\text{how many batteries to buy}\n",
    "$$\n",
    "$$\n",
    "M = \\text{how many panels to buy}\n",
    "$$\n",
    "$$\n",
    "s_t = \\text{how much energy we accumulated till time $t$ in the batteries}\n",
    "$$\n",
    "### Objective function\n",
    "$$\n",
    "\\min Nc_b+Mc_p\n",
    "$$\n",
    "### Additional constraints\n",
    "1. No imported energy. For every $t \\in T$:\n",
    "$$\n",
    "\\sum_{i \\in I}\\sum_{j \\in J_i} (e_{i}x_{itj} +f_i y_{itj} - Mp_t - s_t) \\le  0\n",
    "$$\n",
    "2. Constraints on the level of energy accumulated in the batteries. For every $t \\in T$:\n",
    "$$\n",
    "         s_t = s_{t-1} + Mp_{t-1} - \\sum_{i \\in I}\\sum_{j \\in J_i} ( e_{i}x_{i(t-1)j} + f_i y_{i(t-1)j})\n",
    "$$\n",
    "$$\n",
    "         0 \\le s_t \\le  NB\n",
    "$$\n",
    "$$\n",
    "        s_0 = 0\n",
    "$$"
   ]
  },
  {
   "cell_type": "markdown",
   "id": "d0fdddb8",
   "metadata": {
    "id": "d0fdddb8"
   },
   "source": [
    "### Final model\n",
    "The following is the final model that is solved in phase 1.\n",
    "\n",
    "$$\n",
    "\\left\\{\n",
    "  \\begin{array}{rcr}\n",
    "        \\min Nc_b+Mc_p \\\\\n",
    "        \\sum_{i \\in I}\\sum_{j \\in J_i} (e_{i}x_{itj} +f_i y_{itj}) - Mp_t - s_t \\le & 0 & \\forall t \\in T \\\\\n",
    "        s_t = & s_{t-1} + Mp_{t-1} - \\sum_{i \\in I}\\sum_{j \\in J_i} ( e_{i}x_{i(t-1)j} + f_i y_{i(t-1)j}) & \\forall t \\in T \\\\\n",
    "        0   \\le s_t \\le & NB & \\forall t \\in T \\\\\n",
    "        s_0 = & 0 \\\\\n",
    "        \\sum_{t \\in T} x_{itj} \\ge & d_i & \\forall i \\in I, \\, \\forall j \\in J \\\\\n",
    "        \\sum_{i \\in I} \\sum_{j \\in J_i} e_{i}x_{itj}  \\le & m_t & \\forall t \\in T \\\\\n",
    "        x_{itj} = & 0 & \\text{for some $t \\in T$ and for some $i \\in I$, } \\forall j \\in J_i \\\\\n",
    "        \\sum_{i \\in M'} \\sum_{j \\in J_i} x_{itj} \\le & 1  & \\forall t \\in T, \\, \\forall M' \\in SHARED\\\\\n",
    "        y_{itj} \\le x_{itj} \\le & y_{itj}+x_{i(t-1)j} & \\forall t \\in T-\\{0\\}, \\, \\forall i \\in I, \\, \\forall j \\in J_i \\\\\n",
    "        y_{ltj} \\cdot d_k  \\le & \\sum_{t' < t, \\, t' \\in T} (x_{kt'j}) & \\text{ for every dependency }(k,l) \\in DEPEN \\text{ and $\\forall j \\in J_l$, $\\forall t \\in T$} \\\\\n",
    "        c_i \\cdot \\sum_{j \\in J_i} y_{itj} \\le & \\sum_{t-c_i \\le t' < t, \\, t' \\in T}\\sum_{j \\in J_i} (1-x_{it'j}) & \\forall t \\in T, \\, \\forall i \\in I \\\\\n",
    "        \\sum_{t' \\le T_{j,i}, \\, t' \\in T} x_{it'j} \\ge & d_i & \\forall i \\in I, \\, \\forall j \\in J_i\\\\\n",
    "        \\sum_{j \\in J_i} x_{itj} \\le & 1 & \\forall t \\in T, \\, \\forall i \\in I\\\\\n",
    "        \\sum_{j \\in J_i} y_{itj} \\le & 1 & \\forall t \\in T, \\, \\forall i \\in I \\\\\n",
    "        x_{ijt} \\in & \\{0,1\\} & \\forall t \\in T, \\, \\forall i \\in I, \\, \\forall j \\in J \\\\\n",
    "        y_{ijt} \\in & \\{0,1\\} & \\forall t \\in T, \\, \\forall i \\in I, \\, \\forall j \\in J \\\\\n",
    "        s_t \\in & \\mathbb{R} & \\forall t \\in T \\\\\n",
    "        N, \\, M \\in & \\mathbb{N} \n",
    "  \\end{array}\n",
    "\\right.\n",
    "$$"
   ]
  },
  {
   "cell_type": "markdown",
   "id": "e260e9d4",
   "metadata": {
    "id": "e260e9d4"
   },
   "source": [
    "## PHASE 2\n",
    "Taking the number of panels $M^*$ and the number of batteries $N^*$ that result from phase 1, compute the number of years that our company could work continuing to pay external energy instead of buying solar panels.\n",
    "\n",
    "Let $c_{annual}$ be the annual cost of the imported energy.\n",
    "\n",
    "$$\n",
    "horizon = H = \\frac{c_bN^*+c_pM^*}{c_{annual}}\n",
    "$$"
   ]
  },
  {
   "cell_type": "markdown",
   "id": "fa3c354f",
   "metadata": {
    "id": "fa3c354f"
   },
   "source": [
    "## PHASE 3\n",
    "Within the budget implied by Phase 2’s horizon, find optimal $N$ and $M$ to minimize total energy cost (capital + operational).\n",
    "\n",
    "### Additional parameters\n",
    "$$\n",
    "T_H = H_{time \\, units} = \\text{temporal horizon from phase 2 in time units} \n",
    "$$\n",
    "### Additional variables\n",
    "$$\n",
    "N = \\text{how many batteries to buy}\n",
    "$$\n",
    "$$\n",
    "M = \\text{how many panels to buy}\n",
    "$$\n",
    "$$\n",
    "s_t = \\text{how much energy we accumulated till time $t$ in the batteries}\n",
    "$$\n",
    "$$\n",
    "z_t = \\text{imported energy at time t}\n",
    "$$\n",
    "\n",
    "### Objective function\n",
    "$$\n",
    "\\min Nc_b + Mc_p + \\sum_{t \\in T} z_t\n",
    "$$\n",
    "### Additional constraints\n",
    "1. Modified energy balance constraint. For every $t \\in T$:\n",
    "$$\n",
    "\\sum_{i \\in I} \\sum_{j \\in J_i} (e_{i}x_{itj} +f_i y_{itj}) - Mp_t - s_t \\le z_t\n",
    "$$\n",
    "2. Constraints on the level of energy accumulated in the batteries. For every $t \\in T$:\n",
    "$$\n",
    "         s_t = s_{t-1} + Mp_{t-1} + z_{t-1} - \\sum_{i \\in I}\\sum_{j \\in J_i} ( e_{i}x_{i(t-1)j} + f_i y_{i(t-1)j})\n",
    "$$\n",
    "$$\n",
    "         0 \\le s_t \\le  NB\n",
    "$$\n",
    "         \n",
    "$$\n",
    "    s_0 = 0\n",
    "$$\n",
    "3. Bound on $z_t$:\n",
    "$$\n",
    "0 \\le z_t\n",
    "$$"
   ]
  },
  {
   "cell_type": "markdown",
   "id": "10351c1f",
   "metadata": {
    "id": "10351c1f"
   },
   "source": [
    "### Final model\n",
    "$$\n",
    "\\left\\{\n",
    "  \\begin{array}{rcr}\n",
    "        \\min Nc_b + Mc_p + \\sum_{t \\in T} z_t \\\\\n",
    "        \\sum_{i \\in I} \\sum_{j \\in J_i} (e_{i}x_{itj} +f_i y_{itj}) - Mp_t - s_t \\le & z_t & \\forall t \\in T \\\\\n",
    "        s_t = & s_{t-1} + Mp_{t-1} + z_{t-1} - \\sum_{i \\in I}\\sum_{j \\in J_i} ( e_{i}x_{i(t-1)j} + f_i y_{i(t-1)j}) & \\forall t \\in T\\\\\n",
    "        0 \\le s_t \\le & NB & \\forall t \\in T \\\\\n",
    "        s_0 = & 0 \\\\\n",
    "        z_t \\ge & 0 & \\forall t \\in T \\\\\n",
    "        \\sum_{t \\in T} x_{itj} \\ge & d_i & \\forall i \\in I, \\, \\forall j \\in J \\\\\n",
    "        \\sum_{i \\in I} \\sum_{j \\in J_i} e_{i}x_{itj}  \\le & m_t & \\forall t \\in T \\\\\n",
    "        x_{itj} = & 0 & \\text{for some $t \\in T$ and for some $i \\in I$, } \\forall j \\in J_i \\\\\n",
    "        \\sum_{i \\in M'} \\sum_{j \\in J_i} x_{itj} \\le & 1  & \\forall t \\in T, \\, \\forall M' \\in SHARED\\\\\n",
    "        y_{itj} \\le x_{itj} \\le & y_{itj}+x_{i(t-1)j} & \\forall t \\in T-\\{0\\}, \\, \\forall i \\in I, \\, \\forall j \\in J_i \\\\\n",
    "        y_{ltj} \\cdot d_k  \\le & \\sum_{t' < t, \\, t' \\in T} (x_{kt'j}) & \\text{ for every dependency }(k,l) \\in DEPEN \\text{ and $\\forall j \\in J_l$, $\\forall t \\in T$} \\\\\n",
    "        c_i \\cdot \\sum_{j \\in J_i} y_{itj} \\le & \\sum_{t-c_i \\le t' < t, \\, t' \\in T}\\sum_{j \\in J_i} (1-x_{it'j}) & \\forall t \\in T, \\, \\forall i \\in I \\\\\n",
    "        \\sum_{t' \\le T_{j,i}, \\, t' \\in T} x_{it'j} \\ge & d_i & \\forall i \\in I, \\, \\forall j \\in J_i\\\\\n",
    "        \\sum_{j \\in J_i} x_{itj} \\le & 1 & \\forall t \\in T, \\, \\forall i \\in I\\\\\n",
    "        \\sum_{j \\in J_i} y_{itj} \\le & 1 & \\forall t \\in T, \\, \\forall i \\in I \\\\\n",
    "        x_{ijt} \\in & \\{0,1\\} & \\forall t \\in T, \\, \\forall i \\in I, \\, \\forall j \\in J \\\\\n",
    "        y_{ijt} \\in & \\{0,1\\} & \\forall t \\in T, \\, \\forall i \\in I, \\, \\forall j \\in J \\\\\n",
    "        s_t \\in & \\mathbb{R} & \\forall t \\in T \\\\\n",
    "        z_t \\in & \\mathbb{R} & \\forall t \\in T \\\\\n",
    "        N, \\, M \\in & \\mathbb{N} \n",
    "  \\end{array}\n",
    "\\right.\n",
    "$$"
   ]
  },
  {
   "cell_type": "markdown",
   "id": "5b1cf677",
   "metadata": {
    "id": "5b1cf677"
   },
   "source": [
    "## PHASE 4\n",
    "Now that we fixed N and M, we need to obtain an optimal scheduling that reduces the usage of external energy.\n",
    "\n",
    "This phase can be divided in 2.\n",
    "\n",
    "### 4.1\n",
    "If I need to not use at all any form of external energy. It's the same model of Phase 1 but without the objective function."
   ]
  },
  {
   "cell_type": "markdown",
   "id": "65fdc5c5",
   "metadata": {
    "id": "65fdc5c5"
   },
   "source": [
    "$$\n",
    "\\left\\{\n",
    "  \\begin{array}{rcr}\n",
    "        \\sum_{i \\in I}\\sum_{j \\in J_i} (e_{i}x_{itj} +f_i y_{itj}) - Mp_t - s_t \\le & 0 & \\forall t \\in T \\\\\n",
    "        s_t = & s_{t-1} + Mp_{t-1} - \\sum_{i \\in I}\\sum_{j \\in J_i} ( e_{i}x_{i(t-1)j} + f_i y_{i(t-1)j}) & \\forall t \\in T \\\\\n",
    "        0   \\le s_t \\le & NB & \\forall t \\in T \\\\\n",
    "        s_0 = & 0 \\\\\n",
    "        \\sum_{t \\in T} x_{itj} \\ge & d_i & \\forall i \\in I, \\, \\forall j \\in J \\\\\n",
    "        \\sum_{i \\in I} \\sum_{j \\in J_i} e_{i}x_{itj}  \\le & m_t & \\forall t \\in T \\\\\n",
    "        x_{itj} = & 0 & \\text{for some $t \\in T$ and for some $i \\in I$, } \\forall j \\in J_i \\\\\n",
    "        \\sum_{i \\in M'} \\sum_{j \\in J_i} x_{itj} \\le & 1  & \\forall t \\in T, \\, \\forall M' \\in SHARED\\\\\n",
    "        y_{itj} \\le x_{itj} \\le & y_{itj}+x_{i(t-1)j} & \\forall t \\in T-\\{0\\}, \\, \\forall i \\in I, \\, \\forall j \\in J_i \\\\\n",
    "        y_{ltj} \\cdot d_k  \\le & \\sum_{t' < t, \\, t' \\in T} (x_{kt'j}) & \\text{ for every dependency }(k,l) \\in DEPEN \\text{ and $\\forall j \\in J_l$, $\\forall t \\in T$} \\\\\n",
    "        c_i \\cdot \\sum_{j \\in J_i} y_{itj} \\le & \\sum_{t-c_i \\le t' < t, \\, t' \\in T}\\sum_{j \\in J_i} (1-x_{it'j}) & \\forall t \\in T, \\, \\forall i \\in I \\\\\n",
    "        \\sum_{t' \\le T_{j,i}, \\, t' \\in T} x_{it'j} \\ge & d_i & \\forall i \\in I, \\, \\forall j \\in J_i\\\\\n",
    "        \\sum_{j \\in J_i} x_{itj} \\le & 1 & \\forall t \\in T, \\, \\forall i \\in I\\\\\n",
    "        \\sum_{j \\in J_i} y_{itj} \\le & 1 & \\forall t \\in T, \\, \\forall i \\in I \\\\\n",
    "        x_{ijt} \\in & \\{0,1\\} & \\forall t \\in T, \\, \\forall i \\in I, \\, \\forall j \\in J \\\\\n",
    "        y_{ijt} \\in & \\{0,1\\} & \\forall t \\in T, \\, \\forall i \\in I, \\, \\forall j \\in J \\\\\n",
    "        s_t \\in & \\mathbb{R} & \\forall t \\in T\n",
    "  \\end{array}\n",
    "\\right.\n",
    "$$"
   ]
  },
  {
   "cell_type": "markdown",
   "id": "e84727f1-583c-4dee-9aaa-dffbee6b1d96",
   "metadata": {},
   "source": [
    "### 4.3\n",
    "Minimize the external energy used. It's the same as model 3 but with a modified objective function that doesn't aim to minimize N and M."
   ]
  },
  {
   "cell_type": "markdown",
   "id": "f9d54835",
   "metadata": {
    "id": "f9d54835"
   },
   "source": [
    "$$\n",
    "\\left\\{\n",
    "  \\begin{array}{rcr}\n",
    "        \\sum_{i \\in I} \\sum_{j \\in J_i} (e_{i}x_{itj} +f_i y_{itj}) - Mp_t - s_t \\le & z_t & \\forall t \\in T \\\\\n",
    "        s_t = & s_{t-1} + Mp_{t-1} + z_{t-1} - \\sum_{i \\in I}\\sum_{j \\in J_i} ( e_{i}x_{i(t-1)j} + f_i y_{i(t-1)j}) & \\forall t \\in T\\\\\n",
    "        0 \\le s_t \\le & NB & \\forall t \\in T \\\\\n",
    "        s_0 = & 0 \\\\\n",
    "        z_t \\ge & 0 & \\forall t \\in T \\\\\n",
    "        \\sum_{t \\in T} x_{itj} \\ge & d_i & \\forall i \\in I, \\, \\forall j \\in J \\\\\n",
    "        \\sum_{i \\in I} \\sum_{j \\in J_i} e_{i}x_{itj}  \\le & m_t & \\forall t \\in T \\\\\n",
    "        x_{itj} = & 0 & \\text{for some $t \\in T$ and for some $i \\in I$, } \\forall j \\in J_i \\\\\n",
    "        \\sum_{i \\in M'} \\sum_{j \\in J_i} x_{itj} \\le & 1  & \\forall t \\in T, \\, \\forall M' \\in SHARED\\\\\n",
    "        y_{itj} \\le x_{itj} \\le & y_{itj}+x_{i(t-1)j} & \\forall t \\in T-\\{0\\}, \\, \\forall i \\in I, \\, \\forall j \\in J_i \\\\\n",
    "        y_{ltj} \\cdot d_k  \\le & \\sum_{t' < t, \\, t' \\in T} (x_{kt'j}) & \\text{ for every dependency }(k,l) \\in DEPEN \\text{ and $\\forall j \\in J_l$, $\\forall t \\in T$} \\\\\n",
    "        c_i \\cdot \\sum_{j \\in J_i} y_{itj} \\le & \\sum_{t-c_i \\le t' < t, \\, t' \\in T}\\sum_{j \\in J_i} (1-x_{it'j}) & \\forall t \\in T, \\, \\forall i \\in I \\\\\n",
    "        \\sum_{t' \\le T_{j,i}, \\, t' \\in T} x_{it'j} \\ge & d_i & \\forall i \\in I, \\, \\forall j \\in J_i\\\\\n",
    "        \\sum_{j \\in J_i} x_{itj} \\le & 1 & \\forall t \\in T, \\, \\forall i \\in I\\\\\n",
    "        \\sum_{j \\in J_i} y_{itj} \\le & 1 & \\forall t \\in T, \\, \\forall i \\in I \\\\\n",
    "        x_{ijt} \\in & \\{0,1\\} & \\forall t \\in T, \\, \\forall i \\in I, \\, \\forall j \\in J \\\\\n",
    "        y_{ijt} \\in & \\{0,1\\} & \\forall t \\in T, \\, \\forall i \\in I, \\, \\forall j \\in J \\\\\n",
    "        s_t \\in & \\mathbb{R} & \\forall t \\in T \\\\\n",
    "        z_t \\in & \\mathbb{R} & \\forall t \\in T\n",
    "  \\end{array}\n",
    "\\right.\n",
    "$$\n"
   ]
  },
  {
   "cell_type": "markdown",
   "id": "5d25f0db-309d-4fcd-9e6d-9f4ad344c7a9",
   "metadata": {
    "id": "5d25f0db-309d-4fcd-9e6d-9f4ad344c7a9"
   },
   "source": [
    "# Algorithms to solve the problem\n",
    "This file is also available in the folder `scheduling_problem` with the corresponding solution algorithms."
   ]
  }
 ],
 "metadata": {
  "colab": {
   "provenance": []
  },
  "kernelspec": {
   "display_name": "Python 3 (ipykernel)",
   "language": "python",
   "name": "python3"
  },
  "language_info": {
   "codemirror_mode": {
    "name": "ipython",
    "version": 3
   },
   "file_extension": ".py",
   "mimetype": "text/x-python",
   "name": "python",
   "nbconvert_exporter": "python",
   "pygments_lexer": "ipython3",
   "version": "3.12.0"
  }
 },
 "nbformat": 4,
 "nbformat_minor": 5
}
