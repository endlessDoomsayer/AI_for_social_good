{
 "cells": [
  {
   "cell_type": "markdown",
   "id": "a81e7de0",
   "metadata": {},
   "source": [
    "## Industrial Machines Dataset for Electrical Load Disaggregation\n",
    "This notebook is used to convert and analyze the factory load disaggregation dataset from 'nilm' format to 'json' format for an easier inspection, since the 'nilmtk' module for python has some flaws during installation and usage.\n",
    "The notebook is divided in 2 parts:\n",
    "1) SKIPPABLE - nilm dataset loading and conversion: use of 'nilmtk' to load and convert the raw dataset (from https://ieee-dataport.org/open-access/industrial-machines-dataset-electrical-load-disaggregation)\n",
    "2) "
   ]
  },
  {
   "cell_type": "markdown",
   "id": "792d8768-119a-4208-8bcc-1b7da64aa421",
   "metadata": {},
   "source": [
    "### 1) NILM DATASET LOADING AND CONVERSION\n",
    "Following installation instructions are only if you want to try out the nilmtk package.\n",
    "\n",
    "To load and use the dataset you can just call the Dataset class from dataset_functions.py (SEE SECOND PART OF THE NOTEBOOK)"
   ]
  },
  {
   "cell_type": "markdown",
   "id": "587e42a3",
   "metadata": {},
   "source": [
    "Create a conda environment that uses python 3.8 (do this in whatever way you prefer), then add this channel to your conda config"
   ]
  },
  {
   "cell_type": "code",
   "execution_count": null,
   "id": "b6a60a09-df12-4822-bb5c-7d7af2b18f0c",
   "metadata": {},
   "outputs": [],
   "source": [
    "!conda config --add channels conda-forge"
   ]
  },
  {
   "cell_type": "markdown",
   "id": "7b869a77",
   "metadata": {},
   "source": [
    "Install the nilmtk package from terminal, because executing the command from the notebook doesn't let you press 'y' to confirm the installation of the module"
   ]
  },
  {
   "cell_type": "code",
   "execution_count": null,
   "id": "53414929",
   "metadata": {},
   "outputs": [],
   "source": [
    "!conda install -c nilmtk nilmtk"
   ]
  },
  {
   "cell_type": "markdown",
   "id": "be1b639e",
   "metadata": {},
   "source": [
    "Put the nilm_metadata folder in the .conda environment: put it in .conda/lib/python3.8/site-packages/\n",
    "\n",
    "Check that nilmtk and nilm_metadata are installed"
   ]
  },
  {
   "cell_type": "code",
   "execution_count": null,
   "id": "7a9bd905",
   "metadata": {},
   "outputs": [],
   "source": [
    "!conda list"
   ]
  },
  {
   "cell_type": "markdown",
   "id": "1c6f0d72",
   "metadata": {},
   "source": [
    "### Dataset conversion from nilm format file to xml\n",
    "Data is filtered to keep only items of type {date: [machine_name : {'power_apparent': value, 'current': value, 'voltage': value}]} for every date and every useful machine\n",
    "\n",
    "Date is shifted by 12h BACKWARDS since the machines in the dataset work at night, so from 'original_date' it is transformed to 'original_date-12h'"
   ]
  },
  {
   "cell_type": "code",
   "execution_count": 1,
   "id": "346f8f72",
   "metadata": {},
   "outputs": [],
   "source": [
    "from dataset_parser import load_dataset"
   ]
  },
  {
   "cell_type": "code",
   "execution_count": null,
   "id": "3353b039-55ea-469c-b305-564ea81439c4",
   "metadata": {},
   "outputs": [],
   "source": [
    "import pandas as pd\n",
    "import matplotlib.pyplot as plt\n",
    "import numpy as np\n",
    "\n",
    "\n",
    "#change this to your dataset path\n",
    "path_to_dataset = '../../brazilian_dataset/IMDELD.hdf5'\n",
    "output_path_to_json_dataset = 'output/IMDELD.json'\n",
    "#loads dataset (internally loads all the machines data)\n",
    "dsh = load_dataset(path_to_dataset)\n",
    "\n",
    "#print of machines names to check if everything is loaded correctly\n",
    "machines = dsh.get_machines_ids()\n",
    "for machine in machines:\n",
    "    print(dsh.get_machine_name(machine))\n",
    "\n"
   ]
  },
  {
   "cell_type": "code",
   "execution_count": null,
   "id": "88c56401",
   "metadata": {},
   "outputs": [],
   "source": [
    "#print of the first 5 rows of the first machine loaded\n",
    "print(dsh.loaded_data[dsh.get_machines_ids()[0]].head())"
   ]
  },
  {
   "cell_type": "code",
   "execution_count": null,
   "id": "42e0c1fb",
   "metadata": {},
   "outputs": [],
   "source": [
    "#actual conversion to json\n",
    "dsh.convert_nilm_to_json()"
   ]
  },
  {
   "cell_type": "code",
   "execution_count": null,
   "id": "ac96f5ad",
   "metadata": {},
   "outputs": [],
   "source": [
    "#save the dataset to a json file\n",
    "dsh.save_dataset_to_json(output_path_to_json_dataset)"
   ]
  },
  {
   "cell_type": "markdown",
   "id": "15b7df44",
   "metadata": {},
   "source": [
    "### 2) LOADING THE JSON DATASET\n",
    "The original dataset does not cover every hour for every machine from start_time to end_time, so there are blank spaces. This is carried also in the .json dataset, so when asking for data that is not entirely covered, keep in mind that there could be some blanks.\n",
    "\n",
    "Check file 'dataset_functions.py' to see how the Dataset class works, here it is an example that loads the .json version of the dataset and extracts some time intervals (day, week, month)\n",
    "\n",
    "Check the .json file to see how data is formatted"
   ]
  },
  {
   "cell_type": "code",
   "execution_count": null,
   "id": "08bcaf82",
   "metadata": {},
   "outputs": [],
   "source": [
    "from dataset_functions import Dataset, plot_data\n",
    "import pandas as pd\n",
    "import matplotlib.pyplot as plt\n",
    "\n",
    "datasetjson_path = 'output/IMDELD.json'\n",
    "\n",
    "datasetjson = Dataset('IMDELD', datasetjson_path)\n",
    "datasetjson.load()\n",
    "\n",
    "machine_names = datasetjson.get_machine_names()\n",
    "print(machine_names)\n",
    "\n",
    "#the keys of the hourly entries are timestamps\n",
    "print(datasetjson.data.keys())\n",
    "#select the first row of the dataset\n",
    "key0 = list(datasetjson.data.keys())[0]\n",
    "print(datasetjson.data[key0])\n",
    "\n",
    "\n",
    "#get the start and end time of the dataset (useful to check bounds)\n",
    "start, end = datasetjson.get_start_end_time()"
   ]
  },
  {
   "cell_type": "code",
   "execution_count": null,
   "id": "756e3fb3",
   "metadata": {},
   "outputs": [],
   "source": [
    "#pick a day (in this case the second day of the dataset)\n",
    "day = start + pd.Timedelta(days=1)\n",
    "#get the data for that day\n",
    "hour_datas = datasetjson.get_data_day(day)\n",
    "#daily data is a dictionary with the hour as key and the data as value\n",
    "#each hour is a dictionary with the machine as key and the data as value\n",
    "#each machine is a dictionary with 3 elements: 'power_apparent', 'voltage' and 'current'\n",
    "\n",
    "#plot the data of all the machines for the entire day\n",
    "plot_data(machine_names, hour_datas)"
   ]
  },
  {
   "cell_type": "code",
   "execution_count": null,
   "id": "72823f3b",
   "metadata": {},
   "outputs": [],
   "source": [
    "day = start + pd.Timedelta(days=5)\n",
    "week_data = datasetjson.get_data_week(day)\n",
    "\n",
    "plot_data(machine_names, week_data)\n",
    "\n",
    "for hour_data in week_data.items():\n",
    "    print(hour_data[0])\n",
    "    for hour_data in hour_data[1].items():\n",
    "        print(hour_data)\n",
    "    print(\"---\")"
   ]
  },
  {
   "cell_type": "code",
   "execution_count": null,
   "id": "9b4ee6dd",
   "metadata": {},
   "outputs": [],
   "source": [
    "day = start + pd.Timedelta(days=1)\n",
    "month_data = datasetjson.get_data_month(day)\n",
    "\n",
    "plot_data(machine_names, month_data)\n",
    "\n",
    "print(f\"Month data for {day.month}/{day.year}, number of elements: {len(month_data)}\")\n",
    "for hour_data in month_data.items():\n",
    "    print(hour_data[0])\n",
    "    for hour_data in hour_data[1].items():\n",
    "        print(hour_data)\n",
    "    print(\"---\")"
   ]
  },
  {
   "cell_type": "code",
   "execution_count": null,
   "id": "84d22f53",
   "metadata": {},
   "outputs": [],
   "source": [
    "#this, or just use datasetjson.data\n",
    "whole_data = datasetjson.get_data_start_end(start, end)\n",
    "\n",
    "plot_data(machine_names, whole_data)"
   ]
  }
 ],
 "metadata": {
  "kernelspec": {
   "display_name": "Python 3",
   "language": "python",
   "name": "python3"
  },
  "language_info": {
   "codemirror_mode": {
    "name": "ipython",
    "version": 3
   },
   "file_extension": ".py",
   "mimetype": "text/x-python",
   "name": "python",
   "nbconvert_exporter": "python",
   "pygments_lexer": "ipython3",
   "version": "3.8.20"
  }
 },
 "nbformat": 4,
 "nbformat_minor": 5
}
