{
 "cells": [
  {
   "cell_type": "markdown",
   "id": "d898cc52-c59a-4e18-9374-5c8ef25cfcaf",
   "metadata": {},
   "source": [
    "# Notebook for the development of module \"constraint satisfaction problem for household appliances' scheduling\"\n",
    "### If you have to develop some new function useful also in other situations, please put it in a dedicated .py file, then import it here"
   ]
  },
  {
   "cell_type": "markdown",
   "id": "f8716984-eb4a-428f-a727-067efc447946",
   "metadata": {},
   "source": [
    "### Idea\n",
    "We can model the constraints and use CSP or even an informed search if we can obtain a good heuristic and test to see which one performs better (in general it should be the heuristic one since we have problem-specific heuristics).\n",
    "CSP involves discrete variables with finite domain (since every minute can be used).\n",
    "⇒ tutti i CSP possono essere convertiti in CSP con constraints binari: è un timetabling problem\n",
    "which class is offered when and where?\n",
    "HOW TO SOLVE IT:\n",
    "- Full search\n",
    "- Backtracking with some improvements on how to choose variables and order, backjumping, no-good, forward checking, constraint propagation (arc consistency)\n",
    "- Local search: utile se vogliamo fare delle modifiche minime al volo quando cambiano dei requirements \\\n",
    "Anche un SOFT CSP: ogni assignment di valori è associato a un preference value. Di fatto invece che dire “Non posso fare questa cosa” dico “se faccio questa cosa a questa ora è meglio”. Si potrebbe vedere come un Weighted CSP o anche un multi-criteria problem (vogliamo massimizzare/minimizzare due cose assieme)… attenzione che viene fuori anche BRANCH AND BOUND.\n",
    "Vedi anche CP net\n"
   ]
  },
  {
   "cell_type": "markdown",
   "id": "560f7473-8dae-4711-8444-7f6c2c1fa168",
   "metadata": {},
   "source": [
    "### 1. Real world dataset on machine energy consumption in industry\n",
    "TODO: understand which one is better:\n",
    "* https://www.nrel.gov/docs/fy24osti/90442.pdf\n",
    "* https://ieee-dataport.org/documents/hourly-energy-consumption-industrial-site\n",
    "* https://github.com/creators01/steel-industry-energy-dataset"
   ]
  },
  {
   "cell_type": "code",
   "execution_count": null,
   "id": "fb69a5b6-3116-4434-9e10-fbc6b2e90041",
   "metadata": {},
   "outputs": [],
   "source": []
  },
  {
   "cell_type": "markdown",
   "id": "4db87b03-afd5-4c98-b403-6d77f66bd2ce",
   "metadata": {},
   "source": [
    "### 2. Constraints\n",
    "Objective function:\n",
    "* Minimize imported energy\n",
    "* Minimize cost of imported energy (if this cost changes during the day) \n",
    "\n",
    "Variables: \n",
    "* the starting time of every machine. We can suppose that once started it never stops or that it could be paused\n",
    "* maybe more than one machine for a certain type: this could make things worse\n",
    "\n",
    "Ideas:\n",
    "* Time window constraints: some machines may only be allowed to operate during specific times due to labor laws, noise restrictions, or dependencies.\n",
    "* Mutual exclusion constraints: Some machines cannot run simultaneously due to power load limits or shared resources.\n",
    "* Max power load per time slot: To avoid peak demand surcharges or circuit overloads, enforce a maximum allowed total consumption per hour. (maybe also the limit could be variable). SOFT CONSTRAINT\n",
    "* Machine dependencies: Some machines can only start after others finish.\n",
    "* Minimum/Maximum runtime constraints: Some machines must run at least or at most a certain number of times per day.\n",
    "* Worker availability: model operator shifts if some machines require manual control.\n",
    "* The cost of imported energy depends on the hour\n",
    "* Setup Time or Cooldown Period: Some machines require a startup or cooldown phase between uses.\n",
    "* Maintenance Windows / Downtime: Certain hours or days are unavailable due to planned maintenance.\n",
    "* Shared Energy Infrastructure: Some machines might share a line or substation. Their combined use must not exceed the line’s capacity.\n",
    "* Cyclic operations: Some tasks need to be repeated daily or periodically, not only 3 times a week but at a certain distance\n",
    "* Priority machines\n",
    "* Job deadlines: Some processes must finish before a specific time\n",
    "* Demand Response Signals: If your industry participates in demand response, it may need to reduce load during certain times.\n",
    "\n",
    "Soft constraints:\n",
    "* User Preferences or Soft Time Windows\n",
    "\n",
    "Per la parte 2:\n",
    "* Battery storage: If the site has batteries, we can model:\n",
    "  * Charging/discharging rates\n",
    "  * Battery state of charge\n",
    "  * Charging only during surplus solar hours"
   ]
  },
  {
   "cell_type": "markdown",
   "id": "54925e3b-53ef-4b05-9a6d-955832765d53",
   "metadata": {},
   "source": [
    "### Model\n",
    "\n",
    "Variables: $x_{it} = $ {if machine $i$ is working at time $t$}. Let's call $T$ the total time period (like 168 hours for a week) and $n$ the total number of machines.\n",
    "$$\n",
    "x_{it} \\in \\{0,1\\}, i \\in \\{1,..n\\}, t \\in \\{0,.. T-1\\}\n",
    "$$\n",
    "\n",
    "**Objective function**: $e_t$ is the total used energy (sum at time $t$ of $e_i$ that is the energy required for machine $i$), while $p_t$ is the produced energy at time $t$. This still doesn't use batteries. Notice that $e_t$ can be replaced in all the following formulas.\n",
    "$$\n",
    "\\left\\{\n",
    "  \\begin{array}{rcr}\n",
    "    \\min \\sum_t (e_t - p_t) \\\\ % be careful: the & symbols are for formatting\n",
    "    e_t = \\sum_i e_i x_{it} \\\\\n",
    "  \\end{array}\n",
    "\\right.\n",
    "$$\n",
    "\n",
    "**Constraints:**\n",
    "1. Knapsack contraint that says that not all machines can run at the same time due to max power load for slot (parameter $m_t$, which could depend on time).\n",
    "   $$\n",
    "   e_t \\le m_t\n",
    "   $$\n",
    "2. Some machines may be allowed to run only at specific times: for specific $i$ and for certain $t$.\n",
    "   $$\n",
    "   x_{it} = 0\n",
    "   $$\n",
    "3. Shared resources: some machines can't run in the same time slot $t$.\n",
    "   $$\n",
    "   \\sum_i x_{it} = 1\n",
    "   $$\n",
    "4. Once a machine starts, it must go on till it is finished.\n",
    "5. Machine dependencies: one machine starts only after another has finished.\n",
    "6. Minimum/Maximum runtime constraints: Some machines must run at least or at most a certain number of times per day.\n",
    "7. Worker availability: model operator shifts if some machines require manual control.\n",
    "8. The cost of imported energy depends on the hour\n",
    "9. Setup Time or Cooldown Period: Some machines require a startup or cooldown phase between uses.\n",
    "10. Maintenance Windows / Downtime: Certain hours or days are unavailable due to planned maintenance.\n",
    "11. Shared Energy Infrastructure: Some machines might share a line or substation. Their combined use must not exceed the line’s capacity.\n",
    "12. Cyclic operations: Some tasks need to be repeated daily or periodically, not only 3 times a week but at a certain distance\n",
    "13. Priority machines\n",
    "14. Job deadlines: Some processes must finish before a specific time\n",
    "15. Demand Response Signals: If your industry participates in demand response, it may need to reduce load during certain times.\n",
    "\n",
    "Soft constraints:\n",
    "1. User Preferences or Soft Time Windows"
   ]
  },
  {
   "cell_type": "code",
   "execution_count": null,
   "id": "0cdbe98b-2014-45c5-8605-ca872ec986e8",
   "metadata": {},
   "outputs": [],
   "source": []
  },
  {
   "cell_type": "markdown",
   "id": "5d25f0db-309d-4fcd-9e6d-9f4ad344c7a9",
   "metadata": {},
   "source": [
    "\n",
    "### 3. Algorithms to solve the problem\n",
    "See what we did in class"
   ]
  },
  {
   "cell_type": "code",
   "execution_count": null,
   "id": "3a55f0e6-8e1a-4dfe-bd41-84d7c479c664",
   "metadata": {},
   "outputs": [],
   "source": []
  },
  {
   "cell_type": "code",
   "execution_count": null,
   "id": "13544c2f-4091-4cd6-831b-3f48e61ab5b8",
   "metadata": {},
   "outputs": [],
   "source": []
  },
  {
   "cell_type": "code",
   "outputs": [],
   "source": [],
   "metadata": {
    "collapsed": false
   },
   "id": "51dc6ed6417aa60b"
  }
 ],
 "metadata": {
  "kernelspec": {
   "display_name": "Python 3 (ipykernel)",
   "language": "python",
   "name": "python3"
  },
  "language_info": {
   "codemirror_mode": {
    "name": "ipython",
    "version": 3
   },
   "file_extension": ".py",
   "mimetype": "text/x-python",
   "name": "python",
   "nbconvert_exporter": "python",
   "pygments_lexer": "ipython3",
   "version": "3.12.0"
  }
 },
 "nbformat": 4,
 "nbformat_minor": 5
}
