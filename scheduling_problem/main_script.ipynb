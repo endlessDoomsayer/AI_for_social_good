{
 "cells": [
  {
   "cell_type": "markdown",
   "id": "d898cc52-c59a-4e18-9374-5c8ef25cfcaf",
   "metadata": {},
   "source": [
    "# Notebook for the development of module \"constraint satisfaction problem for household appliances' scheduling\"\n",
    "### If you have to develop some new function useful also in other situations, please put it in a dedicated .py file, then import it here"
   ]
  },
  {
   "cell_type": "code",
   "execution_count": null,
   "id": "fb69a5b6-3116-4434-9e10-fbc6b2e90041",
   "metadata": {},
   "outputs": [],
   "source": []
  }
 ],
 "metadata": {
  "kernelspec": {
   "display_name": "Python 3 (ipykernel)",
   "language": "python",
   "name": "python3"
  },
  "language_info": {
   "codemirror_mode": {
    "name": "ipython",
    "version": 3
   },
   "file_extension": ".py",
   "mimetype": "text/x-python",
   "name": "python",
   "nbconvert_exporter": "python",
   "pygments_lexer": "ipython3",
   "version": "3.12.7"
  }
 },
 "nbformat": 4,
 "nbformat_minor": 5
}
