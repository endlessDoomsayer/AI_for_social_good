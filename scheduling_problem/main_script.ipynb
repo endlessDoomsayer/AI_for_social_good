{
 "cells": [
  {
   "cell_type": "markdown",
   "id": "d898cc52-c59a-4e18-9374-5c8ef25cfcaf",
   "metadata": {
    "id": "d898cc52-c59a-4e18-9374-5c8ef25cfcaf"
   },
   "source": [
    "# Notebook for the development of module \"scheduling_problem\" of AI for carbon reduction project"
   ]
  },
  {
   "cell_type": "markdown",
   "id": "f8716984-eb4a-428f-a727-067efc447946",
   "metadata": {
    "id": "f8716984-eb4a-428f-a727-067efc447946"
   },
   "source": [
    "WAYS TO SOLVE THE PROBLEMS:\n",
    "- glpk (1 and 3) =  a software package designed to solve large-scale linear programming (LP), mixed integer programming (MIP), and related problems\n",
    "- 3 local search = solve initially with glpk (or with something that you know is right), and then try to do small changes on number of panels and batteries (almost all decreasing, something increasing)\n",
    "- SCIP (4_1 lin prog) = a method used to create a solver instance for solving mixed integer programming (MIP) problems using the SCIP solver. Essentially same as glpk\n",
    "- CpSolver (4_1 sat) = un po' come gli altri, ma in teoria è più veloce\n",
    "- enhanced (always uses CpSolver)\n",
    "   - improved_backtracking = most constrained variable, backjumping, no good learning, least constraining value, node consistency, constraint propagation\n",
    "   - constraint propagation = node consistency, constraint propagation \n",
    "   - simulated annealing = start from a random solution, see neighbors, choose a random one and change solution only if it is a better one (this also depends on the temperature)\n",
    "   - local beam = with k solutions at random pick all their neighbors and keep the best k among them, and continue\n",
    "   - genetic algorithm = given a population of solutions, keep the best 20% and create new solutions\n",
    "   - min conflicts = starting from random, get one of the variables that has conflicts and make it have a value to reduce the conflicts\n",
    "   - find_min_original = 4_1 sat\n",
    "   - stochastic hill climbing with random restart = accepts a neighbor if it's better, of if it's worse than only with a certain probability\n",
    "   - tabu search = it has restarts, occasionally it makes some random moves, gets the neighbor with the least conflicts, \n"
   ]
  },
  {
   "cell_type": "markdown",
   "id": "54925e3b-53ef-4b05-9a6d-955832765d53",
   "metadata": {
    "id": "54925e3b-53ef-4b05-9a6d-955832765d53"
   },
   "source": [
    "# General model\n",
    "We list below the common sets, parameters, variables and constraints that will be used in all the models.\n",
    "\n",
    "## Sets\n",
    "$$\n",
    "T = \\{0, ..., T_H-1\\} = \\text{Discrete time steps in the scheduling horizon (e.g., minutes).}\n",
    "$$\n",
    "$$\n",
    "I = \\{1, ...., N_M\\} = \\text{Set of machines.}\n",
    "$$\n",
    "$$\n",
    "J_i = \\{1, ..., N_i\\} = \\text{Set of jobs to be processed by machine $i$.}\n",
    "$$\n",
    "## Parameters\n",
    "For each machine:\n",
    "$$\n",
    " e_{i} = \\text{energy used by the machine $i$ per unit of time}\n",
    " $$\n",
    " $$\n",
    " f_{i} = \\text{fixed cost for starting the machine $i$ at any time}\n",
    " $$\n",
    " $$\n",
    "d_i = \\text{duration of any of the job of machine $i$}\n",
    "$$\n",
    "$$\n",
    "N_i = \\text{number of jobs to complete for machine $i$}\n",
    "$$\n",
    "$$\n",
    "c_i = \\text{time of cooldown for machine $i$}\n",
    "$$\n",
    "$$\n",
    "T_{j,i} = \\text{threshold for job $j$ of machine $i$}\n",
    "$$\n",
    "For each time step:\n",
    "$$\n",
    "p_t = \\text{energy produced at time $t$ by one solar panel}\n",
    "$$\n",
    "$$\n",
    "m_t = \\text{maximum energy that we can use at time $t$}\n",
    "$$\n",
    "For each solar panel:\n",
    "$$\n",
    "c_p = \\text{cost of a solar panel}\n",
    "$$\n",
    "For each battery:\n",
    "$$\n",
    "c_b = \\text{cost of a battery}\n",
    "$$\n",
    "$$\n",
    "B = \\text{capacity of a battery}\n",
    "$$\n",
    "\n",
    "## Variables\n",
    "$$\n",
    "x_{itj} = \\text{if machine $i$ is working at time $t$ for job $j$}\n",
    "$$\n",
    "$$\n",
    "y_{itj} = \\text{if machine $i$ starts working at time $t$ for job $j$}\n",
    "$$\n",
    "$$\n",
    "z_{t} = \\text{value of objective function at time t, real number}\n",
    "$$\n",
    "\n",
    "## Constraints\n",
    "\n",
    "1. Every machine $i \\in I$ must do the required number $N_i$ of jobs with a certain duration $d_i$. For every $i \\in I$ and $j \\in J_i$:\n",
    "$$\n",
    "\\sum_t x_{itj} \\ge  d_i\n",
    "$$\n",
    "2. Knapsack contraint that says that not all machines can run at the same time due to max power load for slot (parameter $m_t$, which could depend on time). For every $t \\in T$:\n",
    "$$\n",
    "   \\sum_i \\sum_j e_{i}x_{itj} \\le m_t\n",
    "$$\n",
    "3. Some machines may be allowed to run only at specific times for noise or maintenance windows / downtime or worker availability. For some $t \\in T$ and $i \\in I$:\n",
    "   $$\n",
    "   x_{itj} = 0 \\, \\, \\forall j \\in J_i\n",
    "   $$\n",
    "4. Shared resources: some machines can't run in the same time slot $t \\in T$ because of shared resources. Given a set $M = \\{M'$ : if $k,l \\in M'$ then $k$ and $l$ have shared resources$\\}$ and $\\forall t \\in T$:\n",
    "   $$\n",
    "   \\sum_{i \\in M'} \\sum_j x_{itj} \\le 1  \\,\\, \\forall M' \\in M\\\\\n",
    "   $$\n",
    "5. A machine works only if it has just started or it was already working. For every $i \\in I$, for every $j \\in J$ and for every $t \\in T$:\n",
    "$$            \n",
    "y_{itj} \\le x_{itj} \\le y_{itj}+x_{i(t-1)j}\n",
    "$$\n",
    "6. Machine dependencies: one machine starts only after another has finished. Given a set $M = \\{(k,l)$ : $l$ must start its job only after $k$ has finished its$\\}$ and for every time $t \\in T$.\n",
    "$$\n",
    "y_{ltj} \\cdot d_k \\le  \\sum_{t' < t} (x_{kt'j}) \\text{ for every dependency }(k,l) \\in M \\text{ and for every $j \\in J_l$}\n",
    "$$\n",
    "7. Cooldown Periods: some machines require a cooldown phase between uses (if this is not needed, set $c_i = 0$). For every $i \\in I$ and for every $t \\in T$:\n",
    "$$\n",
    "   c_i \\cdot \\sum_j y_{itj} \\le \\sum_{t-c_i \\le t' < t}\\sum_j (1-x_{it'j})\n",
    "$$\n",
    "8. Job deadlines: all jobs must finish before a specific time. For every $i \\in I$ and for every $j \\in J$, calling $T_{j,i}$ the threshold for job $j$ on machine $i$:\n",
    "$$\n",
    "     \\sum_{t' \\le T_{j,i}} x_{it'j} \\ge d_i\n",
    "$$\n",
    "9. Only one job at a time. For every $i \\in I$ and for every $t \\in T$:\n",
    "$$\n",
    "    \\sum_j x_{itj} \\le 1\n",
    "$$\n",
    "$$\n",
    "    \\sum_j y_{itj} \\le 1\n",
    "$$\n"
   ]
  },
  {
   "cell_type": "markdown",
   "id": "a37338b3",
   "metadata": {
    "id": "a37338b3"
   },
   "source": [
    "## PHASE 1\n",
    "Determine the minimum number of solar panels ($M$) and battery units ($N$) for 100% self-sufficiency."
   ]
  },
  {
   "cell_type": "markdown",
   "id": "1e398c26",
   "metadata": {
    "id": "1e398c26"
   },
   "source": [
    "### Additional variables\n",
    "$$\n",
    "N = \\text{how many batteries to buy}\n",
    "$$\n",
    "$$\n",
    "M = \\text{how many panels to buy}\n",
    "$$\n",
    "$$\n",
    "s_t = \\text{how much energy we accumulated till time $t$ in the batteries}\n",
    "$$\n",
    "### Objective function\n",
    "$$\n",
    "\\min Nc_b+Mc_p\n",
    "$$\n",
    "### Additional constraints\n",
    "1. No imported energy. For every $t \\in T$:\n",
    "$$\n",
    "\\sum_i\\sum_j (e_{i}x_{itj} +f_i y_{itj} - Mp_t - s_t) \\le  0\n",
    "$$\n",
    "2. Constraints on the level of energy accumulated in the batteries. For every $t \\in T$:\n",
    "$$\n",
    "         s_t \\le  \\sum_{t'<t}\\sum_i\\sum_j (Mp_{t'} - e_{i}x_{it'j} - f_i y_{it'j})\n",
    "$$\n",
    "$$\n",
    "         0 \\le s_t \\le  NB\n",
    "$$"
   ]
  },
  {
   "cell_type": "markdown",
   "id": "d0fdddb8",
   "metadata": {
    "id": "d0fdddb8"
   },
   "source": [
    "### Final model\n",
    "The following is the final model that is solved in phase 1.\n",
    "\n",
    "$$\n",
    "\\left\\{\n",
    "  \\begin{array}{rcr}\n",
    "        \\min Nc_b+Mc_p \\\\\n",
    "         \\sum_i\\sum_j (e_{i}x_{itj} +f_i y_{itj} - Mp_t - s_t) \\le & 0  & \\text{for every t}\\\\\n",
    "         s_t \\le & \\sum_{t'<t}\\sum_i\\sum_j (Mp_{t'} - e_{i}x_{it'j} - f_i y_{it'j})  & \\text{for every t. Should be an equal but in that case it could be more than NB}\\\\\n",
    "         0 \\le s_t \\le & NB & \\text{at every time t}\\\\\n",
    "         \\sum_t x_{itj} \\ge & d_i & \\text{for every i and j}\\\\\n",
    "         \\sum_j x_{itj} \\le & 1 & \\text{for every i and t}\\\\\n",
    "         \\sum_j y_{itj} \\le & 1 & \\text{for every i and t}\\\\\n",
    "         \\sum_i \\sum_j e_{i}x_{itj} \\le & m_t & \\text{for every t} \\\\\n",
    "         \\sum_j x_{itj} = & 0 & \\text{ for some machine i and time t} \\\\\n",
    "         \\sum_{i \\in M'} \\sum_j x_{itj} \\le & 1 & \\text{ for some subsets M', M'',.. with shared resources, at every time t}\\\\\n",
    "         y_{itj} \\le x_{itj} \\le y_{itj}+x_{i(t-1)j} \\\\            \n",
    "         y_{(k+1)tj} \\le  & \\frac{\\sum_{t' < t} (x_{kt'j})}{d_k} & \\text{ for some dependency }(k,k+1) \\in M \\text{ between machines and for every j and t}\\\\\n",
    "         \\sum_j y_{itj} \\le & \\frac{\\sum_{t-c_i \\le t' < t}\\sum_j (1-x_{it'j})}{c_i} & \\text{cooldown for some i and for every t}\\\\\n",
    "         \\sum_{t' \\le T} x_{it'j} \\ge & d_i & \\text{ at some time T (threshold) and for every j and i}\\\\         \n",
    "  \\end{array}\n",
    "\\right.\n",
    "$$"
   ]
  },
  {
   "cell_type": "markdown",
   "id": "e260e9d4",
   "metadata": {
    "id": "e260e9d4"
   },
   "source": [
    "## PHASE 2\n",
    "Taking the number of panels $M^*$ and the number of batteries $N^*$ that result from phase 1, compute the number of years that our company could work continuing to pay external energy instead of buying solar panels.\n",
    "\n",
    "Let $c_{annual}$ be the annual cost of the imported energy.\n",
    "\n",
    "$$\n",
    "horizon = H = \\frac{c_bN^*+c_pM^*}{c_{annual}}\n",
    "$$"
   ]
  },
  {
   "cell_type": "markdown",
   "id": "fa3c354f",
   "metadata": {
    "id": "fa3c354f"
   },
   "source": [
    "## PHASE 3\n",
    "Within the budget implied by Phase 2’s horizon, find optimal $N$ and $M$ to minimize total energy cost (capital + operational).\n",
    "\n",
    "$$\n",
    "H = \\text{massimo orizzonte temporale}\n",
    "$$"
   ]
  },
  {
   "cell_type": "markdown",
   "id": "10351c1f",
   "metadata": {
    "id": "10351c1f"
   },
   "source": [
    "$$\n",
    "\\left\\{\n",
    "  \\begin{array}{rcr}\n",
    "    \\min Nc_b + Mc_p + \\sum_{0\\le t\\le H} z_t \\\\\n",
    "         \\sum_i\\sum_j (e_{i}x_{itj} +f_i y_{itj} - Mp_t - s_t) \\le & z_t & \\text{at every time t} \\\\\n",
    "         V_t = & \\sum_{t'<t}\\sum_i\\sum_j (Mp_{t'} - e_{i}x_{it'j} - f_i y_{it'j}) & \\text{for every t} \\\\\n",
    "         V_t \\ge & -BIG_M (1 - b_t) & \\text{for every t, b\\_t = 1 if V\\_t > 0} \\\\\n",
    "         V_t \\le & BIG_M b_t & \\text{for every t, b\\_t = 0 if V\\_t < 0} \\\\\n",
    "         s_t \\le & V_t + BIG_M (1 - b_t) & \\text{for every t} \\\\\n",
    "         s_t \\le & BIG_M b_t & \\text{for every t} \\\\\n",
    "         0 \\le s_t \\le & NB & \\text{at every time t}\\\\\n",
    "         0 \\le & z_t & \\text{at every time t} \\\\\n",
    "         \\sum_t \\sum_j x_{itj} \\ge & n_i d_i & \\text{for every i} \\\\\n",
    "         \\sum_j x_{itj} \\le & 1 & \\text{for every i and t} \\\\\n",
    "         \\sum_j y_{itj} \\le & 1 & \\text{for every i and t} \\\\\n",
    "         \\sum_i \\sum_j e_{i}x_{itj} \\le & m_t & \\text{for every t. Max energy} \\\\\n",
    "         \\sum_j x_{itj} = & 0 & \\text{ for some machine i and time t} \\\\\n",
    "         \\sum_{i \\in M'} \\sum_j x_{itj} \\le & 1 & \\text{ for some subsets M', M'',.. with shared resources, at every time t}\\\\\n",
    "         y_{itj} \\le x_{itj} \\le y_{itj}+x_{i(t-1)j} \\\\            \n",
    "         y_{(k+1)tj} \\le  & \\frac{\\sum_{t' < t} (x_{kt'j})}{d_k} & \\text{ for some dependency }(k,k+1) \\in M \\text{ between machines and for every j and t}\\\\\n",
    "         \\sum_j y_{itj} \\le & \\frac{\\sum_{t-c_i \\le t' < t}\\sum_j (1-x_{it'j})}{c_i} & \\text{cooldown for some i and for every t} \\\\\n",
    "         \\sum_{t' \\le T} x_{itj} = & d_i & \\text{ at some time T (threshold) and for every j and i} \\\\         \n",
    "  \\end{array}\n",
    "\\right.\n",
    "$$"
   ]
  },
  {
   "cell_type": "markdown",
   "id": "5b1cf677",
   "metadata": {
    "id": "5b1cf677"
   },
   "source": [
    "## PHASE 4\n",
    "Now that we fixed N and M, we need to obtain an optimal scheduling that reduces the usage of external energy.\n",
    "\n",
    "This phase can be divided in 2.\n",
    "\n",
    "### 4.1\n",
    "If I need to not use at all any form of external energy."
   ]
  },
  {
   "cell_type": "markdown",
   "id": "65fdc5c5",
   "metadata": {
    "id": "65fdc5c5"
   },
   "source": [
    "$$\n",
    "\\left\\{\n",
    "  \\begin{array}{rcr}\n",
    "         \\sum_i\\sum_j (e_{i}x_{itj} +f_i y_{itj} - Mp_t - s_t) \\le & 0  & \\text{for every t}\\\\\n",
    "         s_t \\le & \\sum_{t'<t}\\sum_i\\sum_j (Mp_{t'} - e_{i}x_{it'j} - f_i y_{it'j})  & \\text{for every t. Should be an equal but in that case it could be more than NB}\\\\\n",
    "         0 \\le s_t \\le & NB & \\text{at every time t}\\\\\n",
    "         \\sum_t \\sum_j x_{itj} \\ge & n_i d_i & \\text{for every i}\\\\\n",
    "         \\sum_j x_{itj} \\le & 1 & \\text{for every i and t}\\\\\n",
    "         \\sum_j y_{itj} \\le & 1 & \\text{for every i and t}\\\\\n",
    "         \\sum_i \\sum_j e_{i}x_{itj} \\le & m_t & \\text{for every t. Max energy} \\\\\n",
    "         \\sum_j x_{itj} = & 0 & \\text{ for some machine i and time t} \\\\\n",
    "         \\sum_{i \\in M'} \\sum_j x_{itj} \\le & 1 & \\text{ for some subsets M', M'',.. with shared resources, at every time t}\\\\\n",
    "         y_{itj} \\le x_{itj} \\le y_{itj}+x_{i(t-1)j} \\\\            \n",
    "         y_{(k+1)tj} \\le  & \\frac{\\sum_{t' < t} (x_{kt'j})}{d_k} & \\text{ for some dependency }(k,k+1) \\in M \\text{ between machines and for every j and t}\\\\\n",
    "         \\sum_j y_{itj} \\le & \\frac{\\sum_{t-c_i \\le t' < t}\\sum_j (1-x_{it'j})}{c_i} & \\text{cooldown for some i and for every t}\\\\\n",
    "         \\sum_{t' \\le T} x_{it'j} = & d_i & \\text{ at some time T (threshold) and for every j and i}\\\\         \n",
    "  \\end{array}\n",
    "\\right.\n",
    "$$"
   ]
  },
  {
   "cell_type": "markdown",
   "id": "e84727f1-583c-4dee-9aaa-dffbee6b1d96",
   "metadata": {},
   "source": [
    "### 4.3\n",
    "Minimize the external energy used."
   ]
  },
  {
   "cell_type": "markdown",
   "id": "f9d54835",
   "metadata": {
    "id": "f9d54835"
   },
   "source": [
    "$$\n",
    "\\left\\{\n",
    "  \\begin{array}{rcr}\n",
    "    \\min \\sum_t z_t \\\\\n",
    "         \\sum_i\\sum_j (e_{i}x_{itj} +f_i y_{itj} - Mp_t - s_t) \\le & z_t & \\text{at every time t} \\\\\n",
    "         V_t = & \\sum_{t'<t}\\sum_i\\sum_j (Mp_{t'} - e_{i}x_{it'j} - f_i y_{it'j}) & \\text{for every t} \\\\\n",
    "         V_t \\ge & -BIG_M (1 - b_t) & \\text{for every t, b\\_t = 1 if V\\_t > 0} \\\\\n",
    "         V_t \\le & BIG_M b_t & \\text{for every t, b\\_t = 0 if V\\_t < 0} \\\\\n",
    "         s_t \\le & V_t + BIG_M (1 - b_t) & \\text{for every t} \\\\\n",
    "         s_t \\le & BIG_M b_t & \\text{for every t} \\\\\n",
    "         0 \\le s_t \\le & NB & \\text{at every time t}\\\\\n",
    "         0 \\le & z_t & \\text{at every time t} \\\\\n",
    "         \\sum_t \\sum_j x_{itj} \\ge & n_i d_i & \\text{for every i} \\\\\n",
    "         \\sum_j x_{itj} \\le & 1 & \\text{for every i and t} \\\\\n",
    "         \\sum_j y_{itj} \\le & 1 & \\text{for every i and t} \\\\\n",
    "         \\sum_i \\sum_j e_{i}x_{itj} \\le & m_t & \\text{for every t. Max energy} \\\\\n",
    "         \\sum_j x_{itj} = & 0 & \\text{ for some machine i and time t} \\\\\n",
    "         \\sum_{i \\in M'} \\sum_j x_{itj} \\le & 1 & \\text{ for some subsets M', M'',.. with shared resources, at every time t}\\\\\n",
    "         y_{itj} \\le x_{itj} \\le y_{itj}+x_{i(t-1)j} \\\\            \n",
    "         y_{(k+1)tj} \\le  & \\frac{\\sum_{t' < t} (x_{kt'j})}{d_k} & \\text{ for some dependency }(k,k+1) \\in M \\text{ between machines and for every j and t}\\\\\n",
    "         \\sum_j y_{itj} \\le & \\frac{\\sum_{t-c_i \\le t' < t}\\sum_j (1-x_{it'j})}{c_i} & \\text{cooldown for some i and for every t} \\\\\n",
    "         \\sum_{t' \\le T} x_{itj} = & d_i & \\text{ at some time T (threshold) and for every j and i} \\\\         \n",
    "  \\end{array}\n",
    "\\right.\n",
    "$$"
   ]
  },
  {
   "cell_type": "markdown",
   "id": "5d25f0db-309d-4fcd-9e6d-9f4ad344c7a9",
   "metadata": {
    "id": "5d25f0db-309d-4fcd-9e6d-9f4ad344c7a9"
   },
   "source": [
    "\n",
    "### 3. Algorithms to solve the problem\n",
    "See what we did in class\n",
    "\n",
    "LOCAL SEARCH:\n",
    "* we can solve a CSP and then use a local search to optimize. IDEA OF LOCAL SEARCH: start from a feasible point, and then see what are its neighbors. Find the highest value neighbor and see if its value is higher than the one we are using right now. If yes, go to it. (HILL-CLIMBING, problem is I can get stuck in a local minimum/maximum). So we can use:\n",
    "   * stochastic hill-climbing: choose a neighbor at random from those that are better\n",
    "   * do a series of hill-climbing and return the best\n",
    "   * simulated annealing: do a move at random. Accepted if improving, if not then it is accepted with a probability that depends on the time. (REALLY OFTEN USED IN AIRLINE SCHEDULING).\n",
    "   * LOCAL BEAM: start from K states, at each step go in all neighbors till I find the goal\n",
    "   * GENETIC ALGORITHMS: combine various states to obtain only one\n",
    "\n",
    "CSP:\n",
    " * to get one value per variable that satisfies all the constraints. The idea is that we use general purpose heuristics rather than problem-specific ones. \\\n",
    "A state is an assignment of values to some or all variables. We want consistent (doesn't violate any constraint) and complete states. \\\n",
    "ANY CSP CAN BE CONVERTED TO A CSP WITH ONLY BINARY CONSTRAINTS.\n",
    "   * BACKTRACKING SEARCH: start from empty assignment and assign a value that do not conflict (depth first). Backtrack if no legal values.\n",
    "   * IMPROVED BACKTRACKING:\n",
    "     * always choose the variable with fewest legal values (break ties choosing the variable involved in the most constraints with unassigned variables).\n",
    "     * Then, chosen a variable, choose the least constraining value (the one that rules out the fewest values in the other variables).\n",
    "     * instead of chronological backtracking (backtrack to the previous variable), do BACKJUMPING: backtrack to a variable that might fix the problem.\n",
    "     * add the constraint on the variables that caused the problem (NO-GOOD) to avoid to redo the error\n",
    "     * FORWARD CHECKING: if any of the remaining variable has no legal values, terminate.\n",
    "     * CONSTRAINT PROPAGATION: enforce local consistency. It's a preprocessing step (or also done after assigning a new value). This doesn't guarantee to solve the problem, but helps pruning it:\n",
    "       * node-consistency: a variable is node-consistent if all the values in the domain satisfy the variable's unary constraints. If I check this, I can delete all the unary constraints\n",
    "       * arc-consistency (AC-3): a variable is arc-consistent if all the values in the domain satisfy the binary constraints (we are assuming that every other constraint is converted to binary).\n",
    "       * path-consistency: consistency between more than 2 variables\n",
    "   * LOCAL SEARCH: start from something that violates the constraints and try to do small changes (one value to one variable) to get the right solution. The search space is all the complete assignments, we need to find one that is consistent. \\\n",
    "To evaluate states we associate the number of constraints it violates.\n",
    "     * MIN-CONFLICTS: We choose the next value to minimize the number of conflicts.\n",
    "     * IMPROVED:\n",
    "       * RESTART: re-initialize the search after tot steps\n",
    "       * RANDOM WALK: choose something at random but based on probability\n",
    "       * TABU SEARCH: remember a list of forbidden states (few) to avoid cycling.\n",
    "       * CONSTRAINT WEIGHTING: eah constraint has a weight. At each step choose a variable with lowest total weight of all violated constraints. (low weight = more important).\n",
    "\n",
    "LOCAL SEARCH is really useful if I found a good scheduling but there are some minor changes during the week.\n",
    "\n",
    "CONNECTED COMPONENTS: of the constraint graph are different problems that can be solved alone. For example if it's a tree it's easier. SO WE CAN FIX SOME VARIABLES TO OBTAIN A TREE (TREE DECOMPOSITION)."
   ]
  }
 ],
 "metadata": {
  "colab": {
   "provenance": []
  },
  "kernelspec": {
   "display_name": "Python 3 (ipykernel)",
   "language": "python",
   "name": "python3"
  },
  "language_info": {
   "codemirror_mode": {
    "name": "ipython",
    "version": 3
   },
   "file_extension": ".py",
   "mimetype": "text/x-python",
   "name": "python",
   "nbconvert_exporter": "python",
   "pygments_lexer": "ipython3",
   "version": "3.12.0"
  }
 },
 "nbformat": 4,
 "nbformat_minor": 5
}
