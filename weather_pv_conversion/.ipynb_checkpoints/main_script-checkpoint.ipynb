{
 "cells": [
  {
   "cell_type": "markdown",
   "id": "cc7e0ebd-3637-4bfd-af7d-120c6406d679",
   "metadata": {},
   "source": [
    "# Notebook for the development of module \"weather -> photovoltaic output\"\n",
    "### If you have to develop some new function useful also in other situations, please put it in a dedicated .py file, then import it here"
   ]
  },
  {
   "cell_type": "code",
   "execution_count": null,
   "id": "4ff3da28-8598-4f21-8958-40d5637732e8",
   "metadata": {},
   "outputs": [],
   "source": [
    "import numpy as np        #pip install numpy\n",
    "import pvlib              #pip install pvlib            #library to automatically convert weather params into pv output"
   ]
  },
  {
   "cell_type": "code",
   "execution_count": null,
   "id": "69e4e003-05cf-46ea-91e5-6a04b2f5635a",
   "metadata": {},
   "outputs": [],
   "source": []
  },
  {
   "cell_type": "code",
   "execution_count": null,
   "id": "bb6536d0-5f62-4fca-9d20-b5471656e0b5",
   "metadata": {},
   "outputs": [],
   "source": []
  }
 ],
 "metadata": {
  "kernelspec": {
   "display_name": "Python 3 (ipykernel)",
   "language": "python",
   "name": "python3"
  },
  "language_info": {
   "codemirror_mode": {
    "name": "ipython",
    "version": 3
   },
   "file_extension": ".py",
   "mimetype": "text/x-python",
   "name": "python",
   "nbconvert_exporter": "python",
   "pygments_lexer": "ipython3",
   "version": "3.12.7"
  }
 },
 "nbformat": 4,
 "nbformat_minor": 5
}
