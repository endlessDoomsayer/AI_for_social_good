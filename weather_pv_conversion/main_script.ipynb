{
 "cells": [
  {
   "cell_type": "markdown",
   "id": "cc7e0ebd-3637-4bfd-af7d-120c6406d679",
   "metadata": {},
   "source": [
    "# Notebook for the development of module \"weather -> photovoltaic output\"\n",
    "### If you develop some new function useful also in other situations, please put it in a dedicated .py file, then import it here"
   ]
  },
  {
   "cell_type": "code",
   "execution_count": 70,
   "id": "4ed7fe7a-eda4-4829-99ec-72c99b96c4fd",
   "metadata": {
    "scrolled": true
   },
   "outputs": [
    {
     "name": "stdout",
     "output_type": "stream",
     "text": [
      "Requirement already satisfied: openmeteo_requests in /home/gian/anaconda3/lib/python3.12/site-packages (1.4.0)\n",
      "Requirement already satisfied: openmeteo-sdk>=1.4.0 in /home/gian/anaconda3/lib/python3.12/site-packages (from openmeteo_requests) (1.20.0)\n",
      "Requirement already satisfied: requests in /home/gian/anaconda3/lib/python3.12/site-packages (from openmeteo_requests) (2.32.3)\n",
      "Requirement already satisfied: flatbuffers==25.2.10 in /home/gian/anaconda3/lib/python3.12/site-packages (from openmeteo-sdk>=1.4.0->openmeteo_requests) (25.2.10)\n",
      "Requirement already satisfied: charset-normalizer<4,>=2 in /home/gian/anaconda3/lib/python3.12/site-packages (from requests->openmeteo_requests) (3.3.2)\n",
      "Requirement already satisfied: idna<4,>=2.5 in /home/gian/anaconda3/lib/python3.12/site-packages (from requests->openmeteo_requests) (3.7)\n",
      "Requirement already satisfied: urllib3<3,>=1.21.1 in /home/gian/anaconda3/lib/python3.12/site-packages (from requests->openmeteo_requests) (2.2.3)\n",
      "Requirement already satisfied: certifi>=2017.4.17 in /home/gian/anaconda3/lib/python3.12/site-packages (from requests->openmeteo_requests) (2024.8.30)\n",
      "Note: you may need to restart the kernel to use updated packages.\n",
      "Requirement already satisfied: requests-cache in /home/gian/anaconda3/lib/python3.12/site-packages (1.2.1)\n",
      "Requirement already satisfied: retry-requests in /home/gian/anaconda3/lib/python3.12/site-packages (2.0.0)\n",
      "Requirement already satisfied: attrs>=21.2 in /home/gian/anaconda3/lib/python3.12/site-packages (from requests-cache) (23.1.0)\n",
      "Requirement already satisfied: cattrs>=22.2 in /home/gian/anaconda3/lib/python3.12/site-packages (from requests-cache) (24.1.3)\n",
      "Requirement already satisfied: platformdirs>=2.5 in /home/gian/anaconda3/lib/python3.12/site-packages (from requests-cache) (3.10.0)\n",
      "Requirement already satisfied: requests>=2.22 in /home/gian/anaconda3/lib/python3.12/site-packages (from requests-cache) (2.32.3)\n",
      "Requirement already satisfied: url-normalize>=1.4 in /home/gian/anaconda3/lib/python3.12/site-packages (from requests-cache) (2.2.0)\n",
      "Requirement already satisfied: urllib3>=1.25.5 in /home/gian/anaconda3/lib/python3.12/site-packages (from requests-cache) (2.2.3)\n",
      "Requirement already satisfied: charset-normalizer<4,>=2 in /home/gian/anaconda3/lib/python3.12/site-packages (from requests>=2.22->requests-cache) (3.3.2)\n",
      "Requirement already satisfied: idna<4,>=2.5 in /home/gian/anaconda3/lib/python3.12/site-packages (from requests>=2.22->requests-cache) (3.7)\n",
      "Requirement already satisfied: certifi>=2017.4.17 in /home/gian/anaconda3/lib/python3.12/site-packages (from requests>=2.22->requests-cache) (2024.8.30)\n",
      "Note: you may need to restart the kernel to use updated packages.\n",
      "Requirement already satisfied: pandas in /home/gian/anaconda3/lib/python3.12/site-packages (2.2.2)\n",
      "Requirement already satisfied: numpy>=1.26.0 in /home/gian/anaconda3/lib/python3.12/site-packages (from pandas) (1.26.4)\n",
      "Requirement already satisfied: python-dateutil>=2.8.2 in /home/gian/anaconda3/lib/python3.12/site-packages (from pandas) (2.9.0.post0)\n",
      "Requirement already satisfied: pytz>=2020.1 in /home/gian/anaconda3/lib/python3.12/site-packages (from pandas) (2024.1)\n",
      "Requirement already satisfied: tzdata>=2022.7 in /home/gian/anaconda3/lib/python3.12/site-packages (from pandas) (2023.3)\n",
      "Requirement already satisfied: six>=1.5 in /home/gian/anaconda3/lib/python3.12/site-packages (from python-dateutil>=2.8.2->pandas) (1.16.0)\n",
      "Note: you may need to restart the kernel to use updated packages.\n",
      "Requirement already satisfied: pvlib in /home/gian/anaconda3/lib/python3.12/site-packages (0.12.0)\n",
      "Requirement already satisfied: numpy>=1.19.3 in /home/gian/anaconda3/lib/python3.12/site-packages (from pvlib) (1.26.4)\n",
      "Requirement already satisfied: pandas>=1.3.0 in /home/gian/anaconda3/lib/python3.12/site-packages (from pvlib) (2.2.2)\n",
      "Requirement already satisfied: pytz in /home/gian/anaconda3/lib/python3.12/site-packages (from pvlib) (2024.1)\n",
      "Requirement already satisfied: requests in /home/gian/anaconda3/lib/python3.12/site-packages (from pvlib) (2.32.3)\n",
      "Requirement already satisfied: scipy>=1.6.0 in /home/gian/anaconda3/lib/python3.12/site-packages (from pvlib) (1.13.1)\n",
      "Requirement already satisfied: h5py in /home/gian/anaconda3/lib/python3.12/site-packages (from pvlib) (3.11.0)\n",
      "Requirement already satisfied: python-dateutil>=2.8.2 in /home/gian/anaconda3/lib/python3.12/site-packages (from pandas>=1.3.0->pvlib) (2.9.0.post0)\n",
      "Requirement already satisfied: tzdata>=2022.7 in /home/gian/anaconda3/lib/python3.12/site-packages (from pandas>=1.3.0->pvlib) (2023.3)\n",
      "Requirement already satisfied: charset-normalizer<4,>=2 in /home/gian/anaconda3/lib/python3.12/site-packages (from requests->pvlib) (3.3.2)\n",
      "Requirement already satisfied: idna<4,>=2.5 in /home/gian/anaconda3/lib/python3.12/site-packages (from requests->pvlib) (3.7)\n",
      "Requirement already satisfied: urllib3<3,>=1.21.1 in /home/gian/anaconda3/lib/python3.12/site-packages (from requests->pvlib) (2.2.3)\n",
      "Requirement already satisfied: certifi>=2017.4.17 in /home/gian/anaconda3/lib/python3.12/site-packages (from requests->pvlib) (2024.8.30)\n",
      "Requirement already satisfied: six>=1.5 in /home/gian/anaconda3/lib/python3.12/site-packages (from python-dateutil>=2.8.2->pandas>=1.3.0->pvlib) (1.16.0)\n",
      "Note: you may need to restart the kernel to use updated packages.\n",
      "Requirement already satisfied: pgmpy in /home/gian/anaconda3/lib/python3.12/site-packages (1.0.0)\n",
      "Requirement already satisfied: networkx in /home/gian/anaconda3/lib/python3.12/site-packages (from pgmpy) (3.3)\n",
      "Requirement already satisfied: numpy in /home/gian/anaconda3/lib/python3.12/site-packages (from pgmpy) (1.26.4)\n",
      "Requirement already satisfied: scipy in /home/gian/anaconda3/lib/python3.12/site-packages (from pgmpy) (1.13.1)\n",
      "Requirement already satisfied: scikit-learn in /home/gian/anaconda3/lib/python3.12/site-packages (from pgmpy) (1.5.1)\n",
      "Requirement already satisfied: pandas in /home/gian/anaconda3/lib/python3.12/site-packages (from pgmpy) (2.2.2)\n",
      "Requirement already satisfied: torch in /home/gian/anaconda3/lib/python3.12/site-packages (from pgmpy) (2.6.0)\n",
      "Requirement already satisfied: statsmodels in /home/gian/anaconda3/lib/python3.12/site-packages (from pgmpy) (0.14.2)\n",
      "Requirement already satisfied: tqdm in /home/gian/anaconda3/lib/python3.12/site-packages (from pgmpy) (4.66.5)\n",
      "Requirement already satisfied: joblib in /home/gian/anaconda3/lib/python3.12/site-packages (from pgmpy) (1.4.2)\n",
      "Requirement already satisfied: opt-einsum in /home/gian/anaconda3/lib/python3.12/site-packages (from pgmpy) (3.4.0)\n",
      "Requirement already satisfied: pyro-ppl in /home/gian/anaconda3/lib/python3.12/site-packages (from pgmpy) (1.9.1)\n",
      "Requirement already satisfied: python-dateutil>=2.8.2 in /home/gian/anaconda3/lib/python3.12/site-packages (from pandas->pgmpy) (2.9.0.post0)\n",
      "Requirement already satisfied: pytz>=2020.1 in /home/gian/anaconda3/lib/python3.12/site-packages (from pandas->pgmpy) (2024.1)\n",
      "Requirement already satisfied: tzdata>=2022.7 in /home/gian/anaconda3/lib/python3.12/site-packages (from pandas->pgmpy) (2023.3)\n",
      "Requirement already satisfied: pyro-api>=0.1.1 in /home/gian/anaconda3/lib/python3.12/site-packages (from pyro-ppl->pgmpy) (0.1.2)\n",
      "Requirement already satisfied: filelock in /home/gian/anaconda3/lib/python3.12/site-packages (from torch->pgmpy) (3.13.1)\n",
      "Requirement already satisfied: typing-extensions>=4.10.0 in /home/gian/anaconda3/lib/python3.12/site-packages (from torch->pgmpy) (4.11.0)\n",
      "Requirement already satisfied: jinja2 in /home/gian/anaconda3/lib/python3.12/site-packages (from torch->pgmpy) (3.1.4)\n",
      "Requirement already satisfied: fsspec in /home/gian/anaconda3/lib/python3.12/site-packages (from torch->pgmpy) (2024.6.1)\n",
      "Requirement already satisfied: nvidia-cuda-nvrtc-cu12==12.4.127 in /home/gian/anaconda3/lib/python3.12/site-packages (from torch->pgmpy) (12.4.127)\n",
      "Requirement already satisfied: nvidia-cuda-runtime-cu12==12.4.127 in /home/gian/anaconda3/lib/python3.12/site-packages (from torch->pgmpy) (12.4.127)\n",
      "Requirement already satisfied: nvidia-cuda-cupti-cu12==12.4.127 in /home/gian/anaconda3/lib/python3.12/site-packages (from torch->pgmpy) (12.4.127)\n",
      "Requirement already satisfied: nvidia-cudnn-cu12==9.1.0.70 in /home/gian/anaconda3/lib/python3.12/site-packages (from torch->pgmpy) (9.1.0.70)\n",
      "Requirement already satisfied: nvidia-cublas-cu12==12.4.5.8 in /home/gian/anaconda3/lib/python3.12/site-packages (from torch->pgmpy) (12.4.5.8)\n",
      "Requirement already satisfied: nvidia-cufft-cu12==11.2.1.3 in /home/gian/anaconda3/lib/python3.12/site-packages (from torch->pgmpy) (11.2.1.3)\n",
      "Requirement already satisfied: nvidia-curand-cu12==10.3.5.147 in /home/gian/anaconda3/lib/python3.12/site-packages (from torch->pgmpy) (10.3.5.147)\n",
      "Requirement already satisfied: nvidia-cusolver-cu12==11.6.1.9 in /home/gian/anaconda3/lib/python3.12/site-packages (from torch->pgmpy) (11.6.1.9)\n",
      "Requirement already satisfied: nvidia-cusparse-cu12==12.3.1.170 in /home/gian/anaconda3/lib/python3.12/site-packages (from torch->pgmpy) (12.3.1.170)\n",
      "Requirement already satisfied: nvidia-cusparselt-cu12==0.6.2 in /home/gian/anaconda3/lib/python3.12/site-packages (from torch->pgmpy) (0.6.2)\n",
      "Requirement already satisfied: nvidia-nccl-cu12==2.21.5 in /home/gian/anaconda3/lib/python3.12/site-packages (from torch->pgmpy) (2.21.5)\n",
      "Requirement already satisfied: nvidia-nvtx-cu12==12.4.127 in /home/gian/anaconda3/lib/python3.12/site-packages (from torch->pgmpy) (12.4.127)\n",
      "Requirement already satisfied: nvidia-nvjitlink-cu12==12.4.127 in /home/gian/anaconda3/lib/python3.12/site-packages (from torch->pgmpy) (12.4.127)\n",
      "Requirement already satisfied: triton==3.2.0 in /home/gian/anaconda3/lib/python3.12/site-packages (from torch->pgmpy) (3.2.0)\n",
      "Requirement already satisfied: setuptools in /home/gian/anaconda3/lib/python3.12/site-packages (from torch->pgmpy) (75.1.0)\n",
      "Requirement already satisfied: sympy==1.13.1 in /home/gian/anaconda3/lib/python3.12/site-packages (from torch->pgmpy) (1.13.1)\n",
      "Requirement already satisfied: mpmath<1.4,>=1.1.0 in /home/gian/anaconda3/lib/python3.12/site-packages (from sympy==1.13.1->torch->pgmpy) (1.3.0)\n",
      "Requirement already satisfied: threadpoolctl>=3.1.0 in /home/gian/anaconda3/lib/python3.12/site-packages (from scikit-learn->pgmpy) (3.5.0)\n",
      "Requirement already satisfied: patsy>=0.5.6 in /home/gian/anaconda3/lib/python3.12/site-packages (from statsmodels->pgmpy) (0.5.6)\n",
      "Requirement already satisfied: packaging>=21.3 in /home/gian/anaconda3/lib/python3.12/site-packages (from statsmodels->pgmpy) (24.1)\n",
      "Requirement already satisfied: six in /home/gian/anaconda3/lib/python3.12/site-packages (from patsy>=0.5.6->statsmodels->pgmpy) (1.16.0)\n",
      "Requirement already satisfied: MarkupSafe>=2.0 in /home/gian/anaconda3/lib/python3.12/site-packages (from jinja2->torch->pgmpy) (2.1.3)\n",
      "Note: you may need to restart the kernel to use updated packages.\n",
      "Collecting sklearn\n",
      "  Using cached sklearn-0.0.post12.tar.gz (2.6 kB)\n",
      "  Preparing metadata (setup.py) ... \u001b[?25lerror\n",
      "  \u001b[1;31merror\u001b[0m: \u001b[1msubprocess-exited-with-error\u001b[0m\n",
      "  \n",
      "  \u001b[31m×\u001b[0m \u001b[32mpython setup.py egg_info\u001b[0m did not run successfully.\n",
      "  \u001b[31m│\u001b[0m exit code: \u001b[1;36m1\u001b[0m\n",
      "  \u001b[31m╰─>\u001b[0m \u001b[31m[15 lines of output]\u001b[0m\n",
      "  \u001b[31m   \u001b[0m The 'sklearn' PyPI package is deprecated, use 'scikit-learn'\n",
      "  \u001b[31m   \u001b[0m rather than 'sklearn' for pip commands.\n",
      "  \u001b[31m   \u001b[0m \n",
      "  \u001b[31m   \u001b[0m Here is how to fix this error in the main use cases:\n",
      "  \u001b[31m   \u001b[0m - use 'pip install scikit-learn' rather than 'pip install sklearn'\n",
      "  \u001b[31m   \u001b[0m - replace 'sklearn' by 'scikit-learn' in your pip requirements files\n",
      "  \u001b[31m   \u001b[0m   (requirements.txt, setup.py, setup.cfg, Pipfile, etc ...)\n",
      "  \u001b[31m   \u001b[0m - if the 'sklearn' package is used by one of your dependencies,\n",
      "  \u001b[31m   \u001b[0m   it would be great if you take some time to track which package uses\n",
      "  \u001b[31m   \u001b[0m   'sklearn' instead of 'scikit-learn' and report it to their issue tracker\n",
      "  \u001b[31m   \u001b[0m - as a last resort, set the environment variable\n",
      "  \u001b[31m   \u001b[0m   SKLEARN_ALLOW_DEPRECATED_SKLEARN_PACKAGE_INSTALL=True to avoid this error\n",
      "  \u001b[31m   \u001b[0m \n",
      "  \u001b[31m   \u001b[0m More information is available at\n",
      "  \u001b[31m   \u001b[0m https://github.com/scikit-learn/sklearn-pypi-package\n",
      "  \u001b[31m   \u001b[0m \u001b[31m[end of output]\u001b[0m\n",
      "  \n",
      "  \u001b[1;35mnote\u001b[0m: This error originates from a subprocess, and is likely not a problem with pip.\n",
      "\u001b[?25h\u001b[1;31merror\u001b[0m: \u001b[1mmetadata-generation-failed\u001b[0m\n",
      "\n",
      "\u001b[31m×\u001b[0m Encountered error while generating package metadata.\n",
      "\u001b[31m╰─>\u001b[0m See above for output.\n",
      "\n",
      "\u001b[1;35mnote\u001b[0m: This is an issue with the package mentioned above, not pip.\n",
      "\u001b[1;36mhint\u001b[0m: See above for details.\n",
      "Note: you may need to restart the kernel to use updated packages.\n"
     ]
    }
   ],
   "source": [
    "%pip install openmeteo_requests\n",
    "%pip install requests-cache retry-requests\n",
    "%pip install pandas\n",
    "%pip install pvlib\n",
    "%pip install pgmpy\n",
    "%pip install sklearn"
   ]
  },
  {
   "cell_type": "code",
   "execution_count": 71,
   "id": "4ff3da28-8598-4f21-8958-40d5637732e8",
   "metadata": {},
   "outputs": [],
   "source": [
    "import openmeteo_requests\n",
    "\n",
    "import requests_cache\n",
    "import pandas as pd\n",
    "from retry_requests import retry"
   ]
  },
  {
   "cell_type": "markdown",
   "id": "9ca3c0d1-899f-4873-aa46-2c721b7a0bf3",
   "metadata": {},
   "source": [
    "#### Set system parameters here"
   ]
  },
  {
   "cell_type": "code",
   "execution_count": null,
   "id": "bb6536d0-5f62-4fca-9d20-b5471656e0b5",
   "metadata": {},
   "outputs": [
    {
     "name": "stdout",
     "output_type": "stream",
     "text": [
      "Coordinates 45.86994552612305°N 11.96202564239502°E\n",
      "Elevation 308.0 m asl\n",
      "Timezone b'Europe/Berlin'b'GMT+2'\n",
      "Timezone difference to GMT+0 7200 s\n"
     ]
    }
   ],
   "source": [
    "# Setup the Open-Meteo API client with cache and retry on error\n",
    "cache_session = requests_cache.CachedSession('.cache', expire_after = -1)\n",
    "retry_session = retry(cache_session, retries = 5, backoff_factor = 0.2)\n",
    "openmeteo = openmeteo_requests.Client(session = retry_session)\n",
    "\n",
    "# Make sure all required weather variables are listed here\n",
    "# The order of variables in hourly or daily is important to assign them correctly below\n",
    "url = \"https://archive-api.open-meteo.com/v1/archive\"\n",
    "params = {\n",
    "\t\"latitude\": 45.9,\n",
    "\t\"longitude\": 11.9,\n",
    "\t\"start_date\": \"2024-01-01\",\n",
    "\t\"end_date\": \"2025-02-28\",\n",
    "\t\"hourly\": [\"temperature_2m\", \"precipitation\", \"wind_speed_10m\", \"snowfall\", \"rain\", \"cloud_cover\", \"cloud_cover_low\", \"cloud_cover_mid\", \"cloud_cover_high\", \"shortwave_radiation\", \"direct_radiation\", \"diffuse_radiation\", \"direct_normal_irradiance\", \"global_tilted_irradiance\", \"terrestrial_radiation\"],\n",
    "\t\"timezone\": \"Europe/Berlin\"\n",
    "}\n",
    "responses = openmeteo.weather_api(url, params=params)\n",
    "\n",
    "# Process first location. Add a for-loop for multiple locations or weather models\n",
    "response = responses[0]\n",
    "print(f\"Coordinates {response.Latitude()}°N {response.Longitude()}°E\")\n",
    "print(f\"Elevation {response.Elevation()} m asl\")\n",
    "print(f\"Timezone {response.Timezone()}{response.TimezoneAbbreviation()}\")\n",
    "print(f\"Timezone difference to GMT+0 {response.UtcOffsetSeconds()} s\")"
   ]
  },
  {
   "cell_type": "markdown",
   "id": "21c3cc16-75a4-4b66-89f2-be37ce28c2d6",
   "metadata": {},
   "source": [
    "#### Weather request start and end time"
   ]
  },
  {
   "cell_type": "code",
   "execution_count": 73,
   "id": "be3255d4-adcd-4a95-a18f-3375808606f1",
   "metadata": {},
   "outputs": [],
   "source": [
    "# Process hourly data. The order of variables needs to be the same as requested.\n",
    "hourly = response.Hourly()\n",
    "hourly_temperature_2m = hourly.Variables(0).ValuesAsNumpy()\n",
    "hourly_precipitation = hourly.Variables(1).ValuesAsNumpy()\n",
    "hourly_wind_speed_10m = hourly.Variables(2).ValuesAsNumpy()\n",
    "hourly_snowfall = hourly.Variables(3).ValuesAsNumpy()\n",
    "hourly_rain = hourly.Variables(4).ValuesAsNumpy()\n",
    "hourly_cloud_cover = hourly.Variables(5).ValuesAsNumpy()\n",
    "hourly_cloud_cover_low = hourly.Variables(6).ValuesAsNumpy()\n",
    "hourly_cloud_cover_mid = hourly.Variables(7).ValuesAsNumpy()\n",
    "hourly_cloud_cover_high = hourly.Variables(8).ValuesAsNumpy()\n",
    "hourly_shortwave_radiation = hourly.Variables(9).ValuesAsNumpy()\n",
    "hourly_direct_radiation = hourly.Variables(10).ValuesAsNumpy()\n",
    "hourly_diffuse_radiation = hourly.Variables(11).ValuesAsNumpy()\n",
    "hourly_direct_normal_irradiance = hourly.Variables(12).ValuesAsNumpy()\n",
    "hourly_global_tilted_irradiance = hourly.Variables(13).ValuesAsNumpy()\n",
    "hourly_terrestrial_radiation = hourly.Variables(14).ValuesAsNumpy()"
   ]
  },
  {
   "cell_type": "markdown",
   "id": "607417f7-0e85-496e-8cc6-2640da38b882",
   "metadata": {},
   "source": [
    "#### Call to open-weather"
   ]
  },
  {
   "cell_type": "code",
   "execution_count": 74,
   "id": "611c7ae0-9bcb-4cf3-8577-416efaef684a",
   "metadata": {},
   "outputs": [
    {
     "name": "stdout",
     "output_type": "stream",
     "text": [
      "                          date  temperature_2m  precipitation  wind_speed_10m  \\\n",
      "0    2021-12-31 22:00:00+00:00          3.8415            0.0        3.259938   \n",
      "1    2021-12-31 23:00:00+00:00          3.3415            0.0        2.620839   \n",
      "2    2022-01-01 00:00:00+00:00          2.4415            0.0        4.024922   \n",
      "3    2022-01-01 01:00:00+00:00          2.7915            0.0        1.484318   \n",
      "4    2022-01-01 02:00:00+00:00          2.4915            0.0        1.018234   \n",
      "...                        ...             ...            ...             ...   \n",
      "1411 2022-02-28 17:00:00+00:00          3.4415            0.0        5.154416   \n",
      "1412 2022-02-28 18:00:00+00:00          2.5915            0.0        4.510787   \n",
      "1413 2022-02-28 19:00:00+00:00          3.1415            0.1        6.830519   \n",
      "1414 2022-02-28 20:00:00+00:00          1.7915            0.3        5.400000   \n",
      "1415 2022-02-28 21:00:00+00:00          1.3915            0.0        5.588703   \n",
      "\n",
      "      snowfall  rain  cloud_cover  cloud_cover_low  cloud_cover_mid  \\\n",
      "0         0.00   0.0          1.0              1.0              0.0   \n",
      "1         0.00   0.0          1.0              1.0              0.0   \n",
      "2         0.00   0.0          3.0              0.0              0.0   \n",
      "3         0.00   0.0         91.0              0.0              0.0   \n",
      "4         0.00   0.0         49.0              0.0              0.0   \n",
      "...        ...   ...          ...              ...              ...   \n",
      "1411      0.00   0.0         30.0             27.0              4.0   \n",
      "1412      0.00   0.0         32.0             28.0             26.0   \n",
      "1413      0.00   0.1        100.0            100.0            100.0   \n",
      "1414      0.14   0.1        100.0            100.0            100.0   \n",
      "1415      0.00   0.0        100.0            100.0            100.0   \n",
      "\n",
      "      cloud_cover_high  shortwave_radiation  direct_radiation  \\\n",
      "0                  0.0                  0.0               0.0   \n",
      "1                  0.0                  0.0               0.0   \n",
      "2                 81.0                  0.0               0.0   \n",
      "3                 91.0                  0.0               0.0   \n",
      "4                 49.0                  0.0               0.0   \n",
      "...                ...                  ...               ...   \n",
      "1411               0.0                 36.0              16.0   \n",
      "1412               0.0                  0.0               0.0   \n",
      "1413               0.0                  0.0               0.0   \n",
      "1414               0.0                  0.0               0.0   \n",
      "1415               0.0                  0.0               0.0   \n",
      "\n",
      "      diffuse_radiation  direct_normal_irradiance  global_tilted_irradiance  \\\n",
      "0                   0.0                  0.000000                  0.000000   \n",
      "1                   0.0                  0.000000                  0.000000   \n",
      "2                   0.0                  0.000000                  0.000000   \n",
      "3                   0.0                  0.000000                  0.000000   \n",
      "4                   0.0                  0.000000                  0.000000   \n",
      "...                 ...                       ...                       ...   \n",
      "1411               20.0                142.298294                 35.999996   \n",
      "1412                0.0                  0.000000                  0.000000   \n",
      "1413                0.0                  0.000000                  0.000000   \n",
      "1414                0.0                  0.000000                  0.000000   \n",
      "1415                0.0                  0.000000                  0.000000   \n",
      "\n",
      "      terrestrial_radiation  \n",
      "0                  0.000000  \n",
      "1                  0.000000  \n",
      "2                  0.000000  \n",
      "3                  0.000000  \n",
      "4                  0.000000  \n",
      "...                     ...  \n",
      "1411              96.836342  \n",
      "1412               0.000000  \n",
      "1413               0.000000  \n",
      "1414               0.000000  \n",
      "1415               0.000000  \n",
      "\n",
      "[1416 rows x 16 columns]\n"
     ]
    }
   ],
   "source": [
    "hourly_data = {\"date\": pd.date_range(\n",
    "\tstart = pd.to_datetime(hourly.Time(), unit = \"s\", utc = True),\n",
    "\tend = pd.to_datetime(hourly.TimeEnd(), unit = \"s\", utc = True),\n",
    "\tfreq = pd.Timedelta(seconds = hourly.Interval()),\n",
    "\tinclusive = \"left\"\n",
    ")}\n",
    "\n",
    "hourly_data[\"temperature_2m\"] = hourly_temperature_2m\n",
    "hourly_data[\"precipitation\"] = hourly_precipitation\n",
    "hourly_data[\"wind_speed_10m\"] = hourly_wind_speed_10m\n",
    "hourly_data[\"snowfall\"] = hourly_snowfall\n",
    "hourly_data[\"rain\"] = hourly_rain\n",
    "hourly_data[\"cloud_cover\"] = hourly_cloud_cover\n",
    "hourly_data[\"cloud_cover_low\"] = hourly_cloud_cover_low\n",
    "hourly_data[\"cloud_cover_mid\"] = hourly_cloud_cover_mid\n",
    "hourly_data[\"cloud_cover_high\"] = hourly_cloud_cover_high\n",
    "hourly_data[\"shortwave_radiation\"] = hourly_shortwave_radiation\n",
    "hourly_data[\"direct_radiation\"] = hourly_direct_radiation\n",
    "hourly_data[\"diffuse_radiation\"] = hourly_diffuse_radiation\n",
    "hourly_data[\"direct_normal_irradiance\"] = hourly_direct_normal_irradiance\n",
    "hourly_data[\"global_tilted_irradiance\"] = hourly_global_tilted_irradiance\n",
    "hourly_data[\"terrestrial_radiation\"] = hourly_terrestrial_radiation\n",
    "\n",
    "hourly_dataframe = pd.DataFrame(data = hourly_data)\n",
    "print(hourly_dataframe)"
   ]
  },
  {
   "cell_type": "code",
   "execution_count": 75,
   "id": "5d3b8bbe",
   "metadata": {},
   "outputs": [
    {
     "name": "stdout",
     "output_type": "stream",
     "text": [
      "Hourly DataFrame head AFTER setting index:\n",
      "                           temperature_2m  precipitation  wind_speed_10m  \\\n",
      "date                                                                       \n",
      "2021-12-31 22:00:00+00:00          3.8415            0.0        3.259938   \n",
      "2021-12-31 23:00:00+00:00          3.3415            0.0        2.620839   \n",
      "2022-01-01 00:00:00+00:00          2.4415            0.0        4.024922   \n",
      "2022-01-01 01:00:00+00:00          2.7915            0.0        1.484318   \n",
      "2022-01-01 02:00:00+00:00          2.4915            0.0        1.018234   \n",
      "\n",
      "                           snowfall  rain  cloud_cover  cloud_cover_low  \\\n",
      "date                                                                      \n",
      "2021-12-31 22:00:00+00:00       0.0   0.0          1.0              1.0   \n",
      "2021-12-31 23:00:00+00:00       0.0   0.0          1.0              1.0   \n",
      "2022-01-01 00:00:00+00:00       0.0   0.0          3.0              0.0   \n",
      "2022-01-01 01:00:00+00:00       0.0   0.0         91.0              0.0   \n",
      "2022-01-01 02:00:00+00:00       0.0   0.0         49.0              0.0   \n",
      "\n",
      "                           cloud_cover_mid  cloud_cover_high  \\\n",
      "date                                                           \n",
      "2021-12-31 22:00:00+00:00              0.0               0.0   \n",
      "2021-12-31 23:00:00+00:00              0.0               0.0   \n",
      "2022-01-01 00:00:00+00:00              0.0              81.0   \n",
      "2022-01-01 01:00:00+00:00              0.0              91.0   \n",
      "2022-01-01 02:00:00+00:00              0.0              49.0   \n",
      "\n",
      "                           shortwave_radiation  direct_radiation  \\\n",
      "date                                                               \n",
      "2021-12-31 22:00:00+00:00                  0.0               0.0   \n",
      "2021-12-31 23:00:00+00:00                  0.0               0.0   \n",
      "2022-01-01 00:00:00+00:00                  0.0               0.0   \n",
      "2022-01-01 01:00:00+00:00                  0.0               0.0   \n",
      "2022-01-01 02:00:00+00:00                  0.0               0.0   \n",
      "\n",
      "                           diffuse_radiation  direct_normal_irradiance  \\\n",
      "date                                                                     \n",
      "2021-12-31 22:00:00+00:00                0.0                       0.0   \n",
      "2021-12-31 23:00:00+00:00                0.0                       0.0   \n",
      "2022-01-01 00:00:00+00:00                0.0                       0.0   \n",
      "2022-01-01 01:00:00+00:00                0.0                       0.0   \n",
      "2022-01-01 02:00:00+00:00                0.0                       0.0   \n",
      "\n",
      "                           global_tilted_irradiance  terrestrial_radiation  \n",
      "date                                                                        \n",
      "2021-12-31 22:00:00+00:00                       0.0                    0.0  \n",
      "2021-12-31 23:00:00+00:00                       0.0                    0.0  \n",
      "2022-01-01 00:00:00+00:00                       0.0                    0.0  \n",
      "2022-01-01 01:00:00+00:00                       0.0                    0.0  \n",
      "2022-01-01 02:00:00+00:00                       0.0                    0.0  \n",
      "Hourly DataFrame index type: <class 'pandas.core.indexes.datetimes.DatetimeIndex'>\n"
     ]
    }
   ],
   "source": [
    "# --- Your Open-Meteo data retrieval code ---\n",
    "# ... (previous code to get data into hourly_data dictionary) ...\n",
    "\n",
    "hourly_dataframe = pd.DataFrame(data = hourly_data)\n",
    "\n",
    "# --- ENSURE THIS LINE IS PRESENT AND EXECUTED ---\n",
    "hourly_dataframe = hourly_dataframe.set_index(\"date\")\n",
    "# ---------------------------------------------\n",
    "\n",
    "print(\"Hourly DataFrame head AFTER setting index:\")\n",
    "print(hourly_dataframe.head()) # Add this to verify the index is set\n",
    "print(\"Hourly DataFrame index type:\", type(hourly_dataframe.index)) # Verify index type\n",
    "\n",
    "# --- End of your data retrieval code ---\n",
    "\n",
    "# --- Start PVLib Calculation ---\n",
    "# ... (the rest of the pvlib code should now work correctly) ..."
   ]
  },
  {
   "cell_type": "code",
   "execution_count": 76,
   "id": "a8011ead",
   "metadata": {},
   "outputs": [
    {
     "name": "stdout",
     "output_type": "stream",
     "text": [
      "\n",
      "--- Starting PVLib Calculation ---\n",
      "\n",
      "Weather Data Input to ModelChain (first 5 rows):\n",
      "                           ghi  dhi  dni  temp_air  wind_speed\n",
      "date                                                          \n",
      "2021-12-31 22:00:00+00:00  0.0  0.0  0.0    3.8415    3.259938\n",
      "2021-12-31 23:00:00+00:00  0.0  0.0  0.0    3.3415    2.620839\n",
      "2022-01-01 00:00:00+00:00  0.0  0.0  0.0    2.4415    4.024922\n",
      "2022-01-01 01:00:00+00:00  0.0  0.0  0.0    2.7915    1.484318\n",
      "2022-01-01 02:00:00+00:00  0.0  0.0  0.0    2.4915    1.018234\n",
      "\n",
      "Weather Data Input Summary:\n",
      "               ghi          dhi          dni     temp_air   wind_speed\n",
      "count  1416.000000  1416.000000  1416.000000  1416.000000  1416.000000\n",
      "mean     93.440681    29.136299   184.135590     3.902270     3.843295\n",
      "std     149.927719    44.471367   287.293701     3.734094     2.194893\n",
      "min       0.000000     0.000000     0.000000    -3.908500     0.000000\n",
      "25%       0.000000     0.000000     0.000000     0.991500     2.414953\n",
      "50%       0.000000     0.000000     0.000000     3.591500     3.396233\n",
      "75%     163.250000    59.250000   354.103989     6.691500     4.693826\n",
      "max     604.000000   252.000000   887.929504    14.091500    20.523157\n",
      "Any negative GHI/DHI/DNI? GHI: False, DHI: False, DNI: False\n",
      "Warning: Module 'Canadian_Solar_Inc__CS6K_275M' not found in Sandia database. Trying CEC...\n",
      "Using CEC module: Canadian_Solar_Inc__CS6X_300M\n",
      "\n",
      "PV System Configuration:\n",
      "- Module: Canadian_Solar_Inc__CS6K_275M\n",
      "- Inverter: SMA_America__SB7000TL_US__240V_\n",
      "- Modules per String: 1\n",
      "- Strings per Inverter: 1\n",
      "- Tilt: 30 deg, Azimuth: 180 deg\n",
      "\n",
      "Running model...\n",
      "Model run complete.\n",
      "\n",
      "Effective Irradiance (first 5 rows):\n",
      "date\n",
      "2021-12-31 22:00:00+00:00    0.0\n",
      "2021-12-31 23:00:00+00:00    0.0\n",
      "2022-01-01 00:00:00+00:00    0.0\n",
      "2022-01-01 01:00:00+00:00    0.0\n",
      "2022-01-01 02:00:00+00:00    0.0\n",
      "dtype: float64\n",
      "\n",
      "Cell Temperature (first 5 rows):\n",
      "date\n",
      "2021-12-31 22:00:00+00:00    3.8415\n",
      "2021-12-31 23:00:00+00:00    3.3415\n",
      "2022-01-01 00:00:00+00:00    2.4415\n",
      "2022-01-01 01:00:00+00:00    2.7915\n",
      "2022-01-01 02:00:00+00:00    2.4915\n",
      "dtype: float64\n",
      "\n",
      "DC Power Output (first 5 rows):\n",
      "                                   i_sc  v_oc          i_mp  v_mp  p_mp  \\\n",
      "date                                                                      \n",
      "2021-12-31 22:00:00+00:00  0.000000e+00   0.0  0.000000e+00   0.0   0.0   \n",
      "2021-12-31 23:00:00+00:00  0.000000e+00   0.0  0.000000e+00   0.0   0.0   \n",
      "2022-01-01 00:00:00+00:00  8.077936e-28   0.0  8.077936e-28   0.0   0.0   \n",
      "2022-01-01 01:00:00+00:00  0.000000e+00   0.0  0.000000e+00   0.0   0.0   \n",
      "2022-01-01 02:00:00+00:00  0.000000e+00   0.0  0.000000e+00   0.0   0.0   \n",
      "\n",
      "                                    i_x          i_xx  \n",
      "date                                                   \n",
      "2021-12-31 22:00:00+00:00  0.000000e+00  0.000000e+00  \n",
      "2021-12-31 23:00:00+00:00  0.000000e+00  0.000000e+00  \n",
      "2022-01-01 00:00:00+00:00  8.077936e-28  8.077936e-28  \n",
      "2022-01-01 01:00:00+00:00  0.000000e+00  0.000000e+00  \n",
      "2022-01-01 02:00:00+00:00  0.000000e+00  0.000000e+00  \n",
      "\n",
      "--- Simulation Results ---\n",
      "Calculated AC Power Output (first 5 rows):\n",
      "date\n",
      "2021-12-31 22:00:00+00:00   -2.1\n",
      "2021-12-31 23:00:00+00:00   -2.1\n",
      "2022-01-01 00:00:00+00:00   -2.1\n",
      "2022-01-01 01:00:00+00:00   -2.1\n",
      "2022-01-01 02:00:00+00:00   -2.1\n",
      "dtype: float64\n",
      "\n",
      "AC Power Output DataFrame :\n",
      "                           ac_power_calculated_watts\n",
      "date                                                \n",
      "2022-02-27 22:00:00+00:00                  -2.100000\n",
      "2022-02-27 23:00:00+00:00                  -2.100000\n",
      "2022-02-28 00:00:00+00:00                  -2.100000\n",
      "2022-02-28 01:00:00+00:00                  -2.100000\n",
      "2022-02-28 02:00:00+00:00                  -2.100000\n",
      "2022-02-28 03:00:00+00:00                  -2.100000\n",
      "2022-02-28 04:00:00+00:00                  -2.100000\n",
      "2022-02-28 05:00:00+00:00                  -2.100000\n",
      "2022-02-28 06:00:00+00:00                  -2.100000\n",
      "2022-02-28 07:00:00+00:00                  22.453371\n",
      "2022-02-28 08:00:00+00:00                 114.458046\n",
      "2022-02-28 09:00:00+00:00                 183.387363\n",
      "2022-02-28 10:00:00+00:00                 234.048769\n",
      "2022-02-28 11:00:00+00:00                 259.509730\n",
      "2022-02-28 12:00:00+00:00                 258.951819\n",
      "2022-02-28 13:00:00+00:00                 235.637186\n",
      "2022-02-28 14:00:00+00:00                 192.017670\n",
      "2022-02-28 15:00:00+00:00                 129.340265\n",
      "2022-02-28 16:00:00+00:00                  52.191762\n",
      "2022-02-28 17:00:00+00:00                  -2.100000\n",
      "2022-02-28 18:00:00+00:00                  -2.100000\n",
      "2022-02-28 19:00:00+00:00                  -2.100000\n",
      "2022-02-28 20:00:00+00:00                  -2.100000\n",
      "2022-02-28 21:00:00+00:00                  -2.100000\n",
      "Warning: Inferring interval as 1.0 hours.\n",
      "\n",
      "Total Estimated AC Energy Production for the period: 60.55 kWh\n"
     ]
    }
   ],
   "source": [
    "# --- Start PVLib Calculation ---\n",
    "import pvlib\n",
    "from pvlib.location import Location\n",
    "from pvlib.pvsystem import PVSystem, retrieve_sam\n",
    "from pvlib.temperature import TEMPERATURE_MODEL_PARAMETERS\n",
    "from pvlib.modelchain import ModelChain\n",
    "import numpy as np # Add numpy import if not already there\n",
    "\n",
    "print(\"\\n--- Starting PVLib Calculation ---\")\n",
    "\n",
    "# 1. Prepare Weather Data DataFrame for pvlib\n",
    "weather_df = hourly_dataframe.copy()\n",
    "weather_df.rename(columns={\n",
    "    'shortwave_radiation': 'ghi',         # Global Horizontal Irradiance\n",
    "    'diffuse_radiation': 'dhi',           # Diffuse Horizontal Irradiance\n",
    "    'direct_normal_irradiance': 'dni',    # Direct Normal Irradiance\n",
    "    'temperature_2m': 'temp_air',       # Ambient Air Temperature\n",
    "    'wind_speed_10m': 'wind_speed',       # Wind Speed\n",
    "}, inplace=True)\n",
    "\n",
    "# Ensure required columns exist\n",
    "required_cols = ['ghi', 'dhi', 'dni', 'temp_air', 'wind_speed']\n",
    "missing_cols = [col for col in required_cols if col not in weather_df.columns]\n",
    "if missing_cols:\n",
    "    raise ValueError(f\"Missing required weather columns for PVLib: {missing_cols}\")\n",
    "\n",
    "# Optional: Handle potential NaN values more robustly\n",
    "if weather_df[required_cols].isnull().values.any():\n",
    "     print(\"Warning: NaN values detected in required weather data columns. Imputing with ffill and 0.\")\n",
    "     # Example: Forward fill first, then fill remaining (usually at start) with 0\n",
    "     weather_df.ffill(inplace=True)\n",
    "     weather_df.fillna(0, inplace=True)\n",
    "\n",
    "# --- DEBUG: Inspect weather data just before model run ---\n",
    "print(\"\\nWeather Data Input to ModelChain (first 5 rows):\")\n",
    "print(weather_df[required_cols].head())\n",
    "print(\"\\nWeather Data Input Summary:\")\n",
    "print(weather_df[required_cols].describe())\n",
    "# Check for any negative irradiance values after potential NaN filling\n",
    "print(f\"Any negative GHI/DHI/DNI? GHI: {(weather_df['ghi'] < 0).any()}, DHI: {(weather_df['dhi'] < 0).any()}, DNI: {(weather_df['dni'] < 0).any()}\")\n",
    "# --- END DEBUG ---\n",
    "\n",
    "\n",
    "# 2. Define Location\n",
    "latitude = response.Latitude()\n",
    "longitude = response.Longitude()\n",
    "altitude = response.Elevation()\n",
    "tz_bytes = response.Timezone()\n",
    "tz = tz_bytes.decode('utf-8') if isinstance(tz_bytes, bytes) else tz_bytes\n",
    "\n",
    "# ... (previous code) ...\n",
    "\n",
    "location = Location(latitude=latitude, longitude=longitude, altitude=altitude, tz=tz) # Use the decoded string\n",
    "\n",
    "\n",
    "\n",
    "\n",
    "\n",
    "# 3. Define System Parameters (CRITICAL: Choose appropriate components!)\n",
    "# (Rest of the system definition remains the same as before)\n",
    "# ... rest of the script ...\n",
    "\n",
    "# 3. Define System Parameters\n",
    "sandia_modules = retrieve_sam('SandiaMod')\n",
    "cec_inverters = retrieve_sam('cecinverter')\n",
    "\n",
    "module_name = 'Canadian_Solar_Inc__CS6K_275M'\n",
    "inverter_name = 'SMA_America__SB7000TL_US__240V_'\n",
    "\n",
    "if module_name not in sandia_modules:\n",
    "     print(f\"Warning: Module '{module_name}' not found in Sandia database. Trying CEC...\")\n",
    "     cec_modules = retrieve_sam('CECMod')\n",
    "     module_name_cec = 'Canadian_Solar_Inc__CS6X_300M'\n",
    "     if module_name_cec in cec_modules:\n",
    "          print(f\"Using CEC module: {module_name_cec}\")\n",
    "          module_parameters = cec_modules[module_name_cec]\n",
    "          module_db = cec_modules\n",
    "     else:\n",
    "          raise KeyError(f\"Example modules not found in Sandia or CEC databases. Please select an available module.\")\n",
    "else:\n",
    "     module_parameters = sandia_modules[module_name]\n",
    "     module_db = sandia_modules\n",
    "\n",
    "if inverter_name not in cec_inverters:\n",
    "     print(f\"Warning: Inverter '{inverter_name}' not found in CEC database. Trying alternative...\")\n",
    "     inverter_name = 'SMA_America__SB5000TL_US_22__240V_'\n",
    "     if inverter_name not in cec_inverters:\n",
    "          raise KeyError(f\"Example inverters not found in CEC database. Please select an available inverter.\")\n",
    "     else:\n",
    "          inverter_parameters = cec_inverters[inverter_name]\n",
    "else:\n",
    "     inverter_parameters = cec_inverters[inverter_name]\n",
    "\n",
    "surface_tilt = 30\n",
    "surface_azimuth = 180\n",
    "temp_params = TEMPERATURE_MODEL_PARAMETERS['sapm']['open_rack_glass_glass']\n",
    "\n",
    "modules_per_string = 1\n",
    "strings_per_inverter = 1\n",
    "\n",
    "system = PVSystem(surface_tilt=surface_tilt,\n",
    "                  surface_azimuth=surface_azimuth,\n",
    "                  module_parameters=module_parameters,\n",
    "                  inverter_parameters=inverter_parameters,\n",
    "                  temperature_model_parameters=temp_params,\n",
    "                  modules_per_string=modules_per_string,\n",
    "                  strings_per_inverter=strings_per_inverter)\n",
    "\n",
    "# 5. Create ModelChain object\n",
    "mc = ModelChain(system, location,\n",
    "                aoi_model=\"physical\",\n",
    "                spectral_model=\"no_loss\")\n",
    "\n",
    "print(f\"\\nPV System Configuration:\")\n",
    "print(f\"- Module: {module_parameters.Name if hasattr(module_parameters, 'Name') else module_name}\") # Use .Name attribute\n",
    "print(f\"- Inverter: {inverter_parameters.Name if hasattr(inverter_parameters, 'Name') else inverter_name}\")\n",
    "print(f\"- Modules per String: {modules_per_string}\")\n",
    "print(f\"- Strings per Inverter: {strings_per_inverter}\")\n",
    "print(f\"- Tilt: {surface_tilt} deg, Azimuth: {surface_azimuth} deg\")\n",
    "\n",
    "\n",
    "# 6. Run the Simulation\n",
    "print(\"\\nRunning model...\")\n",
    "mc.run_model(weather=weather_df)\n",
    "\"\"\"            - ``'dni'``\n",
    "            - ``'ghi'``\n",
    "            - ``'dhi'``\n",
    "\n",
    "            Optional columns are:\n",
    "\n",
    "            - ``'temp_air'``\n",
    "            - ``'cell_temperature'``\n",
    "            - ``'module_temperature'``\n",
    "            - ``'wind_speed'``\n",
    "            - ``'albedo'``\"\"\"\n",
    "print(\"Model run complete.\")\n",
    "\n",
    "# --- DEBUG: Inspect intermediate results ---\n",
    "# Removed the incorrect mc.results.poa_global line\n",
    "# print(\"\\nPlane of Array Irradiance (first 5 rows):\") # This line was removed\n",
    "# print(mc.results.poa_global.head())                 # This line was removed\n",
    "print(\"\\nEffective Irradiance (first 5 rows):\")\n",
    "print(mc.results.effective_irradiance.head())\n",
    "print(\"\\nCell Temperature (first 5 rows):\")\n",
    "print(mc.results.cell_temperature.head())\n",
    "print(\"\\nDC Power Output (first 5 rows):\")\n",
    "print(mc.results.dc.head())\n",
    "# --- END DEBUG ---\n",
    "\n",
    "\n",
    "# 7. Analyze Results\n",
    "print(\"\\n--- Simulation Results ---\")\n",
    "print(\"Calculated AC Power Output (first 5 rows):\")\n",
    "print(mc.results.ac.head())\n",
    "\n",
    "hourly_dataframe['ac_power_calculated_watts'] = mc.results.ac\n",
    "\n",
    "print(\"\\nAC Power Output DataFrame :\")\n",
    "print(hourly_dataframe[['ac_power_calculated_watts']].tail(24))\n",
    "\n",
    "\n",
    "# Check for positive AC power before calculating sum\n",
    "positive_ac = mc.results.ac[mc.results.ac > 0]\n",
    "if not positive_ac.empty:\n",
    "    # Calculate interval in hours\n",
    "    if weather_df.index.freq:\n",
    "        interval_hours = weather_df.index.freq.total_seconds() / 3600\n",
    "    else:\n",
    "        # Estimate interval if freq is not set (less reliable)\n",
    "        interval_hours = (weather_df.index[1] - weather_df.index[0]).total_seconds() / 3600\n",
    "        print(f\"Warning: Inferring interval as {interval_hours} hours.\")\n",
    "\n",
    "    total_energy_kwh = mc.results.ac.sum() * interval_hours / 1000 # Wh to kWh\n",
    "    print(f\"\\nTotal Estimated AC Energy Production for the period: {total_energy_kwh:.2f} kWh\")\n",
    "else:\n",
    "    # If the sum is negative or zero, it means only losses or no production\n",
    "    total_energy_kwh = mc.results.ac.sum() * (hourly.Interval() / 3600) / 1000 # Calculate anyway for consistency\n",
    "    print(f\"\\nNo significant positive AC power generated. Calculated sum (likely losses): {total_energy_kwh:.2f} kWh\")"
   ]
  },
  {
   "cell_type": "markdown",
   "id": "3aa9d512",
   "metadata": {},
   "source": [
    "Training - test"
   ]
  },
  {
   "cell_type": "code",
   "execution_count": 77,
   "id": "3443f831",
   "metadata": {},
   "outputs": [],
   "source": [
    "from sklearn.model_selection import train_test_split, GridSearchCV\n",
    "from sklearn.metrics import classification_report, confusion_matrix, ConfusionMatrixDisplay\n",
    "from sklearn.preprocessing import StandardScaler\n",
    "from sklearn import svm"
   ]
  },
  {
   "cell_type": "code",
   "execution_count": 78,
   "id": "e51add31",
   "metadata": {},
   "outputs": [
    {
     "name": "stdout",
     "output_type": "stream",
     "text": [
      "X shape:  (1416, 15)\n",
      "Y shape:  (1416,)\n"
     ]
    }
   ],
   "source": [
    "X = hourly_dataframe.drop(columns=['ac_power_calculated_watts'], axis=1)\n",
    "Y = hourly_dataframe['ac_power_calculated_watts']\n",
    "\n",
    "print('X shape: ', X.shape)\n",
    "print('Y shape: ', Y.shape)"
   ]
  },
  {
   "cell_type": "code",
   "execution_count": 79,
   "id": "f7921382",
   "metadata": {},
   "outputs": [
    {
     "name": "stdout",
     "output_type": "stream",
     "text": [
      "Amount of data for training and deciding parameters: 1133\n",
      "Amount of data for test: 283\n"
     ]
    }
   ],
   "source": [
    "X_test_len = int(X.shape[0] * 0.2)\n",
    "\n",
    "print(\"Amount of data for training and deciding parameters:\", X.shape[0] - X_test_len)\n",
    "print(\"Amount of data for test:\", X_test_len)"
   ]
  },
  {
   "cell_type": "code",
   "execution_count": 80,
   "id": "8ed3f473",
   "metadata": {},
   "outputs": [
    {
     "name": "stdout",
     "output_type": "stream",
     "text": [
      "X_train shape:  (1133, 15)\n",
      "Y_train shape:  (1133,)\n",
      "X_test shape:  (283, 15)\n",
      "Y_test shape:  (283,)\n"
     ]
    }
   ],
   "source": [
    "\n",
    "X_train, X_test, Y_train, Y_test = train_test_split(X, Y, test_size = X_test_len, random_state = 42)\n",
    "\n",
    "\n",
    "print('X_train shape: ', X_train.shape)\n",
    "print('Y_train shape: ', Y_train.shape)\n",
    "print('X_test shape: ', X_test.shape)\n",
    "print('Y_test shape: ', Y_test.shape)\n"
   ]
  },
  {
   "cell_type": "markdown",
   "id": "36e11ba2",
   "metadata": {},
   "source": [
    "(0-date  1-temperature_2m  2-precipitation  3-wind_speed_10m 4-snowfall  5-rain  6-cloud_cover  7-cloud_cover_low  8-cloud_cover_mid  9-cloud_cover_high 10-shortwave_radiation  11-direct_radiation 12-diffuse_radiation  13-direct_normal_irradiance  14-global_tilted_irradiance 15-terrestrial_radiation)"
   ]
  },
  {
   "cell_type": "code",
   "execution_count": 81,
   "id": "dd2cec46",
   "metadata": {},
   "outputs": [
    {
     "name": "stdout",
     "output_type": "stream",
     "text": [
      "X_train shape:  (1133, 15)\n",
      "X_test shape:  (283, 15)\n",
      "x_test                            temperature_2m  precipitation  wind_speed_10m  \\\n",
      "date                                                                       \n",
      "2022-02-03 18:00:00+00:00        0.939791            0.0       -1.075352   \n",
      "2022-02-08 02:00:00+00:00       -1.200944            0.0        0.952744   \n",
      "2022-01-15 01:00:00+00:00       -0.416451            0.0       -1.075352   \n",
      "2022-01-08 22:00:00+00:00       -1.559949            0.0       -0.084145   \n",
      "2022-01-09 09:00:00+00:00       -0.416451            0.0       -0.505476   \n",
      "...                                   ...            ...             ...   \n",
      "2022-02-27 04:00:00+00:00       -1.666321            0.0        1.766556   \n",
      "2022-02-28 14:00:00+00:00        1.059459            0.0        2.130259   \n",
      "2022-01-08 18:00:00+00:00       -1.466874            0.0        0.296340   \n",
      "2022-01-13 20:00:00+00:00       -0.961607            0.0       -0.505476   \n",
      "2022-02-09 10:00:00+00:00        1.258907            0.0       -0.432626   \n",
      "\n",
      "                           snowfall      rain  cloud_cover  cloud_cover_low  \\\n",
      "date                                                                          \n",
      "2022-02-03 18:00:00+00:00 -0.058114 -0.155529     1.300307         0.735913   \n",
      "2022-02-08 02:00:00+00:00 -0.058114 -0.155529    -1.014337        -0.599263   \n",
      "2022-01-15 01:00:00+00:00 -0.058114 -0.155529    -1.014337        -0.599263   \n",
      "2022-01-08 22:00:00+00:00 -0.058114 -0.155529     1.254014        -0.599263   \n",
      "2022-01-09 09:00:00+00:00 -0.058114 -0.155529     1.300307        -0.599263   \n",
      "...                             ...       ...          ...              ...   \n",
      "2022-02-27 04:00:00+00:00 -0.058114 -0.155529    -1.014337        -0.599263   \n",
      "2022-02-28 14:00:00+00:00 -0.058114 -0.155529    -0.412529         0.123958   \n",
      "2022-01-08 18:00:00+00:00 -0.058114 -0.155529     0.443889        -0.599263   \n",
      "2022-01-13 20:00:00+00:00 -0.058114 -0.155529    -1.014337        -0.599263   \n",
      "2022-02-09 10:00:00+00:00 -0.058114 -0.155529    -0.968044        -0.599263   \n",
      "\n",
      "                           cloud_cover_mid  cloud_cover_high  \\\n",
      "date                                                           \n",
      "2022-02-03 18:00:00+00:00         1.243935          1.844451   \n",
      "2022-02-08 02:00:00+00:00        -0.535428         -0.687736   \n",
      "2022-01-15 01:00:00+00:00        -0.535428         -0.687736   \n",
      "2022-01-08 22:00:00+00:00        -0.535428          1.793807   \n",
      "2022-01-09 09:00:00+00:00         2.532439         -0.637092   \n",
      "...                                    ...               ...   \n",
      "2022-02-27 04:00:00+00:00        -0.535428         -0.687736   \n",
      "2022-02-28 14:00:00+00:00        -0.535428         -0.687736   \n",
      "2022-01-08 18:00:00+00:00        -0.535428          0.907542   \n",
      "2022-01-13 20:00:00+00:00        -0.535428         -0.687736   \n",
      "2022-02-09 10:00:00+00:00        -0.535428         -0.637092   \n",
      "\n",
      "                           shortwave_radiation  direct_radiation  \\\n",
      "date                                                               \n",
      "2022-02-03 18:00:00+00:00            -0.634151         -0.567477   \n",
      "2022-02-08 02:00:00+00:00            -0.634151         -0.567477   \n",
      "2022-01-15 01:00:00+00:00            -0.634151         -0.567477   \n",
      "2022-01-08 22:00:00+00:00            -0.634151         -0.567477   \n",
      "2022-01-09 09:00:00+00:00             0.038608         -0.480819   \n",
      "...                                        ...               ...   \n",
      "2022-02-27 04:00:00+00:00            -0.634151         -0.567477   \n",
      "2022-02-28 14:00:00+00:00             2.529815          2.751530   \n",
      "2022-01-08 18:00:00+00:00            -0.634151         -0.567477   \n",
      "2022-01-13 20:00:00+00:00            -0.634151         -0.567477   \n",
      "2022-02-09 10:00:00+00:00             1.976953          2.214250   \n",
      "\n",
      "                           diffuse_radiation  direct_normal_irradiance  \\\n",
      "date                                                                     \n",
      "2022-02-03 18:00:00+00:00          -0.662699                 -0.651423   \n",
      "2022-02-08 02:00:00+00:00          -0.662699                 -0.651423   \n",
      "2022-01-15 01:00:00+00:00          -0.662699                 -0.651423   \n",
      "2022-01-08 22:00:00+00:00          -0.662699                 -0.651423   \n",
      "2022-01-09 09:00:00+00:00           1.366473                 -0.483474   \n",
      "...                                      ...                       ...   \n",
      "2022-02-27 04:00:00+00:00          -0.662699                 -0.651423   \n",
      "2022-02-28 14:00:00+00:00           1.388771                  2.057552   \n",
      "2022-01-08 18:00:00+00:00          -0.662699                 -0.651423   \n",
      "2022-01-13 20:00:00+00:00          -0.662699                 -0.651423   \n",
      "2022-02-09 10:00:00+00:00           0.920501                  2.085398   \n",
      "\n",
      "                           global_tilted_irradiance  terrestrial_radiation  \n",
      "date                                                                        \n",
      "2022-02-03 18:00:00+00:00                 -0.634151              -0.702931  \n",
      "2022-02-08 02:00:00+00:00                 -0.634151              -0.702931  \n",
      "2022-01-15 01:00:00+00:00                 -0.634151              -0.702931  \n",
      "2022-01-08 22:00:00+00:00                 -0.634151              -0.702931  \n",
      "2022-01-09 09:00:00+00:00                  0.038608               0.495793  \n",
      "...                                             ...                    ...  \n",
      "2022-02-27 04:00:00+00:00                 -0.634151              -0.702931  \n",
      "2022-02-28 14:00:00+00:00                  2.529815               2.103308  \n",
      "2022-01-08 18:00:00+00:00                 -0.634151              -0.702931  \n",
      "2022-01-13 20:00:00+00:00                 -0.634151              -0.702931  \n",
      "2022-02-09 10:00:00+00:00                  1.976953               1.643564  \n",
      "\n",
      "[283 rows x 15 columns]\n"
     ]
    }
   ],
   "source": [
    "\n",
    "#X = hourly_dataframe.drop(columns=['ac_power_calculated_watts'], axis=1)\n",
    "\n",
    "scaler = StandardScaler()\n",
    "\n",
    "X_train_scaled = X_train.copy()\n",
    "X_test_scaled = X_test.copy()\n",
    "\n",
    "\n",
    "X_train_scaled[X_train.columns.difference(['precipitation'])] = scaler.fit_transform(X_train[X_train.columns.difference(['precipitation'])])\n",
    "X_test_scaled[X_test.columns.difference(['precipitation'])] = scaler.transform(X_test[X_test.columns.difference(['precipitation'])])\n",
    "\n",
    "print('X_train shape: ', X_train_scaled.shape)\n",
    "print('X_test shape: ', X_test_scaled.shape)\n",
    "\n",
    "print('x_test', X_test_scaled)"
   ]
  },
  {
   "cell_type": "code",
   "execution_count": null,
   "id": "53448e39",
   "metadata": {},
   "outputs": [
    {
     "name": "stdout",
     "output_type": "stream",
     "text": [
      "Fitting 5 folds for each of 270 candidates, totalling 1350 fits\n",
      "[CV] END .......C=0.01, degree=2, gamma=0.001, kernel=linear; total time=   0.0s\n",
      "[CV] END .......C=0.01, degree=2, gamma=0.001, kernel=linear; total time=   0.1s\n",
      "[CV] END .......C=0.01, degree=2, gamma=0.001, kernel=linear; total time=   0.0s\n",
      "[CV] END .......C=0.01, degree=2, gamma=0.001, kernel=linear; total time=   0.0s\n",
      "[CV] END .........C=0.01, degree=2, gamma=0.001, kernel=poly; total time=   0.0s\n",
      "[CV] END ..........C=0.01, degree=2, gamma=0.001, kernel=rbf; total time=   0.0s\n",
      "[CV] END .........C=0.01, degree=2, gamma=0.001, kernel=poly; total time=   0.0s\n",
      "[CV] END ........C=0.01, degree=2, gamma=0.01, kernel=linear; total time=   0.0s\n",
      "[CV] END ........C=0.01, degree=2, gamma=0.01, kernel=linear; total time=   0.0s\n",
      "[CV] END .........C=0.01, degree=2, gamma=0.001, kernel=poly; total time=   0.0s\n",
      "[CV] END .......C=0.01, degree=2, gamma=0.001, kernel=linear; total time=   0.0s\n",
      "[CV] END ..........C=0.01, degree=2, gamma=0.01, kernel=poly; total time=   0.0s\n",
      "[CV] END ..........C=0.01, degree=2, gamma=0.01, kernel=poly; total time=   0.0s\n",
      "[CV] END ..........C=0.01, degree=2, gamma=0.01, kernel=poly; total time=   0.0s\n",
      "[CV] END ..........C=0.01, degree=2, gamma=0.001, kernel=rbf; total time=   0.0s\n",
      "[CV] END ..........C=0.01, degree=2, gamma=0.01, kernel=poly; total time=   0.0s\n",
      "[CV] END ..........C=0.01, degree=2, gamma=0.01, kernel=poly; total time=   0.0s\n",
      "[CV] END ........C=0.01, degree=2, gamma=0.01, kernel=linear; total time=   0.0s\n",
      "[CV] END ...........C=0.01, degree=2, gamma=0.01, kernel=rbf; total time=   0.0s\n",
      "[CV] END .........C=0.01, degree=2, gamma=0.001, kernel=poly; total time=   0.0s\n",
      "[CV] END ...........C=0.01, degree=2, gamma=0.01, kernel=rbf; total time=   0.0s\n",
      "[CV] END ...........C=0.01, degree=2, gamma=0.01, kernel=rbf; total time=   0.0s\n",
      "[CV] END ...........C=0.01, degree=2, gamma=0.01, kernel=rbf; total time=   0.0s\n",
      "[CV] END .........C=0.01, degree=2, gamma=0.001, kernel=poly; total time=   0.0s\n",
      "[CV] END .........C=0.01, degree=2, gamma=0.1, kernel=linear; total time=   0.0s\n",
      "[CV] END ...........C=0.01, degree=2, gamma=0.01, kernel=rbf; total time=   0.0s\n",
      "[CV] END .........C=0.01, degree=2, gamma=0.1, kernel=linear; total time=   0.0s\n",
      "[CV] END .........C=0.01, degree=2, gamma=0.1, kernel=linear; total time=   0.0s\n",
      "[CV] END .........C=0.01, degree=2, gamma=0.1, kernel=linear; total time=   0.0s\n",
      "[CV] END .........C=0.01, degree=2, gamma=0.1, kernel=linear; total time=   0.0s\n",
      "[CV] END ..........C=0.01, degree=2, gamma=0.001, kernel=rbf; total time=   0.0s\n",
      "[CV] END ...........C=0.01, degree=2, gamma=0.1, kernel=poly; total time=   0.0s\n",
      "[CV] END ...........C=0.01, degree=2, gamma=0.1, kernel=poly; total time=   0.0s\n",
      "[CV] END ...........C=0.01, degree=2, gamma=0.1, kernel=poly; total time=   0.0s\n",
      "[CV] END ...........C=0.01, degree=2, gamma=0.1, kernel=poly; total time=   0.0s\n",
      "[CV] END ...........C=0.01, degree=2, gamma=0.1, kernel=poly; total time=   0.0s\n",
      "[CV] END ............C=0.01, degree=2, gamma=0.1, kernel=rbf; total time=   0.0s\n",
      "[CV] END ............C=0.01, degree=2, gamma=0.1, kernel=rbf; total time=   0.0s\n",
      "[CV] END ............C=0.01, degree=2, gamma=0.1, kernel=rbf; total time=   0.0s\n",
      "[CV] END ...........C=0.01, degree=2, gamma=1, kernel=linear; total time=   0.0s\n",
      "[CV] END ............C=0.01, degree=2, gamma=0.1, kernel=rbf; total time=   0.0s\n",
      "[CV] END ...........C=0.01, degree=2, gamma=1, kernel=linear; total time=   0.0s\n",
      "[CV] END ...........C=0.01, degree=2, gamma=1, kernel=linear; total time=   0.0s\n",
      "[CV] END ...........C=0.01, degree=2, gamma=1, kernel=linear; total time=   0.0s\n",
      "[CV] END ...........C=0.01, degree=2, gamma=1, kernel=linear; total time=   0.0s\n",
      "[CV] END ............C=0.01, degree=2, gamma=0.1, kernel=rbf; total time=   0.0s\n",
      "[CV] END .............C=0.01, degree=2, gamma=1, kernel=poly; total time=   0.0s[CV] END .............C=0.01, degree=2, gamma=1, kernel=poly; total time=   0.0s\n",
      "\n",
      "[CV] END .............C=0.01, degree=2, gamma=1, kernel=poly; total time=   0.0s\n",
      "[CV] END ..............C=0.01, degree=2, gamma=1, kernel=rbf; total time=   0.0s\n",
      "[CV] END ..............C=0.01, degree=2, gamma=1, kernel=rbf; total time=   0.0s\n",
      "[CV] END ..............C=0.01, degree=2, gamma=1, kernel=rbf; total time=   0.0s\n",
      "[CV] END ..............C=0.01, degree=2, gamma=1, kernel=rbf; total time=   0.0s\n",
      "[CV] END .............C=0.01, degree=2, gamma=1, kernel=poly; total time=   0.0s\n",
      "[CV] END .............C=0.01, degree=2, gamma=1, kernel=poly; total time=   0.0s\n",
      "[CV] END ........C=0.01, degree=2, gamma=0.01, kernel=linear; total time=   0.0s\n",
      "[CV] END ..........C=0.01, degree=2, gamma=10, kernel=linear; total time=   0.0s\n",
      "[CV] END ..........C=0.01, degree=2, gamma=0.001, kernel=rbf; total time=   0.0s\n",
      "[CV] END ..............C=0.01, degree=2, gamma=1, kernel=rbf; total time=   0.0s\n",
      "[CV] END ..........C=0.01, degree=2, gamma=10, kernel=linear; total time=   0.0s\n",
      "[CV] END ..........C=0.01, degree=2, gamma=10, kernel=linear; total time=   0.0s\n",
      "[CV] END ..........C=0.01, degree=2, gamma=10, kernel=linear; total time=   0.0s\n",
      "[CV] END ..........C=0.01, degree=2, gamma=10, kernel=linear; total time=   0.0s\n",
      "[CV] END ..........C=0.01, degree=2, gamma=0.001, kernel=rbf; total time=   0.0s\n",
      "[CV] END .......C=0.01, degree=3, gamma=0.001, kernel=linear; total time=   0.0s\n",
      "[CV] END ........C=0.01, degree=2, gamma=0.01, kernel=linear; total time=   0.0s\n",
      "[CV] END .......C=0.01, degree=3, gamma=0.001, kernel=linear; total time=   0.0s\n",
      "[CV] END .......C=0.01, degree=3, gamma=0.001, kernel=linear; total time=   0.0s\n",
      "[CV] END .........C=0.01, degree=3, gamma=0.001, kernel=poly; total time=   0.0s\n",
      "[CV] END .......C=0.01, degree=3, gamma=0.001, kernel=linear; total time=   0.0s\n",
      "[CV] END .......C=0.01, degree=3, gamma=0.001, kernel=linear; total time=   0.0s\n",
      "[CV] END .............C=0.01, degree=2, gamma=10, kernel=rbf; total time=   0.1s\n",
      "[CV] END .............C=0.01, degree=2, gamma=10, kernel=rbf; total time=   0.1s\n",
      "[CV] END .............C=0.01, degree=2, gamma=10, kernel=rbf; total time=   0.1s\n",
      "[CV] END .........C=0.01, degree=3, gamma=0.001, kernel=poly; total time=   0.0s\n",
      "[CV] END .............C=0.01, degree=2, gamma=10, kernel=rbf; total time=   0.1s\n",
      "[CV] END .........C=0.01, degree=3, gamma=0.001, kernel=poly; total time=   0.0s\n",
      "[CV] END .............C=0.01, degree=2, gamma=10, kernel=rbf; total time=   0.1s\n",
      "[CV] END .........C=0.01, degree=3, gamma=0.001, kernel=poly; total time=   0.0s\n",
      "[CV] END .........C=0.01, degree=3, gamma=0.001, kernel=poly; total time=   0.0s\n",
      "[CV] END ..........C=0.01, degree=3, gamma=0.001, kernel=rbf; total time=   0.0s\n",
      "[CV] END ..........C=0.01, degree=3, gamma=0.001, kernel=rbf; total time=   0.0s\n",
      "[CV] END ........C=0.01, degree=3, gamma=0.01, kernel=linear; total time=   0.0s\n",
      "[CV] END ..........C=0.01, degree=3, gamma=0.001, kernel=rbf; total time=   0.0s\n",
      "[CV] END ........C=0.01, degree=3, gamma=0.01, kernel=linear; total time=   0.0s\n",
      "[CV] END ..........C=0.01, degree=3, gamma=0.01, kernel=poly; total time=   0.0s\n",
      "[CV] END ..........C=0.01, degree=3, gamma=0.001, kernel=rbf; total time=   0.0s\n",
      "[CV] END ..........C=0.01, degree=3, gamma=0.001, kernel=rbf; total time=   0.0s\n",
      "[CV] END ..........C=0.01, degree=3, gamma=0.01, kernel=poly; total time=   0.0s\n",
      "[CV] END ........C=0.01, degree=3, gamma=0.01, kernel=linear; total time=   0.0s\n",
      "[CV] END ...........C=0.01, degree=3, gamma=0.01, kernel=rbf; total time=   0.0s\n",
      "[CV] END .........C=0.01, degree=3, gamma=0.1, kernel=linear; total time=   0.0s\n",
      "[CV] END ..........C=0.01, degree=3, gamma=0.01, kernel=poly; total time=   0.0s\n",
      "[CV] END ........C=0.01, degree=3, gamma=0.01, kernel=linear; total time=   0.0s\n",
      "[CV] END .........C=0.01, degree=3, gamma=0.1, kernel=linear; total time=   0.0s\n",
      "[CV] END ........C=0.01, degree=3, gamma=0.01, kernel=linear; total time=   0.0s\n",
      "[CV] END ...........C=0.01, degree=3, gamma=0.1, kernel=poly; total time=   0.0s\n",
      "[CV] END ..........C=0.01, degree=3, gamma=0.01, kernel=poly; total time=   0.0s\n",
      "[CV] END ...........C=0.01, degree=3, gamma=0.1, kernel=poly; total time=   0.0s[CV] END ...........C=0.01, degree=3, gamma=0.01, kernel=rbf; total time=   0.1s\n",
      "\n",
      "[CV] END .........C=0.01, degree=3, gamma=0.1, kernel=linear; total time=   0.0s\n",
      "[CV] END ...........C=0.01, degree=3, gamma=0.01, kernel=rbf; total time=   0.1s\n",
      "[CV] END ...........C=0.01, degree=3, gamma=0.1, kernel=poly; total time=   0.0s\n",
      "[CV] END ..........C=0.01, degree=3, gamma=0.01, kernel=poly; total time=   0.0s\n",
      "[CV] END .........C=0.01, degree=3, gamma=0.1, kernel=linear; total time=   0.0s\n",
      "[CV] END ............C=0.01, degree=3, gamma=0.1, kernel=rbf; total time=   0.0s\n",
      "[CV] END ...........C=0.01, degree=3, gamma=1, kernel=linear; total time=   0.0s\n",
      "[CV] END ............C=0.01, degree=3, gamma=0.1, kernel=rbf; total time=   0.0s\n",
      "[CV] END .........C=0.01, degree=3, gamma=0.1, kernel=linear; total time=   0.0s\n",
      "[CV] END ...........C=0.01, degree=3, gamma=0.1, kernel=poly; total time=   0.0s\n",
      "[CV] END ...........C=0.01, degree=3, gamma=1, kernel=linear; total time=   0.0s\n",
      "[CV] END ...........C=0.01, degree=3, gamma=1, kernel=linear; total time=   0.0s\n",
      "[CV] END ...........C=0.01, degree=3, gamma=0.01, kernel=rbf; total time=   0.0s\n",
      "[CV] END ...........C=0.01, degree=3, gamma=0.1, kernel=poly; total time=   0.0s\n",
      "[CV] END ...........C=0.01, degree=3, gamma=0.01, kernel=rbf; total time=   0.0s\n",
      "[CV] END ............C=0.01, degree=3, gamma=0.1, kernel=rbf; total time=   0.0s\n",
      "[CV] END ...........C=0.01, degree=3, gamma=1, kernel=linear; total time=   0.0s\n",
      "[CV] END ............C=0.01, degree=3, gamma=0.1, kernel=rbf; total time=   0.0s\n",
      "[CV] END ............C=0.01, degree=3, gamma=0.1, kernel=rbf; total time=   0.0s\n",
      "[CV] END ..............C=0.01, degree=3, gamma=1, kernel=rbf; total time=   0.0s\n",
      "[CV] END ...........C=0.01, degree=3, gamma=1, kernel=linear; total time=   0.0s\n",
      "[CV] END ..............C=0.01, degree=3, gamma=1, kernel=rbf; total time=   0.0s\n",
      "[CV] END ..........C=0.01, degree=3, gamma=10, kernel=linear; total time=   0.0s\n",
      "[CV] END ..............C=0.01, degree=3, gamma=1, kernel=rbf; total time=   0.0s\n",
      "[CV] END ..........C=0.01, degree=3, gamma=10, kernel=linear; total time=   0.0s\n",
      "[CV] END ..............C=0.01, degree=3, gamma=1, kernel=rbf; total time=   0.0s\n",
      "[CV] END ..............C=0.01, degree=3, gamma=1, kernel=rbf; total time=   0.0s\n",
      "[CV] END .............C=0.01, degree=3, gamma=10, kernel=rbf; total time=   0.0s\n",
      "[CV] END ............C=0.01, degree=2, gamma=10, kernel=poly; total time=   0.2s\n",
      "[CV] END .............C=0.01, degree=3, gamma=10, kernel=rbf; total time=   0.0s\n",
      "[CV] END ..........C=0.01, degree=3, gamma=10, kernel=linear; total time=   0.0s\n",
      "[CV] END ..........C=0.01, degree=3, gamma=10, kernel=linear; total time=   0.0s\n",
      "[CV] END .......C=0.01, degree=4, gamma=0.001, kernel=linear; total time=   0.0s\n",
      "[CV] END ..........C=0.01, degree=3, gamma=10, kernel=linear; total time=   0.0s\n",
      "[CV] END .............C=0.01, degree=3, gamma=1, kernel=poly; total time=   0.1s\n",
      "[CV] END ............C=0.01, degree=2, gamma=10, kernel=poly; total time=   0.3s\n",
      "[CV] END .......C=0.01, degree=4, gamma=0.001, kernel=linear; total time=   0.0s\n",
      "[CV] END ............C=0.01, degree=2, gamma=10, kernel=poly; total time=   0.3s\n",
      "[CV] END .......C=0.01, degree=4, gamma=0.001, kernel=linear; total time=   0.0s\n",
      "[CV] END .............C=0.01, degree=3, gamma=10, kernel=rbf; total time=   0.0s\n",
      "[CV] END .........C=0.01, degree=4, gamma=0.001, kernel=poly; total time=   0.0s\n",
      "[CV] END ............C=0.01, degree=2, gamma=10, kernel=poly; total time=   0.3s\n",
      "[CV] END .........C=0.01, degree=4, gamma=0.001, kernel=poly; total time=   0.0s\n",
      "[CV] END .............C=0.01, degree=3, gamma=10, kernel=rbf; total time=   0.0s\n",
      "[CV] END .......C=0.01, degree=4, gamma=0.001, kernel=linear; total time=   0.0s\n",
      "[CV] END .........C=0.01, degree=4, gamma=0.001, kernel=poly; total time=   0.0s\n",
      "[CV] END .............C=0.01, degree=3, gamma=1, kernel=poly; total time=   0.1s\n",
      "[CV] END ..........C=0.01, degree=4, gamma=0.001, kernel=rbf; total time=   0.0s\n",
      "[CV] END ........C=0.01, degree=4, gamma=0.01, kernel=linear; total time=   0.0s\n",
      "[CV] END ..........C=0.01, degree=4, gamma=0.01, kernel=poly; total time=   0.0s\n",
      "[CV] END .......C=0.01, degree=4, gamma=0.001, kernel=linear; total time=   0.0s\n",
      "[CV] END ..........C=0.01, degree=4, gamma=0.001, kernel=rbf; total time=   0.0s\n",
      "[CV] END ..........C=0.01, degree=4, gamma=0.01, kernel=poly; total time=   0.0s\n",
      "[CV] END .........C=0.01, degree=4, gamma=0.001, kernel=poly; total time=   0.0s\n",
      "[CV] END ...........C=0.01, degree=4, gamma=0.01, kernel=rbf; total time=   0.0s\n",
      "[CV] END .........C=0.01, degree=4, gamma=0.001, kernel=poly; total time=   0.0s\n",
      "[CV] END .........C=0.01, degree=4, gamma=0.1, kernel=linear; total time=   0.0s\n",
      "[CV] END ............C=0.01, degree=2, gamma=10, kernel=poly; total time=   0.3s\n",
      "[CV] END ..........C=0.01, degree=4, gamma=0.01, kernel=poly; total time=   0.0s\n",
      "[CV] END ..........C=0.01, degree=4, gamma=0.001, kernel=rbf; total time=   0.0s\n",
      "[CV] END ........C=0.01, degree=4, gamma=0.01, kernel=linear; total time=   0.0s\n",
      "[CV] END ............C=0.01, degree=4, gamma=0.1, kernel=rbf; total time=   0.0s\n",
      "[CV] END ...........C=0.01, degree=4, gamma=0.01, kernel=rbf; total time=   0.0s\n",
      "[CV] END ............C=0.01, degree=4, gamma=0.1, kernel=rbf; total time=   0.0s\n",
      "[CV] END ...........C=0.01, degree=4, gamma=0.1, kernel=poly; total time=   0.0s\n",
      "[CV] END ..........C=0.01, degree=4, gamma=0.001, kernel=rbf; total time=   0.0s\n",
      "[CV] END ...........C=0.01, degree=4, gamma=1, kernel=linear; total time=   0.0s\n",
      "[CV] END ...........C=0.01, degree=4, gamma=0.01, kernel=rbf; total time=   0.0s\n",
      "[CV] END .........C=0.01, degree=4, gamma=0.1, kernel=linear; total time=   0.0s\n",
      "[CV] END ..........C=0.01, degree=4, gamma=0.01, kernel=poly; total time=   0.0s\n",
      "[CV] END ........C=0.01, degree=4, gamma=0.01, kernel=linear; total time=   0.0s\n",
      "[CV] END ..........C=0.01, degree=4, gamma=0.001, kernel=rbf; total time=   0.0s\n",
      "[CV] END ............C=0.01, degree=4, gamma=0.1, kernel=rbf; total time=   0.0s\n",
      "[CV] END ..............C=0.01, degree=4, gamma=1, kernel=rbf; total time=   0.0s\n",
      "[CV] END ...........C=0.01, degree=4, gamma=0.01, kernel=rbf; total time=   0.0s\n",
      "[CV] END ...........C=0.01, degree=4, gamma=1, kernel=linear; total time=   0.0s[CV] END ..........C=0.01, degree=4, gamma=0.01, kernel=poly; total time=   0.0s\n",
      "\n",
      "[CV] END .........C=0.01, degree=4, gamma=0.1, kernel=linear; total time=   0.0s\n",
      "[CV] END ...........C=0.01, degree=4, gamma=1, kernel=linear; total time=   0.0s[CV] END .........C=0.01, degree=4, gamma=0.1, kernel=linear; total time=   0.0s\n",
      "\n",
      "[CV] END ........C=0.01, degree=4, gamma=0.01, kernel=linear; total time=   0.0s\n",
      "[CV] END ..........C=0.01, degree=4, gamma=10, kernel=linear; total time=   0.0s\n",
      "[CV] END ........C=0.01, degree=4, gamma=0.01, kernel=linear; total time=   0.0s\n",
      "[CV] END .............C=0.01, degree=3, gamma=1, kernel=poly; total time=   0.2s\n",
      "[CV] END ...........C=0.01, degree=4, gamma=0.1, kernel=poly; total time=   0.0s\n",
      "[CV] END ............C=0.01, degree=4, gamma=0.1, kernel=rbf; total time=   0.0s\n",
      "[CV] END ...........C=0.01, degree=4, gamma=0.01, kernel=rbf; total time=   0.0s\n",
      "[CV] END ..........C=0.01, degree=4, gamma=10, kernel=linear; total time=   0.0s\n",
      "[CV] END ..............C=0.01, degree=4, gamma=1, kernel=rbf; total time=   0.0s[CV] END .............C=0.01, degree=3, gamma=1, kernel=poly; total time=   0.1s\n",
      "\n",
      "[CV] END ...........C=0.01, degree=4, gamma=1, kernel=linear; total time=   0.0s\n",
      "[CV] END .........C=0.01, degree=4, gamma=0.1, kernel=linear; total time=   0.0s\n",
      "[CV] END ...........C=0.01, degree=4, gamma=0.1, kernel=poly; total time=   0.0s\n",
      "[CV] END ..........C=0.01, degree=4, gamma=10, kernel=linear; total time=   0.0s\n",
      "[CV] END ........C=0.1, degree=2, gamma=0.001, kernel=linear; total time=   0.0s\n",
      "[CV] END ............C=0.01, degree=4, gamma=0.1, kernel=rbf; total time=   0.0s\n",
      "[CV] END ...........C=0.01, degree=4, gamma=0.1, kernel=poly; total time=   0.0s\n",
      "[CV] END .............C=0.01, degree=4, gamma=10, kernel=rbf; total time=   0.0s\n",
      "[CV] END ..........C=0.1, degree=2, gamma=0.001, kernel=poly; total time=   0.0s\n",
      "[CV] END ..........C=0.01, degree=4, gamma=10, kernel=linear; total time=   0.0s\n",
      "[CV] END ...........C=0.01, degree=4, gamma=1, kernel=linear; total time=   0.0s\n",
      "[CV] END ..........C=0.1, degree=2, gamma=0.001, kernel=poly; total time=   0.0s\n",
      "[CV] END ..............C=0.01, degree=4, gamma=1, kernel=rbf; total time=   0.0s\n",
      "[CV] END ...........C=0.1, degree=2, gamma=0.001, kernel=rbf; total time=   0.0s\n",
      "[CV] END ........C=0.1, degree=2, gamma=0.001, kernel=linear; total time=   0.0s\n",
      "[CV] END .........C=0.1, degree=2, gamma=0.01, kernel=linear; total time=   0.0s\n",
      "[CV] END ...........C=0.01, degree=4, gamma=0.1, kernel=poly; total time=   0.0s\n",
      "[CV] END ...........C=0.1, degree=2, gamma=0.001, kernel=rbf; total time=   0.0s\n",
      "[CV] END ..........C=0.01, degree=4, gamma=10, kernel=linear; total time=   0.0s\n",
      "[CV] END ...........C=0.1, degree=2, gamma=0.01, kernel=poly; total time=   0.0s\n",
      "[CV] END ..........C=0.1, degree=2, gamma=0.001, kernel=poly; total time=   0.0s\n",
      "[CV] END .............C=0.01, degree=4, gamma=10, kernel=rbf; total time=   0.0s\n",
      "[CV] END ...........C=0.1, degree=2, gamma=0.001, kernel=rbf; total time=   0.0s\n",
      "[CV] END ..............C=0.01, degree=4, gamma=1, kernel=rbf; total time=   0.0s\n",
      "[CV] END ........C=0.1, degree=2, gamma=0.001, kernel=linear; total time=   0.0s\n",
      "[CV] END .........C=0.1, degree=2, gamma=0.01, kernel=linear; total time=   0.0s\n",
      "[CV] END ............C=0.1, degree=2, gamma=0.01, kernel=rbf; total time=   0.0s\n",
      "[CV] END ...........C=0.1, degree=2, gamma=0.001, kernel=rbf; total time=   0.0s\n",
      "[CV] END ...........C=0.1, degree=2, gamma=0.01, kernel=poly; total time=   0.0s\n",
      "[CV] END .............C=0.01, degree=3, gamma=1, kernel=poly; total time=   0.1s\n",
      "[CV] END .........C=0.1, degree=2, gamma=0.01, kernel=linear; total time=   0.0s\n",
      "[CV] END ..........C=0.1, degree=2, gamma=0.001, kernel=poly; total time=   0.0s\n",
      "[CV] END ............C=0.1, degree=2, gamma=0.01, kernel=rbf; total time=   0.0s\n",
      "[CV] END ........C=0.1, degree=2, gamma=0.001, kernel=linear; total time=   0.0s\n",
      "[CV] END .........C=0.1, degree=2, gamma=0.01, kernel=linear; total time=   0.0s\n",
      "[CV] END ..........C=0.1, degree=2, gamma=0.1, kernel=linear; total time=   0.0s\n",
      "[CV] END ............C=0.1, degree=2, gamma=0.01, kernel=rbf; total time=   0.0s[CV] END ...........C=0.1, degree=2, gamma=0.001, kernel=rbf; total time=   0.0s\n",
      "\n",
      "[CV] END .............C=0.01, degree=4, gamma=10, kernel=rbf; total time=   0.0s\n",
      "[CV] END .........C=0.1, degree=2, gamma=0.01, kernel=linear; total time=   0.0s\n",
      "[CV] END ...........C=0.1, degree=2, gamma=0.01, kernel=poly; total time=   0.0s\n",
      "[CV] END ..........C=0.1, degree=2, gamma=0.001, kernel=poly; total time=   0.0s\n",
      "[CV] END ...........C=0.1, degree=2, gamma=0.01, kernel=poly; total time=   0.0s\n",
      "[CV] END ............C=0.1, degree=2, gamma=0.1, kernel=poly; total time=   0.0s\n",
      "[CV] END .............C=0.1, degree=2, gamma=0.1, kernel=rbf; total time=   0.0s\n",
      "[CV] END ..........C=0.1, degree=2, gamma=0.1, kernel=linear; total time=   0.0s\n",
      "[CV] END ..........C=0.1, degree=2, gamma=0.1, kernel=linear; total time=   0.0s\n",
      "[CV] END ............C=0.1, degree=2, gamma=0.01, kernel=rbf; total time=   0.0s\n",
      "[CV] END ........C=0.1, degree=2, gamma=0.001, kernel=linear; total time=   0.0s\n",
      "[CV] END ............C=0.1, degree=2, gamma=1, kernel=linear; total time=   0.0s\n",
      "[CV] END ...........C=0.1, degree=2, gamma=0.01, kernel=poly; total time=   0.0s\n",
      "[CV] END ............C=0.1, degree=2, gamma=1, kernel=linear; total time=   0.0s\n",
      "[CV] END ...............C=0.1, degree=2, gamma=1, kernel=rbf; total time=   0.0s\n",
      "[CV] END ..........C=0.1, degree=2, gamma=0.1, kernel=linear; total time=   0.0s\n",
      "[CV] END .............C=0.1, degree=2, gamma=0.1, kernel=rbf; total time=   0.0s\n",
      "[CV] END ............C=0.1, degree=2, gamma=1, kernel=linear; total time=   0.0s\n",
      "[CV] END ............C=0.1, degree=2, gamma=0.1, kernel=poly; total time=   0.0s\n",
      "[CV] END ............C=0.1, degree=2, gamma=0.01, kernel=rbf; total time=   0.0s\n",
      "[CV] END ............C=0.1, degree=2, gamma=0.1, kernel=poly; total time=   0.0s\n",
      "[CV] END ...........C=0.1, degree=2, gamma=10, kernel=linear; total time=   0.0s\n",
      "[CV] END ..............C=0.1, degree=2, gamma=1, kernel=poly; total time=   0.1s\n",
      "[CV] END ...............C=0.1, degree=2, gamma=1, kernel=rbf; total time=   0.0s\n",
      "[CV] END ..............C=0.1, degree=2, gamma=1, kernel=poly; total time=   0.0s\n",
      "[CV] END ..........C=0.1, degree=2, gamma=0.1, kernel=linear; total time=   0.0s\n",
      "[CV] END .............C=0.1, degree=2, gamma=0.1, kernel=rbf; total time=   0.0s\n",
      "[CV] END ............C=0.1, degree=2, gamma=1, kernel=linear; total time=   0.0s\n",
      "[CV] END ............C=0.1, degree=2, gamma=0.1, kernel=poly; total time=   0.0s\n",
      "[CV] END ............C=0.1, degree=2, gamma=0.1, kernel=poly; total time=   0.0s\n",
      "[CV] END ...........C=0.1, degree=2, gamma=10, kernel=linear; total time=   0.0s\n",
      "[CV] END ...............C=0.1, degree=2, gamma=1, kernel=rbf; total time=   0.0s\n",
      "[CV] END .............C=0.1, degree=2, gamma=0.1, kernel=rbf; total time=   0.0s\n",
      "[CV] END ............C=0.1, degree=2, gamma=1, kernel=linear; total time=   0.0s\n",
      "[CV] END ........C=0.1, degree=3, gamma=0.001, kernel=linear; total time=   0.0s\n",
      "[CV] END ...........C=0.1, degree=2, gamma=10, kernel=linear; total time=   0.0s\n",
      "[CV] END ..............C=0.1, degree=2, gamma=1, kernel=poly; total time=   0.1s\n",
      "[CV] END ...........C=0.1, degree=2, gamma=10, kernel=linear; total time=   0.0s\n",
      "[CV] END ..............C=0.1, degree=2, gamma=1, kernel=poly; total time=   0.1s\n",
      "[CV] END .............C=0.1, degree=2, gamma=0.1, kernel=rbf; total time=   0.0s\n",
      "[CV] END ..........C=0.1, degree=3, gamma=0.001, kernel=poly; total time=   0.0s\n",
      "[CV] END ...........C=0.1, degree=3, gamma=0.01, kernel=poly; total time=   0.0s\n",
      "[CV] END ...........C=0.1, degree=3, gamma=0.001, kernel=rbf; total time=   0.0s\n",
      "[CV] END ........C=0.1, degree=3, gamma=0.001, kernel=linear; total time=   0.0s\n",
      "[CV] END ..........C=0.1, degree=3, gamma=0.001, kernel=poly; total time=   0.0s\n",
      "[CV] END ..............C=0.1, degree=2, gamma=10, kernel=rbf; total time=   0.1s\n",
      "[CV] END ...........C=0.1, degree=2, gamma=10, kernel=linear; total time=   0.0s\n",
      "[CV] END ..........C=0.1, degree=3, gamma=0.1, kernel=linear; total time=   0.0s\n",
      "[CV] END ...............C=0.1, degree=2, gamma=1, kernel=rbf; total time=   0.0s\n",
      "[CV] END ...........C=0.1, degree=3, gamma=0.01, kernel=poly; total time=   0.0s\n",
      "[CV] END ..........C=0.1, degree=3, gamma=0.001, kernel=poly; total time=   0.0s\n",
      "[CV] END ..............C=0.1, degree=2, gamma=1, kernel=poly; total time=   0.1s\n",
      "[CV] END ........C=0.1, degree=3, gamma=0.001, kernel=linear; total time=   0.0s\n",
      "[CV] END .........C=0.1, degree=3, gamma=0.01, kernel=linear; total time=   0.0s\n",
      "[CV] END ...........C=0.1, degree=3, gamma=0.01, kernel=poly; total time=   0.0s\n",
      "[CV] END ..........C=0.1, degree=3, gamma=0.001, kernel=poly; total time=   0.0s\n",
      "[CV] END ..........C=0.1, degree=3, gamma=0.1, kernel=linear; total time=   0.0s\n",
      "[CV] END ............C=0.1, degree=3, gamma=0.1, kernel=poly; total time=   0.0s\n",
      "[CV] END ...............C=0.1, degree=2, gamma=1, kernel=rbf; total time=   0.0s\n",
      "[CV] END ..........C=0.1, degree=3, gamma=0.001, kernel=poly; total time=   0.0s\n",
      "[CV] END ............C=0.1, degree=3, gamma=1, kernel=linear; total time=   0.0s\n",
      "[CV] END .........C=0.1, degree=3, gamma=0.01, kernel=linear; total time=   0.0s\n",
      "[CV] END ............C=0.1, degree=3, gamma=0.01, kernel=rbf; total time=   0.0s\n",
      "[CV] END ...........C=0.1, degree=3, gamma=0.001, kernel=rbf; total time=   0.0s\n",
      "[CV] END ..............C=0.1, degree=2, gamma=10, kernel=rbf; total time=   0.1s\n",
      "[CV] END ..........C=0.1, degree=3, gamma=0.1, kernel=linear; total time=   0.0s\n",
      "[CV] END ............C=0.1, degree=3, gamma=0.1, kernel=poly; total time=   0.0s\n",
      "[CV] END ............C=0.1, degree=3, gamma=1, kernel=linear; total time=   0.0s\n",
      "[CV] END ...........C=0.1, degree=3, gamma=10, kernel=linear; total time=   0.0s\n",
      "[CV] END .........C=0.1, degree=3, gamma=0.01, kernel=linear; total time=   0.0s\n",
      "[CV] END ............C=0.1, degree=3, gamma=0.01, kernel=rbf; total time=   0.0s\n",
      "[CV] END ...........C=0.1, degree=3, gamma=0.001, kernel=rbf; total time=   0.0s\n",
      "[CV] END ........C=0.1, degree=3, gamma=0.001, kernel=linear; total time=   0.0s\n",
      "[CV] END ..........C=0.1, degree=3, gamma=0.1, kernel=linear; total time=   0.0s\n",
      "[CV] END ............C=0.1, degree=3, gamma=1, kernel=linear; total time=   0.0s\n",
      "[CV] END ...........C=0.1, degree=3, gamma=10, kernel=linear; total time=   0.0s\n",
      "[CV] END ............C=0.1, degree=3, gamma=0.01, kernel=rbf; total time=   0.0s\n",
      "[CV] END .............C=0.1, degree=3, gamma=0.1, kernel=rbf; total time=   0.0s\n",
      "[CV] END ...........C=0.1, degree=3, gamma=0.001, kernel=rbf; total time=   0.0s\n",
      "[CV] END .........C=0.1, degree=3, gamma=0.01, kernel=linear; total time=   0.0s\n",
      "[CV] END ........C=0.1, degree=3, gamma=0.001, kernel=linear; total time=   0.0s\n",
      "[CV] END ............C=0.1, degree=3, gamma=1, kernel=linear; total time=   0.0s\n",
      "[CV] END ..........C=0.1, degree=3, gamma=0.1, kernel=linear; total time=   0.0s\n",
      "[CV] END ...........C=0.1, degree=3, gamma=0.001, kernel=rbf; total time=   0.0s[CV] END ............C=0.1, degree=3, gamma=0.01, kernel=rbf; total time=   0.0s\n",
      "\n",
      "[CV] END ...........C=0.1, degree=3, gamma=10, kernel=linear; total time=   0.0s\n",
      "[CV] END .........C=0.1, degree=3, gamma=0.01, kernel=linear; total time=   0.0s\n",
      "[CV] END .............C=0.1, degree=3, gamma=0.1, kernel=rbf; total time=   0.0s\n",
      "[CV] END ............C=0.1, degree=3, gamma=0.1, kernel=poly; total time=   0.0s\n",
      "[CV] END ............C=0.1, degree=3, gamma=0.01, kernel=rbf; total time=   0.0s\n",
      "[CV] END ........C=0.1, degree=4, gamma=0.001, kernel=linear; total time=   0.0s\n",
      "[CV] END ...........C=0.1, degree=3, gamma=0.01, kernel=poly; total time=   0.0s\n",
      "[CV] END .............C=0.1, degree=3, gamma=0.1, kernel=rbf; total time=   0.0s\n",
      "[CV] END ..............C=0.1, degree=3, gamma=10, kernel=rbf; total time=   0.1s\n",
      "[CV] END ...........C=0.1, degree=4, gamma=0.001, kernel=rbf; total time=   0.0s\n",
      "[CV] END ........C=0.1, degree=4, gamma=0.001, kernel=linear; total time=   0.0s\n",
      "[CV] END ...........C=0.1, degree=3, gamma=0.01, kernel=poly; total time=   0.0s\n",
      "[CV] END ............C=0.1, degree=3, gamma=0.1, kernel=poly; total time=   0.0s\n",
      "[CV] END ..........C=0.1, degree=4, gamma=0.001, kernel=poly; total time=   0.0s\n",
      "[CV] END ...........C=0.1, degree=4, gamma=0.001, kernel=rbf; total time=   0.0s\n",
      "[CV] END .............C=0.1, degree=3, gamma=0.1, kernel=rbf; total time=   0.0s\n",
      "[CV] END .........C=0.1, degree=4, gamma=0.01, kernel=linear; total time=   0.0s\n",
      "[CV] END ............C=0.1, degree=3, gamma=0.1, kernel=poly; total time=   0.0s\n",
      "[CV] END ..........C=0.1, degree=4, gamma=0.001, kernel=poly; total time=   0.0s\n",
      "[CV] END ...........C=0.1, degree=4, gamma=0.001, kernel=rbf; total time=   0.0s\n",
      "[CV] END ..............C=0.1, degree=3, gamma=10, kernel=rbf; total time=   0.1s\n",
      "[CV] END ...........C=0.1, degree=4, gamma=0.01, kernel=poly; total time=   0.0s\n",
      "[CV] END ..........C=0.1, degree=4, gamma=0.001, kernel=poly; total time=   0.0s\n",
      "[CV] END .............C=0.1, degree=3, gamma=0.1, kernel=rbf; total time=   0.0s\n",
      "[CV] END ...........C=0.1, degree=4, gamma=0.001, kernel=rbf; total time=   0.0s\n",
      "[CV] END ............C=0.1, degree=4, gamma=0.01, kernel=rbf; total time=   0.0s\n",
      "[CV] END ..........C=0.1, degree=4, gamma=0.001, kernel=poly; total time=   0.0s\n",
      "[CV] END ...........C=0.1, degree=4, gamma=0.01, kernel=poly; total time=   0.0s\n",
      "[CV] END ............C=0.1, degree=3, gamma=1, kernel=linear; total time=   0.0s\n",
      "[CV] END ..........C=0.1, degree=4, gamma=0.001, kernel=poly; total time=   0.0s\n",
      "[CV] END .........C=0.1, degree=4, gamma=0.01, kernel=linear; total time=   0.0s\n",
      "[CV] END ...........C=0.1, degree=4, gamma=0.01, kernel=poly; total time=   0.0s\n",
      "[CV] END ............C=0.1, degree=4, gamma=0.01, kernel=rbf; total time=   0.0s\n",
      "[CV] END ...........C=0.1, degree=4, gamma=0.001, kernel=rbf; total time=   0.0s[CV] END ..............C=0.1, degree=3, gamma=10, kernel=rbf; total time=   0.1s\n",
      "\n",
      "[CV] END ............C=0.1, degree=4, gamma=0.1, kernel=poly; total time=   0.0s\n",
      "[CV] END .........C=0.1, degree=4, gamma=0.01, kernel=linear; total time=   0.0s\n",
      "[CV] END ...........C=0.1, degree=4, gamma=0.01, kernel=poly; total time=   0.0s\n",
      "[CV] END ............C=0.1, degree=4, gamma=0.01, kernel=rbf; total time=   0.0s\n",
      "[CV] END .............C=0.1, degree=4, gamma=0.1, kernel=rbf; total time=   0.0s\n",
      "[CV] END ...........C=0.1, degree=4, gamma=0.01, kernel=poly; total time=   0.0s\n",
      "[CV] END .........C=0.1, degree=4, gamma=0.01, kernel=linear; total time=   0.0s\n",
      "[CV] END ..........C=0.1, degree=4, gamma=0.1, kernel=linear; total time=   0.0s\n",
      "[CV] END ............C=0.1, degree=4, gamma=0.1, kernel=poly; total time=   0.1s\n",
      "[CV] END .............C=0.1, degree=4, gamma=0.1, kernel=rbf; total time=   0.0s\n",
      "[CV] END ..............C=0.1, degree=3, gamma=10, kernel=rbf; total time=   0.1s\n",
      "[CV] END .........C=0.1, degree=4, gamma=0.01, kernel=linear; total time=   0.0s\n",
      "[CV] END ............C=0.1, degree=4, gamma=0.01, kernel=rbf; total time=   0.0s\n",
      "[CV] END ..........C=0.1, degree=4, gamma=0.1, kernel=linear; total time=   0.0s\n",
      "[CV] END ............C=0.1, degree=4, gamma=1, kernel=linear; total time=   0.0s\n",
      "[CV] END ............C=0.1, degree=4, gamma=0.01, kernel=rbf; total time=   0.0s\n",
      "[CV] END ............C=0.1, degree=4, gamma=0.1, kernel=poly; total time=   0.1s\n",
      "[CV] END ............C=0.1, degree=4, gamma=1, kernel=linear; total time=   0.0s\n",
      "[CV] END ..........C=0.1, degree=4, gamma=0.1, kernel=linear; total time=   0.0s\n",
      "[CV] END ..............C=0.1, degree=3, gamma=10, kernel=rbf; total time=   0.1s\n",
      "[CV] END ...............C=0.1, degree=4, gamma=1, kernel=rbf; total time=   0.0s\n",
      "[CV] END ............C=0.1, degree=4, gamma=1, kernel=linear; total time=   0.0s\n",
      "[CV] END ..........C=0.1, degree=4, gamma=0.1, kernel=linear; total time=   0.0s\n",
      "[CV] END ............C=0.1, degree=4, gamma=0.1, kernel=poly; total time=   0.0s\n",
      "[CV] END ........C=0.1, degree=4, gamma=0.001, kernel=linear; total time=   0.0s\n",
      "[CV] END ............C=0.1, degree=4, gamma=1, kernel=linear; total time=   0.0s\n",
      "[CV] END ...........C=0.1, degree=4, gamma=10, kernel=linear; total time=   0.0s\n",
      "[CV] END ..........C=0.1, degree=4, gamma=0.1, kernel=linear; total time=   0.0s\n",
      "[CV] END ........C=0.1, degree=4, gamma=0.001, kernel=linear; total time=   0.0s\n",
      "[CV] END ............C=0.1, degree=4, gamma=1, kernel=linear; total time=   0.0s\n",
      "[CV] END ...........C=0.1, degree=4, gamma=10, kernel=linear; total time=   0.0s[CV] END ............C=0.1, degree=4, gamma=0.1, kernel=poly; total time=   0.0s\n",
      "\n",
      "[CV] END ........C=0.1, degree=4, gamma=0.001, kernel=linear; total time=   0.0s\n",
      "[CV] END ...........C=0.1, degree=4, gamma=10, kernel=linear; total time=   0.0s\n",
      "[CV] END .............C=0.1, degree=4, gamma=0.1, kernel=rbf; total time=   0.0s\n",
      "[CV] END ..........C=1, degree=2, gamma=0.001, kernel=linear; total time=   0.0s\n",
      "[CV] END ...........C=0.1, degree=4, gamma=10, kernel=linear; total time=   0.0s\n",
      "[CV] END .............C=0.1, degree=4, gamma=0.1, kernel=rbf; total time=   0.0s\n",
      "[CV] END ...........C=0.1, degree=4, gamma=10, kernel=linear; total time=   0.0s\n",
      "[CV] END ..........C=1, degree=2, gamma=0.001, kernel=linear; total time=   0.0s\n",
      "[CV] END .............C=0.1, degree=4, gamma=0.1, kernel=rbf; total time=   0.0s\n",
      "[CV] END ............C=1, degree=2, gamma=0.001, kernel=poly; total time=   0.0s\n",
      "[CV] END ..........C=1, degree=2, gamma=0.001, kernel=linear; total time=   0.0s\n",
      "[CV] END ............C=1, degree=2, gamma=0.001, kernel=poly; total time=   0.0s\n",
      "[CV] END ..........C=1, degree=2, gamma=0.001, kernel=linear; total time=   0.1s\n",
      "[CV] END .............C=1, degree=2, gamma=0.001, kernel=rbf; total time=   0.1s\n",
      "[CV] END ..............C=0.1, degree=3, gamma=1, kernel=poly; total time=   0.7s\n",
      "[CV] END ..........C=1, degree=2, gamma=0.001, kernel=linear; total time=   0.0s\n",
      "[CV] END ...............C=0.1, degree=3, gamma=1, kernel=rbf; total time=   0.0s\n",
      "[CV] END .............C=1, degree=2, gamma=0.001, kernel=rbf; total time=   0.0s\n",
      "[CV] END ............C=1, degree=2, gamma=0.001, kernel=poly; total time=   0.0s\n",
      "[CV] END ............C=1, degree=2, gamma=0.001, kernel=poly; total time=   0.0s\n",
      "[CV] END ...............C=0.1, degree=3, gamma=1, kernel=rbf; total time=   0.0s\n",
      "[CV] END .............C=1, degree=2, gamma=0.001, kernel=rbf; total time=   0.0s\n",
      "[CV] END ............C=1, degree=2, gamma=0.001, kernel=poly; total time=   0.0s\n",
      "[CV] END ...............C=0.1, degree=3, gamma=1, kernel=rbf; total time=   0.0s\n",
      "[CV] END .............C=1, degree=2, gamma=0.001, kernel=rbf; total time=   0.0s\n",
      "[CV] END ...........C=1, degree=2, gamma=0.01, kernel=linear; total time=   0.0s\n",
      "[CV] END ...............C=0.1, degree=3, gamma=1, kernel=rbf; total time=   0.0s\n",
      "[CV] END .............C=1, degree=2, gamma=0.001, kernel=rbf; total time=   0.0s\n",
      "[CV] END ...........C=1, degree=2, gamma=0.01, kernel=linear; total time=   0.0s\n",
      "[CV] END ...............C=0.1, degree=3, gamma=1, kernel=rbf; total time=   0.0s\n",
      "[CV] END ...........C=1, degree=2, gamma=0.01, kernel=linear; total time=   0.0s\n",
      "[CV] END ...........C=1, degree=2, gamma=0.01, kernel=linear; total time=   0.0s\n",
      "[CV] END ...........C=0.1, degree=3, gamma=10, kernel=linear; total time=   0.0s\n",
      "[CV] END .............C=1, degree=2, gamma=0.01, kernel=poly; total time=   0.0s\n",
      "[CV] END ..............C=0.1, degree=3, gamma=1, kernel=poly; total time=   0.9s\n",
      "[CV] END ...........C=1, degree=2, gamma=0.01, kernel=linear; total time=   0.0s\n",
      "[CV] END ...........C=0.1, degree=3, gamma=10, kernel=linear; total time=   0.0s\n",
      "[CV] END ..............C=1, degree=2, gamma=0.01, kernel=rbf; total time=   0.0s\n",
      "[CV] END .............C=1, degree=2, gamma=0.01, kernel=poly; total time=   0.0s\n",
      "[CV] END ............C=1, degree=2, gamma=0.1, kernel=linear; total time=   0.0s\n",
      "[CV] END .............C=1, degree=2, gamma=0.01, kernel=poly; total time=   0.0s\n",
      "[CV] END ..............C=1, degree=2, gamma=0.01, kernel=rbf; total time=   0.0s\n",
      "[CV] END ............C=1, degree=2, gamma=0.1, kernel=linear; total time=   0.0s\n",
      "[CV] END .............C=1, degree=2, gamma=0.01, kernel=poly; total time=   0.0s\n",
      "[CV] END ..............C=1, degree=2, gamma=0.01, kernel=rbf; total time=   0.0s\n",
      "[CV] END ............C=1, degree=2, gamma=0.1, kernel=linear; total time=   0.0s\n",
      "[CV] END .............C=1, degree=2, gamma=0.01, kernel=poly; total time=   0.0s\n",
      "[CV] END ..............C=1, degree=2, gamma=0.01, kernel=rbf; total time=   0.0s\n",
      "[CV] END ..............C=1, degree=2, gamma=0.1, kernel=poly; total time=   0.0s\n",
      "[CV] END ...............C=1, degree=2, gamma=0.1, kernel=rbf; total time=   0.0s\n",
      "[CV] END ..............C=1, degree=2, gamma=0.1, kernel=poly; total time=   0.0s\n",
      "[CV] END ..............C=1, degree=2, gamma=0.01, kernel=rbf; total time=   0.0s\n",
      "[CV] END ...............C=1, degree=2, gamma=0.1, kernel=rbf; total time=   0.0s\n",
      "[CV] END ..............C=1, degree=2, gamma=0.1, kernel=poly; total time=   0.0s\n",
      "[CV] END ............C=1, degree=2, gamma=0.1, kernel=linear; total time=   0.0s\n",
      "[CV] END ...............C=1, degree=2, gamma=0.1, kernel=rbf; total time=   0.0s\n",
      "[CV] END .............C=0.01, degree=4, gamma=1, kernel=poly; total time=   1.7s\n",
      "[CV] END ..............C=1, degree=2, gamma=0.1, kernel=poly; total time=   0.0s\n",
      "[CV] END ............C=1, degree=2, gamma=0.1, kernel=linear; total time=   0.1s\n",
      "[CV] END ...............C=1, degree=2, gamma=0.1, kernel=rbf; total time=   0.0s\n",
      "[CV] END ..............C=1, degree=2, gamma=0.1, kernel=poly; total time=   0.0s\n",
      "[CV] END ..............C=1, degree=2, gamma=1, kernel=linear; total time=   0.0s\n",
      "[CV] END ...............C=1, degree=2, gamma=0.1, kernel=rbf; total time=   0.0s\n",
      "[CV] END .................C=1, degree=2, gamma=1, kernel=rbf; total time=   0.1s\n",
      "[CV] END ..............C=1, degree=2, gamma=1, kernel=linear; total time=   0.0s\n",
      "[CV] END ..............C=1, degree=2, gamma=1, kernel=linear; total time=   0.0s\n",
      "[CV] END .................C=1, degree=2, gamma=1, kernel=rbf; total time=   0.1s\n",
      "[CV] END ..............C=1, degree=2, gamma=1, kernel=linear; total time=   0.0s\n",
      "[CV] END ..............C=1, degree=2, gamma=1, kernel=linear; total time=   0.0s\n",
      "[CV] END .............C=0.01, degree=4, gamma=1, kernel=poly; total time=   1.9s\n",
      "[CV] END .................C=1, degree=2, gamma=1, kernel=rbf; total time=   0.0s\n",
      "[CV] END .............C=1, degree=2, gamma=10, kernel=linear; total time=   0.0s\n",
      "[CV] END .................C=1, degree=2, gamma=1, kernel=rbf; total time=   0.1s\n",
      "[CV] END .............C=0.1, degree=2, gamma=10, kernel=poly; total time=   1.8s\n",
      "[CV] END .............C=1, degree=2, gamma=10, kernel=linear; total time=   0.0s\n"
     ]
    },
    {
     "name": "stderr",
     "output_type": "stream",
     "text": [
      "/home/gian/anaconda3/lib/python3.12/site-packages/sklearn/svm/_base.py:297: ConvergenceWarning: Solver terminated early (max_iter=1000000).  Consider pre-processing your data with StandardScaler or MinMaxScaler.\n",
      "  warnings.warn(\n",
      "/home/gian/anaconda3/lib/python3.12/site-packages/sklearn/svm/_base.py:297: ConvergenceWarning: Solver terminated early (max_iter=1000000).  Consider pre-processing your data with StandardScaler or MinMaxScaler.\n",
      "  warnings.warn(\n"
     ]
    },
    {
     "name": "stdout",
     "output_type": "stream",
     "text": [
      "[CV] END .............C=1, degree=2, gamma=10, kernel=linear; total time=   0.0s\n",
      "[CV] END ..............C=0.1, degree=2, gamma=10, kernel=rbf; total time=   0.0s\n",
      "[CV] END .............C=1, degree=2, gamma=10, kernel=linear; total time=   0.0s\n",
      "[CV] END .............C=0.1, degree=2, gamma=10, kernel=poly; total time=   1.9s\n",
      "[CV] END ..............C=0.1, degree=2, gamma=10, kernel=rbf; total time=   0.0s\n",
      "[CV] END .............C=1, degree=2, gamma=10, kernel=linear; total time=   0.0s\n",
      "[CV] END ..............C=0.1, degree=2, gamma=10, kernel=rbf; total time=   0.0s\n",
      "[CV] END ............C=1, degree=3, gamma=0.001, kernel=poly; total time=   0.0s\n",
      "[CV] END ................C=1, degree=2, gamma=1, kernel=poly; total time=   0.4s\n",
      "[CV] END ............C=1, degree=3, gamma=0.001, kernel=poly; total time=   0.0s\n",
      "[CV] END ............C=1, degree=3, gamma=0.001, kernel=poly; total time=   0.0s\n",
      "[CV] END ................C=1, degree=2, gamma=10, kernel=rbf; total time=   0.1s\n",
      "[CV] END ............C=1, degree=3, gamma=0.001, kernel=poly; total time=   0.0s\n",
      "[CV] END ............C=1, degree=3, gamma=0.001, kernel=poly; total time=   0.0s\n",
      "[CV] END .............C=1, degree=3, gamma=0.001, kernel=rbf; total time=   0.0s\n",
      "[CV] END ................C=1, degree=2, gamma=10, kernel=rbf; total time=   0.1s\n",
      "[CV] END .............C=1, degree=3, gamma=0.001, kernel=rbf; total time=   0.0s\n",
      "[CV] END .............C=1, degree=3, gamma=0.001, kernel=rbf; total time=   0.0s\n",
      "[CV] END .............C=1, degree=3, gamma=0.001, kernel=rbf; total time=   0.0s\n",
      "[CV] END ................C=1, degree=2, gamma=10, kernel=rbf; total time=   0.1s\n",
      "[CV] END .............C=1, degree=3, gamma=0.001, kernel=rbf; total time=   0.0s\n",
      "[CV] END ................C=1, degree=2, gamma=1, kernel=poly; total time=   0.3s\n",
      "[CV] END ...........C=1, degree=3, gamma=0.01, kernel=linear; total time=   0.0s\n",
      "[CV] END ..........C=1, degree=3, gamma=0.001, kernel=linear; total time=   0.0s\n",
      "[CV] END ..............C=0.1, degree=3, gamma=1, kernel=poly; total time=   1.0s\n",
      "[CV] END ...........C=1, degree=3, gamma=0.01, kernel=linear; total time=   0.0s\n",
      "[CV] END ..........C=1, degree=3, gamma=0.001, kernel=linear; total time=   0.0s\n",
      "[CV] END ...........C=1, degree=3, gamma=0.01, kernel=linear; total time=   0.0s\n",
      "[CV] END ..........C=1, degree=3, gamma=0.001, kernel=linear; total time=   0.0s\n",
      "[CV] END ...........C=1, degree=3, gamma=0.01, kernel=linear; total time=   0.0s\n",
      "[CV] END ..........C=1, degree=3, gamma=0.001, kernel=linear; total time=   0.0s\n",
      "[CV] END ...........C=1, degree=3, gamma=0.01, kernel=linear; total time=   0.0s\n",
      "[CV] END .............C=1, degree=3, gamma=0.01, kernel=poly; total time=   0.0s\n",
      "[CV] END ..........C=1, degree=3, gamma=0.001, kernel=linear; total time=   0.1s\n",
      "[CV] END .............C=1, degree=3, gamma=0.01, kernel=poly; total time=   0.0s\n",
      "[CV] END .............C=1, degree=3, gamma=0.01, kernel=poly; total time=   0.0s\n",
      "[CV] END ..............C=1, degree=3, gamma=0.01, kernel=rbf; total time=   0.0s\n",
      "[CV] END .............C=1, degree=3, gamma=0.01, kernel=poly; total time=   0.0s\n",
      "[CV] END .............C=1, degree=3, gamma=0.01, kernel=poly; total time=   0.0s\n",
      "[CV] END ............C=1, degree=3, gamma=0.1, kernel=linear; total time=   0.1s\n",
      "[CV] END ..............C=1, degree=3, gamma=0.01, kernel=rbf; total time=   0.0s\n",
      "[CV] END ................C=1, degree=2, gamma=1, kernel=poly; total time=   0.3s\n",
      "[CV] END .............C=0.01, degree=4, gamma=1, kernel=poly; total time=   1.1s\n",
      "[CV] END ............C=1, degree=3, gamma=0.1, kernel=linear; total time=   0.0s\n",
      "[CV] END ..............C=1, degree=3, gamma=0.01, kernel=rbf; total time=   0.0s\n",
      "[CV] END ..............C=1, degree=3, gamma=0.1, kernel=poly; total time=   0.0s\n",
      "[CV] END ..............C=1, degree=3, gamma=0.01, kernel=rbf; total time=   0.0s\n",
      "[CV] END ............C=1, degree=3, gamma=0.1, kernel=linear; total time=   0.0s\n",
      "[CV] END ..............C=1, degree=3, gamma=0.01, kernel=rbf; total time=   0.0s\n",
      "[CV] END ..............C=1, degree=3, gamma=0.1, kernel=poly; total time=   0.1s\n",
      "[CV] END ............C=1, degree=3, gamma=0.1, kernel=linear; total time=   0.0s\n",
      "[CV] END ..............C=1, degree=3, gamma=1, kernel=linear; total time=   0.0s\n",
      "[CV] END ............C=1, degree=3, gamma=0.1, kernel=linear; total time=   0.0s\n",
      "[CV] END ..............C=1, degree=3, gamma=0.1, kernel=poly; total time=   0.0s\n",
      "[CV] END ..............C=1, degree=3, gamma=1, kernel=linear; total time=   0.0s\n",
      "[CV] END ...............C=1, degree=3, gamma=0.1, kernel=rbf; total time=   0.0s\n",
      "[CV] END ..............C=1, degree=3, gamma=0.1, kernel=poly; total time=   0.0s\n",
      "[CV] END ..............C=1, degree=3, gamma=1, kernel=linear; total time=   0.0s\n",
      "[CV] END ................C=1, degree=2, gamma=1, kernel=poly; total time=   0.2s\n",
      "[CV] END ..............C=1, degree=3, gamma=1, kernel=linear; total time=   0.0s\n",
      "[CV] END ...............C=1, degree=3, gamma=0.1, kernel=rbf; total time=   0.0s\n",
      "[CV] END ..............C=1, degree=3, gamma=0.1, kernel=poly; total time=   0.0s\n",
      "[CV] END ..............C=1, degree=3, gamma=1, kernel=linear; total time=   0.0s\n",
      "[CV] END ...............C=1, degree=3, gamma=0.1, kernel=rbf; total time=   0.0s\n",
      "[CV] END ...............C=1, degree=3, gamma=0.1, kernel=rbf; total time=   0.0s\n",
      "[CV] END ...............C=1, degree=3, gamma=0.1, kernel=rbf; total time=   0.0s\n",
      "[CV] END .............C=1, degree=3, gamma=10, kernel=linear; total time=   0.0s\n",
      "[CV] END .............C=1, degree=3, gamma=10, kernel=linear; total time=   0.0s\n",
      "[CV] END .............C=1, degree=3, gamma=10, kernel=linear; total time=   0.0s\n",
      "[CV] END .............C=1, degree=3, gamma=10, kernel=linear; total time=   0.0s\n",
      "[CV] END ................C=1, degree=2, gamma=1, kernel=poly; total time=   0.4s\n",
      "[CV] END ..............C=0.1, degree=3, gamma=1, kernel=poly; total time=   1.0s\n",
      "[CV] END .................C=1, degree=2, gamma=1, kernel=rbf; total time=   0.1s\n",
      "[CV] END .............C=0.01, degree=4, gamma=1, kernel=poly; total time=   1.9s\n",
      "[CV] END .............C=0.1, degree=2, gamma=10, kernel=poly; total time=   1.9s\n"
     ]
    },
    {
     "name": "stderr",
     "output_type": "stream",
     "text": [
      "/home/gian/anaconda3/lib/python3.12/site-packages/sklearn/svm/_base.py:297: ConvergenceWarning: Solver terminated early (max_iter=1000000).  Consider pre-processing your data with StandardScaler or MinMaxScaler.\n",
      "  warnings.warn(\n"
     ]
    },
    {
     "name": "stdout",
     "output_type": "stream",
     "text": [
      "[CV] END ..............C=0.1, degree=3, gamma=1, kernel=poly; total time=   1.3s\n",
      "[CV] END ..........C=1, degree=4, gamma=0.001, kernel=linear; total time=   0.0s\n",
      "[CV] END ..........C=1, degree=4, gamma=0.001, kernel=linear; total time=   0.0s\n",
      "[CV] END ..........C=1, degree=4, gamma=0.001, kernel=linear; total time=   0.0s\n",
      "[CV] END ............C=1, degree=4, gamma=0.001, kernel=poly; total time=   0.0s\n",
      "[CV] END ............C=1, degree=4, gamma=0.001, kernel=poly; total time=   0.0s\n",
      "[CV] END ............C=1, degree=4, gamma=0.001, kernel=poly; total time=   0.0s\n",
      "[CV] END ............C=1, degree=4, gamma=0.001, kernel=poly; total time=   0.0s\n",
      "[CV] END ............C=1, degree=4, gamma=0.001, kernel=poly; total time=   0.0s\n",
      "[CV] END .............C=1, degree=4, gamma=0.001, kernel=rbf; total time=   0.0s\n",
      "[CV] END .............C=1, degree=4, gamma=0.001, kernel=rbf; total time=   0.0s\n",
      "[CV] END .............C=1, degree=4, gamma=0.001, kernel=rbf; total time=   0.0s\n",
      "[CV] END .............C=1, degree=4, gamma=0.001, kernel=rbf; total time=   0.0s\n",
      "[CV] END .............C=1, degree=4, gamma=0.001, kernel=rbf; total time=   0.0s\n",
      "[CV] END ...........C=1, degree=4, gamma=0.01, kernel=linear; total time=   0.0s\n",
      "[CV] END ...........C=1, degree=4, gamma=0.01, kernel=linear; total time=   0.0s\n",
      "[CV] END ...........C=1, degree=4, gamma=0.01, kernel=linear; total time=   0.0s\n",
      "[CV] END ...........C=1, degree=4, gamma=0.01, kernel=linear; total time=   0.0s\n",
      "[CV] END ...........C=1, degree=4, gamma=0.01, kernel=linear; total time=   0.0s\n",
      "[CV] END .............C=1, degree=4, gamma=0.01, kernel=poly; total time=   0.0s\n",
      "[CV] END .............C=1, degree=4, gamma=0.01, kernel=poly; total time=   0.0s\n",
      "[CV] END .............C=1, degree=4, gamma=0.01, kernel=poly; total time=   0.0s\n",
      "[CV] END .............C=1, degree=4, gamma=0.01, kernel=poly; total time=   0.0s\n",
      "[CV] END .............C=1, degree=4, gamma=0.01, kernel=poly; total time=   0.0s\n",
      "[CV] END .............C=0.01, degree=4, gamma=1, kernel=poly; total time=   1.6s\n",
      "[CV] END ..............C=1, degree=4, gamma=0.01, kernel=rbf; total time=   0.0s\n",
      "[CV] END ..............C=1, degree=4, gamma=0.01, kernel=rbf; total time=   0.0s\n",
      "[CV] END ..............C=0.01, degree=4, gamma=1, kernel=rbf; total time=   0.0s\n",
      "[CV] END ..............C=1, degree=4, gamma=0.01, kernel=rbf; total time=   0.0s\n",
      "[CV] END ............C=1, degree=4, gamma=0.1, kernel=linear; total time=   0.0s\n",
      "[CV] END ..............C=1, degree=4, gamma=0.01, kernel=rbf; total time=   0.0s\n",
      "[CV] END ..............C=1, degree=4, gamma=0.01, kernel=rbf; total time=   0.0s\n",
      "[CV] END ..............C=1, degree=4, gamma=0.1, kernel=poly; total time=   0.1s\n",
      "[CV] END ............C=1, degree=4, gamma=0.1, kernel=linear; total time=   0.0s\n",
      "[CV] END ............C=1, degree=4, gamma=0.1, kernel=linear; total time=   0.0s\n",
      "[CV] END ..............C=1, degree=4, gamma=0.1, kernel=poly; total time=   0.1s\n",
      "[CV] END ............C=1, degree=4, gamma=0.1, kernel=linear; total time=   0.0s\n",
      "[CV] END ............C=1, degree=4, gamma=0.1, kernel=linear; total time=   0.0s\n",
      "[CV] END ..............C=1, degree=4, gamma=0.1, kernel=poly; total time=   0.1s\n",
      "[CV] END ...............C=1, degree=4, gamma=0.1, kernel=rbf; total time=   0.0s\n",
      "[CV] END ...............C=1, degree=4, gamma=0.1, kernel=rbf; total time=   0.0s\n",
      "[CV] END ...............C=1, degree=4, gamma=0.1, kernel=rbf; total time=   0.0s\n",
      "[CV] END ..............C=1, degree=4, gamma=0.1, kernel=poly; total time=   0.1s\n",
      "[CV] END ..............C=1, degree=4, gamma=1, kernel=linear; total time=   0.0s\n",
      "[CV] END .............C=0.1, degree=2, gamma=10, kernel=poly; total time=   1.9s\n",
      "[CV] END ..............C=0.1, degree=4, gamma=1, kernel=poly; total time=   5.1s\n",
      "[CV] END ..............C=1, degree=4, gamma=1, kernel=linear; total time=   0.0s\n",
      "[CV] END ..............C=1, degree=4, gamma=0.1, kernel=poly; total time=   0.1s\n",
      "[CV] END ..............C=1, degree=4, gamma=1, kernel=linear; total time=   0.0s\n",
      "[CV] END ...............C=1, degree=4, gamma=0.1, kernel=rbf; total time=   0.0s\n",
      "[CV] END ..............C=1, degree=4, gamma=1, kernel=linear; total time=   0.0s\n",
      "[CV] END ..............C=0.1, degree=4, gamma=1, kernel=poly; total time=   5.1s\n",
      "[CV] END ...............C=1, degree=4, gamma=0.1, kernel=rbf; total time=   0.0s\n",
      "[CV] END ..............C=1, degree=4, gamma=1, kernel=linear; total time=   0.0s\n"
     ]
    },
    {
     "name": "stderr",
     "output_type": "stream",
     "text": [
      "/home/gian/anaconda3/lib/python3.12/site-packages/sklearn/svm/_base.py:297: ConvergenceWarning: Solver terminated early (max_iter=1000000).  Consider pre-processing your data with StandardScaler or MinMaxScaler.\n",
      "  warnings.warn(\n",
      "/home/gian/anaconda3/lib/python3.12/site-packages/sklearn/svm/_base.py:297: ConvergenceWarning: Solver terminated early (max_iter=1000000).  Consider pre-processing your data with StandardScaler or MinMaxScaler.\n",
      "  warnings.warn(\n",
      "/home/gian/anaconda3/lib/python3.12/site-packages/sklearn/svm/_base.py:297: ConvergenceWarning: Solver terminated early (max_iter=1000000).  Consider pre-processing your data with StandardScaler or MinMaxScaler.\n",
      "  warnings.warn(\n"
     ]
    },
    {
     "name": "stdout",
     "output_type": "stream",
     "text": [
      "[CV] END .................C=1, degree=4, gamma=1, kernel=rbf; total time=   0.1s\n",
      "[CV] END .................C=1, degree=4, gamma=1, kernel=rbf; total time=   0.1s\n",
      "[CV] END ................C=1, degree=3, gamma=1, kernel=poly; total time=   3.1s\n",
      "[CV] END .............C=1, degree=4, gamma=10, kernel=linear; total time=   0.0s\n",
      "[CV] END .............C=1, degree=4, gamma=10, kernel=linear; total time=   0.0s\n",
      "[CV] END .............C=1, degree=4, gamma=10, kernel=linear; total time=   0.0s\n"
     ]
    },
    {
     "name": "stderr",
     "output_type": "stream",
     "text": [
      "/home/gian/anaconda3/lib/python3.12/site-packages/sklearn/svm/_base.py:297: ConvergenceWarning: Solver terminated early (max_iter=1000000).  Consider pre-processing your data with StandardScaler or MinMaxScaler.\n",
      "  warnings.warn(\n"
     ]
    },
    {
     "name": "stdout",
     "output_type": "stream",
     "text": [
      "[CV] END .............C=1, degree=4, gamma=10, kernel=linear; total time=   0.0s\n",
      "[CV] END .............C=1, degree=4, gamma=10, kernel=linear; total time=   0.0s\n"
     ]
    },
    {
     "name": "stderr",
     "output_type": "stream",
     "text": [
      "/home/gian/anaconda3/lib/python3.12/site-packages/sklearn/svm/_base.py:297: ConvergenceWarning: Solver terminated early (max_iter=1000000).  Consider pre-processing your data with StandardScaler or MinMaxScaler.\n",
      "  warnings.warn(\n"
     ]
    },
    {
     "name": "stdout",
     "output_type": "stream",
     "text": [
      "[CV] END ................C=1, degree=3, gamma=1, kernel=poly; total time=   3.6s\n"
     ]
    },
    {
     "name": "stderr",
     "output_type": "stream",
     "text": [
      "/home/gian/anaconda3/lib/python3.12/site-packages/sklearn/svm/_base.py:297: ConvergenceWarning: Solver terminated early (max_iter=1000000).  Consider pre-processing your data with StandardScaler or MinMaxScaler.\n",
      "  warnings.warn(\n",
      "/home/gian/anaconda3/lib/python3.12/site-packages/sklearn/svm/_base.py:297: ConvergenceWarning: Solver terminated early (max_iter=1000000).  Consider pre-processing your data with StandardScaler or MinMaxScaler.\n",
      "  warnings.warn(\n",
      "/home/gian/anaconda3/lib/python3.12/site-packages/sklearn/svm/_base.py:297: ConvergenceWarning: Solver terminated early (max_iter=1000000).  Consider pre-processing your data with StandardScaler or MinMaxScaler.\n",
      "  warnings.warn(\n"
     ]
    },
    {
     "name": "stdout",
     "output_type": "stream",
     "text": [
      "[CV] END ............C=0.01, degree=3, gamma=10, kernel=poly; total time=   7.7s\n",
      "[CV] END .............C=0.01, degree=3, gamma=10, kernel=rbf; total time=   0.0s\n",
      "[CV] END ................C=1, degree=4, gamma=10, kernel=rbf; total time=   0.0s\n",
      "[CV] END ............C=0.01, degree=3, gamma=10, kernel=poly; total time=   7.8s\n",
      "[CV] END ............C=0.01, degree=3, gamma=10, kernel=poly; total time=   7.8s\n",
      "[CV] END .........C=10, degree=2, gamma=0.001, kernel=linear; total time=   0.2s\n",
      "[CV] END .............C=0.1, degree=2, gamma=10, kernel=poly; total time=   2.0s\n",
      "[CV] END ...........C=10, degree=2, gamma=0.001, kernel=poly; total time=   0.0s\n",
      "[CV] END ...........C=10, degree=2, gamma=0.001, kernel=poly; total time=   0.0s\n",
      "[CV] END ...........C=10, degree=2, gamma=0.001, kernel=poly; total time=   0.0s\n",
      "[CV] END ............C=10, degree=2, gamma=0.001, kernel=rbf; total time=   0.0s\n",
      "[CV] END .........C=10, degree=2, gamma=0.001, kernel=linear; total time=   0.1s\n",
      "[CV] END ............C=10, degree=2, gamma=0.001, kernel=rbf; total time=   0.0s\n",
      "[CV] END ............C=10, degree=2, gamma=0.001, kernel=rbf; total time=   0.0s\n"
     ]
    },
    {
     "name": "stderr",
     "output_type": "stream",
     "text": [
      "/home/gian/anaconda3/lib/python3.12/site-packages/sklearn/svm/_base.py:297: ConvergenceWarning: Solver terminated early (max_iter=1000000).  Consider pre-processing your data with StandardScaler or MinMaxScaler.\n",
      "  warnings.warn(\n"
     ]
    },
    {
     "name": "stdout",
     "output_type": "stream",
     "text": [
      "[CV] END ............C=10, degree=2, gamma=0.001, kernel=rbf; total time=   0.0s\n",
      "[CV] END ............C=10, degree=2, gamma=0.001, kernel=rbf; total time=   0.0s\n",
      "[CV] END .........C=10, degree=2, gamma=0.001, kernel=linear; total time=   0.2s\n",
      "[CV] END ..........C=10, degree=2, gamma=0.01, kernel=linear; total time=   0.2s\n",
      "[CV] END .........C=10, degree=2, gamma=0.001, kernel=linear; total time=   0.2s\n",
      "[CV] END ..........C=10, degree=2, gamma=0.01, kernel=linear; total time=   0.1s\n",
      "[CV] END .........C=10, degree=2, gamma=0.001, kernel=linear; total time=   0.2s\n",
      "[CV] END ...........C=10, degree=2, gamma=0.001, kernel=poly; total time=   0.0s\n",
      "[CV] END ...........C=10, degree=2, gamma=0.001, kernel=poly; total time=   0.0s\n",
      "[CV] END ............C=10, degree=2, gamma=0.01, kernel=poly; total time=   0.0s\n",
      "[CV] END ..........C=10, degree=2, gamma=0.01, kernel=linear; total time=   0.2s\n",
      "[CV] END ............C=10, degree=2, gamma=0.01, kernel=poly; total time=   0.0s\n",
      "[CV] END .............C=10, degree=2, gamma=0.01, kernel=rbf; total time=   0.0s\n",
      "[CV] END .............C=10, degree=2, gamma=0.01, kernel=rbf; total time=   0.0s\n",
      "[CV] END .............C=10, degree=2, gamma=0.01, kernel=rbf; total time=   0.0s\n",
      "[CV] END .............C=10, degree=2, gamma=0.01, kernel=rbf; total time=   0.0s\n",
      "[CV] END ..........C=10, degree=2, gamma=0.01, kernel=linear; total time=   0.2s\n",
      "[CV] END .............C=10, degree=2, gamma=0.01, kernel=rbf; total time=   0.0s\n",
      "[CV] END ..........C=10, degree=2, gamma=0.01, kernel=linear; total time=   0.2s\n",
      "[CV] END ............C=10, degree=2, gamma=0.01, kernel=poly; total time=   0.0s\n",
      "[CV] END ...........C=10, degree=2, gamma=0.1, kernel=linear; total time=   0.2s\n",
      "[CV] END ............C=10, degree=2, gamma=0.01, kernel=poly; total time=   0.0s\n",
      "[CV] END ...............C=1, degree=2, gamma=10, kernel=poly; total time=   7.2s\n",
      "[CV] END ............C=10, degree=2, gamma=0.01, kernel=poly; total time=   0.0s\n",
      "[CV] END .............C=10, degree=2, gamma=0.1, kernel=poly; total time=   0.1s\n",
      "[CV] END ..............C=10, degree=2, gamma=0.1, kernel=rbf; total time=   0.0s\n",
      "[CV] END ...........C=10, degree=2, gamma=0.1, kernel=linear; total time=   0.1s\n"
     ]
    },
    {
     "name": "stderr",
     "output_type": "stream",
     "text": [
      "/home/gian/anaconda3/lib/python3.12/site-packages/sklearn/svm/_base.py:297: ConvergenceWarning: Solver terminated early (max_iter=1000000).  Consider pre-processing your data with StandardScaler or MinMaxScaler.\n",
      "  warnings.warn(\n"
     ]
    },
    {
     "name": "stdout",
     "output_type": "stream",
     "text": [
      "[CV] END ..............C=10, degree=2, gamma=0.1, kernel=rbf; total time=   0.1s\n",
      "[CV] END ..............C=10, degree=2, gamma=0.1, kernel=rbf; total time=   0.0s\n",
      "[CV] END ..............C=10, degree=2, gamma=0.1, kernel=rbf; total time=   0.1s\n",
      "[CV] END ..............C=10, degree=2, gamma=0.1, kernel=rbf; total time=   0.0s\n",
      "[CV] END ...........C=10, degree=2, gamma=0.1, kernel=linear; total time=   0.2s\n",
      "[CV] END .............C=10, degree=2, gamma=1, kernel=linear; total time=   0.2s\n",
      "[CV] END ...........C=10, degree=2, gamma=0.1, kernel=linear; total time=   0.2s\n",
      "[CV] END .............C=10, degree=2, gamma=1, kernel=linear; total time=   0.1s\n",
      "[CV] END ...........C=10, degree=2, gamma=0.1, kernel=linear; total time=   0.2s\n",
      "[CV] END .............C=10, degree=2, gamma=0.1, kernel=poly; total time=   0.1s\n",
      "[CV] END .............C=10, degree=2, gamma=1, kernel=linear; total time=   0.2s\n",
      "[CV] END .............C=10, degree=2, gamma=0.1, kernel=poly; total time=   0.1s\n",
      "[CV] END ................C=1, degree=3, gamma=1, kernel=poly; total time=   3.9s\n",
      "[CV] END .............C=10, degree=2, gamma=0.1, kernel=poly; total time=   0.1s\n"
     ]
    },
    {
     "name": "stderr",
     "output_type": "stream",
     "text": [
      "/home/gian/anaconda3/lib/python3.12/site-packages/sklearn/svm/_base.py:297: ConvergenceWarning: Solver terminated early (max_iter=1000000).  Consider pre-processing your data with StandardScaler or MinMaxScaler.\n",
      "  warnings.warn(\n"
     ]
    },
    {
     "name": "stdout",
     "output_type": "stream",
     "text": [
      "[CV] END .............C=10, degree=2, gamma=0.1, kernel=poly; total time=   0.0s\n",
      "[CV] END ................C=10, degree=2, gamma=1, kernel=rbf; total time=   0.0s\n",
      "[CV] END .............C=10, degree=2, gamma=1, kernel=linear; total time=   0.2s\n",
      "[CV] END ................C=10, degree=2, gamma=1, kernel=rbf; total time=   0.1s\n",
      "[CV] END ................C=10, degree=2, gamma=1, kernel=rbf; total time=   0.0s\n",
      "[CV] END ............C=0.01, degree=4, gamma=10, kernel=poly; total time=  10.2s\n",
      "[CV] END ................C=10, degree=2, gamma=1, kernel=rbf; total time=   0.1s\n"
     ]
    },
    {
     "name": "stderr",
     "output_type": "stream",
     "text": [
      "/home/gian/anaconda3/lib/python3.12/site-packages/sklearn/svm/_base.py:297: ConvergenceWarning: Solver terminated early (max_iter=1000000).  Consider pre-processing your data with StandardScaler or MinMaxScaler.\n",
      "  warnings.warn(\n",
      "/home/gian/anaconda3/lib/python3.12/site-packages/sklearn/svm/_base.py:297: ConvergenceWarning: Solver terminated early (max_iter=1000000).  Consider pre-processing your data with StandardScaler or MinMaxScaler.\n",
      "  warnings.warn(\n"
     ]
    },
    {
     "name": "stdout",
     "output_type": "stream",
     "text": [
      "[CV] END ................C=1, degree=3, gamma=1, kernel=poly; total time=   3.7s\n",
      "[CV] END ................C=10, degree=2, gamma=1, kernel=rbf; total time=   0.0s\n",
      "[CV] END .............C=10, degree=2, gamma=1, kernel=linear; total time=   0.2s\n",
      "[CV] END .................C=1, degree=3, gamma=1, kernel=rbf; total time=   0.1s\n",
      "[CV] END .................C=1, degree=3, gamma=1, kernel=rbf; total time=   0.1s\n",
      "[CV] END .................C=1, degree=3, gamma=1, kernel=rbf; total time=   0.1s\n",
      "[CV] END ............C=10, degree=2, gamma=10, kernel=linear; total time=   0.2s\n",
      "[CV] END .................C=1, degree=3, gamma=1, kernel=rbf; total time=   0.1s\n",
      "[CV] END ............C=0.01, degree=4, gamma=10, kernel=poly; total time=  10.5s\n",
      "[CV] END .................C=1, degree=3, gamma=1, kernel=rbf; total time=   0.1s\n",
      "[CV] END ............C=10, degree=2, gamma=10, kernel=linear; total time=   0.1s\n",
      "[CV] END .............C=1, degree=3, gamma=10, kernel=linear; total time=   0.0s\n"
     ]
    },
    {
     "name": "stderr",
     "output_type": "stream",
     "text": [
      "/home/gian/anaconda3/lib/python3.12/site-packages/sklearn/svm/_base.py:297: ConvergenceWarning: Solver terminated early (max_iter=1000000).  Consider pre-processing your data with StandardScaler or MinMaxScaler.\n",
      "  warnings.warn(\n",
      "/home/gian/anaconda3/lib/python3.12/site-packages/sklearn/svm/_base.py:297: ConvergenceWarning: Solver terminated early (max_iter=1000000).  Consider pre-processing your data with StandardScaler or MinMaxScaler.\n",
      "  warnings.warn(\n"
     ]
    },
    {
     "name": "stdout",
     "output_type": "stream",
     "text": [
      "[CV] END .............C=0.1, degree=3, gamma=10, kernel=poly; total time=  10.2s\n",
      "[CV] END ............C=10, degree=2, gamma=10, kernel=linear; total time=   0.2s\n",
      "[CV] END ............C=10, degree=2, gamma=10, kernel=linear; total time=   0.3s\n",
      "[CV] END ............C=10, degree=2, gamma=10, kernel=linear; total time=   0.2s\n"
     ]
    },
    {
     "name": "stderr",
     "output_type": "stream",
     "text": [
      "/home/gian/anaconda3/lib/python3.12/site-packages/sklearn/svm/_base.py:297: ConvergenceWarning: Solver terminated early (max_iter=1000000).  Consider pre-processing your data with StandardScaler or MinMaxScaler.\n",
      "  warnings.warn(\n"
     ]
    },
    {
     "name": "stdout",
     "output_type": "stream",
     "text": [
      "[CV] END ..............C=0.1, degree=4, gamma=1, kernel=poly; total time=   5.5s\n"
     ]
    },
    {
     "name": "stderr",
     "output_type": "stream",
     "text": [
      "/home/gian/anaconda3/lib/python3.12/site-packages/sklearn/svm/_base.py:297: ConvergenceWarning: Solver terminated early (max_iter=1000000).  Consider pre-processing your data with StandardScaler or MinMaxScaler.\n",
      "  warnings.warn(\n"
     ]
    },
    {
     "name": "stdout",
     "output_type": "stream",
     "text": [
      "[CV] END .............C=0.1, degree=4, gamma=10, kernel=poly; total time=  10.7s\n"
     ]
    },
    {
     "name": "stderr",
     "output_type": "stream",
     "text": [
      "/home/gian/anaconda3/lib/python3.12/site-packages/sklearn/svm/_base.py:297: ConvergenceWarning: Solver terminated early (max_iter=1000000).  Consider pre-processing your data with StandardScaler or MinMaxScaler.\n",
      "  warnings.warn(\n",
      "/home/gian/anaconda3/lib/python3.12/site-packages/sklearn/svm/_base.py:297: ConvergenceWarning: Solver terminated early (max_iter=1000000).  Consider pre-processing your data with StandardScaler or MinMaxScaler.\n",
      "  warnings.warn(\n"
     ]
    },
    {
     "name": "stdout",
     "output_type": "stream",
     "text": [
      "[CV] END .............C=0.1, degree=4, gamma=10, kernel=poly; total time=  11.4s\n",
      "[CV] END ...............C=10, degree=2, gamma=1, kernel=poly; total time=   2.1s\n"
     ]
    },
    {
     "name": "stderr",
     "output_type": "stream",
     "text": [
      "/home/gian/anaconda3/lib/python3.12/site-packages/sklearn/svm/_base.py:297: ConvergenceWarning: Solver terminated early (max_iter=1000000).  Consider pre-processing your data with StandardScaler or MinMaxScaler.\n",
      "  warnings.warn(\n",
      "/home/gian/anaconda3/lib/python3.12/site-packages/sklearn/svm/_base.py:297: ConvergenceWarning: Solver terminated early (max_iter=1000000).  Consider pre-processing your data with StandardScaler or MinMaxScaler.\n",
      "  warnings.warn(\n"
     ]
    },
    {
     "name": "stdout",
     "output_type": "stream",
     "text": [
      "[CV] END ................C=1, degree=4, gamma=1, kernel=poly; total time=   8.2s\n",
      "[CV] END ...............C=1, degree=3, gamma=10, kernel=poly; total time=  11.0s\n"
     ]
    },
    {
     "name": "stderr",
     "output_type": "stream",
     "text": [
      "/home/gian/anaconda3/lib/python3.12/site-packages/sklearn/svm/_base.py:297: ConvergenceWarning: Solver terminated early (max_iter=1000000).  Consider pre-processing your data with StandardScaler or MinMaxScaler.\n",
      "  warnings.warn(\n",
      "/home/gian/anaconda3/lib/python3.12/site-packages/sklearn/svm/_base.py:297: ConvergenceWarning: Solver terminated early (max_iter=1000000).  Consider pre-processing your data with StandardScaler or MinMaxScaler.\n",
      "  warnings.warn(\n"
     ]
    },
    {
     "name": "stdout",
     "output_type": "stream",
     "text": [
      "[CV] END ...............C=10, degree=2, gamma=1, kernel=poly; total time=   2.0s\n",
      "[CV] END ...............C=1, degree=3, gamma=10, kernel=poly; total time=  11.1s\n",
      "[CV] END ................C=1, degree=3, gamma=10, kernel=rbf; total time=   0.1s\n",
      "[CV] END ................C=1, degree=3, gamma=10, kernel=rbf; total time=   0.1s\n",
      "[CV] END ................C=1, degree=3, gamma=10, kernel=rbf; total time=   0.1s\n",
      "[CV] END ................C=1, degree=3, gamma=10, kernel=rbf; total time=   0.1s\n"
     ]
    },
    {
     "name": "stderr",
     "output_type": "stream",
     "text": [
      "/home/gian/anaconda3/lib/python3.12/site-packages/sklearn/svm/_base.py:297: ConvergenceWarning: Solver terminated early (max_iter=1000000).  Consider pre-processing your data with StandardScaler or MinMaxScaler.\n",
      "  warnings.warn(\n"
     ]
    },
    {
     "name": "stdout",
     "output_type": "stream",
     "text": [
      "[CV] END ................C=1, degree=3, gamma=10, kernel=rbf; total time=   0.1s\n",
      "[CV] END ................C=1, degree=3, gamma=1, kernel=poly; total time=   5.0s\n",
      "[CV] END ..........C=1, degree=4, gamma=0.001, kernel=linear; total time=   0.0s\n",
      "[CV] END ..........C=1, degree=4, gamma=0.001, kernel=linear; total time=   0.0s\n"
     ]
    },
    {
     "name": "stderr",
     "output_type": "stream",
     "text": [
      "/home/gian/anaconda3/lib/python3.12/site-packages/sklearn/svm/_base.py:297: ConvergenceWarning: Solver terminated early (max_iter=1000000).  Consider pre-processing your data with StandardScaler or MinMaxScaler.\n",
      "  warnings.warn(\n"
     ]
    },
    {
     "name": "stdout",
     "output_type": "stream",
     "text": [
      "[CV] END ............C=0.01, degree=3, gamma=10, kernel=poly; total time=   7.6s\n"
     ]
    },
    {
     "name": "stderr",
     "output_type": "stream",
     "text": [
      "/home/gian/anaconda3/lib/python3.12/site-packages/sklearn/svm/_base.py:297: ConvergenceWarning: Solver terminated early (max_iter=1000000).  Consider pre-processing your data with StandardScaler or MinMaxScaler.\n",
      "  warnings.warn(\n"
     ]
    },
    {
     "name": "stdout",
     "output_type": "stream",
     "text": [
      "[CV] END ............C=0.01, degree=3, gamma=10, kernel=poly; total time=   7.9s\n",
      "[CV] END ...............C=10, degree=2, gamma=10, kernel=rbf; total time=   0.1s\n",
      "[CV] END ...............C=10, degree=2, gamma=10, kernel=rbf; total time=   0.1s\n",
      "[CV] END ...............C=1, degree=2, gamma=10, kernel=poly; total time=   6.9s\n",
      "[CV] END ...............C=10, degree=2, gamma=10, kernel=rbf; total time=   0.2s\n"
     ]
    },
    {
     "name": "stderr",
     "output_type": "stream",
     "text": [
      "/home/gian/anaconda3/lib/python3.12/site-packages/sklearn/svm/_base.py:297: ConvergenceWarning: Solver terminated early (max_iter=1000000).  Consider pre-processing your data with StandardScaler or MinMaxScaler.\n",
      "  warnings.warn(\n"
     ]
    },
    {
     "name": "stdout",
     "output_type": "stream",
     "text": [
      "[CV] END ...............C=10, degree=2, gamma=10, kernel=rbf; total time=   0.1s\n",
      "[CV] END ...............C=10, degree=2, gamma=10, kernel=rbf; total time=   0.1s\n",
      "[CV] END ..............C=0.1, degree=4, gamma=1, kernel=poly; total time=   5.0s\n"
     ]
    },
    {
     "name": "stderr",
     "output_type": "stream",
     "text": [
      "/home/gian/anaconda3/lib/python3.12/site-packages/sklearn/svm/_base.py:297: ConvergenceWarning: Solver terminated early (max_iter=1000000).  Consider pre-processing your data with StandardScaler or MinMaxScaler.\n",
      "  warnings.warn(\n",
      "/home/gian/anaconda3/lib/python3.12/site-packages/sklearn/svm/_base.py:297: ConvergenceWarning: Solver terminated early (max_iter=1000000).  Consider pre-processing your data with StandardScaler or MinMaxScaler.\n",
      "  warnings.warn(\n"
     ]
    },
    {
     "name": "stdout",
     "output_type": "stream",
     "text": [
      "[CV] END ...............C=10, degree=2, gamma=1, kernel=poly; total time=   2.0s\n",
      "[CV] END .........C=10, degree=3, gamma=0.001, kernel=linear; total time=   0.2s\n",
      "[CV] END .........C=10, degree=3, gamma=0.001, kernel=linear; total time=   0.1s\n",
      "[CV] END .........C=10, degree=3, gamma=0.001, kernel=linear; total time=   0.2s\n",
      "[CV] END ...............C=1, degree=4, gamma=10, kernel=poly; total time=  10.8s\n",
      "[CV] END .........C=10, degree=3, gamma=0.001, kernel=linear; total time=   0.2s\n"
     ]
    },
    {
     "name": "stderr",
     "output_type": "stream",
     "text": [
      "/home/gian/anaconda3/lib/python3.12/site-packages/sklearn/svm/_base.py:297: ConvergenceWarning: Solver terminated early (max_iter=1000000).  Consider pre-processing your data with StandardScaler or MinMaxScaler.\n",
      "  warnings.warn(\n"
     ]
    },
    {
     "name": "stdout",
     "output_type": "stream",
     "text": [
      "[CV] END .........C=10, degree=3, gamma=0.001, kernel=linear; total time=   0.2s\n",
      "[CV] END ...........C=10, degree=3, gamma=0.001, kernel=poly; total time=   0.0s\n",
      "[CV] END ...........C=10, degree=3, gamma=0.001, kernel=poly; total time=   0.0s\n",
      "[CV] END ...........C=10, degree=3, gamma=0.001, kernel=poly; total time=   0.0s\n",
      "[CV] END ...........C=10, degree=3, gamma=0.001, kernel=poly; total time=   0.0s\n",
      "[CV] END ...........C=10, degree=3, gamma=0.001, kernel=poly; total time=   0.0s\n",
      "[CV] END ............C=10, degree=3, gamma=0.001, kernel=rbf; total time=   0.0s\n",
      "[CV] END ...............C=1, degree=4, gamma=10, kernel=poly; total time=  10.9s\n",
      "[CV] END ............C=10, degree=3, gamma=0.001, kernel=rbf; total time=   0.0s\n"
     ]
    },
    {
     "name": "stderr",
     "output_type": "stream",
     "text": [
      "/home/gian/anaconda3/lib/python3.12/site-packages/sklearn/svm/_base.py:297: ConvergenceWarning: Solver terminated early (max_iter=1000000).  Consider pre-processing your data with StandardScaler or MinMaxScaler.\n",
      "  warnings.warn(\n"
     ]
    },
    {
     "name": "stdout",
     "output_type": "stream",
     "text": [
      "[CV] END ............C=10, degree=3, gamma=0.001, kernel=rbf; total time=   0.0s\n",
      "[CV] END ............C=10, degree=3, gamma=0.001, kernel=rbf; total time=   0.0s\n",
      "[CV] END ............C=10, degree=3, gamma=0.001, kernel=rbf; total time=   0.0s\n",
      "[CV] END ..........C=10, degree=3, gamma=0.01, kernel=linear; total time=   0.1s\n",
      "[CV] END ..........C=10, degree=3, gamma=0.01, kernel=linear; total time=   0.2s\n",
      "[CV] END ..........C=10, degree=3, gamma=0.01, kernel=linear; total time=   0.1s\n",
      "[CV] END ..........C=10, degree=3, gamma=0.01, kernel=linear; total time=   0.2s\n",
      "[CV] END ............C=10, degree=3, gamma=0.01, kernel=poly; total time=   0.0s\n",
      "[CV] END ............C=10, degree=3, gamma=0.01, kernel=poly; total time=   0.0s\n",
      "[CV] END ............C=10, degree=3, gamma=0.01, kernel=poly; total time=   0.0s\n",
      "[CV] END ..........C=10, degree=3, gamma=0.01, kernel=linear; total time=   0.2s\n",
      "[CV] END ............C=10, degree=3, gamma=0.01, kernel=poly; total time=   0.0s\n",
      "[CV] END ............C=10, degree=3, gamma=0.01, kernel=poly; total time=   0.0s\n",
      "[CV] END .............C=10, degree=3, gamma=0.01, kernel=rbf; total time=   0.0s\n",
      "[CV] END .............C=10, degree=3, gamma=0.01, kernel=rbf; total time=   0.0s\n",
      "[CV] END .............C=10, degree=3, gamma=0.01, kernel=rbf; total time=   0.0s\n",
      "[CV] END .............C=10, degree=3, gamma=0.01, kernel=rbf; total time=   0.0s\n",
      "[CV] END .............C=10, degree=3, gamma=0.01, kernel=rbf; total time=   0.0s\n",
      "[CV] END ...........C=10, degree=3, gamma=0.1, kernel=linear; total time=   0.1s\n",
      "[CV] END ...........C=10, degree=3, gamma=0.1, kernel=linear; total time=   0.1s\n",
      "[CV] END ...........C=10, degree=3, gamma=0.1, kernel=linear; total time=   0.2s\n",
      "[CV] END ...........C=10, degree=3, gamma=0.1, kernel=linear; total time=   0.2s\n",
      "[CV] END .............C=10, degree=3, gamma=0.1, kernel=poly; total time=   0.1s\n",
      "[CV] END ...........C=10, degree=3, gamma=0.1, kernel=linear; total time=   0.2s\n",
      "[CV] END .............C=10, degree=3, gamma=0.1, kernel=poly; total time=   0.1s\n",
      "[CV] END .............C=10, degree=3, gamma=0.1, kernel=poly; total time=   0.1s\n",
      "[CV] END .............C=10, degree=3, gamma=0.1, kernel=poly; total time=   0.1s\n",
      "[CV] END ..............C=10, degree=3, gamma=0.1, kernel=rbf; total time=   0.0s\n",
      "[CV] END ..............C=10, degree=3, gamma=0.1, kernel=rbf; total time=   0.0s\n",
      "[CV] END .............C=10, degree=3, gamma=0.1, kernel=poly; total time=   0.2s\n",
      "[CV] END ..............C=10, degree=3, gamma=0.1, kernel=rbf; total time=   0.0s\n",
      "[CV] END ..............C=10, degree=3, gamma=0.1, kernel=rbf; total time=   0.0s\n",
      "[CV] END ..............C=10, degree=3, gamma=0.1, kernel=rbf; total time=   0.0s\n",
      "[CV] END ...............C=10, degree=2, gamma=1, kernel=poly; total time=   2.3s\n",
      "[CV] END .............C=10, degree=3, gamma=1, kernel=linear; total time=   0.1s\n",
      "[CV] END .............C=10, degree=3, gamma=1, kernel=linear; total time=   0.1s\n"
     ]
    },
    {
     "name": "stderr",
     "output_type": "stream",
     "text": [
      "/home/gian/anaconda3/lib/python3.12/site-packages/sklearn/svm/_base.py:297: ConvergenceWarning: Solver terminated early (max_iter=1000000).  Consider pre-processing your data with StandardScaler or MinMaxScaler.\n",
      "  warnings.warn(\n"
     ]
    },
    {
     "name": "stdout",
     "output_type": "stream",
     "text": [
      "[CV] END .............C=10, degree=3, gamma=1, kernel=linear; total time=   0.2s\n",
      "[CV] END .............C=10, degree=3, gamma=1, kernel=linear; total time=   0.2s\n",
      "[CV] END .............C=10, degree=3, gamma=1, kernel=linear; total time=   0.1s\n"
     ]
    },
    {
     "name": "stderr",
     "output_type": "stream",
     "text": [
      "/home/gian/anaconda3/lib/python3.12/site-packages/sklearn/svm/_base.py:297: ConvergenceWarning: Solver terminated early (max_iter=1000000).  Consider pre-processing your data with StandardScaler or MinMaxScaler.\n",
      "  warnings.warn(\n"
     ]
    },
    {
     "name": "stdout",
     "output_type": "stream",
     "text": [
      "[CV] END ...............C=10, degree=2, gamma=1, kernel=poly; total time=   2.1s\n"
     ]
    },
    {
     "name": "stderr",
     "output_type": "stream",
     "text": [
      "/home/gian/anaconda3/lib/python3.12/site-packages/sklearn/svm/_base.py:297: ConvergenceWarning: Solver terminated early (max_iter=1000000).  Consider pre-processing your data with StandardScaler or MinMaxScaler.\n",
      "  warnings.warn(\n",
      "/home/gian/anaconda3/lib/python3.12/site-packages/sklearn/svm/_base.py:297: ConvergenceWarning: Solver terminated early (max_iter=1000000).  Consider pre-processing your data with StandardScaler or MinMaxScaler.\n",
      "  warnings.warn(\n"
     ]
    },
    {
     "name": "stdout",
     "output_type": "stream",
     "text": [
      "[CV] END ..............C=0.1, degree=4, gamma=1, kernel=poly; total time=   4.7s\n",
      "[CV] END ............C=0.01, degree=4, gamma=10, kernel=poly; total time=  10.5s\n",
      "[CV] END ...............C=0.1, degree=4, gamma=1, kernel=rbf; total time=   0.0s\n",
      "[CV] END ...............C=0.1, degree=4, gamma=1, kernel=rbf; total time=   0.0s\n",
      "[CV] END .............C=0.01, degree=4, gamma=10, kernel=rbf; total time=   0.0s\n",
      "[CV] END ...............C=0.1, degree=4, gamma=1, kernel=rbf; total time=   0.0s\n",
      "[CV] END .............C=0.01, degree=4, gamma=10, kernel=rbf; total time=   0.0s\n",
      "[CV] END ...............C=0.1, degree=4, gamma=1, kernel=rbf; total time=   0.0s\n"
     ]
    },
    {
     "name": "stderr",
     "output_type": "stream",
     "text": [
      "/home/gian/anaconda3/lib/python3.12/site-packages/sklearn/svm/_base.py:297: ConvergenceWarning: Solver terminated early (max_iter=1000000).  Consider pre-processing your data with StandardScaler or MinMaxScaler.\n",
      "  warnings.warn(\n",
      "/home/gian/anaconda3/lib/python3.12/site-packages/sklearn/svm/_base.py:297: ConvergenceWarning: Solver terminated early (max_iter=1000000).  Consider pre-processing your data with StandardScaler or MinMaxScaler.\n",
      "  warnings.warn(\n",
      "/home/gian/anaconda3/lib/python3.12/site-packages/sklearn/svm/_base.py:297: ConvergenceWarning: Solver terminated early (max_iter=1000000).  Consider pre-processing your data with StandardScaler or MinMaxScaler.\n",
      "  warnings.warn(\n"
     ]
    },
    {
     "name": "stdout",
     "output_type": "stream",
     "text": [
      "[CV] END ..............C=10, degree=2, gamma=10, kernel=poly; total time=  10.2s\n",
      "[CV] END ................C=10, degree=3, gamma=1, kernel=rbf; total time=   0.1s\n",
      "[CV] END ..............C=10, degree=2, gamma=10, kernel=poly; total time=  10.5s\n",
      "[CV] END ................C=10, degree=3, gamma=1, kernel=rbf; total time=   0.1s\n",
      "[CV] END .............C=0.1, degree=3, gamma=10, kernel=poly; total time=  10.7s\n",
      "[CV] END ................C=10, degree=3, gamma=1, kernel=rbf; total time=   0.1s\n",
      "[CV] END ................C=10, degree=3, gamma=1, kernel=rbf; total time=   0.1s\n",
      "[CV] END ................C=10, degree=3, gamma=1, kernel=rbf; total time=   0.1s\n",
      "[CV] END ............C=10, degree=3, gamma=10, kernel=linear; total time=   0.1s\n",
      "[CV] END ............C=10, degree=3, gamma=10, kernel=linear; total time=   0.2s\n",
      "[CV] END ............C=0.01, degree=4, gamma=10, kernel=poly; total time=  11.6s\n",
      "[CV] END ............C=10, degree=3, gamma=10, kernel=linear; total time=   0.2s\n"
     ]
    },
    {
     "name": "stderr",
     "output_type": "stream",
     "text": [
      "/home/gian/anaconda3/lib/python3.12/site-packages/sklearn/svm/_base.py:297: ConvergenceWarning: Solver terminated early (max_iter=1000000).  Consider pre-processing your data with StandardScaler or MinMaxScaler.\n",
      "  warnings.warn(\n"
     ]
    },
    {
     "name": "stdout",
     "output_type": "stream",
     "text": [
      "[CV] END ............C=10, degree=3, gamma=10, kernel=linear; total time=   0.2s\n",
      "[CV] END ............C=10, degree=3, gamma=10, kernel=linear; total time=   0.2s\n"
     ]
    },
    {
     "name": "stderr",
     "output_type": "stream",
     "text": [
      "/home/gian/anaconda3/lib/python3.12/site-packages/sklearn/svm/_base.py:297: ConvergenceWarning: Solver terminated early (max_iter=1000000).  Consider pre-processing your data with StandardScaler or MinMaxScaler.\n",
      "  warnings.warn(\n"
     ]
    },
    {
     "name": "stdout",
     "output_type": "stream",
     "text": [
      "[CV] END .............C=0.1, degree=4, gamma=10, kernel=poly; total time=  11.1s\n"
     ]
    },
    {
     "name": "stderr",
     "output_type": "stream",
     "text": [
      "/home/gian/anaconda3/lib/python3.12/site-packages/sklearn/svm/_base.py:297: ConvergenceWarning: Solver terminated early (max_iter=1000000).  Consider pre-processing your data with StandardScaler or MinMaxScaler.\n",
      "  warnings.warn(\n",
      "/home/gian/anaconda3/lib/python3.12/site-packages/sklearn/svm/_base.py:297: ConvergenceWarning: Solver terminated early (max_iter=1000000).  Consider pre-processing your data with StandardScaler or MinMaxScaler.\n",
      "  warnings.warn(\n"
     ]
    },
    {
     "name": "stdout",
     "output_type": "stream",
     "text": [
      "[CV] END ................C=1, degree=4, gamma=1, kernel=poly; total time=   8.9s\n",
      "[CV] END ...............C=1, degree=2, gamma=10, kernel=poly; total time=   7.1s\n"
     ]
    },
    {
     "name": "stderr",
     "output_type": "stream",
     "text": [
      "/home/gian/anaconda3/lib/python3.12/site-packages/sklearn/svm/_base.py:297: ConvergenceWarning: Solver terminated early (max_iter=1000000).  Consider pre-processing your data with StandardScaler or MinMaxScaler.\n",
      "  warnings.warn(\n"
     ]
    },
    {
     "name": "stdout",
     "output_type": "stream",
     "text": [
      "[CV] END .............C=0.1, degree=4, gamma=10, kernel=poly; total time=  11.1s\n"
     ]
    },
    {
     "name": "stderr",
     "output_type": "stream",
     "text": [
      "/home/gian/anaconda3/lib/python3.12/site-packages/sklearn/svm/_base.py:297: ConvergenceWarning: Solver terminated early (max_iter=1000000).  Consider pre-processing your data with StandardScaler or MinMaxScaler.\n",
      "  warnings.warn(\n"
     ]
    },
    {
     "name": "stdout",
     "output_type": "stream",
     "text": [
      "[CV] END ..............C=10, degree=2, gamma=10, kernel=poly; total time=   9.8s\n"
     ]
    },
    {
     "name": "stderr",
     "output_type": "stream",
     "text": [
      "/home/gian/anaconda3/lib/python3.12/site-packages/sklearn/svm/_base.py:297: ConvergenceWarning: Solver terminated early (max_iter=1000000).  Consider pre-processing your data with StandardScaler or MinMaxScaler.\n",
      "  warnings.warn(\n",
      "/home/gian/anaconda3/lib/python3.12/site-packages/sklearn/svm/_base.py:297: ConvergenceWarning: Solver terminated early (max_iter=1000000).  Consider pre-processing your data with StandardScaler or MinMaxScaler.\n",
      "  warnings.warn(\n"
     ]
    },
    {
     "name": "stdout",
     "output_type": "stream",
     "text": [
      "[CV] END ..............C=10, degree=2, gamma=10, kernel=poly; total time=   9.9s\n",
      "[CV] END ...............C=1, degree=3, gamma=10, kernel=poly; total time=  11.0s\n"
     ]
    },
    {
     "name": "stderr",
     "output_type": "stream",
     "text": [
      "/home/gian/anaconda3/lib/python3.12/site-packages/sklearn/svm/_base.py:297: ConvergenceWarning: Solver terminated early (max_iter=1000000).  Consider pre-processing your data with StandardScaler or MinMaxScaler.\n",
      "  warnings.warn(\n"
     ]
    },
    {
     "name": "stdout",
     "output_type": "stream",
     "text": [
      "[CV] END ..............C=10, degree=2, gamma=10, kernel=poly; total time=  11.1s\n",
      "[CV] END ...............C=10, degree=3, gamma=10, kernel=rbf; total time=   0.1s\n",
      "[CV] END ...............C=10, degree=3, gamma=10, kernel=rbf; total time=   0.1s\n",
      "[CV] END ...............C=10, degree=3, gamma=10, kernel=rbf; total time=   0.1s\n",
      "[CV] END ...............C=10, degree=3, gamma=10, kernel=rbf; total time=   0.1s\n",
      "[CV] END ...............C=10, degree=3, gamma=10, kernel=rbf; total time=   0.1s\n",
      "[CV] END .........C=10, degree=4, gamma=0.001, kernel=linear; total time=   0.2s\n",
      "[CV] END .........C=10, degree=4, gamma=0.001, kernel=linear; total time=   0.1s\n",
      "[CV] END .........C=10, degree=4, gamma=0.001, kernel=linear; total time=   0.2s\n",
      "[CV] END .........C=10, degree=4, gamma=0.001, kernel=linear; total time=   0.2s\n",
      "[CV] END .........C=10, degree=4, gamma=0.001, kernel=linear; total time=   0.2s\n",
      "[CV] END ...........C=10, degree=4, gamma=0.001, kernel=poly; total time=   0.0s\n",
      "[CV] END ...........C=10, degree=4, gamma=0.001, kernel=poly; total time=   0.0s\n",
      "[CV] END ...............C=10, degree=3, gamma=1, kernel=poly; total time=   8.6s\n",
      "[CV] END ...........C=10, degree=4, gamma=0.001, kernel=poly; total time=   0.0s\n",
      "[CV] END ...........C=10, degree=4, gamma=0.001, kernel=poly; total time=   0.0s\n",
      "[CV] END ...........C=10, degree=4, gamma=0.001, kernel=poly; total time=   0.0s\n",
      "[CV] END ............C=10, degree=4, gamma=0.001, kernel=rbf; total time=   0.0s\n",
      "[CV] END ............C=10, degree=4, gamma=0.001, kernel=rbf; total time=   0.0s\n",
      "[CV] END ...............C=10, degree=3, gamma=1, kernel=poly; total time=   8.6s\n",
      "[CV] END ............C=10, degree=4, gamma=0.001, kernel=rbf; total time=   0.0s\n"
     ]
    },
    {
     "name": "stderr",
     "output_type": "stream",
     "text": [
      "/home/gian/anaconda3/lib/python3.12/site-packages/sklearn/svm/_base.py:297: ConvergenceWarning: Solver terminated early (max_iter=1000000).  Consider pre-processing your data with StandardScaler or MinMaxScaler.\n",
      "  warnings.warn(\n",
      "/home/gian/anaconda3/lib/python3.12/site-packages/sklearn/svm/_base.py:297: ConvergenceWarning: Solver terminated early (max_iter=1000000).  Consider pre-processing your data with StandardScaler or MinMaxScaler.\n",
      "  warnings.warn(\n"
     ]
    },
    {
     "name": "stdout",
     "output_type": "stream",
     "text": [
      "[CV] END ............C=10, degree=4, gamma=0.001, kernel=rbf; total time=   0.0s\n",
      "[CV] END ............C=10, degree=4, gamma=0.001, kernel=rbf; total time=   0.0s\n",
      "[CV] END ..........C=10, degree=4, gamma=0.01, kernel=linear; total time=   0.1s\n",
      "[CV] END ..........C=10, degree=4, gamma=0.01, kernel=linear; total time=   0.2s\n",
      "[CV] END ..........C=10, degree=4, gamma=0.01, kernel=linear; total time=   0.2s\n",
      "[CV] END ............C=10, degree=4, gamma=0.01, kernel=poly; total time=   0.0s\n",
      "[CV] END ............C=10, degree=4, gamma=0.01, kernel=poly; total time=   0.0s\n",
      "[CV] END ..........C=10, degree=4, gamma=0.01, kernel=linear; total time=   0.2s\n",
      "[CV] END ..........C=10, degree=4, gamma=0.01, kernel=linear; total time=   0.2s\n",
      "[CV] END ............C=10, degree=4, gamma=0.01, kernel=poly; total time=   0.0s\n",
      "[CV] END ............C=10, degree=4, gamma=0.01, kernel=poly; total time=   0.0s\n",
      "[CV] END ............C=10, degree=4, gamma=0.01, kernel=poly; total time=   0.0s\n",
      "[CV] END ...............C=10, degree=3, gamma=1, kernel=poly; total time=   7.0s\n",
      "[CV] END .............C=10, degree=4, gamma=0.01, kernel=rbf; total time=   0.0s\n",
      "[CV] END .............C=10, degree=4, gamma=0.01, kernel=rbf; total time=   0.0s\n",
      "[CV] END .............C=10, degree=4, gamma=0.01, kernel=rbf; total time=   0.0s\n",
      "[CV] END .............C=10, degree=4, gamma=0.01, kernel=rbf; total time=   0.0s\n"
     ]
    },
    {
     "name": "stderr",
     "output_type": "stream",
     "text": [
      "/home/gian/anaconda3/lib/python3.12/site-packages/sklearn/svm/_base.py:297: ConvergenceWarning: Solver terminated early (max_iter=1000000).  Consider pre-processing your data with StandardScaler or MinMaxScaler.\n",
      "  warnings.warn(\n",
      "/home/gian/anaconda3/lib/python3.12/site-packages/sklearn/svm/_base.py:297: ConvergenceWarning: Solver terminated early (max_iter=1000000).  Consider pre-processing your data with StandardScaler or MinMaxScaler.\n",
      "  warnings.warn(\n",
      "/home/gian/anaconda3/lib/python3.12/site-packages/sklearn/svm/_base.py:297: ConvergenceWarning: Solver terminated early (max_iter=1000000).  Consider pre-processing your data with StandardScaler or MinMaxScaler.\n",
      "  warnings.warn(\n"
     ]
    },
    {
     "name": "stdout",
     "output_type": "stream",
     "text": [
      "[CV] END .............C=10, degree=4, gamma=0.01, kernel=rbf; total time=   0.0s\n",
      "[CV] END ...............C=10, degree=3, gamma=1, kernel=poly; total time=   7.0s\n",
      "[CV] END ...............C=1, degree=4, gamma=10, kernel=poly; total time=  11.5s\n",
      "[CV] END ...........C=10, degree=4, gamma=0.1, kernel=linear; total time=   0.2s\n",
      "[CV] END ...........C=10, degree=4, gamma=0.1, kernel=linear; total time=   0.2s\n",
      "[CV] END ...........C=10, degree=4, gamma=0.1, kernel=linear; total time=   0.1s\n",
      "[CV] END ...........C=10, degree=4, gamma=0.1, kernel=linear; total time=   0.2s\n",
      "[CV] END ...........C=10, degree=4, gamma=0.1, kernel=linear; total time=   0.2s\n",
      "[CV] END .............C=10, degree=4, gamma=0.1, kernel=poly; total time=   0.1s\n",
      "[CV] END .............C=10, degree=4, gamma=0.1, kernel=poly; total time=   0.2s\n",
      "[CV] END ..............C=10, degree=4, gamma=0.1, kernel=rbf; total time=   0.0s\n",
      "[CV] END .............C=10, degree=4, gamma=0.1, kernel=poly; total time=   0.2s\n",
      "[CV] END ..............C=10, degree=4, gamma=0.1, kernel=rbf; total time=   0.0s\n",
      "[CV] END ..............C=10, degree=4, gamma=0.1, kernel=rbf; total time=   0.0s\n",
      "[CV] END .............C=10, degree=4, gamma=0.1, kernel=poly; total time=   0.2s\n",
      "[CV] END ..............C=10, degree=4, gamma=0.1, kernel=rbf; total time=   0.0s\n",
      "[CV] END ..............C=10, degree=4, gamma=0.1, kernel=rbf; total time=   0.1s\n",
      "[CV] END .............C=10, degree=4, gamma=0.1, kernel=poly; total time=   0.2s\n",
      "[CV] END .............C=10, degree=4, gamma=1, kernel=linear; total time=   0.1s\n",
      "[CV] END .............C=10, degree=4, gamma=1, kernel=linear; total time=   0.2s\n",
      "[CV] END .............C=10, degree=4, gamma=1, kernel=linear; total time=   0.2s\n",
      "[CV] END .............C=10, degree=4, gamma=1, kernel=linear; total time=   0.2s\n",
      "[CV] END .............C=10, degree=4, gamma=1, kernel=linear; total time=   0.2s\n"
     ]
    },
    {
     "name": "stderr",
     "output_type": "stream",
     "text": [
      "/home/gian/anaconda3/lib/python3.12/site-packages/sklearn/svm/_base.py:297: ConvergenceWarning: Solver terminated early (max_iter=1000000).  Consider pre-processing your data with StandardScaler or MinMaxScaler.\n",
      "  warnings.warn(\n"
     ]
    },
    {
     "name": "stdout",
     "output_type": "stream",
     "text": [
      "[CV] END ...............C=10, degree=3, gamma=1, kernel=poly; total time=   8.2s\n",
      "[CV] END ................C=10, degree=4, gamma=1, kernel=rbf; total time=   0.0s\n",
      "[CV] END ................C=10, degree=4, gamma=1, kernel=rbf; total time=   0.0s\n",
      "[CV] END ................C=10, degree=4, gamma=1, kernel=rbf; total time=   0.0s\n",
      "[CV] END ................C=10, degree=4, gamma=1, kernel=rbf; total time=   0.0s\n",
      "[CV] END ................C=10, degree=4, gamma=1, kernel=rbf; total time=   0.1s\n",
      "[CV] END ............C=10, degree=4, gamma=10, kernel=linear; total time=   0.2s\n",
      "[CV] END ............C=10, degree=4, gamma=10, kernel=linear; total time=   0.1s\n",
      "[CV] END ............C=10, degree=4, gamma=10, kernel=linear; total time=   0.2s\n",
      "[CV] END ............C=10, degree=4, gamma=10, kernel=linear; total time=   0.1s\n"
     ]
    },
    {
     "name": "stderr",
     "output_type": "stream",
     "text": [
      "/home/gian/anaconda3/lib/python3.12/site-packages/sklearn/svm/_base.py:297: ConvergenceWarning: Solver terminated early (max_iter=1000000).  Consider pre-processing your data with StandardScaler or MinMaxScaler.\n",
      "  warnings.warn(\n"
     ]
    },
    {
     "name": "stdout",
     "output_type": "stream",
     "text": [
      "[CV] END ...............C=1, degree=2, gamma=10, kernel=poly; total time=   6.9s\n",
      "[CV] END ............C=10, degree=4, gamma=10, kernel=linear; total time=   0.2s\n"
     ]
    },
    {
     "name": "stderr",
     "output_type": "stream",
     "text": [
      "/home/gian/anaconda3/lib/python3.12/site-packages/sklearn/svm/_base.py:297: ConvergenceWarning: Solver terminated early (max_iter=1000000).  Consider pre-processing your data with StandardScaler or MinMaxScaler.\n",
      "  warnings.warn(\n"
     ]
    },
    {
     "name": "stdout",
     "output_type": "stream",
     "text": [
      "[CV] END .............C=0.1, degree=3, gamma=10, kernel=poly; total time=  10.1s\n"
     ]
    },
    {
     "name": "stderr",
     "output_type": "stream",
     "text": [
      "/home/gian/anaconda3/lib/python3.12/site-packages/sklearn/svm/_base.py:297: ConvergenceWarning: Solver terminated early (max_iter=1000000).  Consider pre-processing your data with StandardScaler or MinMaxScaler.\n",
      "  warnings.warn(\n",
      "/home/gian/anaconda3/lib/python3.12/site-packages/sklearn/svm/_base.py:297: ConvergenceWarning: Solver terminated early (max_iter=1000000).  Consider pre-processing your data with StandardScaler or MinMaxScaler.\n",
      "  warnings.warn(\n"
     ]
    },
    {
     "name": "stdout",
     "output_type": "stream",
     "text": [
      "[CV] END ..............C=10, degree=3, gamma=10, kernel=poly; total time=  10.9s\n",
      "[CV] END ..............C=10, degree=3, gamma=10, kernel=poly; total time=  10.8s\n"
     ]
    },
    {
     "name": "stderr",
     "output_type": "stream",
     "text": [
      "/home/gian/anaconda3/lib/python3.12/site-packages/sklearn/svm/_base.py:297: ConvergenceWarning: Solver terminated early (max_iter=1000000).  Consider pre-processing your data with StandardScaler or MinMaxScaler.\n",
      "  warnings.warn(\n"
     ]
    },
    {
     "name": "stdout",
     "output_type": "stream",
     "text": [
      "[CV] END ................C=1, degree=4, gamma=1, kernel=poly; total time=   9.9s\n"
     ]
    },
    {
     "name": "stderr",
     "output_type": "stream",
     "text": [
      "/home/gian/anaconda3/lib/python3.12/site-packages/sklearn/svm/_base.py:297: ConvergenceWarning: Solver terminated early (max_iter=1000000).  Consider pre-processing your data with StandardScaler or MinMaxScaler.\n",
      "  warnings.warn(\n"
     ]
    },
    {
     "name": "stdout",
     "output_type": "stream",
     "text": [
      "[CV] END ............C=0.01, degree=4, gamma=10, kernel=poly; total time=  11.4s\n"
     ]
    },
    {
     "name": "stderr",
     "output_type": "stream",
     "text": [
      "/home/gian/anaconda3/lib/python3.12/site-packages/sklearn/svm/_base.py:297: ConvergenceWarning: Solver terminated early (max_iter=1000000).  Consider pre-processing your data with StandardScaler or MinMaxScaler.\n",
      "  warnings.warn(\n"
     ]
    },
    {
     "name": "stdout",
     "output_type": "stream",
     "text": [
      "[CV] END ..............C=10, degree=3, gamma=10, kernel=poly; total time=  11.1s\n"
     ]
    },
    {
     "name": "stderr",
     "output_type": "stream",
     "text": [
      "/home/gian/anaconda3/lib/python3.12/site-packages/sklearn/svm/_base.py:297: ConvergenceWarning: Solver terminated early (max_iter=1000000).  Consider pre-processing your data with StandardScaler or MinMaxScaler.\n",
      "  warnings.warn(\n"
     ]
    },
    {
     "name": "stdout",
     "output_type": "stream",
     "text": [
      "[CV] END .............C=0.1, degree=4, gamma=10, kernel=poly; total time=  11.2s\n",
      "[CV] END ..............C=0.1, degree=4, gamma=10, kernel=rbf; total time=   0.1s\n",
      "[CV] END ..............C=0.1, degree=4, gamma=10, kernel=rbf; total time=   0.1s\n",
      "[CV] END ..............C=0.1, degree=4, gamma=10, kernel=rbf; total time=   0.1s\n",
      "[CV] END ..............C=0.1, degree=4, gamma=10, kernel=rbf; total time=   0.1s\n",
      "[CV] END ..............C=0.1, degree=4, gamma=10, kernel=rbf; total time=   0.1s\n",
      "[CV] END ...............C=10, degree=4, gamma=10, kernel=rbf; total time=   0.1s\n",
      "[CV] END ...............C=10, degree=4, gamma=10, kernel=rbf; total time=   0.1s\n",
      "[CV] END ...............C=10, degree=4, gamma=10, kernel=rbf; total time=   0.1s\n",
      "[CV] END ...............C=10, degree=4, gamma=10, kernel=rbf; total time=   0.1s\n",
      "[CV] END ...............C=10, degree=4, gamma=10, kernel=rbf; total time=   0.1s\n",
      "[CV] END ..............C=10, degree=3, gamma=10, kernel=poly; total time=  10.4s\n"
     ]
    },
    {
     "name": "stderr",
     "output_type": "stream",
     "text": [
      "/home/gian/anaconda3/lib/python3.12/site-packages/sklearn/svm/_base.py:297: ConvergenceWarning: Solver terminated early (max_iter=1000000).  Consider pre-processing your data with StandardScaler or MinMaxScaler.\n",
      "  warnings.warn(\n",
      "/home/gian/anaconda3/lib/python3.12/site-packages/sklearn/svm/_base.py:297: ConvergenceWarning: Solver terminated early (max_iter=1000000).  Consider pre-processing your data with StandardScaler or MinMaxScaler.\n",
      "  warnings.warn(\n"
     ]
    },
    {
     "name": "stdout",
     "output_type": "stream",
     "text": [
      "[CV] END ..............C=10, degree=3, gamma=10, kernel=poly; total time=  11.0s\n",
      "[CV] END ...............C=1, degree=2, gamma=10, kernel=poly; total time=   5.9s\n",
      "[CV] END ................C=1, degree=2, gamma=10, kernel=rbf; total time=   0.1s\n",
      "[CV] END ................C=1, degree=2, gamma=10, kernel=rbf; total time=   0.0s\n"
     ]
    },
    {
     "name": "stderr",
     "output_type": "stream",
     "text": [
      "/home/gian/anaconda3/lib/python3.12/site-packages/sklearn/svm/_base.py:297: ConvergenceWarning: Solver terminated early (max_iter=1000000).  Consider pre-processing your data with StandardScaler or MinMaxScaler.\n",
      "  warnings.warn(\n",
      "/home/gian/anaconda3/lib/python3.12/site-packages/sklearn/svm/_base.py:297: ConvergenceWarning: Solver terminated early (max_iter=1000000).  Consider pre-processing your data with StandardScaler or MinMaxScaler.\n",
      "  warnings.warn(\n",
      "/home/gian/anaconda3/lib/python3.12/site-packages/sklearn/svm/_base.py:297: ConvergenceWarning: Solver terminated early (max_iter=1000000).  Consider pre-processing your data with StandardScaler or MinMaxScaler.\n",
      "  warnings.warn(\n",
      "/home/gian/anaconda3/lib/python3.12/site-packages/sklearn/svm/_base.py:297: ConvergenceWarning: Solver terminated early (max_iter=1000000).  Consider pre-processing your data with StandardScaler or MinMaxScaler.\n",
      "  warnings.warn(\n"
     ]
    },
    {
     "name": "stdout",
     "output_type": "stream",
     "text": [
      "[CV] END ........C=100, degree=2, gamma=0.001, kernel=linear; total time=   0.9s\n",
      "[CV] END ........C=100, degree=2, gamma=0.001, kernel=linear; total time=   0.8s\n",
      "[CV] END ........C=100, degree=2, gamma=0.001, kernel=linear; total time=   1.1s\n",
      "[CV] END ..........C=100, degree=2, gamma=0.001, kernel=poly; total time=   0.0s\n",
      "[CV] END ..........C=100, degree=2, gamma=0.001, kernel=poly; total time=   0.0s\n",
      "[CV] END ..........C=100, degree=2, gamma=0.001, kernel=poly; total time=   0.0s\n",
      "[CV] END ..........C=100, degree=2, gamma=0.001, kernel=poly; total time=   0.0s\n",
      "[CV] END ..........C=100, degree=2, gamma=0.001, kernel=poly; total time=   0.0s\n",
      "[CV] END ...........C=100, degree=2, gamma=0.001, kernel=rbf; total time=   0.0s\n",
      "[CV] END ...............C=1, degree=3, gamma=10, kernel=poly; total time=  11.4s\n",
      "[CV] END ........C=100, degree=2, gamma=0.001, kernel=linear; total time=   0.7s\n",
      "[CV] END ...........C=100, degree=2, gamma=0.001, kernel=rbf; total time=   0.0s\n",
      "[CV] END ...........C=100, degree=2, gamma=0.001, kernel=rbf; total time=   0.0s\n",
      "[CV] END ...........C=100, degree=2, gamma=0.001, kernel=rbf; total time=   0.0s\n",
      "[CV] END ...........C=100, degree=2, gamma=0.001, kernel=rbf; total time=   0.0s\n"
     ]
    },
    {
     "name": "stderr",
     "output_type": "stream",
     "text": [
      "/home/gian/anaconda3/lib/python3.12/site-packages/sklearn/svm/_base.py:297: ConvergenceWarning: Solver terminated early (max_iter=1000000).  Consider pre-processing your data with StandardScaler or MinMaxScaler.\n",
      "  warnings.warn(\n",
      "/home/gian/anaconda3/lib/python3.12/site-packages/sklearn/svm/_base.py:297: ConvergenceWarning: Solver terminated early (max_iter=1000000).  Consider pre-processing your data with StandardScaler or MinMaxScaler.\n",
      "  warnings.warn(\n",
      "/home/gian/anaconda3/lib/python3.12/site-packages/sklearn/svm/_base.py:297: ConvergenceWarning: Solver terminated early (max_iter=1000000).  Consider pre-processing your data with StandardScaler or MinMaxScaler.\n",
      "  warnings.warn(\n"
     ]
    },
    {
     "name": "stdout",
     "output_type": "stream",
     "text": [
      "[CV] END ........C=100, degree=2, gamma=0.001, kernel=linear; total time=   0.8s\n"
     ]
    },
    {
     "name": "stderr",
     "output_type": "stream",
     "text": [
      "/home/gian/anaconda3/lib/python3.12/site-packages/sklearn/svm/_base.py:297: ConvergenceWarning: Solver terminated early (max_iter=1000000).  Consider pre-processing your data with StandardScaler or MinMaxScaler.\n",
      "  warnings.warn(\n",
      "/home/gian/anaconda3/lib/python3.12/site-packages/sklearn/svm/_base.py:297: ConvergenceWarning: Solver terminated early (max_iter=1000000).  Consider pre-processing your data with StandardScaler or MinMaxScaler.\n",
      "  warnings.warn(\n",
      "/home/gian/anaconda3/lib/python3.12/site-packages/sklearn/svm/_base.py:297: ConvergenceWarning: Solver terminated early (max_iter=1000000).  Consider pre-processing your data with StandardScaler or MinMaxScaler.\n",
      "  warnings.warn(\n"
     ]
    },
    {
     "name": "stdout",
     "output_type": "stream",
     "text": [
      "[CV] END .........C=100, degree=2, gamma=0.01, kernel=linear; total time=   0.8s\n",
      "[CV] END .........C=100, degree=2, gamma=0.01, kernel=linear; total time=   0.8s\n",
      "[CV] END ...........C=100, degree=2, gamma=0.01, kernel=poly; total time=   0.0s\n",
      "[CV] END ...........C=100, degree=2, gamma=0.01, kernel=poly; total time=   0.0s\n",
      "[CV] END ...........C=100, degree=2, gamma=0.01, kernel=poly; total time=   0.0s\n",
      "[CV] END .........C=100, degree=2, gamma=0.01, kernel=linear; total time=   1.0s\n",
      "[CV] END ...........C=100, degree=2, gamma=0.01, kernel=poly; total time=   0.0s\n",
      "[CV] END ...........C=100, degree=2, gamma=0.01, kernel=poly; total time=   0.0s\n",
      "[CV] END ............C=100, degree=2, gamma=0.01, kernel=rbf; total time=   0.1s\n",
      "[CV] END ............C=100, degree=2, gamma=0.01, kernel=rbf; total time=   0.0s\n",
      "[CV] END ............C=100, degree=2, gamma=0.01, kernel=rbf; total time=   0.0s\n",
      "[CV] END ............C=100, degree=2, gamma=0.01, kernel=rbf; total time=   0.1s\n",
      "[CV] END ............C=100, degree=2, gamma=0.01, kernel=rbf; total time=   0.0s\n"
     ]
    },
    {
     "name": "stderr",
     "output_type": "stream",
     "text": [
      "/home/gian/anaconda3/lib/python3.12/site-packages/sklearn/svm/_base.py:297: ConvergenceWarning: Solver terminated early (max_iter=1000000).  Consider pre-processing your data with StandardScaler or MinMaxScaler.\n",
      "  warnings.warn(\n"
     ]
    },
    {
     "name": "stdout",
     "output_type": "stream",
     "text": [
      "[CV] END .........C=100, degree=2, gamma=0.01, kernel=linear; total time=   0.7s\n"
     ]
    },
    {
     "name": "stderr",
     "output_type": "stream",
     "text": [
      "/home/gian/anaconda3/lib/python3.12/site-packages/sklearn/svm/_base.py:297: ConvergenceWarning: Solver terminated early (max_iter=1000000).  Consider pre-processing your data with StandardScaler or MinMaxScaler.\n",
      "  warnings.warn(\n"
     ]
    },
    {
     "name": "stdout",
     "output_type": "stream",
     "text": [
      "[CV] END .........C=100, degree=2, gamma=0.01, kernel=linear; total time=   0.8s\n"
     ]
    },
    {
     "name": "stderr",
     "output_type": "stream",
     "text": [
      "/home/gian/anaconda3/lib/python3.12/site-packages/sklearn/svm/_base.py:297: ConvergenceWarning: Solver terminated early (max_iter=1000000).  Consider pre-processing your data with StandardScaler or MinMaxScaler.\n",
      "  warnings.warn(\n",
      "/home/gian/anaconda3/lib/python3.12/site-packages/sklearn/svm/_base.py:297: ConvergenceWarning: Solver terminated early (max_iter=1000000).  Consider pre-processing your data with StandardScaler or MinMaxScaler.\n",
      "  warnings.warn(\n"
     ]
    },
    {
     "name": "stdout",
     "output_type": "stream",
     "text": [
      "[CV] END ..........C=100, degree=2, gamma=0.1, kernel=linear; total time=   0.7s\n",
      "[CV] END ..........C=100, degree=2, gamma=0.1, kernel=linear; total time=   0.8s\n"
     ]
    },
    {
     "name": "stderr",
     "output_type": "stream",
     "text": [
      "/home/gian/anaconda3/lib/python3.12/site-packages/sklearn/svm/_base.py:297: ConvergenceWarning: Solver terminated early (max_iter=1000000).  Consider pre-processing your data with StandardScaler or MinMaxScaler.\n",
      "  warnings.warn(\n"
     ]
    },
    {
     "name": "stdout",
     "output_type": "stream",
     "text": [
      "[CV] END ..........C=100, degree=2, gamma=0.1, kernel=linear; total time=   1.0s\n",
      "[CV] END ............C=100, degree=2, gamma=0.1, kernel=poly; total time=   0.3s\n"
     ]
    },
    {
     "name": "stderr",
     "output_type": "stream",
     "text": [
      "/home/gian/anaconda3/lib/python3.12/site-packages/sklearn/svm/_base.py:297: ConvergenceWarning: Solver terminated early (max_iter=1000000).  Consider pre-processing your data with StandardScaler or MinMaxScaler.\n",
      "  warnings.warn(\n",
      "/home/gian/anaconda3/lib/python3.12/site-packages/sklearn/svm/_base.py:297: ConvergenceWarning: Solver terminated early (max_iter=1000000).  Consider pre-processing your data with StandardScaler or MinMaxScaler.\n",
      "  warnings.warn(\n"
     ]
    },
    {
     "name": "stdout",
     "output_type": "stream",
     "text": [
      "[CV] END ...............C=10, degree=4, gamma=1, kernel=poly; total time=  10.4s\n",
      "[CV] END ............C=100, degree=2, gamma=0.1, kernel=poly; total time=   0.3s\n",
      "[CV] END ..........C=100, degree=2, gamma=0.1, kernel=linear; total time=   0.8s\n",
      "[CV] END ............C=100, degree=2, gamma=0.1, kernel=poly; total time=   0.2s\n",
      "[CV] END .............C=100, degree=2, gamma=0.1, kernel=rbf; total time=   0.1s\n",
      "[CV] END ............C=100, degree=2, gamma=0.1, kernel=poly; total time=   0.3s\n",
      "[CV] END ..........C=100, degree=2, gamma=0.1, kernel=linear; total time=   0.8s\n",
      "[CV] END .............C=100, degree=2, gamma=0.1, kernel=rbf; total time=   0.1s\n",
      "[CV] END .............C=100, degree=2, gamma=0.1, kernel=rbf; total time=   0.1s\n"
     ]
    },
    {
     "name": "stderr",
     "output_type": "stream",
     "text": [
      "/home/gian/anaconda3/lib/python3.12/site-packages/sklearn/svm/_base.py:297: ConvergenceWarning: Solver terminated early (max_iter=1000000).  Consider pre-processing your data with StandardScaler or MinMaxScaler.\n",
      "  warnings.warn(\n",
      "/home/gian/anaconda3/lib/python3.12/site-packages/sklearn/svm/_base.py:297: ConvergenceWarning: Solver terminated early (max_iter=1000000).  Consider pre-processing your data with StandardScaler or MinMaxScaler.\n",
      "  warnings.warn(\n",
      "/home/gian/anaconda3/lib/python3.12/site-packages/sklearn/svm/_base.py:297: ConvergenceWarning: Solver terminated early (max_iter=1000000).  Consider pre-processing your data with StandardScaler or MinMaxScaler.\n",
      "  warnings.warn(\n",
      "/home/gian/anaconda3/lib/python3.12/site-packages/sklearn/svm/_base.py:297: ConvergenceWarning: Solver terminated early (max_iter=1000000).  Consider pre-processing your data with StandardScaler or MinMaxScaler.\n",
      "  warnings.warn(\n",
      "/home/gian/anaconda3/lib/python3.12/site-packages/sklearn/svm/_base.py:297: ConvergenceWarning: Solver terminated early (max_iter=1000000).  Consider pre-processing your data with StandardScaler or MinMaxScaler.\n",
      "  warnings.warn(\n"
     ]
    },
    {
     "name": "stdout",
     "output_type": "stream",
     "text": [
      "[CV] END .............C=100, degree=2, gamma=0.1, kernel=rbf; total time=   0.1s\n",
      "[CV] END ...............C=1, degree=4, gamma=10, kernel=poly; total time=  11.3s\n",
      "[CV] END ...............C=10, degree=4, gamma=1, kernel=poly; total time=  10.9s\n",
      "[CV] END .............C=100, degree=2, gamma=0.1, kernel=rbf; total time=   0.2s\n",
      "[CV] END ...............C=10, degree=4, gamma=1, kernel=poly; total time=  10.8s\n",
      "[CV] END ...............C=10, degree=4, gamma=1, kernel=poly; total time=  10.9s\n",
      "[CV] END ............C=100, degree=2, gamma=0.1, kernel=poly; total time=   0.5s\n",
      "[CV] END ...............C=10, degree=4, gamma=1, kernel=poly; total time=  11.0s\n"
     ]
    },
    {
     "name": "stderr",
     "output_type": "stream",
     "text": [
      "/home/gian/anaconda3/lib/python3.12/site-packages/sklearn/svm/_base.py:297: ConvergenceWarning: Solver terminated early (max_iter=1000000).  Consider pre-processing your data with StandardScaler or MinMaxScaler.\n",
      "  warnings.warn(\n",
      "/home/gian/anaconda3/lib/python3.12/site-packages/sklearn/svm/_base.py:297: ConvergenceWarning: Solver terminated early (max_iter=1000000).  Consider pre-processing your data with StandardScaler or MinMaxScaler.\n",
      "  warnings.warn(\n",
      "/home/gian/anaconda3/lib/python3.12/site-packages/sklearn/svm/_base.py:297: ConvergenceWarning: Solver terminated early (max_iter=1000000).  Consider pre-processing your data with StandardScaler or MinMaxScaler.\n",
      "  warnings.warn(\n",
      "/home/gian/anaconda3/lib/python3.12/site-packages/sklearn/svm/_base.py:297: ConvergenceWarning: Solver terminated early (max_iter=1000000).  Consider pre-processing your data with StandardScaler or MinMaxScaler.\n",
      "  warnings.warn(\n"
     ]
    },
    {
     "name": "stdout",
     "output_type": "stream",
     "text": [
      "[CV] END ............C=100, degree=2, gamma=1, kernel=linear; total time=   0.8s\n",
      "[CV] END ............C=100, degree=2, gamma=1, kernel=linear; total time=   0.9s\n",
      "[CV] END ............C=100, degree=2, gamma=1, kernel=linear; total time=   0.9s\n"
     ]
    },
    {
     "name": "stderr",
     "output_type": "stream",
     "text": [
      "/home/gian/anaconda3/lib/python3.12/site-packages/sklearn/svm/_base.py:297: ConvergenceWarning: Solver terminated early (max_iter=1000000).  Consider pre-processing your data with StandardScaler or MinMaxScaler.\n",
      "  warnings.warn(\n",
      "/home/gian/anaconda3/lib/python3.12/site-packages/sklearn/svm/_base.py:297: ConvergenceWarning: Solver terminated early (max_iter=1000000).  Consider pre-processing your data with StandardScaler or MinMaxScaler.\n",
      "  warnings.warn(\n"
     ]
    },
    {
     "name": "stdout",
     "output_type": "stream",
     "text": [
      "[CV] END ............C=100, degree=2, gamma=1, kernel=linear; total time=   1.1s\n",
      "[CV] END ............C=100, degree=2, gamma=1, kernel=linear; total time=   1.1s\n",
      "[CV] END ...............C=100, degree=2, gamma=1, kernel=rbf; total time=   0.2s\n",
      "[CV] END ...............C=100, degree=2, gamma=1, kernel=rbf; total time=   0.3s\n",
      "[CV] END ...............C=100, degree=2, gamma=1, kernel=rbf; total time=   0.3s\n",
      "[CV] END ...............C=100, degree=2, gamma=1, kernel=rbf; total time=   0.3s\n",
      "[CV] END ...............C=100, degree=2, gamma=1, kernel=rbf; total time=   0.2s\n"
     ]
    },
    {
     "name": "stderr",
     "output_type": "stream",
     "text": [
      "/home/gian/anaconda3/lib/python3.12/site-packages/sklearn/svm/_base.py:297: ConvergenceWarning: Solver terminated early (max_iter=1000000).  Consider pre-processing your data with StandardScaler or MinMaxScaler.\n",
      "  warnings.warn(\n"
     ]
    },
    {
     "name": "stdout",
     "output_type": "stream",
     "text": [
      "[CV] END ..............C=10, degree=4, gamma=10, kernel=poly; total time=  11.2s\n"
     ]
    },
    {
     "name": "stderr",
     "output_type": "stream",
     "text": [
      "/home/gian/anaconda3/lib/python3.12/site-packages/sklearn/svm/_base.py:297: ConvergenceWarning: Solver terminated early (max_iter=1000000).  Consider pre-processing your data with StandardScaler or MinMaxScaler.\n",
      "  warnings.warn(\n",
      "/home/gian/anaconda3/lib/python3.12/site-packages/sklearn/svm/_base.py:297: ConvergenceWarning: Solver terminated early (max_iter=1000000).  Consider pre-processing your data with StandardScaler or MinMaxScaler.\n",
      "  warnings.warn(\n",
      "/home/gian/anaconda3/lib/python3.12/site-packages/sklearn/svm/_base.py:297: ConvergenceWarning: Solver terminated early (max_iter=1000000).  Consider pre-processing your data with StandardScaler or MinMaxScaler.\n",
      "  warnings.warn(\n",
      "/home/gian/anaconda3/lib/python3.12/site-packages/sklearn/svm/_base.py:297: ConvergenceWarning: Solver terminated early (max_iter=1000000).  Consider pre-processing your data with StandardScaler or MinMaxScaler.\n",
      "  warnings.warn(\n",
      "/home/gian/anaconda3/lib/python3.12/site-packages/sklearn/svm/_base.py:297: ConvergenceWarning: Solver terminated early (max_iter=1000000).  Consider pre-processing your data with StandardScaler or MinMaxScaler.\n",
      "  warnings.warn(\n"
     ]
    },
    {
     "name": "stdout",
     "output_type": "stream",
     "text": [
      "[CV] END ...........C=100, degree=2, gamma=10, kernel=linear; total time=   0.8s\n",
      "[CV] END ................C=1, degree=4, gamma=1, kernel=poly; total time=   8.8s\n",
      "[CV] END ...........C=100, degree=2, gamma=10, kernel=linear; total time=   0.8s\n",
      "[CV] END ...........C=100, degree=2, gamma=10, kernel=linear; total time=   1.0s\n",
      "[CV] END ...........C=100, degree=2, gamma=10, kernel=linear; total time=   1.0s\n"
     ]
    },
    {
     "name": "stderr",
     "output_type": "stream",
     "text": [
      "/home/gian/anaconda3/lib/python3.12/site-packages/sklearn/svm/_base.py:297: ConvergenceWarning: Solver terminated early (max_iter=1000000).  Consider pre-processing your data with StandardScaler or MinMaxScaler.\n",
      "  warnings.warn(\n",
      "/home/gian/anaconda3/lib/python3.12/site-packages/sklearn/svm/_base.py:297: ConvergenceWarning: Solver terminated early (max_iter=1000000).  Consider pre-processing your data with StandardScaler or MinMaxScaler.\n",
      "  warnings.warn(\n"
     ]
    },
    {
     "name": "stdout",
     "output_type": "stream",
     "text": [
      "[CV] END ...........C=100, degree=2, gamma=10, kernel=linear; total time=   0.8s\n",
      "[CV] END .............C=0.1, degree=3, gamma=10, kernel=poly; total time=  10.8s\n"
     ]
    },
    {
     "name": "stderr",
     "output_type": "stream",
     "text": [
      "/home/gian/anaconda3/lib/python3.12/site-packages/sklearn/svm/_base.py:297: ConvergenceWarning: Solver terminated early (max_iter=1000000).  Consider pre-processing your data with StandardScaler or MinMaxScaler.\n",
      "  warnings.warn(\n",
      "/home/gian/anaconda3/lib/python3.12/site-packages/sklearn/svm/_base.py:297: ConvergenceWarning: Solver terminated early (max_iter=1000000).  Consider pre-processing your data with StandardScaler or MinMaxScaler.\n",
      "  warnings.warn(\n"
     ]
    },
    {
     "name": "stdout",
     "output_type": "stream",
     "text": [
      "[CV] END ..............C=10, degree=4, gamma=10, kernel=poly; total time=  10.5s\n",
      "[CV] END ..............C=100, degree=2, gamma=10, kernel=rbf; total time=   0.1s\n",
      "[CV] END ..............C=10, degree=4, gamma=10, kernel=poly; total time=  10.7s\n",
      "[CV] END ..............C=100, degree=2, gamma=10, kernel=rbf; total time=   0.1s\n",
      "[CV] END ..............C=100, degree=2, gamma=10, kernel=rbf; total time=   0.2s\n",
      "[CV] END ..............C=100, degree=2, gamma=10, kernel=rbf; total time=   0.1s\n",
      "[CV] END ..............C=100, degree=2, gamma=10, kernel=rbf; total time=   0.1s\n"
     ]
    },
    {
     "name": "stderr",
     "output_type": "stream",
     "text": [
      "/home/gian/anaconda3/lib/python3.12/site-packages/sklearn/svm/_base.py:297: ConvergenceWarning: Solver terminated early (max_iter=1000000).  Consider pre-processing your data with StandardScaler or MinMaxScaler.\n",
      "  warnings.warn(\n",
      "/home/gian/anaconda3/lib/python3.12/site-packages/sklearn/svm/_base.py:297: ConvergenceWarning: Solver terminated early (max_iter=1000000).  Consider pre-processing your data with StandardScaler or MinMaxScaler.\n",
      "  warnings.warn(\n"
     ]
    },
    {
     "name": "stdout",
     "output_type": "stream",
     "text": [
      "[CV] END ........C=100, degree=3, gamma=0.001, kernel=linear; total time=   0.9s\n",
      "[CV] END ........C=100, degree=3, gamma=0.001, kernel=linear; total time=   0.9s\n"
     ]
    },
    {
     "name": "stderr",
     "output_type": "stream",
     "text": [
      "/home/gian/anaconda3/lib/python3.12/site-packages/sklearn/svm/_base.py:297: ConvergenceWarning: Solver terminated early (max_iter=1000000).  Consider pre-processing your data with StandardScaler or MinMaxScaler.\n",
      "  warnings.warn(\n"
     ]
    },
    {
     "name": "stdout",
     "output_type": "stream",
     "text": [
      "[CV] END ..............C=10, degree=4, gamma=10, kernel=poly; total time=  11.7s\n"
     ]
    },
    {
     "name": "stderr",
     "output_type": "stream",
     "text": [
      "/home/gian/anaconda3/lib/python3.12/site-packages/sklearn/svm/_base.py:297: ConvergenceWarning: Solver terminated early (max_iter=1000000).  Consider pre-processing your data with StandardScaler or MinMaxScaler.\n",
      "  warnings.warn(\n"
     ]
    },
    {
     "name": "stdout",
     "output_type": "stream",
     "text": [
      "[CV] END ........C=100, degree=3, gamma=0.001, kernel=linear; total time=   0.7s\n",
      "[CV] END ..........C=100, degree=3, gamma=0.001, kernel=poly; total time=   0.0s\n",
      "[CV] END ..........C=100, degree=3, gamma=0.001, kernel=poly; total time=   0.0s\n",
      "[CV] END ..........C=100, degree=3, gamma=0.001, kernel=poly; total time=   0.0s\n",
      "[CV] END ..........C=100, degree=3, gamma=0.001, kernel=poly; total time=   0.0s\n",
      "[CV] END ..........C=100, degree=3, gamma=0.001, kernel=poly; total time=   0.0s\n",
      "[CV] END ...........C=100, degree=3, gamma=0.001, kernel=rbf; total time=   0.0s\n",
      "[CV] END ...........C=100, degree=3, gamma=0.001, kernel=rbf; total time=   0.0s\n",
      "[CV] END ...........C=100, degree=3, gamma=0.001, kernel=rbf; total time=   0.0s\n",
      "[CV] END ..............C=10, degree=4, gamma=10, kernel=poly; total time=  11.6s\n",
      "[CV] END ...........C=100, degree=3, gamma=0.001, kernel=rbf; total time=   0.0s\n",
      "[CV] END ...........C=100, degree=3, gamma=0.001, kernel=rbf; total time=   0.0s\n",
      "[CV] END ........C=100, degree=3, gamma=0.001, kernel=linear; total time=   1.0s\n"
     ]
    },
    {
     "name": "stderr",
     "output_type": "stream",
     "text": [
      "/home/gian/anaconda3/lib/python3.12/site-packages/sklearn/svm/_base.py:297: ConvergenceWarning: Solver terminated early (max_iter=1000000).  Consider pre-processing your data with StandardScaler or MinMaxScaler.\n",
      "  warnings.warn(\n",
      "/home/gian/anaconda3/lib/python3.12/site-packages/sklearn/svm/_base.py:297: ConvergenceWarning: Solver terminated early (max_iter=1000000).  Consider pre-processing your data with StandardScaler or MinMaxScaler.\n",
      "  warnings.warn(\n",
      "/home/gian/anaconda3/lib/python3.12/site-packages/sklearn/svm/_base.py:297: ConvergenceWarning: Solver terminated early (max_iter=1000000).  Consider pre-processing your data with StandardScaler or MinMaxScaler.\n",
      "  warnings.warn(\n"
     ]
    },
    {
     "name": "stdout",
     "output_type": "stream",
     "text": [
      "[CV] END ........C=100, degree=3, gamma=0.001, kernel=linear; total time=   0.9s\n"
     ]
    },
    {
     "name": "stderr",
     "output_type": "stream",
     "text": [
      "/home/gian/anaconda3/lib/python3.12/site-packages/sklearn/svm/_base.py:297: ConvergenceWarning: Solver terminated early (max_iter=1000000).  Consider pre-processing your data with StandardScaler or MinMaxScaler.\n",
      "  warnings.warn(\n",
      "/home/gian/anaconda3/lib/python3.12/site-packages/sklearn/svm/_base.py:297: ConvergenceWarning: Solver terminated early (max_iter=1000000).  Consider pre-processing your data with StandardScaler or MinMaxScaler.\n",
      "  warnings.warn(\n",
      "/home/gian/anaconda3/lib/python3.12/site-packages/sklearn/svm/_base.py:297: ConvergenceWarning: Solver terminated early (max_iter=1000000).  Consider pre-processing your data with StandardScaler or MinMaxScaler.\n",
      "  warnings.warn(\n",
      "/home/gian/anaconda3/lib/python3.12/site-packages/sklearn/svm/_base.py:297: ConvergenceWarning: Solver terminated early (max_iter=1000000).  Consider pre-processing your data with StandardScaler or MinMaxScaler.\n",
      "  warnings.warn(\n"
     ]
    },
    {
     "name": "stdout",
     "output_type": "stream",
     "text": [
      "[CV] END .........C=100, degree=3, gamma=0.01, kernel=linear; total time=   0.8s\n",
      "[CV] END .........C=100, degree=3, gamma=0.01, kernel=linear; total time=   0.9s\n",
      "[CV] END ..............C=100, degree=2, gamma=1, kernel=poly; total time=   6.9s\n",
      "[CV] END .........C=100, degree=3, gamma=0.01, kernel=linear; total time=   0.9s\n",
      "[CV] END ...........C=100, degree=3, gamma=0.01, kernel=poly; total time=   0.0s\n",
      "[CV] END ...........C=100, degree=3, gamma=0.01, kernel=poly; total time=   0.0s[CV] END ...........C=100, degree=3, gamma=0.01, kernel=poly; total time=   0.0s\n",
      "\n",
      "[CV] END ...........C=100, degree=3, gamma=0.01, kernel=poly; total time=   0.0s\n",
      "[CV] END ...........C=100, degree=3, gamma=0.01, kernel=poly; total time=   0.0s\n",
      "[CV] END ............C=100, degree=3, gamma=0.01, kernel=rbf; total time=   0.0s\n",
      "[CV] END ............C=100, degree=3, gamma=0.01, kernel=rbf; total time=   0.0s\n",
      "[CV] END ............C=100, degree=3, gamma=0.01, kernel=rbf; total time=   0.1s\n",
      "[CV] END ............C=100, degree=3, gamma=0.01, kernel=rbf; total time=   0.0s\n",
      "[CV] END ............C=100, degree=3, gamma=0.01, kernel=rbf; total time=   0.0s\n",
      "[CV] END ..............C=100, degree=2, gamma=1, kernel=poly; total time=   7.0s\n",
      "[CV] END .........C=100, degree=3, gamma=0.01, kernel=linear; total time=   0.9s\n"
     ]
    },
    {
     "name": "stderr",
     "output_type": "stream",
     "text": [
      "/home/gian/anaconda3/lib/python3.12/site-packages/sklearn/svm/_base.py:297: ConvergenceWarning: Solver terminated early (max_iter=1000000).  Consider pre-processing your data with StandardScaler or MinMaxScaler.\n",
      "  warnings.warn(\n",
      "/home/gian/anaconda3/lib/python3.12/site-packages/sklearn/svm/_base.py:297: ConvergenceWarning: Solver terminated early (max_iter=1000000).  Consider pre-processing your data with StandardScaler or MinMaxScaler.\n",
      "  warnings.warn(\n",
      "/home/gian/anaconda3/lib/python3.12/site-packages/sklearn/svm/_base.py:297: ConvergenceWarning: Solver terminated early (max_iter=1000000).  Consider pre-processing your data with StandardScaler or MinMaxScaler.\n",
      "  warnings.warn(\n",
      "/home/gian/anaconda3/lib/python3.12/site-packages/sklearn/svm/_base.py:297: ConvergenceWarning: Solver terminated early (max_iter=1000000).  Consider pre-processing your data with StandardScaler or MinMaxScaler.\n",
      "  warnings.warn(\n",
      "/home/gian/anaconda3/lib/python3.12/site-packages/sklearn/svm/_base.py:297: ConvergenceWarning: Solver terminated early (max_iter=1000000).  Consider pre-processing your data with StandardScaler or MinMaxScaler.\n",
      "  warnings.warn(\n"
     ]
    },
    {
     "name": "stdout",
     "output_type": "stream",
     "text": [
      "[CV] END ..............C=100, degree=2, gamma=1, kernel=poly; total time=   7.5s\n",
      "[CV] END .........C=100, degree=3, gamma=0.01, kernel=linear; total time=   0.8s\n",
      "[CV] END ..........C=100, degree=3, gamma=0.1, kernel=linear; total time=   0.7s\n"
     ]
    },
    {
     "name": "stderr",
     "output_type": "stream",
     "text": [
      "/home/gian/anaconda3/lib/python3.12/site-packages/sklearn/svm/_base.py:297: ConvergenceWarning: Solver terminated early (max_iter=1000000).  Consider pre-processing your data with StandardScaler or MinMaxScaler.\n",
      "  warnings.warn(\n",
      "/home/gian/anaconda3/lib/python3.12/site-packages/sklearn/svm/_base.py:297: ConvergenceWarning: Solver terminated early (max_iter=1000000).  Consider pre-processing your data with StandardScaler or MinMaxScaler.\n",
      "  warnings.warn(\n",
      "/home/gian/anaconda3/lib/python3.12/site-packages/sklearn/svm/_base.py:297: ConvergenceWarning: Solver terminated early (max_iter=1000000).  Consider pre-processing your data with StandardScaler or MinMaxScaler.\n",
      "  warnings.warn(\n",
      "/home/gian/anaconda3/lib/python3.12/site-packages/sklearn/svm/_base.py:297: ConvergenceWarning: Solver terminated early (max_iter=1000000).  Consider pre-processing your data with StandardScaler or MinMaxScaler.\n",
      "  warnings.warn(\n"
     ]
    },
    {
     "name": "stdout",
     "output_type": "stream",
     "text": [
      "[CV] END ..............C=100, degree=2, gamma=1, kernel=poly; total time=   7.6s\n",
      "[CV] END ..............C=100, degree=2, gamma=1, kernel=poly; total time=   7.0s\n",
      "[CV] END ..........C=100, degree=3, gamma=0.1, kernel=linear; total time=   0.9s\n",
      "[CV] END ..........C=100, degree=3, gamma=0.1, kernel=linear; total time=   0.9s\n"
     ]
    },
    {
     "name": "stderr",
     "output_type": "stream",
     "text": [
      "/home/gian/anaconda3/lib/python3.12/site-packages/sklearn/svm/_base.py:297: ConvergenceWarning: Solver terminated early (max_iter=1000000).  Consider pre-processing your data with StandardScaler or MinMaxScaler.\n",
      "  warnings.warn(\n",
      "/home/gian/anaconda3/lib/python3.12/site-packages/sklearn/svm/_base.py:297: ConvergenceWarning: Solver terminated early (max_iter=1000000).  Consider pre-processing your data with StandardScaler or MinMaxScaler.\n",
      "  warnings.warn(\n",
      "/home/gian/anaconda3/lib/python3.12/site-packages/sklearn/svm/_base.py:297: ConvergenceWarning: Solver terminated early (max_iter=1000000).  Consider pre-processing your data with StandardScaler or MinMaxScaler.\n",
      "  warnings.warn(\n"
     ]
    },
    {
     "name": "stdout",
     "output_type": "stream",
     "text": [
      "[CV] END ...............C=1, degree=3, gamma=10, kernel=poly; total time=  10.9s\n",
      "[CV] END .............C=100, degree=3, gamma=0.1, kernel=rbf; total time=   0.2s\n",
      "[CV] END ..........C=100, degree=3, gamma=0.1, kernel=linear; total time=   1.1s\n",
      "[CV] END ..........C=100, degree=3, gamma=0.1, kernel=linear; total time=   0.9s\n",
      "[CV] END .............C=100, degree=3, gamma=0.1, kernel=rbf; total time=   0.2s\n",
      "[CV] END .............C=100, degree=3, gamma=0.1, kernel=rbf; total time=   0.1s\n",
      "[CV] END .............C=100, degree=3, gamma=0.1, kernel=rbf; total time=   0.2s\n",
      "[CV] END ............C=100, degree=3, gamma=0.1, kernel=poly; total time=   0.7s\n",
      "[CV] END .............C=100, degree=3, gamma=0.1, kernel=rbf; total time=   0.2s\n",
      "[CV] END ............C=100, degree=3, gamma=0.1, kernel=poly; total time=   0.8s\n",
      "[CV] END ............C=100, degree=3, gamma=0.1, kernel=poly; total time=   1.1s\n",
      "[CV] END ............C=100, degree=3, gamma=0.1, kernel=poly; total time=   1.3s\n",
      "[CV] END ............C=100, degree=3, gamma=1, kernel=linear; total time=   0.8s\n"
     ]
    },
    {
     "name": "stderr",
     "output_type": "stream",
     "text": [
      "/home/gian/anaconda3/lib/python3.12/site-packages/sklearn/svm/_base.py:297: ConvergenceWarning: Solver terminated early (max_iter=1000000).  Consider pre-processing your data with StandardScaler or MinMaxScaler.\n",
      "  warnings.warn(\n",
      "/home/gian/anaconda3/lib/python3.12/site-packages/sklearn/svm/_base.py:297: ConvergenceWarning: Solver terminated early (max_iter=1000000).  Consider pre-processing your data with StandardScaler or MinMaxScaler.\n",
      "  warnings.warn(\n",
      "/home/gian/anaconda3/lib/python3.12/site-packages/sklearn/svm/_base.py:297: ConvergenceWarning: Solver terminated early (max_iter=1000000).  Consider pre-processing your data with StandardScaler or MinMaxScaler.\n",
      "  warnings.warn(\n",
      "/home/gian/anaconda3/lib/python3.12/site-packages/sklearn/svm/_base.py:297: ConvergenceWarning: Solver terminated early (max_iter=1000000).  Consider pre-processing your data with StandardScaler or MinMaxScaler.\n",
      "  warnings.warn(\n",
      "/home/gian/anaconda3/lib/python3.12/site-packages/sklearn/svm/_base.py:297: ConvergenceWarning: Solver terminated early (max_iter=1000000).  Consider pre-processing your data with StandardScaler or MinMaxScaler.\n",
      "  warnings.warn(\n"
     ]
    },
    {
     "name": "stdout",
     "output_type": "stream",
     "text": [
      "[CV] END ............C=100, degree=3, gamma=0.1, kernel=poly; total time=   1.2s\n",
      "[CV] END ............C=100, degree=3, gamma=1, kernel=linear; total time=   1.0s\n",
      "[CV] END ............C=100, degree=3, gamma=1, kernel=linear; total time=   1.0s\n",
      "[CV] END ............C=100, degree=3, gamma=1, kernel=linear; total time=   0.9s\n",
      "[CV] END ............C=100, degree=3, gamma=1, kernel=linear; total time=   0.9s\n",
      "[CV] END ...............C=100, degree=3, gamma=1, kernel=rbf; total time=   0.2s\n",
      "[CV] END ...............C=100, degree=3, gamma=1, kernel=rbf; total time=   0.2s\n",
      "[CV] END ...............C=100, degree=3, gamma=1, kernel=rbf; total time=   0.2s\n",
      "[CV] END ...............C=100, degree=3, gamma=1, kernel=rbf; total time=   0.2s\n",
      "[CV] END ...............C=100, degree=3, gamma=1, kernel=rbf; total time=   0.3s\n"
     ]
    },
    {
     "name": "stderr",
     "output_type": "stream",
     "text": [
      "/home/gian/anaconda3/lib/python3.12/site-packages/sklearn/svm/_base.py:297: ConvergenceWarning: Solver terminated early (max_iter=1000000).  Consider pre-processing your data with StandardScaler or MinMaxScaler.\n",
      "  warnings.warn(\n",
      "/home/gian/anaconda3/lib/python3.12/site-packages/sklearn/svm/_base.py:297: ConvergenceWarning: Solver terminated early (max_iter=1000000).  Consider pre-processing your data with StandardScaler or MinMaxScaler.\n",
      "  warnings.warn(\n",
      "/home/gian/anaconda3/lib/python3.12/site-packages/sklearn/svm/_base.py:297: ConvergenceWarning: Solver terminated early (max_iter=1000000).  Consider pre-processing your data with StandardScaler or MinMaxScaler.\n",
      "  warnings.warn(\n",
      "/home/gian/anaconda3/lib/python3.12/site-packages/sklearn/svm/_base.py:297: ConvergenceWarning: Solver terminated early (max_iter=1000000).  Consider pre-processing your data with StandardScaler or MinMaxScaler.\n",
      "  warnings.warn(\n"
     ]
    },
    {
     "name": "stdout",
     "output_type": "stream",
     "text": [
      "[CV] END ...........C=100, degree=3, gamma=10, kernel=linear; total time=   0.8s\n",
      "[CV] END ...........C=100, degree=3, gamma=10, kernel=linear; total time=   0.8s\n",
      "[CV] END ...........C=100, degree=3, gamma=10, kernel=linear; total time=   0.9s\n",
      "[CV] END ...........C=100, degree=3, gamma=10, kernel=linear; total time=   0.9s\n"
     ]
    },
    {
     "name": "stderr",
     "output_type": "stream",
     "text": [
      "/home/gian/anaconda3/lib/python3.12/site-packages/sklearn/svm/_base.py:297: ConvergenceWarning: Solver terminated early (max_iter=1000000).  Consider pre-processing your data with StandardScaler or MinMaxScaler.\n",
      "  warnings.warn(\n"
     ]
    },
    {
     "name": "stdout",
     "output_type": "stream",
     "text": [
      "[CV] END ...........C=100, degree=3, gamma=10, kernel=linear; total time=   1.1s\n"
     ]
    },
    {
     "name": "stderr",
     "output_type": "stream",
     "text": [
      "/home/gian/anaconda3/lib/python3.12/site-packages/sklearn/svm/_base.py:297: ConvergenceWarning: Solver terminated early (max_iter=1000000).  Consider pre-processing your data with StandardScaler or MinMaxScaler.\n",
      "  warnings.warn(\n",
      "/home/gian/anaconda3/lib/python3.12/site-packages/sklearn/svm/_base.py:297: ConvergenceWarning: Solver terminated early (max_iter=1000000).  Consider pre-processing your data with StandardScaler or MinMaxScaler.\n",
      "  warnings.warn(\n"
     ]
    },
    {
     "name": "stdout",
     "output_type": "stream",
     "text": [
      "[CV] END ...............C=1, degree=4, gamma=10, kernel=poly; total time=  11.4s\n",
      "[CV] END ................C=1, degree=4, gamma=10, kernel=rbf; total time=   0.0s\n",
      "[CV] END ................C=1, degree=4, gamma=10, kernel=rbf; total time=   0.0s\n",
      "[CV] END ................C=1, degree=4, gamma=10, kernel=rbf; total time=   0.1s\n",
      "[CV] END ................C=1, degree=4, gamma=1, kernel=poly; total time=   9.4s\n",
      "[CV] END ................C=1, degree=4, gamma=10, kernel=rbf; total time=   0.1s\n",
      "[CV] END .................C=1, degree=4, gamma=1, kernel=rbf; total time=   0.0s\n",
      "[CV] END .................C=1, degree=4, gamma=1, kernel=rbf; total time=   0.0s\n",
      "[CV] END .................C=1, degree=4, gamma=1, kernel=rbf; total time=   0.0s\n",
      "[CV] END ..............C=100, degree=3, gamma=10, kernel=rbf; total time=   0.1s\n",
      "[CV] END ..............C=100, degree=3, gamma=10, kernel=rbf; total time=   0.1s\n",
      "[CV] END ..............C=100, degree=3, gamma=10, kernel=rbf; total time=   0.3s\n",
      "[CV] END ..............C=100, degree=3, gamma=10, kernel=rbf; total time=   0.1s\n",
      "[CV] END ..............C=100, degree=3, gamma=10, kernel=rbf; total time=   0.2s\n",
      "[CV] END .............C=100, degree=2, gamma=10, kernel=poly; total time=  10.0s\n"
     ]
    },
    {
     "name": "stderr",
     "output_type": "stream",
     "text": [
      "/home/gian/anaconda3/lib/python3.12/site-packages/sklearn/svm/_base.py:297: ConvergenceWarning: Solver terminated early (max_iter=1000000).  Consider pre-processing your data with StandardScaler or MinMaxScaler.\n",
      "  warnings.warn(\n",
      "/home/gian/anaconda3/lib/python3.12/site-packages/sklearn/svm/_base.py:297: ConvergenceWarning: Solver terminated early (max_iter=1000000).  Consider pre-processing your data with StandardScaler or MinMaxScaler.\n",
      "  warnings.warn(\n",
      "/home/gian/anaconda3/lib/python3.12/site-packages/sklearn/svm/_base.py:297: ConvergenceWarning: Solver terminated early (max_iter=1000000).  Consider pre-processing your data with StandardScaler or MinMaxScaler.\n",
      "  warnings.warn(\n",
      "/home/gian/anaconda3/lib/python3.12/site-packages/sklearn/svm/_base.py:297: ConvergenceWarning: Solver terminated early (max_iter=1000000).  Consider pre-processing your data with StandardScaler or MinMaxScaler.\n",
      "  warnings.warn(\n"
     ]
    },
    {
     "name": "stdout",
     "output_type": "stream",
     "text": [
      "[CV] END .............C=0.1, degree=3, gamma=10, kernel=poly; total time=  10.1s\n",
      "[CV] END .............C=100, degree=2, gamma=10, kernel=poly; total time=  10.7s\n",
      "[CV] END ........C=100, degree=4, gamma=0.001, kernel=linear; total time=   1.0s\n",
      "[CV] END ..........C=100, degree=4, gamma=0.001, kernel=poly; total time=   0.0s\n",
      "[CV] END ..........C=100, degree=4, gamma=0.001, kernel=poly; total time=   0.0s\n",
      "[CV] END ........C=100, degree=4, gamma=0.001, kernel=linear; total time=   0.7s\n",
      "[CV] END ..........C=100, degree=4, gamma=0.001, kernel=poly; total time=   0.0s\n",
      "[CV] END ..........C=100, degree=4, gamma=0.001, kernel=poly; total time=   0.0s\n",
      "[CV] END ..........C=100, degree=4, gamma=0.001, kernel=poly; total time=   0.0s\n",
      "[CV] END ........C=100, degree=4, gamma=0.001, kernel=linear; total time=   0.9s\n",
      "[CV] END .............C=100, degree=2, gamma=10, kernel=poly; total time=  10.9s\n",
      "[CV] END ...........C=100, degree=4, gamma=0.001, kernel=rbf; total time=   0.0s\n",
      "[CV] END ...........C=100, degree=4, gamma=0.001, kernel=rbf; total time=   0.0s\n",
      "[CV] END ...........C=100, degree=4, gamma=0.001, kernel=rbf; total time=   0.0s\n",
      "[CV] END ...........C=100, degree=4, gamma=0.001, kernel=rbf; total time=   0.0s\n",
      "[CV] END ...........C=100, degree=4, gamma=0.001, kernel=rbf; total time=   0.0s\n",
      "[CV] END .............C=100, degree=2, gamma=10, kernel=poly; total time=  10.7s\n"
     ]
    },
    {
     "name": "stderr",
     "output_type": "stream",
     "text": [
      "/home/gian/anaconda3/lib/python3.12/site-packages/sklearn/svm/_base.py:297: ConvergenceWarning: Solver terminated early (max_iter=1000000).  Consider pre-processing your data with StandardScaler or MinMaxScaler.\n",
      "  warnings.warn(\n",
      "/home/gian/anaconda3/lib/python3.12/site-packages/sklearn/svm/_base.py:297: ConvergenceWarning: Solver terminated early (max_iter=1000000).  Consider pre-processing your data with StandardScaler or MinMaxScaler.\n",
      "  warnings.warn(\n",
      "/home/gian/anaconda3/lib/python3.12/site-packages/sklearn/svm/_base.py:297: ConvergenceWarning: Solver terminated early (max_iter=1000000).  Consider pre-processing your data with StandardScaler or MinMaxScaler.\n",
      "  warnings.warn(\n",
      "/home/gian/anaconda3/lib/python3.12/site-packages/sklearn/svm/_base.py:297: ConvergenceWarning: Solver terminated early (max_iter=1000000).  Consider pre-processing your data with StandardScaler or MinMaxScaler.\n",
      "  warnings.warn(\n",
      "/home/gian/anaconda3/lib/python3.12/site-packages/sklearn/svm/_base.py:297: ConvergenceWarning: Solver terminated early (max_iter=1000000).  Consider pre-processing your data with StandardScaler or MinMaxScaler.\n",
      "  warnings.warn(\n"
     ]
    },
    {
     "name": "stdout",
     "output_type": "stream",
     "text": [
      "[CV] END .............C=100, degree=2, gamma=10, kernel=poly; total time=  11.2s\n",
      "[CV] END ...........C=100, degree=4, gamma=0.01, kernel=poly; total time=   0.0s\n",
      "[CV] END ...........C=100, degree=4, gamma=0.01, kernel=poly; total time=   0.0s\n",
      "[CV] END ...........C=100, degree=4, gamma=0.01, kernel=poly; total time=   0.0s\n",
      "[CV] END ...........C=100, degree=4, gamma=0.01, kernel=poly; total time=   0.0s\n",
      "[CV] END ...........C=100, degree=4, gamma=0.01, kernel=poly; total time=   0.0s\n",
      "[CV] END ............C=100, degree=4, gamma=0.01, kernel=rbf; total time=   0.0s\n",
      "[CV] END ............C=100, degree=4, gamma=0.01, kernel=rbf; total time=   0.1s\n",
      "[CV] END ........C=100, degree=4, gamma=0.001, kernel=linear; total time=   0.8s\n",
      "[CV] END ........C=100, degree=4, gamma=0.001, kernel=linear; total time=   0.9s\n",
      "[CV] END ............C=100, degree=4, gamma=0.01, kernel=rbf; total time=   0.1s\n",
      "[CV] END ............C=100, degree=4, gamma=0.01, kernel=rbf; total time=   0.0s\n"
     ]
    },
    {
     "name": "stderr",
     "output_type": "stream",
     "text": [
      "/home/gian/anaconda3/lib/python3.12/site-packages/sklearn/svm/_base.py:297: ConvergenceWarning: Solver terminated early (max_iter=1000000).  Consider pre-processing your data with StandardScaler or MinMaxScaler.\n",
      "  warnings.warn(\n",
      "/home/gian/anaconda3/lib/python3.12/site-packages/sklearn/svm/_base.py:297: ConvergenceWarning: Solver terminated early (max_iter=1000000).  Consider pre-processing your data with StandardScaler or MinMaxScaler.\n",
      "  warnings.warn(\n"
     ]
    },
    {
     "name": "stdout",
     "output_type": "stream",
     "text": [
      "[CV] END ............C=100, degree=4, gamma=0.01, kernel=rbf; total time=   0.1s\n",
      "[CV] END .........C=100, degree=4, gamma=0.01, kernel=linear; total time=   0.8s\n"
     ]
    },
    {
     "name": "stderr",
     "output_type": "stream",
     "text": [
      "/home/gian/anaconda3/lib/python3.12/site-packages/sklearn/svm/_base.py:297: ConvergenceWarning: Solver terminated early (max_iter=1000000).  Consider pre-processing your data with StandardScaler or MinMaxScaler.\n",
      "  warnings.warn(\n",
      "/home/gian/anaconda3/lib/python3.12/site-packages/sklearn/svm/_base.py:297: ConvergenceWarning: Solver terminated early (max_iter=1000000).  Consider pre-processing your data with StandardScaler or MinMaxScaler.\n",
      "  warnings.warn(\n",
      "/home/gian/anaconda3/lib/python3.12/site-packages/sklearn/svm/_base.py:297: ConvergenceWarning: Solver terminated early (max_iter=1000000).  Consider pre-processing your data with StandardScaler or MinMaxScaler.\n",
      "  warnings.warn(\n",
      "/home/gian/anaconda3/lib/python3.12/site-packages/sklearn/svm/_base.py:297: ConvergenceWarning: Solver terminated early (max_iter=1000000).  Consider pre-processing your data with StandardScaler or MinMaxScaler.\n",
      "  warnings.warn(\n"
     ]
    },
    {
     "name": "stdout",
     "output_type": "stream",
     "text": [
      "[CV] END .........C=100, degree=4, gamma=0.01, kernel=linear; total time=   0.8s\n",
      "[CV] END .........C=100, degree=4, gamma=0.01, kernel=linear; total time=   0.9s\n",
      "[CV] END .........C=100, degree=4, gamma=0.01, kernel=linear; total time=   0.8s\n"
     ]
    },
    {
     "name": "stderr",
     "output_type": "stream",
     "text": [
      "/home/gian/anaconda3/lib/python3.12/site-packages/sklearn/svm/_base.py:297: ConvergenceWarning: Solver terminated early (max_iter=1000000).  Consider pre-processing your data with StandardScaler or MinMaxScaler.\n",
      "  warnings.warn(\n"
     ]
    },
    {
     "name": "stdout",
     "output_type": "stream",
     "text": [
      "[CV] END .........C=100, degree=4, gamma=0.01, kernel=linear; total time=   1.1s\n"
     ]
    },
    {
     "name": "stderr",
     "output_type": "stream",
     "text": [
      "/home/gian/anaconda3/lib/python3.12/site-packages/sklearn/svm/_base.py:297: ConvergenceWarning: Solver terminated early (max_iter=1000000).  Consider pre-processing your data with StandardScaler or MinMaxScaler.\n",
      "  warnings.warn(\n",
      "/home/gian/anaconda3/lib/python3.12/site-packages/sklearn/svm/_base.py:297: ConvergenceWarning: Solver terminated early (max_iter=1000000).  Consider pre-processing your data with StandardScaler or MinMaxScaler.\n",
      "  warnings.warn(\n",
      "/home/gian/anaconda3/lib/python3.12/site-packages/sklearn/svm/_base.py:297: ConvergenceWarning: Solver terminated early (max_iter=1000000).  Consider pre-processing your data with StandardScaler or MinMaxScaler.\n",
      "  warnings.warn(\n"
     ]
    },
    {
     "name": "stdout",
     "output_type": "stream",
     "text": [
      "[CV] END ..........C=100, degree=4, gamma=0.1, kernel=linear; total time=   0.8s\n",
      "[CV] END ..........C=100, degree=4, gamma=0.1, kernel=linear; total time=   0.8s\n",
      "[CV] END ..........C=100, degree=4, gamma=0.1, kernel=linear; total time=   1.0s\n"
     ]
    },
    {
     "name": "stderr",
     "output_type": "stream",
     "text": [
      "/home/gian/anaconda3/lib/python3.12/site-packages/sklearn/svm/_base.py:297: ConvergenceWarning: Solver terminated early (max_iter=1000000).  Consider pre-processing your data with StandardScaler or MinMaxScaler.\n",
      "  warnings.warn(\n",
      "/home/gian/anaconda3/lib/python3.12/site-packages/sklearn/svm/_base.py:297: ConvergenceWarning: Solver terminated early (max_iter=1000000).  Consider pre-processing your data with StandardScaler or MinMaxScaler.\n",
      "  warnings.warn(\n"
     ]
    },
    {
     "name": "stdout",
     "output_type": "stream",
     "text": [
      "[CV] END ..........C=100, degree=4, gamma=0.1, kernel=linear; total time=   0.8s\n",
      "[CV] END ..........C=100, degree=4, gamma=0.1, kernel=linear; total time=   0.9s\n",
      "[CV] END .............C=100, degree=4, gamma=0.1, kernel=rbf; total time=   0.1s\n",
      "[CV] END .............C=100, degree=4, gamma=0.1, kernel=rbf; total time=   0.1s\n",
      "[CV] END .............C=100, degree=4, gamma=0.1, kernel=rbf; total time=   0.1s\n",
      "[CV] END ............C=100, degree=4, gamma=0.1, kernel=poly; total time=   1.0s\n",
      "[CV] END .............C=100, degree=4, gamma=0.1, kernel=rbf; total time=   0.2s\n",
      "[CV] END .............C=100, degree=4, gamma=0.1, kernel=rbf; total time=   0.1s\n",
      "[CV] END ............C=100, degree=4, gamma=0.1, kernel=poly; total time=   1.2s\n",
      "[CV] END ............C=100, degree=4, gamma=1, kernel=linear; total time=   0.9s\n"
     ]
    },
    {
     "name": "stderr",
     "output_type": "stream",
     "text": [
      "/home/gian/anaconda3/lib/python3.12/site-packages/sklearn/svm/_base.py:297: ConvergenceWarning: Solver terminated early (max_iter=1000000).  Consider pre-processing your data with StandardScaler or MinMaxScaler.\n",
      "  warnings.warn(\n",
      "/home/gian/anaconda3/lib/python3.12/site-packages/sklearn/svm/_base.py:297: ConvergenceWarning: Solver terminated early (max_iter=1000000).  Consider pre-processing your data with StandardScaler or MinMaxScaler.\n",
      "  warnings.warn(\n",
      "/home/gian/anaconda3/lib/python3.12/site-packages/sklearn/svm/_base.py:297: ConvergenceWarning: Solver terminated early (max_iter=1000000).  Consider pre-processing your data with StandardScaler or MinMaxScaler.\n",
      "  warnings.warn(\n"
     ]
    },
    {
     "name": "stdout",
     "output_type": "stream",
     "text": [
      "[CV] END ............C=100, degree=4, gamma=1, kernel=linear; total time=   0.9s\n",
      "[CV] END ............C=100, degree=4, gamma=1, kernel=linear; total time=   1.0s\n",
      "[CV] END ............C=100, degree=4, gamma=0.1, kernel=poly; total time=   1.5s\n",
      "[CV] END ............C=100, degree=4, gamma=1, kernel=linear; total time=   1.1s\n"
     ]
    },
    {
     "name": "stderr",
     "output_type": "stream",
     "text": [
      "/home/gian/anaconda3/lib/python3.12/site-packages/sklearn/svm/_base.py:297: ConvergenceWarning: Solver terminated early (max_iter=1000000).  Consider pre-processing your data with StandardScaler or MinMaxScaler.\n",
      "  warnings.warn(\n"
     ]
    },
    {
     "name": "stdout",
     "output_type": "stream",
     "text": [
      "[CV] END ............C=100, degree=4, gamma=0.1, kernel=poly; total time=   2.2s\n",
      "[CV] END ............C=100, degree=4, gamma=0.1, kernel=poly; total time=   2.2s\n",
      "[CV] END ...............C=100, degree=4, gamma=1, kernel=rbf; total time=   0.2s\n",
      "[CV] END ...............C=100, degree=4, gamma=1, kernel=rbf; total time=   0.3s\n",
      "[CV] END ...............C=100, degree=4, gamma=1, kernel=rbf; total time=   0.2s\n",
      "[CV] END ............C=100, degree=4, gamma=1, kernel=linear; total time=   1.0s\n",
      "[CV] END ...............C=100, degree=4, gamma=1, kernel=rbf; total time=   0.2s\n"
     ]
    },
    {
     "name": "stderr",
     "output_type": "stream",
     "text": [
      "/home/gian/anaconda3/lib/python3.12/site-packages/sklearn/svm/_base.py:297: ConvergenceWarning: Solver terminated early (max_iter=1000000).  Consider pre-processing your data with StandardScaler or MinMaxScaler.\n",
      "  warnings.warn(\n"
     ]
    },
    {
     "name": "stdout",
     "output_type": "stream",
     "text": [
      "[CV] END ...............C=100, degree=4, gamma=1, kernel=rbf; total time=   0.2s\n"
     ]
    },
    {
     "name": "stderr",
     "output_type": "stream",
     "text": [
      "/home/gian/anaconda3/lib/python3.12/site-packages/sklearn/svm/_base.py:297: ConvergenceWarning: Solver terminated early (max_iter=1000000).  Consider pre-processing your data with StandardScaler or MinMaxScaler.\n",
      "  warnings.warn(\n",
      "/home/gian/anaconda3/lib/python3.12/site-packages/sklearn/svm/_base.py:297: ConvergenceWarning: Solver terminated early (max_iter=1000000).  Consider pre-processing your data with StandardScaler or MinMaxScaler.\n",
      "  warnings.warn(\n",
      "/home/gian/anaconda3/lib/python3.12/site-packages/sklearn/svm/_base.py:297: ConvergenceWarning: Solver terminated early (max_iter=1000000).  Consider pre-processing your data with StandardScaler or MinMaxScaler.\n",
      "  warnings.warn(\n"
     ]
    },
    {
     "name": "stdout",
     "output_type": "stream",
     "text": [
      "[CV] END ...........C=100, degree=4, gamma=10, kernel=linear; total time=   0.8s\n",
      "[CV] END ...........C=100, degree=4, gamma=10, kernel=linear; total time=   0.8s\n",
      "[CV] END ...........C=100, degree=4, gamma=10, kernel=linear; total time=   1.0s\n"
     ]
    },
    {
     "name": "stderr",
     "output_type": "stream",
     "text": [
      "/home/gian/anaconda3/lib/python3.12/site-packages/sklearn/svm/_base.py:297: ConvergenceWarning: Solver terminated early (max_iter=1000000).  Consider pre-processing your data with StandardScaler or MinMaxScaler.\n",
      "  warnings.warn(\n"
     ]
    },
    {
     "name": "stdout",
     "output_type": "stream",
     "text": [
      "[CV] END ..............C=100, degree=3, gamma=1, kernel=poly; total time=   9.3s\n"
     ]
    },
    {
     "name": "stderr",
     "output_type": "stream",
     "text": [
      "/home/gian/anaconda3/lib/python3.12/site-packages/sklearn/svm/_base.py:297: ConvergenceWarning: Solver terminated early (max_iter=1000000).  Consider pre-processing your data with StandardScaler or MinMaxScaler.\n",
      "  warnings.warn(\n",
      "/home/gian/anaconda3/lib/python3.12/site-packages/sklearn/svm/_base.py:297: ConvergenceWarning: Solver terminated early (max_iter=1000000).  Consider pre-processing your data with StandardScaler or MinMaxScaler.\n",
      "  warnings.warn(\n"
     ]
    },
    {
     "name": "stdout",
     "output_type": "stream",
     "text": [
      "[CV] END ...........C=100, degree=4, gamma=10, kernel=linear; total time=   0.8s\n",
      "[CV] END ...........C=100, degree=4, gamma=10, kernel=linear; total time=   0.9s\n"
     ]
    },
    {
     "name": "stderr",
     "output_type": "stream",
     "text": [
      "/home/gian/anaconda3/lib/python3.12/site-packages/sklearn/svm/_base.py:297: ConvergenceWarning: Solver terminated early (max_iter=1000000).  Consider pre-processing your data with StandardScaler or MinMaxScaler.\n",
      "  warnings.warn(\n",
      "/home/gian/anaconda3/lib/python3.12/site-packages/sklearn/svm/_base.py:297: ConvergenceWarning: Solver terminated early (max_iter=1000000).  Consider pre-processing your data with StandardScaler or MinMaxScaler.\n",
      "  warnings.warn(\n"
     ]
    },
    {
     "name": "stdout",
     "output_type": "stream",
     "text": [
      "[CV] END ..............C=100, degree=3, gamma=1, kernel=poly; total time=  10.3s\n",
      "[CV] END ..............C=100, degree=3, gamma=1, kernel=poly; total time=  10.8s\n",
      "[CV] END ..............C=100, degree=4, gamma=10, kernel=rbf; total time=   0.2s\n",
      "[CV] END ..............C=100, degree=4, gamma=10, kernel=rbf; total time=   0.2s\n",
      "[CV] END ..............C=100, degree=3, gamma=1, kernel=poly; total time=  10.8s\n",
      "[CV] END ..............C=100, degree=4, gamma=10, kernel=rbf; total time=   0.1s\n"
     ]
    },
    {
     "name": "stderr",
     "output_type": "stream",
     "text": [
      "/home/gian/anaconda3/lib/python3.12/site-packages/sklearn/svm/_base.py:297: ConvergenceWarning: Solver terminated early (max_iter=1000000).  Consider pre-processing your data with StandardScaler or MinMaxScaler.\n",
      "  warnings.warn(\n",
      "/home/gian/anaconda3/lib/python3.12/site-packages/sklearn/svm/_base.py:297: ConvergenceWarning: Solver terminated early (max_iter=1000000).  Consider pre-processing your data with StandardScaler or MinMaxScaler.\n",
      "  warnings.warn(\n"
     ]
    },
    {
     "name": "stdout",
     "output_type": "stream",
     "text": [
      "[CV] END ..............C=100, degree=4, gamma=10, kernel=rbf; total time=   0.2s\n",
      "[CV] END ..............C=100, degree=3, gamma=1, kernel=poly; total time=  10.8s\n",
      "[CV] END ..............C=100, degree=4, gamma=10, kernel=rbf; total time=   0.1s\n"
     ]
    },
    {
     "name": "stderr",
     "output_type": "stream",
     "text": [
      "/home/gian/anaconda3/lib/python3.12/site-packages/sklearn/svm/_base.py:297: ConvergenceWarning: Solver terminated early (max_iter=1000000).  Consider pre-processing your data with StandardScaler or MinMaxScaler.\n",
      "  warnings.warn(\n",
      "/home/gian/anaconda3/lib/python3.12/site-packages/sklearn/svm/_base.py:297: ConvergenceWarning: Solver terminated early (max_iter=1000000).  Consider pre-processing your data with StandardScaler or MinMaxScaler.\n",
      "  warnings.warn(\n"
     ]
    },
    {
     "name": "stdout",
     "output_type": "stream",
     "text": [
      "[CV] END .............C=100, degree=3, gamma=10, kernel=poly; total time=  11.0s\n",
      "[CV] END .............C=100, degree=3, gamma=10, kernel=poly; total time=  11.1s\n"
     ]
    },
    {
     "name": "stderr",
     "output_type": "stream",
     "text": [
      "/home/gian/anaconda3/lib/python3.12/site-packages/sklearn/svm/_base.py:297: ConvergenceWarning: Solver terminated early (max_iter=1000000).  Consider pre-processing your data with StandardScaler or MinMaxScaler.\n",
      "  warnings.warn(\n",
      "/home/gian/anaconda3/lib/python3.12/site-packages/sklearn/svm/_base.py:297: ConvergenceWarning: Solver terminated early (max_iter=1000000).  Consider pre-processing your data with StandardScaler or MinMaxScaler.\n",
      "  warnings.warn(\n"
     ]
    },
    {
     "name": "stdout",
     "output_type": "stream",
     "text": [
      "[CV] END .............C=100, degree=3, gamma=10, kernel=poly; total time=  11.2s\n",
      "[CV] END .........C=1000, degree=2, gamma=0.001, kernel=poly; total time=   0.0s\n",
      "[CV] END .........C=1000, degree=2, gamma=0.001, kernel=poly; total time=   0.0s\n",
      "[CV] END .........C=1000, degree=2, gamma=0.001, kernel=poly; total time=   0.0s\n",
      "[CV] END .........C=1000, degree=2, gamma=0.001, kernel=poly; total time=   0.0s\n",
      "[CV] END .............C=100, degree=3, gamma=10, kernel=poly; total time=  11.3s\n",
      "[CV] END .........C=1000, degree=2, gamma=0.001, kernel=poly; total time=   0.0s\n",
      "[CV] END ..........C=1000, degree=2, gamma=0.001, kernel=rbf; total time=   0.1s\n",
      "[CV] END ..........C=1000, degree=2, gamma=0.001, kernel=rbf; total time=   0.1s\n",
      "[CV] END ..........C=1000, degree=2, gamma=0.001, kernel=rbf; total time=   0.1s\n",
      "[CV] END ..........C=1000, degree=2, gamma=0.001, kernel=rbf; total time=   0.1s\n",
      "[CV] END ..........C=1000, degree=2, gamma=0.001, kernel=rbf; total time=   0.1s\n"
     ]
    },
    {
     "name": "stderr",
     "output_type": "stream",
     "text": [
      "/home/gian/anaconda3/lib/python3.12/site-packages/sklearn/svm/_base.py:297: ConvergenceWarning: Solver terminated early (max_iter=1000000).  Consider pre-processing your data with StandardScaler or MinMaxScaler.\n",
      "  warnings.warn(\n"
     ]
    },
    {
     "name": "stdout",
     "output_type": "stream",
     "text": [
      "[CV] END .............C=100, degree=3, gamma=10, kernel=poly; total time=  11.8s\n"
     ]
    },
    {
     "name": "stderr",
     "output_type": "stream",
     "text": [
      "/home/gian/anaconda3/lib/python3.12/site-packages/sklearn/svm/_base.py:297: ConvergenceWarning: Solver terminated early (max_iter=1000000).  Consider pre-processing your data with StandardScaler or MinMaxScaler.\n",
      "  warnings.warn(\n",
      "/home/gian/anaconda3/lib/python3.12/site-packages/sklearn/svm/_base.py:297: ConvergenceWarning: Solver terminated early (max_iter=1000000).  Consider pre-processing your data with StandardScaler or MinMaxScaler.\n",
      "  warnings.warn(\n"
     ]
    },
    {
     "name": "stdout",
     "output_type": "stream",
     "text": [
      "[CV] END .......C=1000, degree=2, gamma=0.001, kernel=linear; total time=   3.0s\n",
      "[CV] END .......C=1000, degree=2, gamma=0.001, kernel=linear; total time=   3.0s\n"
     ]
    },
    {
     "name": "stderr",
     "output_type": "stream",
     "text": [
      "/home/gian/anaconda3/lib/python3.12/site-packages/sklearn/svm/_base.py:297: ConvergenceWarning: Solver terminated early (max_iter=1000000).  Consider pre-processing your data with StandardScaler or MinMaxScaler.\n",
      "  warnings.warn(\n"
     ]
    },
    {
     "name": "stdout",
     "output_type": "stream",
     "text": [
      "[CV] END .......C=1000, degree=2, gamma=0.001, kernel=linear; total time=   3.2s\n",
      "[CV] END ..........C=1000, degree=2, gamma=0.01, kernel=poly; total time=   0.1s\n",
      "[CV] END ..........C=1000, degree=2, gamma=0.01, kernel=poly; total time=   0.1s\n",
      "[CV] END ..........C=1000, degree=2, gamma=0.01, kernel=poly; total time=   0.1s\n",
      "[CV] END ..........C=1000, degree=2, gamma=0.01, kernel=poly; total time=   0.1s\n",
      "[CV] END ..........C=1000, degree=2, gamma=0.01, kernel=poly; total time=   0.1s\n",
      "[CV] END ...........C=1000, degree=2, gamma=0.01, kernel=rbf; total time=   0.2s\n",
      "[CV] END ...........C=1000, degree=2, gamma=0.01, kernel=rbf; total time=   0.3s\n",
      "[CV] END ...........C=1000, degree=2, gamma=0.01, kernel=rbf; total time=   0.2s\n"
     ]
    },
    {
     "name": "stderr",
     "output_type": "stream",
     "text": [
      "/home/gian/anaconda3/lib/python3.12/site-packages/sklearn/svm/_base.py:297: ConvergenceWarning: Solver terminated early (max_iter=1000000).  Consider pre-processing your data with StandardScaler or MinMaxScaler.\n",
      "  warnings.warn(\n",
      "/home/gian/anaconda3/lib/python3.12/site-packages/sklearn/svm/_base.py:297: ConvergenceWarning: Solver terminated early (max_iter=1000000).  Consider pre-processing your data with StandardScaler or MinMaxScaler.\n",
      "  warnings.warn(\n"
     ]
    },
    {
     "name": "stdout",
     "output_type": "stream",
     "text": [
      "[CV] END .......C=1000, degree=2, gamma=0.001, kernel=linear; total time=   3.0s\n",
      "[CV] END .......C=1000, degree=2, gamma=0.001, kernel=linear; total time=   2.9s\n",
      "[CV] END ...........C=1000, degree=2, gamma=0.01, kernel=rbf; total time=   0.2s\n",
      "[CV] END ...........C=1000, degree=2, gamma=0.01, kernel=rbf; total time=   0.2s\n"
     ]
    },
    {
     "name": "stderr",
     "output_type": "stream",
     "text": [
      "/home/gian/anaconda3/lib/python3.12/site-packages/sklearn/svm/_base.py:297: ConvergenceWarning: Solver terminated early (max_iter=1000000).  Consider pre-processing your data with StandardScaler or MinMaxScaler.\n",
      "  warnings.warn(\n",
      "/home/gian/anaconda3/lib/python3.12/site-packages/sklearn/svm/_base.py:297: ConvergenceWarning: Solver terminated early (max_iter=1000000).  Consider pre-processing your data with StandardScaler or MinMaxScaler.\n",
      "  warnings.warn(\n"
     ]
    },
    {
     "name": "stdout",
     "output_type": "stream",
     "text": [
      "[CV] END ........C=1000, degree=2, gamma=0.01, kernel=linear; total time=   3.0s\n",
      "[CV] END ........C=1000, degree=2, gamma=0.01, kernel=linear; total time=   3.2s\n"
     ]
    },
    {
     "name": "stderr",
     "output_type": "stream",
     "text": [
      "/home/gian/anaconda3/lib/python3.12/site-packages/sklearn/svm/_base.py:297: ConvergenceWarning: Solver terminated early (max_iter=1000000).  Consider pre-processing your data with StandardScaler or MinMaxScaler.\n",
      "  warnings.warn(\n"
     ]
    },
    {
     "name": "stdout",
     "output_type": "stream",
     "text": [
      "[CV] END ........C=1000, degree=2, gamma=0.01, kernel=linear; total time=   3.2s\n"
     ]
    },
    {
     "name": "stderr",
     "output_type": "stream",
     "text": [
      "/home/gian/anaconda3/lib/python3.12/site-packages/sklearn/svm/_base.py:297: ConvergenceWarning: Solver terminated early (max_iter=1000000).  Consider pre-processing your data with StandardScaler or MinMaxScaler.\n",
      "  warnings.warn(\n",
      "/home/gian/anaconda3/lib/python3.12/site-packages/sklearn/svm/_base.py:297: ConvergenceWarning: Solver terminated early (max_iter=1000000).  Consider pre-processing your data with StandardScaler or MinMaxScaler.\n",
      "  warnings.warn(\n"
     ]
    },
    {
     "name": "stdout",
     "output_type": "stream",
     "text": [
      "[CV] END ........C=1000, degree=2, gamma=0.01, kernel=linear; total time=   2.7s\n",
      "[CV] END ........C=1000, degree=2, gamma=0.01, kernel=linear; total time=   2.6s\n"
     ]
    },
    {
     "name": "stderr",
     "output_type": "stream",
     "text": [
      "/home/gian/anaconda3/lib/python3.12/site-packages/sklearn/svm/_base.py:297: ConvergenceWarning: Solver terminated early (max_iter=1000000).  Consider pre-processing your data with StandardScaler or MinMaxScaler.\n",
      "  warnings.warn(\n"
     ]
    },
    {
     "name": "stdout",
     "output_type": "stream",
     "text": [
      "[CV] END .........C=1000, degree=2, gamma=0.1, kernel=linear; total time=   2.7s\n"
     ]
    },
    {
     "name": "stderr",
     "output_type": "stream",
     "text": [
      "/home/gian/anaconda3/lib/python3.12/site-packages/sklearn/svm/_base.py:297: ConvergenceWarning: Solver terminated early (max_iter=1000000).  Consider pre-processing your data with StandardScaler or MinMaxScaler.\n",
      "  warnings.warn(\n",
      "/home/gian/anaconda3/lib/python3.12/site-packages/sklearn/svm/_base.py:297: ConvergenceWarning: Solver terminated early (max_iter=1000000).  Consider pre-processing your data with StandardScaler or MinMaxScaler.\n",
      "  warnings.warn(\n",
      "/home/gian/anaconda3/lib/python3.12/site-packages/sklearn/svm/_base.py:297: ConvergenceWarning: Solver terminated early (max_iter=1000000).  Consider pre-processing your data with StandardScaler or MinMaxScaler.\n",
      "  warnings.warn(\n",
      "/home/gian/anaconda3/lib/python3.12/site-packages/sklearn/svm/_base.py:297: ConvergenceWarning: Solver terminated early (max_iter=1000000).  Consider pre-processing your data with StandardScaler or MinMaxScaler.\n",
      "  warnings.warn(\n"
     ]
    },
    {
     "name": "stdout",
     "output_type": "stream",
     "text": [
      "[CV] END ..............C=100, degree=4, gamma=1, kernel=poly; total time=  11.0s\n",
      "[CV] END .........C=1000, degree=2, gamma=0.1, kernel=linear; total time=   2.8s\n",
      "[CV] END ..............C=100, degree=4, gamma=1, kernel=poly; total time=  11.1s\n",
      "[CV] END ..............C=100, degree=4, gamma=1, kernel=poly; total time=  11.1s\n"
     ]
    },
    {
     "name": "stderr",
     "output_type": "stream",
     "text": [
      "/home/gian/anaconda3/lib/python3.12/site-packages/sklearn/svm/_base.py:297: ConvergenceWarning: Solver terminated early (max_iter=1000000).  Consider pre-processing your data with StandardScaler or MinMaxScaler.\n",
      "  warnings.warn(\n",
      "/home/gian/anaconda3/lib/python3.12/site-packages/sklearn/svm/_base.py:297: ConvergenceWarning: Solver terminated early (max_iter=1000000).  Consider pre-processing your data with StandardScaler or MinMaxScaler.\n",
      "  warnings.warn(\n",
      "/home/gian/anaconda3/lib/python3.12/site-packages/sklearn/svm/_base.py:297: ConvergenceWarning: Solver terminated early (max_iter=1000000).  Consider pre-processing your data with StandardScaler or MinMaxScaler.\n",
      "  warnings.warn(\n",
      "/home/gian/anaconda3/lib/python3.12/site-packages/sklearn/svm/_base.py:297: ConvergenceWarning: Solver terminated early (max_iter=1000000).  Consider pre-processing your data with StandardScaler or MinMaxScaler.\n",
      "  warnings.warn(\n",
      "/home/gian/anaconda3/lib/python3.12/site-packages/sklearn/svm/_base.py:297: ConvergenceWarning: Solver terminated early (max_iter=1000000).  Consider pre-processing your data with StandardScaler or MinMaxScaler.\n",
      "  warnings.warn(\n",
      "/home/gian/anaconda3/lib/python3.12/site-packages/sklearn/svm/_base.py:297: ConvergenceWarning: Solver terminated early (max_iter=1000000).  Consider pre-processing your data with StandardScaler or MinMaxScaler.\n",
      "  warnings.warn(\n"
     ]
    },
    {
     "name": "stdout",
     "output_type": "stream",
     "text": [
      "[CV] END ...........C=1000, degree=2, gamma=0.1, kernel=poly; total time=   2.2s\n",
      "[CV] END .........C=1000, degree=2, gamma=0.1, kernel=linear; total time=   3.1s\n",
      "[CV] END ...........C=1000, degree=2, gamma=0.1, kernel=poly; total time=   2.0s\n",
      "[CV] END ...........C=1000, degree=2, gamma=0.1, kernel=poly; total time=   2.0s\n",
      "[CV] END ..............C=100, degree=4, gamma=1, kernel=poly; total time=  11.4s\n",
      "[CV] END .........C=1000, degree=2, gamma=0.1, kernel=linear; total time=   2.6s\n"
     ]
    },
    {
     "name": "stderr",
     "output_type": "stream",
     "text": [
      "/home/gian/anaconda3/lib/python3.12/site-packages/sklearn/svm/_base.py:297: ConvergenceWarning: Solver terminated early (max_iter=1000000).  Consider pre-processing your data with StandardScaler or MinMaxScaler.\n",
      "  warnings.warn(\n"
     ]
    },
    {
     "name": "stdout",
     "output_type": "stream",
     "text": [
      "[CV] END .........C=1000, degree=2, gamma=0.1, kernel=linear; total time=   2.6s\n",
      "[CV] END ............C=1000, degree=2, gamma=0.1, kernel=rbf; total time=   0.7s\n"
     ]
    },
    {
     "name": "stderr",
     "output_type": "stream",
     "text": [
      "/home/gian/anaconda3/lib/python3.12/site-packages/sklearn/svm/_base.py:297: ConvergenceWarning: Solver terminated early (max_iter=1000000).  Consider pre-processing your data with StandardScaler or MinMaxScaler.\n",
      "  warnings.warn(\n"
     ]
    },
    {
     "name": "stdout",
     "output_type": "stream",
     "text": [
      "[CV] END ..............C=100, degree=4, gamma=1, kernel=poly; total time=  11.7s\n",
      "[CV] END ............C=1000, degree=2, gamma=0.1, kernel=rbf; total time=   1.0s\n",
      "[CV] END ............C=1000, degree=2, gamma=0.1, kernel=rbf; total time=   1.0s\n",
      "[CV] END ............C=1000, degree=2, gamma=0.1, kernel=rbf; total time=   0.8s\n",
      "[CV] END .............C=100, degree=4, gamma=10, kernel=poly; total time=  10.1s\n"
     ]
    },
    {
     "name": "stderr",
     "output_type": "stream",
     "text": [
      "/home/gian/anaconda3/lib/python3.12/site-packages/sklearn/svm/_base.py:297: ConvergenceWarning: Solver terminated early (max_iter=1000000).  Consider pre-processing your data with StandardScaler or MinMaxScaler.\n",
      "  warnings.warn(\n"
     ]
    },
    {
     "name": "stdout",
     "output_type": "stream",
     "text": [
      "[CV] END ............C=1000, degree=2, gamma=0.1, kernel=rbf; total time=   1.3s\n",
      "[CV] END ..............C=1000, degree=2, gamma=1, kernel=rbf; total time=   0.5s\n"
     ]
    },
    {
     "name": "stderr",
     "output_type": "stream",
     "text": [
      "/home/gian/anaconda3/lib/python3.12/site-packages/sklearn/svm/_base.py:297: ConvergenceWarning: Solver terminated early (max_iter=1000000).  Consider pre-processing your data with StandardScaler or MinMaxScaler.\n",
      "  warnings.warn(\n"
     ]
    },
    {
     "name": "stdout",
     "output_type": "stream",
     "text": [
      "[CV] END ...........C=1000, degree=2, gamma=0.1, kernel=poly; total time=   1.9s\n"
     ]
    },
    {
     "name": "stderr",
     "output_type": "stream",
     "text": [
      "/home/gian/anaconda3/lib/python3.12/site-packages/sklearn/svm/_base.py:297: ConvergenceWarning: Solver terminated early (max_iter=1000000).  Consider pre-processing your data with StandardScaler or MinMaxScaler.\n",
      "  warnings.warn(\n",
      "/home/gian/anaconda3/lib/python3.12/site-packages/sklearn/svm/_base.py:297: ConvergenceWarning: Solver terminated early (max_iter=1000000).  Consider pre-processing your data with StandardScaler or MinMaxScaler.\n",
      "  warnings.warn(\n"
     ]
    },
    {
     "name": "stdout",
     "output_type": "stream",
     "text": [
      "[CV] END .............C=100, degree=4, gamma=10, kernel=poly; total time=  11.4s\n",
      "[CV] END ...........C=1000, degree=2, gamma=0.1, kernel=poly; total time=   2.4s\n",
      "[CV] END ..............C=1000, degree=2, gamma=1, kernel=rbf; total time=   0.8s\n",
      "[CV] END ..............C=1000, degree=2, gamma=1, kernel=rbf; total time=   0.7s\n",
      "[CV] END .............C=100, degree=4, gamma=10, kernel=poly; total time=  11.1s\n",
      "[CV] END ..............C=1000, degree=2, gamma=1, kernel=rbf; total time=   0.7s\n"
     ]
    },
    {
     "name": "stderr",
     "output_type": "stream",
     "text": [
      "/home/gian/anaconda3/lib/python3.12/site-packages/sklearn/svm/_base.py:297: ConvergenceWarning: Solver terminated early (max_iter=1000000).  Consider pre-processing your data with StandardScaler or MinMaxScaler.\n",
      "  warnings.warn(\n",
      "/home/gian/anaconda3/lib/python3.12/site-packages/sklearn/svm/_base.py:297: ConvergenceWarning: Solver terminated early (max_iter=1000000).  Consider pre-processing your data with StandardScaler or MinMaxScaler.\n",
      "  warnings.warn(\n"
     ]
    },
    {
     "name": "stdout",
     "output_type": "stream",
     "text": [
      "[CV] END .............C=100, degree=4, gamma=10, kernel=poly; total time=  11.4s\n",
      "[CV] END ..............C=1000, degree=2, gamma=1, kernel=rbf; total time=   1.1s\n",
      "[CV] END ...........C=1000, degree=2, gamma=1, kernel=linear; total time=   2.9s\n",
      "[CV] END ...........C=1000, degree=2, gamma=1, kernel=linear; total time=   3.0s\n"
     ]
    },
    {
     "name": "stderr",
     "output_type": "stream",
     "text": [
      "/home/gian/anaconda3/lib/python3.12/site-packages/sklearn/svm/_base.py:297: ConvergenceWarning: Solver terminated early (max_iter=1000000).  Consider pre-processing your data with StandardScaler or MinMaxScaler.\n",
      "  warnings.warn(\n",
      "/home/gian/anaconda3/lib/python3.12/site-packages/sklearn/svm/_base.py:297: ConvergenceWarning: Solver terminated early (max_iter=1000000).  Consider pre-processing your data with StandardScaler or MinMaxScaler.\n",
      "  warnings.warn(\n",
      "/home/gian/anaconda3/lib/python3.12/site-packages/sklearn/svm/_base.py:297: ConvergenceWarning: Solver terminated early (max_iter=1000000).  Consider pre-processing your data with StandardScaler or MinMaxScaler.\n",
      "  warnings.warn(\n",
      "/home/gian/anaconda3/lib/python3.12/site-packages/sklearn/svm/_base.py:297: ConvergenceWarning: Solver terminated early (max_iter=1000000).  Consider pre-processing your data with StandardScaler or MinMaxScaler.\n",
      "  warnings.warn(\n"
     ]
    },
    {
     "name": "stdout",
     "output_type": "stream",
     "text": [
      "[CV] END ...........C=1000, degree=2, gamma=1, kernel=linear; total time=   3.0s\n",
      "[CV] END ...........C=1000, degree=2, gamma=1, kernel=linear; total time=   3.2s\n",
      "[CV] END .............C=1000, degree=2, gamma=10, kernel=rbf; total time=   0.3s\n",
      "[CV] END ...........C=1000, degree=2, gamma=1, kernel=linear; total time=   3.5s\n"
     ]
    },
    {
     "name": "stderr",
     "output_type": "stream",
     "text": [
      "/home/gian/anaconda3/lib/python3.12/site-packages/sklearn/svm/_base.py:297: ConvergenceWarning: Solver terminated early (max_iter=1000000).  Consider pre-processing your data with StandardScaler or MinMaxScaler.\n",
      "  warnings.warn(\n",
      "/home/gian/anaconda3/lib/python3.12/site-packages/sklearn/svm/_base.py:297: ConvergenceWarning: Solver terminated early (max_iter=1000000).  Consider pre-processing your data with StandardScaler or MinMaxScaler.\n",
      "  warnings.warn(\n"
     ]
    },
    {
     "name": "stdout",
     "output_type": "stream",
     "text": [
      "[CV] END .............C=1000, degree=2, gamma=10, kernel=rbf; total time=   0.2s\n",
      "[CV] END .............C=100, degree=4, gamma=10, kernel=poly; total time=  12.2s\n",
      "[CV] END .............C=1000, degree=2, gamma=10, kernel=rbf; total time=   0.3s\n",
      "[CV] END .............C=1000, degree=2, gamma=10, kernel=rbf; total time=   0.2s\n",
      "[CV] END .............C=1000, degree=2, gamma=10, kernel=rbf; total time=   0.3s\n"
     ]
    },
    {
     "name": "stderr",
     "output_type": "stream",
     "text": [
      "/home/gian/anaconda3/lib/python3.12/site-packages/sklearn/svm/_base.py:297: ConvergenceWarning: Solver terminated early (max_iter=1000000).  Consider pre-processing your data with StandardScaler or MinMaxScaler.\n",
      "  warnings.warn(\n",
      "/home/gian/anaconda3/lib/python3.12/site-packages/sklearn/svm/_base.py:297: ConvergenceWarning: Solver terminated early (max_iter=1000000).  Consider pre-processing your data with StandardScaler or MinMaxScaler.\n",
      "  warnings.warn(\n"
     ]
    },
    {
     "name": "stdout",
     "output_type": "stream",
     "text": [
      "[CV] END ..........C=1000, degree=2, gamma=10, kernel=linear; total time=   2.9s\n",
      "[CV] END ..........C=1000, degree=2, gamma=10, kernel=linear; total time=   2.6s\n"
     ]
    },
    {
     "name": "stderr",
     "output_type": "stream",
     "text": [
      "/home/gian/anaconda3/lib/python3.12/site-packages/sklearn/svm/_base.py:297: ConvergenceWarning: Solver terminated early (max_iter=1000000).  Consider pre-processing your data with StandardScaler or MinMaxScaler.\n",
      "  warnings.warn(\n",
      "/home/gian/anaconda3/lib/python3.12/site-packages/sklearn/svm/_base.py:297: ConvergenceWarning: Solver terminated early (max_iter=1000000).  Consider pre-processing your data with StandardScaler or MinMaxScaler.\n",
      "  warnings.warn(\n"
     ]
    },
    {
     "name": "stdout",
     "output_type": "stream",
     "text": [
      "[CV] END ..........C=1000, degree=2, gamma=10, kernel=linear; total time=   2.7s\n",
      "[CV] END ..........C=1000, degree=2, gamma=10, kernel=linear; total time=   2.7s\n",
      "[CV] END .........C=1000, degree=3, gamma=0.001, kernel=poly; total time=   0.0s\n",
      "[CV] END .........C=1000, degree=3, gamma=0.001, kernel=poly; total time=   0.0s\n",
      "[CV] END .........C=1000, degree=3, gamma=0.001, kernel=poly; total time=   0.0s\n",
      "[CV] END .........C=1000, degree=3, gamma=0.001, kernel=poly; total time=   0.0s\n",
      "[CV] END .........C=1000, degree=3, gamma=0.001, kernel=poly; total time=   0.0s\n",
      "[CV] END ..........C=1000, degree=3, gamma=0.001, kernel=rbf; total time=   0.1s\n",
      "[CV] END ..........C=1000, degree=3, gamma=0.001, kernel=rbf; total time=   0.1s\n",
      "[CV] END ..........C=1000, degree=3, gamma=0.001, kernel=rbf; total time=   0.1s\n",
      "[CV] END ..........C=1000, degree=3, gamma=0.001, kernel=rbf; total time=   0.1s\n",
      "[CV] END ..........C=1000, degree=3, gamma=0.001, kernel=rbf; total time=   0.1s\n",
      "[CV] END ..........C=1000, degree=2, gamma=10, kernel=linear; total time=   3.3s\n"
     ]
    },
    {
     "name": "stderr",
     "output_type": "stream",
     "text": [
      "/home/gian/anaconda3/lib/python3.12/site-packages/sklearn/svm/_base.py:297: ConvergenceWarning: Solver terminated early (max_iter=1000000).  Consider pre-processing your data with StandardScaler or MinMaxScaler.\n",
      "  warnings.warn(\n",
      "/home/gian/anaconda3/lib/python3.12/site-packages/sklearn/svm/_base.py:297: ConvergenceWarning: Solver terminated early (max_iter=1000000).  Consider pre-processing your data with StandardScaler or MinMaxScaler.\n",
      "  warnings.warn(\n"
     ]
    },
    {
     "name": "stdout",
     "output_type": "stream",
     "text": [
      "[CV] END .......C=1000, degree=3, gamma=0.001, kernel=linear; total time=   2.9s\n"
     ]
    },
    {
     "name": "stderr",
     "output_type": "stream",
     "text": [
      "/home/gian/anaconda3/lib/python3.12/site-packages/sklearn/svm/_base.py:297: ConvergenceWarning: Solver terminated early (max_iter=1000000).  Consider pre-processing your data with StandardScaler or MinMaxScaler.\n",
      "  warnings.warn(\n",
      "/home/gian/anaconda3/lib/python3.12/site-packages/sklearn/svm/_base.py:297: ConvergenceWarning: Solver terminated early (max_iter=1000000).  Consider pre-processing your data with StandardScaler or MinMaxScaler.\n",
      "  warnings.warn(\n",
      "/home/gian/anaconda3/lib/python3.12/site-packages/sklearn/svm/_base.py:297: ConvergenceWarning: Solver terminated early (max_iter=1000000).  Consider pre-processing your data with StandardScaler or MinMaxScaler.\n",
      "  warnings.warn(\n"
     ]
    },
    {
     "name": "stdout",
     "output_type": "stream",
     "text": [
      "[CV] END .......C=1000, degree=3, gamma=0.001, kernel=linear; total time=   3.0s\n",
      "[CV] END .......C=1000, degree=3, gamma=0.001, kernel=linear; total time=   3.3s\n",
      "[CV] END ..........C=1000, degree=3, gamma=0.01, kernel=poly; total time=   0.0s\n",
      "[CV] END .......C=1000, degree=3, gamma=0.001, kernel=linear; total time=   2.4s\n",
      "[CV] END ..........C=1000, degree=3, gamma=0.01, kernel=poly; total time=   0.0s\n",
      "[CV] END ..........C=1000, degree=3, gamma=0.01, kernel=poly; total time=   0.0s\n",
      "[CV] END ..........C=1000, degree=3, gamma=0.01, kernel=poly; total time=   0.1s\n",
      "[CV] END ..........C=1000, degree=3, gamma=0.01, kernel=poly; total time=   0.0s\n",
      "[CV] END ...........C=1000, degree=3, gamma=0.01, kernel=rbf; total time=   0.2s\n",
      "[CV] END .......C=1000, degree=3, gamma=0.001, kernel=linear; total time=   2.8s\n"
     ]
    },
    {
     "name": "stderr",
     "output_type": "stream",
     "text": [
      "/home/gian/anaconda3/lib/python3.12/site-packages/sklearn/svm/_base.py:297: ConvergenceWarning: Solver terminated early (max_iter=1000000).  Consider pre-processing your data with StandardScaler or MinMaxScaler.\n",
      "  warnings.warn(\n"
     ]
    },
    {
     "name": "stdout",
     "output_type": "stream",
     "text": [
      "[CV] END ...........C=1000, degree=3, gamma=0.01, kernel=rbf; total time=   0.2s\n",
      "[CV] END ...........C=1000, degree=3, gamma=0.01, kernel=rbf; total time=   0.2s\n",
      "[CV] END ...........C=1000, degree=3, gamma=0.01, kernel=rbf; total time=   0.5s\n",
      "[CV] END ...........C=1000, degree=3, gamma=0.01, kernel=rbf; total time=   0.2s\n",
      "[CV] END ........C=1000, degree=3, gamma=0.01, kernel=linear; total time=   2.9s\n"
     ]
    },
    {
     "name": "stderr",
     "output_type": "stream",
     "text": [
      "/home/gian/anaconda3/lib/python3.12/site-packages/sklearn/svm/_base.py:297: ConvergenceWarning: Solver terminated early (max_iter=1000000).  Consider pre-processing your data with StandardScaler or MinMaxScaler.\n",
      "  warnings.warn(\n",
      "/home/gian/anaconda3/lib/python3.12/site-packages/sklearn/svm/_base.py:297: ConvergenceWarning: Solver terminated early (max_iter=1000000).  Consider pre-processing your data with StandardScaler or MinMaxScaler.\n",
      "  warnings.warn(\n",
      "/home/gian/anaconda3/lib/python3.12/site-packages/sklearn/svm/_base.py:297: ConvergenceWarning: Solver terminated early (max_iter=1000000).  Consider pre-processing your data with StandardScaler or MinMaxScaler.\n",
      "  warnings.warn(\n"
     ]
    },
    {
     "name": "stdout",
     "output_type": "stream",
     "text": [
      "[CV] END ........C=1000, degree=3, gamma=0.01, kernel=linear; total time=   3.3s\n",
      "[CV] END ........C=1000, degree=3, gamma=0.01, kernel=linear; total time=   3.2s\n"
     ]
    },
    {
     "name": "stderr",
     "output_type": "stream",
     "text": [
      "/home/gian/anaconda3/lib/python3.12/site-packages/sklearn/svm/_base.py:297: ConvergenceWarning: Solver terminated early (max_iter=1000000).  Consider pre-processing your data with StandardScaler or MinMaxScaler.\n",
      "  warnings.warn(\n"
     ]
    },
    {
     "name": "stdout",
     "output_type": "stream",
     "text": [
      "[CV] END ........C=1000, degree=3, gamma=0.01, kernel=linear; total time=   2.8s\n"
     ]
    },
    {
     "name": "stderr",
     "output_type": "stream",
     "text": [
      "/home/gian/anaconda3/lib/python3.12/site-packages/sklearn/svm/_base.py:297: ConvergenceWarning: Solver terminated early (max_iter=1000000).  Consider pre-processing your data with StandardScaler or MinMaxScaler.\n",
      "  warnings.warn(\n"
     ]
    },
    {
     "name": "stdout",
     "output_type": "stream",
     "text": [
      "[CV] END ........C=1000, degree=3, gamma=0.01, kernel=linear; total time=   2.6s\n"
     ]
    },
    {
     "name": "stderr",
     "output_type": "stream",
     "text": [
      "/home/gian/anaconda3/lib/python3.12/site-packages/sklearn/svm/_base.py:297: ConvergenceWarning: Solver terminated early (max_iter=1000000).  Consider pre-processing your data with StandardScaler or MinMaxScaler.\n",
      "  warnings.warn(\n",
      "/home/gian/anaconda3/lib/python3.12/site-packages/sklearn/svm/_base.py:297: ConvergenceWarning: Solver terminated early (max_iter=1000000).  Consider pre-processing your data with StandardScaler or MinMaxScaler.\n",
      "  warnings.warn(\n",
      "/home/gian/anaconda3/lib/python3.12/site-packages/sklearn/svm/_base.py:297: ConvergenceWarning: Solver terminated early (max_iter=1000000).  Consider pre-processing your data with StandardScaler or MinMaxScaler.\n",
      "  warnings.warn(\n"
     ]
    },
    {
     "name": "stdout",
     "output_type": "stream",
     "text": [
      "[CV] END .............C=1000, degree=2, gamma=1, kernel=poly; total time=   9.7s\n",
      "[CV] END .............C=1000, degree=2, gamma=1, kernel=poly; total time=  10.1s\n",
      "[CV] END .........C=1000, degree=3, gamma=0.1, kernel=linear; total time=   2.5s\n"
     ]
    },
    {
     "name": "stderr",
     "output_type": "stream",
     "text": [
      "/home/gian/anaconda3/lib/python3.12/site-packages/sklearn/svm/_base.py:297: ConvergenceWarning: Solver terminated early (max_iter=1000000).  Consider pre-processing your data with StandardScaler or MinMaxScaler.\n",
      "  warnings.warn(\n",
      "/home/gian/anaconda3/lib/python3.12/site-packages/sklearn/svm/_base.py:297: ConvergenceWarning: Solver terminated early (max_iter=1000000).  Consider pre-processing your data with StandardScaler or MinMaxScaler.\n",
      "  warnings.warn(\n",
      "/home/gian/anaconda3/lib/python3.12/site-packages/sklearn/svm/_base.py:297: ConvergenceWarning: Solver terminated early (max_iter=1000000).  Consider pre-processing your data with StandardScaler or MinMaxScaler.\n",
      "  warnings.warn(\n",
      "/home/gian/anaconda3/lib/python3.12/site-packages/sklearn/svm/_base.py:297: ConvergenceWarning: Solver terminated early (max_iter=1000000).  Consider pre-processing your data with StandardScaler or MinMaxScaler.\n",
      "  warnings.warn(\n",
      "/home/gian/anaconda3/lib/python3.12/site-packages/sklearn/svm/_base.py:297: ConvergenceWarning: Solver terminated early (max_iter=1000000).  Consider pre-processing your data with StandardScaler or MinMaxScaler.\n",
      "  warnings.warn(\n"
     ]
    },
    {
     "name": "stdout",
     "output_type": "stream",
     "text": [
      "[CV] END .........C=1000, degree=3, gamma=0.1, kernel=linear; total time=   2.8s\n",
      "[CV] END .............C=1000, degree=2, gamma=1, kernel=poly; total time=  10.0s\n",
      "[CV] END .............C=1000, degree=2, gamma=1, kernel=poly; total time=  10.4s\n",
      "[CV] END .........C=1000, degree=3, gamma=0.1, kernel=linear; total time=   3.1s\n",
      "[CV] END .........C=1000, degree=3, gamma=0.1, kernel=linear; total time=   3.1s\n"
     ]
    },
    {
     "name": "stderr",
     "output_type": "stream",
     "text": [
      "/home/gian/anaconda3/lib/python3.12/site-packages/sklearn/svm/_base.py:297: ConvergenceWarning: Solver terminated early (max_iter=1000000).  Consider pre-processing your data with StandardScaler or MinMaxScaler.\n",
      "  warnings.warn(\n",
      "/home/gian/anaconda3/lib/python3.12/site-packages/sklearn/svm/_base.py:297: ConvergenceWarning: Solver terminated early (max_iter=1000000).  Consider pre-processing your data with StandardScaler or MinMaxScaler.\n",
      "  warnings.warn(\n"
     ]
    },
    {
     "name": "stdout",
     "output_type": "stream",
     "text": [
      "[CV] END .........C=1000, degree=3, gamma=0.1, kernel=linear; total time=   2.7s\n",
      "[CV] END .............C=1000, degree=2, gamma=1, kernel=poly; total time=  10.6s\n",
      "[CV] END ............C=1000, degree=3, gamma=0.1, kernel=rbf; total time=   0.7s\n",
      "[CV] END ............C=1000, degree=3, gamma=0.1, kernel=rbf; total time=   0.9s\n",
      "[CV] END ............C=1000, degree=3, gamma=0.1, kernel=rbf; total time=   0.8s\n"
     ]
    },
    {
     "name": "stderr",
     "output_type": "stream",
     "text": [
      "/home/gian/anaconda3/lib/python3.12/site-packages/sklearn/svm/_base.py:297: ConvergenceWarning: Solver terminated early (max_iter=1000000).  Consider pre-processing your data with StandardScaler or MinMaxScaler.\n",
      "  warnings.warn(\n"
     ]
    },
    {
     "name": "stdout",
     "output_type": "stream",
     "text": [
      "[CV] END ...........C=1000, degree=3, gamma=0.1, kernel=poly; total time=   3.3s\n",
      "[CV] END ............C=1000, degree=3, gamma=0.1, kernel=rbf; total time=   1.1s\n",
      "[CV] END ............C=1000, degree=3, gamma=0.1, kernel=rbf; total time=   1.1s\n"
     ]
    },
    {
     "name": "stderr",
     "output_type": "stream",
     "text": [
      "/home/gian/anaconda3/lib/python3.12/site-packages/sklearn/svm/_base.py:297: ConvergenceWarning: Solver terminated early (max_iter=1000000).  Consider pre-processing your data with StandardScaler or MinMaxScaler.\n",
      "  warnings.warn(\n",
      "/home/gian/anaconda3/lib/python3.12/site-packages/sklearn/svm/_base.py:297: ConvergenceWarning: Solver terminated early (max_iter=1000000).  Consider pre-processing your data with StandardScaler or MinMaxScaler.\n",
      "  warnings.warn(\n"
     ]
    },
    {
     "name": "stdout",
     "output_type": "stream",
     "text": [
      "[CV] END ............C=1000, degree=2, gamma=10, kernel=poly; total time=  10.6s\n",
      "[CV] END ...........C=1000, degree=3, gamma=0.1, kernel=poly; total time=   4.1s\n"
     ]
    },
    {
     "name": "stderr",
     "output_type": "stream",
     "text": [
      "/home/gian/anaconda3/lib/python3.12/site-packages/sklearn/svm/_base.py:297: ConvergenceWarning: Solver terminated early (max_iter=1000000).  Consider pre-processing your data with StandardScaler or MinMaxScaler.\n",
      "  warnings.warn(\n",
      "/home/gian/anaconda3/lib/python3.12/site-packages/sklearn/svm/_base.py:297: ConvergenceWarning: Solver terminated early (max_iter=1000000).  Consider pre-processing your data with StandardScaler or MinMaxScaler.\n",
      "  warnings.warn(\n"
     ]
    },
    {
     "name": "stdout",
     "output_type": "stream",
     "text": [
      "[CV] END ...........C=1000, degree=3, gamma=1, kernel=linear; total time=   2.8s\n",
      "[CV] END ...........C=1000, degree=3, gamma=0.1, kernel=poly; total time=   4.0s\n"
     ]
    },
    {
     "name": "stderr",
     "output_type": "stream",
     "text": [
      "/home/gian/anaconda3/lib/python3.12/site-packages/sklearn/svm/_base.py:297: ConvergenceWarning: Solver terminated early (max_iter=1000000).  Consider pre-processing your data with StandardScaler or MinMaxScaler.\n",
      "  warnings.warn(\n",
      "/home/gian/anaconda3/lib/python3.12/site-packages/sklearn/svm/_base.py:297: ConvergenceWarning: Solver terminated early (max_iter=1000000).  Consider pre-processing your data with StandardScaler or MinMaxScaler.\n",
      "  warnings.warn(\n",
      "/home/gian/anaconda3/lib/python3.12/site-packages/sklearn/svm/_base.py:297: ConvergenceWarning: Solver terminated early (max_iter=1000000).  Consider pre-processing your data with StandardScaler or MinMaxScaler.\n",
      "  warnings.warn(\n",
      "/home/gian/anaconda3/lib/python3.12/site-packages/sklearn/svm/_base.py:297: ConvergenceWarning: Solver terminated early (max_iter=1000000).  Consider pre-processing your data with StandardScaler or MinMaxScaler.\n",
      "  warnings.warn(\n",
      "/home/gian/anaconda3/lib/python3.12/site-packages/sklearn/svm/_base.py:297: ConvergenceWarning: Solver terminated early (max_iter=1000000).  Consider pre-processing your data with StandardScaler or MinMaxScaler.\n",
      "  warnings.warn(\n"
     ]
    },
    {
     "name": "stdout",
     "output_type": "stream",
     "text": [
      "[CV] END ............C=1000, degree=2, gamma=10, kernel=poly; total time=  11.0s\n",
      "[CV] END ...........C=1000, degree=3, gamma=0.1, kernel=poly; total time=   3.5s\n",
      "[CV] END ...........C=1000, degree=3, gamma=1, kernel=linear; total time=   2.6s\n",
      "[CV] END ..............C=1000, degree=3, gamma=1, kernel=rbf; total time=   0.6s\n",
      "[CV] END ...........C=1000, degree=3, gamma=1, kernel=linear; total time=   2.7s\n",
      "[CV] END ...........C=1000, degree=3, gamma=0.1, kernel=poly; total time=   3.7s\n"
     ]
    },
    {
     "name": "stderr",
     "output_type": "stream",
     "text": [
      "/home/gian/anaconda3/lib/python3.12/site-packages/sklearn/svm/_base.py:297: ConvergenceWarning: Solver terminated early (max_iter=1000000).  Consider pre-processing your data with StandardScaler or MinMaxScaler.\n",
      "  warnings.warn(\n"
     ]
    },
    {
     "name": "stdout",
     "output_type": "stream",
     "text": [
      "[CV] END ............C=1000, degree=2, gamma=10, kernel=poly; total time=  11.7s\n"
     ]
    },
    {
     "name": "stderr",
     "output_type": "stream",
     "text": [
      "/home/gian/anaconda3/lib/python3.12/site-packages/sklearn/svm/_base.py:297: ConvergenceWarning: Solver terminated early (max_iter=1000000).  Consider pre-processing your data with StandardScaler or MinMaxScaler.\n",
      "  warnings.warn(\n",
      "/home/gian/anaconda3/lib/python3.12/site-packages/sklearn/svm/_base.py:297: ConvergenceWarning: Solver terminated early (max_iter=1000000).  Consider pre-processing your data with StandardScaler or MinMaxScaler.\n",
      "  warnings.warn(\n",
      "/home/gian/anaconda3/lib/python3.12/site-packages/sklearn/svm/_base.py:297: ConvergenceWarning: Solver terminated early (max_iter=1000000).  Consider pre-processing your data with StandardScaler or MinMaxScaler.\n",
      "  warnings.warn(\n",
      "/home/gian/anaconda3/lib/python3.12/site-packages/sklearn/svm/_base.py:297: ConvergenceWarning: Solver terminated early (max_iter=1000000).  Consider pre-processing your data with StandardScaler or MinMaxScaler.\n",
      "  warnings.warn(\n"
     ]
    },
    {
     "name": "stdout",
     "output_type": "stream",
     "text": [
      "[CV] END ............C=1000, degree=2, gamma=10, kernel=poly; total time=  11.4s\n",
      "[CV] END ............C=1000, degree=2, gamma=10, kernel=poly; total time=  11.2s\n",
      "[CV] END ...........C=1000, degree=3, gamma=1, kernel=linear; total time=   3.2s\n",
      "[CV] END ...........C=1000, degree=3, gamma=1, kernel=linear; total time=   3.3s\n",
      "[CV] END ..............C=1000, degree=3, gamma=1, kernel=rbf; total time=   0.8s\n",
      "[CV] END ..............C=1000, degree=3, gamma=1, kernel=rbf; total time=   0.9s\n",
      "[CV] END .............C=1000, degree=3, gamma=10, kernel=rbf; total time=   0.2s\n",
      "[CV] END ..............C=1000, degree=3, gamma=1, kernel=rbf; total time=   0.9s\n",
      "[CV] END .............C=1000, degree=3, gamma=10, kernel=rbf; total time=   0.2s\n",
      "[CV] END .............C=1000, degree=3, gamma=10, kernel=rbf; total time=   0.2s\n",
      "[CV] END ..............C=1000, degree=3, gamma=1, kernel=rbf; total time=   1.2s\n",
      "[CV] END .............C=1000, degree=3, gamma=10, kernel=rbf; total time=   0.2s\n",
      "[CV] END .............C=1000, degree=3, gamma=10, kernel=rbf; total time=   0.2s\n"
     ]
    },
    {
     "name": "stderr",
     "output_type": "stream",
     "text": [
      "/home/gian/anaconda3/lib/python3.12/site-packages/sklearn/svm/_base.py:297: ConvergenceWarning: Solver terminated early (max_iter=1000000).  Consider pre-processing your data with StandardScaler or MinMaxScaler.\n",
      "  warnings.warn(\n",
      "/home/gian/anaconda3/lib/python3.12/site-packages/sklearn/svm/_base.py:297: ConvergenceWarning: Solver terminated early (max_iter=1000000).  Consider pre-processing your data with StandardScaler or MinMaxScaler.\n",
      "  warnings.warn(\n",
      "/home/gian/anaconda3/lib/python3.12/site-packages/sklearn/svm/_base.py:297: ConvergenceWarning: Solver terminated early (max_iter=1000000).  Consider pre-processing your data with StandardScaler or MinMaxScaler.\n",
      "  warnings.warn(\n"
     ]
    },
    {
     "name": "stdout",
     "output_type": "stream",
     "text": [
      "[CV] END ..........C=1000, degree=3, gamma=10, kernel=linear; total time=   2.7s\n",
      "[CV] END ..........C=1000, degree=3, gamma=10, kernel=linear; total time=   2.7s\n",
      "[CV] END ..........C=1000, degree=3, gamma=10, kernel=linear; total time=   2.8s\n",
      "[CV] END .........C=1000, degree=4, gamma=0.001, kernel=poly; total time=   0.0s\n",
      "[CV] END .........C=1000, degree=4, gamma=0.001, kernel=poly; total time=   0.0s\n",
      "[CV] END .........C=1000, degree=4, gamma=0.001, kernel=poly; total time=   0.0s\n",
      "[CV] END ..........C=1000, degree=3, gamma=10, kernel=linear; total time=   2.8s\n",
      "[CV] END .........C=1000, degree=4, gamma=0.001, kernel=poly; total time=   0.0s\n",
      "[CV] END .........C=1000, degree=4, gamma=0.001, kernel=poly; total time=   0.0s\n",
      "[CV] END ..........C=1000, degree=4, gamma=0.001, kernel=rbf; total time=   0.0s\n",
      "[CV] END ..........C=1000, degree=4, gamma=0.001, kernel=rbf; total time=   0.1s\n",
      "[CV] END ..........C=1000, degree=4, gamma=0.001, kernel=rbf; total time=   0.0s\n",
      "[CV] END ..........C=1000, degree=4, gamma=0.001, kernel=rbf; total time=   0.1s\n"
     ]
    },
    {
     "name": "stderr",
     "output_type": "stream",
     "text": [
      "/home/gian/anaconda3/lib/python3.12/site-packages/sklearn/svm/_base.py:297: ConvergenceWarning: Solver terminated early (max_iter=1000000).  Consider pre-processing your data with StandardScaler or MinMaxScaler.\n",
      "  warnings.warn(\n"
     ]
    },
    {
     "name": "stdout",
     "output_type": "stream",
     "text": [
      "[CV] END ..........C=1000, degree=4, gamma=0.001, kernel=rbf; total time=   0.1s\n",
      "[CV] END ..........C=1000, degree=3, gamma=10, kernel=linear; total time=   3.2s\n"
     ]
    },
    {
     "name": "stderr",
     "output_type": "stream",
     "text": [
      "/home/gian/anaconda3/lib/python3.12/site-packages/sklearn/svm/_base.py:297: ConvergenceWarning: Solver terminated early (max_iter=1000000).  Consider pre-processing your data with StandardScaler or MinMaxScaler.\n",
      "  warnings.warn(\n",
      "/home/gian/anaconda3/lib/python3.12/site-packages/sklearn/svm/_base.py:297: ConvergenceWarning: Solver terminated early (max_iter=1000000).  Consider pre-processing your data with StandardScaler or MinMaxScaler.\n",
      "  warnings.warn(\n"
     ]
    },
    {
     "name": "stdout",
     "output_type": "stream",
     "text": [
      "[CV] END .......C=1000, degree=4, gamma=0.001, kernel=linear; total time=   2.9s\n"
     ]
    },
    {
     "name": "stderr",
     "output_type": "stream",
     "text": [
      "/home/gian/anaconda3/lib/python3.12/site-packages/sklearn/svm/_base.py:297: ConvergenceWarning: Solver terminated early (max_iter=1000000).  Consider pre-processing your data with StandardScaler or MinMaxScaler.\n",
      "  warnings.warn(\n",
      "/home/gian/anaconda3/lib/python3.12/site-packages/sklearn/svm/_base.py:297: ConvergenceWarning: Solver terminated early (max_iter=1000000).  Consider pre-processing your data with StandardScaler or MinMaxScaler.\n",
      "  warnings.warn(\n"
     ]
    },
    {
     "name": "stdout",
     "output_type": "stream",
     "text": [
      "[CV] END .......C=1000, degree=4, gamma=0.001, kernel=linear; total time=   3.1s\n",
      "[CV] END .......C=1000, degree=4, gamma=0.001, kernel=linear; total time=   3.0s\n",
      "[CV] END ..........C=1000, degree=4, gamma=0.01, kernel=poly; total time=   0.0s\n",
      "[CV] END ..........C=1000, degree=4, gamma=0.01, kernel=poly; total time=   0.1s\n",
      "[CV] END ..........C=1000, degree=4, gamma=0.01, kernel=poly; total time=   0.0s\n",
      "[CV] END ..........C=1000, degree=4, gamma=0.01, kernel=poly; total time=   0.0s\n",
      "[CV] END ..........C=1000, degree=4, gamma=0.01, kernel=poly; total time=   0.0s\n",
      "[CV] END ...........C=1000, degree=4, gamma=0.01, kernel=rbf; total time=   0.2s\n",
      "[CV] END ...........C=1000, degree=4, gamma=0.01, kernel=rbf; total time=   0.3s\n",
      "[CV] END ...........C=1000, degree=4, gamma=0.01, kernel=rbf; total time=   0.2s\n",
      "[CV] END .......C=1000, degree=4, gamma=0.001, kernel=linear; total time=   2.6s\n",
      "[CV] END .......C=1000, degree=4, gamma=0.001, kernel=linear; total time=   2.7s\n",
      "[CV] END ...........C=1000, degree=4, gamma=0.01, kernel=rbf; total time=   0.2s\n"
     ]
    },
    {
     "name": "stderr",
     "output_type": "stream",
     "text": [
      "/home/gian/anaconda3/lib/python3.12/site-packages/sklearn/svm/_base.py:297: ConvergenceWarning: Solver terminated early (max_iter=1000000).  Consider pre-processing your data with StandardScaler or MinMaxScaler.\n",
      "  warnings.warn(\n",
      "/home/gian/anaconda3/lib/python3.12/site-packages/sklearn/svm/_base.py:297: ConvergenceWarning: Solver terminated early (max_iter=1000000).  Consider pre-processing your data with StandardScaler or MinMaxScaler.\n",
      "  warnings.warn(\n"
     ]
    },
    {
     "name": "stdout",
     "output_type": "stream",
     "text": [
      "[CV] END ...........C=1000, degree=4, gamma=0.01, kernel=rbf; total time=   0.2s\n"
     ]
    },
    {
     "name": "stderr",
     "output_type": "stream",
     "text": [
      "/home/gian/anaconda3/lib/python3.12/site-packages/sklearn/svm/_base.py:297: ConvergenceWarning: Solver terminated early (max_iter=1000000).  Consider pre-processing your data with StandardScaler or MinMaxScaler.\n",
      "  warnings.warn(\n"
     ]
    },
    {
     "name": "stdout",
     "output_type": "stream",
     "text": [
      "[CV] END ........C=1000, degree=4, gamma=0.01, kernel=linear; total time=   2.9s\n"
     ]
    },
    {
     "name": "stderr",
     "output_type": "stream",
     "text": [
      "/home/gian/anaconda3/lib/python3.12/site-packages/sklearn/svm/_base.py:297: ConvergenceWarning: Solver terminated early (max_iter=1000000).  Consider pre-processing your data with StandardScaler or MinMaxScaler.\n",
      "  warnings.warn(\n",
      "/home/gian/anaconda3/lib/python3.12/site-packages/sklearn/svm/_base.py:297: ConvergenceWarning: Solver terminated early (max_iter=1000000).  Consider pre-processing your data with StandardScaler or MinMaxScaler.\n",
      "  warnings.warn(\n"
     ]
    },
    {
     "name": "stdout",
     "output_type": "stream",
     "text": [
      "[CV] END ........C=1000, degree=4, gamma=0.01, kernel=linear; total time=   3.2s\n",
      "[CV] END ........C=1000, degree=4, gamma=0.01, kernel=linear; total time=   3.2s\n"
     ]
    },
    {
     "name": "stderr",
     "output_type": "stream",
     "text": [
      "/home/gian/anaconda3/lib/python3.12/site-packages/sklearn/svm/_base.py:297: ConvergenceWarning: Solver terminated early (max_iter=1000000).  Consider pre-processing your data with StandardScaler or MinMaxScaler.\n",
      "  warnings.warn(\n"
     ]
    },
    {
     "name": "stdout",
     "output_type": "stream",
     "text": [
      "[CV] END ........C=1000, degree=4, gamma=0.01, kernel=linear; total time=   2.7s\n"
     ]
    },
    {
     "name": "stderr",
     "output_type": "stream",
     "text": [
      "/home/gian/anaconda3/lib/python3.12/site-packages/sklearn/svm/_base.py:297: ConvergenceWarning: Solver terminated early (max_iter=1000000).  Consider pre-processing your data with StandardScaler or MinMaxScaler.\n",
      "  warnings.warn(\n"
     ]
    },
    {
     "name": "stdout",
     "output_type": "stream",
     "text": [
      "[CV] END ........C=1000, degree=4, gamma=0.01, kernel=linear; total time=   2.8s\n"
     ]
    },
    {
     "name": "stderr",
     "output_type": "stream",
     "text": [
      "/home/gian/anaconda3/lib/python3.12/site-packages/sklearn/svm/_base.py:297: ConvergenceWarning: Solver terminated early (max_iter=1000000).  Consider pre-processing your data with StandardScaler or MinMaxScaler.\n",
      "  warnings.warn(\n"
     ]
    },
    {
     "name": "stdout",
     "output_type": "stream",
     "text": [
      "[CV] END .........C=1000, degree=4, gamma=0.1, kernel=linear; total time=   2.7s\n"
     ]
    },
    {
     "name": "stderr",
     "output_type": "stream",
     "text": [
      "/home/gian/anaconda3/lib/python3.12/site-packages/sklearn/svm/_base.py:297: ConvergenceWarning: Solver terminated early (max_iter=1000000).  Consider pre-processing your data with StandardScaler or MinMaxScaler.\n",
      "  warnings.warn(\n",
      "/home/gian/anaconda3/lib/python3.12/site-packages/sklearn/svm/_base.py:297: ConvergenceWarning: Solver terminated early (max_iter=1000000).  Consider pre-processing your data with StandardScaler or MinMaxScaler.\n",
      "  warnings.warn(\n"
     ]
    },
    {
     "name": "stdout",
     "output_type": "stream",
     "text": [
      "[CV] END .........C=1000, degree=4, gamma=0.1, kernel=linear; total time=   3.2s\n",
      "[CV] END .............C=1000, degree=3, gamma=1, kernel=poly; total time=  11.2s\n"
     ]
    },
    {
     "name": "stderr",
     "output_type": "stream",
     "text": [
      "/home/gian/anaconda3/lib/python3.12/site-packages/sklearn/svm/_base.py:297: ConvergenceWarning: Solver terminated early (max_iter=1000000).  Consider pre-processing your data with StandardScaler or MinMaxScaler.\n",
      "  warnings.warn(\n",
      "/home/gian/anaconda3/lib/python3.12/site-packages/sklearn/svm/_base.py:297: ConvergenceWarning: Solver terminated early (max_iter=1000000).  Consider pre-processing your data with StandardScaler or MinMaxScaler.\n",
      "  warnings.warn(\n",
      "/home/gian/anaconda3/lib/python3.12/site-packages/sklearn/svm/_base.py:297: ConvergenceWarning: Solver terminated early (max_iter=1000000).  Consider pre-processing your data with StandardScaler or MinMaxScaler.\n",
      "  warnings.warn(\n",
      "/home/gian/anaconda3/lib/python3.12/site-packages/sklearn/svm/_base.py:297: ConvergenceWarning: Solver terminated early (max_iter=1000000).  Consider pre-processing your data with StandardScaler or MinMaxScaler.\n",
      "  warnings.warn(\n"
     ]
    },
    {
     "name": "stdout",
     "output_type": "stream",
     "text": [
      "[CV] END .........C=1000, degree=4, gamma=0.1, kernel=linear; total time=   2.9s\n",
      "[CV] END .........C=1000, degree=4, gamma=0.1, kernel=linear; total time=   3.3s\n",
      "[CV] END .........C=1000, degree=4, gamma=0.1, kernel=linear; total time=   2.7s\n",
      "[CV] END .............C=1000, degree=3, gamma=1, kernel=poly; total time=  11.3s\n"
     ]
    },
    {
     "name": "stderr",
     "output_type": "stream",
     "text": [
      "/home/gian/anaconda3/lib/python3.12/site-packages/sklearn/svm/_base.py:297: ConvergenceWarning: Solver terminated early (max_iter=1000000).  Consider pre-processing your data with StandardScaler or MinMaxScaler.\n",
      "  warnings.warn(\n",
      "/home/gian/anaconda3/lib/python3.12/site-packages/sklearn/svm/_base.py:297: ConvergenceWarning: Solver terminated early (max_iter=1000000).  Consider pre-processing your data with StandardScaler or MinMaxScaler.\n",
      "  warnings.warn(\n"
     ]
    },
    {
     "name": "stdout",
     "output_type": "stream",
     "text": [
      "[CV] END .............C=1000, degree=3, gamma=1, kernel=poly; total time=  11.4s\n",
      "[CV] END .............C=1000, degree=3, gamma=1, kernel=poly; total time=  11.4s\n"
     ]
    },
    {
     "name": "stderr",
     "output_type": "stream",
     "text": [
      "/home/gian/anaconda3/lib/python3.12/site-packages/sklearn/svm/_base.py:297: ConvergenceWarning: Solver terminated early (max_iter=1000000).  Consider pre-processing your data with StandardScaler or MinMaxScaler.\n",
      "  warnings.warn(\n"
     ]
    },
    {
     "name": "stdout",
     "output_type": "stream",
     "text": [
      "[CV] END .............C=1000, degree=3, gamma=1, kernel=poly; total time=  10.0s\n",
      "[CV] END ............C=1000, degree=4, gamma=0.1, kernel=rbf; total time=   0.9s\n",
      "[CV] END ............C=1000, degree=4, gamma=0.1, kernel=rbf; total time=   0.8s\n",
      "[CV] END ............C=1000, degree=4, gamma=0.1, kernel=rbf; total time=   0.9s\n",
      "[CV] END ............C=1000, degree=4, gamma=0.1, kernel=rbf; total time=   1.0s\n",
      "[CV] END ............C=1000, degree=4, gamma=0.1, kernel=rbf; total time=   1.3s\n"
     ]
    },
    {
     "name": "stderr",
     "output_type": "stream",
     "text": [
      "/home/gian/anaconda3/lib/python3.12/site-packages/sklearn/svm/_base.py:297: ConvergenceWarning: Solver terminated early (max_iter=1000000).  Consider pre-processing your data with StandardScaler or MinMaxScaler.\n",
      "  warnings.warn(\n"
     ]
    },
    {
     "name": "stdout",
     "output_type": "stream",
     "text": [
      "[CV] END ............C=1000, degree=3, gamma=10, kernel=poly; total time=  10.9s\n",
      "[CV] END ............C=1000, degree=3, gamma=10, kernel=poly; total time=  11.1s\n"
     ]
    },
    {
     "name": "stderr",
     "output_type": "stream",
     "text": [
      "/home/gian/anaconda3/lib/python3.12/site-packages/sklearn/svm/_base.py:297: ConvergenceWarning: Solver terminated early (max_iter=1000000).  Consider pre-processing your data with StandardScaler or MinMaxScaler.\n",
      "  warnings.warn(\n",
      "/home/gian/anaconda3/lib/python3.12/site-packages/sklearn/svm/_base.py:297: ConvergenceWarning: Solver terminated early (max_iter=1000000).  Consider pre-processing your data with StandardScaler or MinMaxScaler.\n",
      "  warnings.warn(\n"
     ]
    },
    {
     "name": "stdout",
     "output_type": "stream",
     "text": [
      "[CV] END ............C=1000, degree=3, gamma=10, kernel=poly; total time=  11.2s\n"
     ]
    },
    {
     "name": "stderr",
     "output_type": "stream",
     "text": [
      "/home/gian/anaconda3/lib/python3.12/site-packages/sklearn/svm/_base.py:297: ConvergenceWarning: Solver terminated early (max_iter=1000000).  Consider pre-processing your data with StandardScaler or MinMaxScaler.\n",
      "  warnings.warn(\n",
      "/home/gian/anaconda3/lib/python3.12/site-packages/sklearn/svm/_base.py:297: ConvergenceWarning: Solver terminated early (max_iter=1000000).  Consider pre-processing your data with StandardScaler or MinMaxScaler.\n",
      "  warnings.warn(\n",
      "/home/gian/anaconda3/lib/python3.12/site-packages/sklearn/svm/_base.py:297: ConvergenceWarning: Solver terminated early (max_iter=1000000).  Consider pre-processing your data with StandardScaler or MinMaxScaler.\n",
      "  warnings.warn(\n"
     ]
    },
    {
     "name": "stdout",
     "output_type": "stream",
     "text": [
      "[CV] END ............C=1000, degree=3, gamma=10, kernel=poly; total time=  11.5s\n",
      "[CV] END ............C=1000, degree=3, gamma=10, kernel=poly; total time=  11.5s\n",
      "[CV] END ...........C=1000, degree=4, gamma=1, kernel=linear; total time=   2.8s\n"
     ]
    },
    {
     "name": "stderr",
     "output_type": "stream",
     "text": [
      "/home/gian/anaconda3/lib/python3.12/site-packages/sklearn/svm/_base.py:297: ConvergenceWarning: Solver terminated early (max_iter=1000000).  Consider pre-processing your data with StandardScaler or MinMaxScaler.\n",
      "  warnings.warn(\n",
      "/home/gian/anaconda3/lib/python3.12/site-packages/sklearn/svm/_base.py:297: ConvergenceWarning: Solver terminated early (max_iter=1000000).  Consider pre-processing your data with StandardScaler or MinMaxScaler.\n",
      "  warnings.warn(\n",
      "/home/gian/anaconda3/lib/python3.12/site-packages/sklearn/svm/_base.py:297: ConvergenceWarning: Solver terminated early (max_iter=1000000).  Consider pre-processing your data with StandardScaler or MinMaxScaler.\n",
      "  warnings.warn(\n",
      "/home/gian/anaconda3/lib/python3.12/site-packages/sklearn/svm/_base.py:297: ConvergenceWarning: Solver terminated early (max_iter=1000000).  Consider pre-processing your data with StandardScaler or MinMaxScaler.\n",
      "  warnings.warn(\n"
     ]
    },
    {
     "name": "stdout",
     "output_type": "stream",
     "text": [
      "[CV] END ...........C=1000, degree=4, gamma=0.1, kernel=poly; total time=   5.7s\n",
      "[CV] END ...........C=1000, degree=4, gamma=1, kernel=linear; total time=   2.9s\n",
      "[CV] END ...........C=1000, degree=4, gamma=1, kernel=linear; total time=   2.8s\n",
      "[CV] END ...........C=1000, degree=4, gamma=1, kernel=linear; total time=   2.6s\n",
      "[CV] END ..............C=1000, degree=4, gamma=1, kernel=rbf; total time=   0.7s\n",
      "[CV] END ...........C=1000, degree=4, gamma=0.1, kernel=poly; total time=   5.4s\n",
      "[CV] END ...........C=1000, degree=4, gamma=0.1, kernel=poly; total time=   5.7s\n"
     ]
    },
    {
     "name": "stderr",
     "output_type": "stream",
     "text": [
      "/home/gian/anaconda3/lib/python3.12/site-packages/sklearn/svm/_base.py:297: ConvergenceWarning: Solver terminated early (max_iter=1000000).  Consider pre-processing your data with StandardScaler or MinMaxScaler.\n",
      "  warnings.warn(\n",
      "/home/gian/anaconda3/lib/python3.12/site-packages/sklearn/svm/_base.py:297: ConvergenceWarning: Solver terminated early (max_iter=1000000).  Consider pre-processing your data with StandardScaler or MinMaxScaler.\n",
      "  warnings.warn(\n",
      "/home/gian/anaconda3/lib/python3.12/site-packages/sklearn/svm/_base.py:297: ConvergenceWarning: Solver terminated early (max_iter=1000000).  Consider pre-processing your data with StandardScaler or MinMaxScaler.\n",
      "  warnings.warn(\n"
     ]
    },
    {
     "name": "stdout",
     "output_type": "stream",
     "text": [
      "[CV] END ...........C=1000, degree=4, gamma=1, kernel=linear; total time=   2.7s\n",
      "[CV] END ..............C=1000, degree=4, gamma=1, kernel=rbf; total time=   0.8s\n",
      "[CV] END ..............C=1000, degree=4, gamma=1, kernel=rbf; total time=   0.8s\n",
      "[CV] END ..............C=1000, degree=4, gamma=1, kernel=rbf; total time=   0.9s\n",
      "[CV] END ..............C=1000, degree=4, gamma=1, kernel=rbf; total time=   1.0s\n",
      "[CV] END .............C=1000, degree=4, gamma=10, kernel=rbf; total time=   0.2s\n",
      "[CV] END .............C=1000, degree=4, gamma=10, kernel=rbf; total time=   0.2s\n",
      "[CV] END .............C=1000, degree=4, gamma=10, kernel=rbf; total time=   0.2s\n",
      "[CV] END ...........C=1000, degree=4, gamma=0.1, kernel=poly; total time=   5.0s\n",
      "[CV] END .............C=1000, degree=4, gamma=10, kernel=rbf; total time=   0.2s\n"
     ]
    },
    {
     "name": "stderr",
     "output_type": "stream",
     "text": [
      "/home/gian/anaconda3/lib/python3.12/site-packages/sklearn/svm/_base.py:297: ConvergenceWarning: Solver terminated early (max_iter=1000000).  Consider pre-processing your data with StandardScaler or MinMaxScaler.\n",
      "  warnings.warn(\n"
     ]
    },
    {
     "name": "stdout",
     "output_type": "stream",
     "text": [
      "[CV] END .............C=1000, degree=4, gamma=10, kernel=rbf; total time=   0.2s\n"
     ]
    },
    {
     "name": "stderr",
     "output_type": "stream",
     "text": [
      "/home/gian/anaconda3/lib/python3.12/site-packages/sklearn/svm/_base.py:297: ConvergenceWarning: Solver terminated early (max_iter=1000000).  Consider pre-processing your data with StandardScaler or MinMaxScaler.\n",
      "  warnings.warn(\n"
     ]
    },
    {
     "name": "stdout",
     "output_type": "stream",
     "text": [
      "[CV] END ...........C=1000, degree=4, gamma=0.1, kernel=poly; total time=   6.3s\n"
     ]
    },
    {
     "name": "stderr",
     "output_type": "stream",
     "text": [
      "/home/gian/anaconda3/lib/python3.12/site-packages/sklearn/svm/_base.py:297: ConvergenceWarning: Solver terminated early (max_iter=1000000).  Consider pre-processing your data with StandardScaler or MinMaxScaler.\n",
      "  warnings.warn(\n",
      "/home/gian/anaconda3/lib/python3.12/site-packages/sklearn/svm/_base.py:297: ConvergenceWarning: Solver terminated early (max_iter=1000000).  Consider pre-processing your data with StandardScaler or MinMaxScaler.\n",
      "  warnings.warn(\n"
     ]
    },
    {
     "name": "stdout",
     "output_type": "stream",
     "text": [
      "[CV] END ..........C=1000, degree=4, gamma=10, kernel=linear; total time=   2.5s\n",
      "[CV] END ..........C=1000, degree=4, gamma=10, kernel=linear; total time=   2.8s\n"
     ]
    },
    {
     "name": "stderr",
     "output_type": "stream",
     "text": [
      "/home/gian/anaconda3/lib/python3.12/site-packages/sklearn/svm/_base.py:297: ConvergenceWarning: Solver terminated early (max_iter=1000000).  Consider pre-processing your data with StandardScaler or MinMaxScaler.\n",
      "  warnings.warn(\n",
      "/home/gian/anaconda3/lib/python3.12/site-packages/sklearn/svm/_base.py:297: ConvergenceWarning: Solver terminated early (max_iter=1000000).  Consider pre-processing your data with StandardScaler or MinMaxScaler.\n",
      "  warnings.warn(\n",
      "/home/gian/anaconda3/lib/python3.12/site-packages/sklearn/svm/_base.py:297: ConvergenceWarning: Solver terminated early (max_iter=1000000).  Consider pre-processing your data with StandardScaler or MinMaxScaler.\n",
      "  warnings.warn(\n"
     ]
    },
    {
     "name": "stdout",
     "output_type": "stream",
     "text": [
      "[CV] END ..........C=1000, degree=4, gamma=10, kernel=linear; total time=   2.6s\n",
      "[CV] END ..........C=1000, degree=4, gamma=10, kernel=linear; total time=   2.9s\n",
      "[CV] END ..........C=1000, degree=4, gamma=10, kernel=linear; total time=   3.0s\n"
     ]
    },
    {
     "name": "stderr",
     "output_type": "stream",
     "text": [
      "/home/gian/anaconda3/lib/python3.12/site-packages/sklearn/svm/_base.py:297: ConvergenceWarning: Solver terminated early (max_iter=1000000).  Consider pre-processing your data with StandardScaler or MinMaxScaler.\n",
      "  warnings.warn(\n"
     ]
    },
    {
     "name": "stdout",
     "output_type": "stream",
     "text": [
      "[CV] END .............C=1000, degree=4, gamma=1, kernel=poly; total time=   8.9s\n"
     ]
    },
    {
     "name": "stderr",
     "output_type": "stream",
     "text": [
      "/home/gian/anaconda3/lib/python3.12/site-packages/sklearn/svm/_base.py:297: ConvergenceWarning: Solver terminated early (max_iter=1000000).  Consider pre-processing your data with StandardScaler or MinMaxScaler.\n",
      "  warnings.warn(\n",
      "/home/gian/anaconda3/lib/python3.12/site-packages/sklearn/svm/_base.py:297: ConvergenceWarning: Solver terminated early (max_iter=1000000).  Consider pre-processing your data with StandardScaler or MinMaxScaler.\n",
      "  warnings.warn(\n"
     ]
    },
    {
     "name": "stdout",
     "output_type": "stream",
     "text": [
      "[CV] END .............C=1000, degree=4, gamma=1, kernel=poly; total time=   8.3s\n",
      "[CV] END ............C=1000, degree=4, gamma=10, kernel=poly; total time=   7.0s\n"
     ]
    },
    {
     "name": "stderr",
     "output_type": "stream",
     "text": [
      "/home/gian/anaconda3/lib/python3.12/site-packages/sklearn/svm/_base.py:297: ConvergenceWarning: Solver terminated early (max_iter=1000000).  Consider pre-processing your data with StandardScaler or MinMaxScaler.\n",
      "  warnings.warn(\n"
     ]
    },
    {
     "name": "stdout",
     "output_type": "stream",
     "text": [
      "[CV] END ............C=1000, degree=4, gamma=10, kernel=poly; total time=   7.7s\n"
     ]
    },
    {
     "name": "stderr",
     "output_type": "stream",
     "text": [
      "/home/gian/anaconda3/lib/python3.12/site-packages/sklearn/svm/_base.py:297: ConvergenceWarning: Solver terminated early (max_iter=1000000).  Consider pre-processing your data with StandardScaler or MinMaxScaler.\n",
      "  warnings.warn(\n",
      "/home/gian/anaconda3/lib/python3.12/site-packages/sklearn/svm/_base.py:297: ConvergenceWarning: Solver terminated early (max_iter=1000000).  Consider pre-processing your data with StandardScaler or MinMaxScaler.\n",
      "  warnings.warn(\n",
      "/home/gian/anaconda3/lib/python3.12/site-packages/sklearn/svm/_base.py:297: ConvergenceWarning: Solver terminated early (max_iter=1000000).  Consider pre-processing your data with StandardScaler or MinMaxScaler.\n",
      "  warnings.warn(\n",
      "/home/gian/anaconda3/lib/python3.12/site-packages/sklearn/svm/_base.py:297: ConvergenceWarning: Solver terminated early (max_iter=1000000).  Consider pre-processing your data with StandardScaler or MinMaxScaler.\n",
      "  warnings.warn(\n"
     ]
    },
    {
     "name": "stdout",
     "output_type": "stream",
     "text": [
      "[CV] END .............C=1000, degree=4, gamma=1, kernel=poly; total time=  10.8s\n",
      "[CV] END ............C=1000, degree=4, gamma=10, kernel=poly; total time=   8.4s\n",
      "[CV] END .............C=1000, degree=4, gamma=1, kernel=poly; total time=  10.6s\n",
      "[CV] END ............C=1000, degree=4, gamma=10, kernel=poly; total time=   8.3s\n"
     ]
    },
    {
     "name": "stderr",
     "output_type": "stream",
     "text": [
      "/home/gian/anaconda3/lib/python3.12/site-packages/sklearn/svm/_base.py:297: ConvergenceWarning: Solver terminated early (max_iter=1000000).  Consider pre-processing your data with StandardScaler or MinMaxScaler.\n",
      "  warnings.warn(\n"
     ]
    },
    {
     "name": "stdout",
     "output_type": "stream",
     "text": [
      "[CV] END .............C=1000, degree=4, gamma=1, kernel=poly; total time=   9.5s\n",
      "[CV] END ............C=1000, degree=4, gamma=10, kernel=poly; total time=   9.7s\n"
     ]
    },
    {
     "name": "stderr",
     "output_type": "stream",
     "text": [
      "/home/gian/anaconda3/lib/python3.12/site-packages/sklearn/svm/_base.py:297: ConvergenceWarning: Solver terminated early (max_iter=1000000).  Consider pre-processing your data with StandardScaler or MinMaxScaler.\n",
      "  warnings.warn(\n"
     ]
    }
   ],
   "source": [
    "param_grid = {\n",
    "            'C':[0.01,0.1,1,10,100,1000],\n",
    "            'gamma': [0.001, 0.01, 0.1, 1, 10],\n",
    "            'kernel':['linear','poly','rbf'],\n",
    "            'degree':[2,3,4],\n",
    "        }\n",
    "kfold_num = 5\n",
    "\n",
    "model = svm.SVR(max_iter=1000000000)\n",
    "\n",
    "grid = GridSearchCV(model, n_jobs=-3, refit=True, cv=kfold_num, verbose=2, param_grid=param_grid)\n",
    "\n",
    "grid.fit(X_train_scaled,Y_train)\n",
    "\n",
    "best_params = grid.best_params_\n",
    "best_estimator = grid.best_estimator_"
   ]
  },
  {
   "cell_type": "code",
   "execution_count": null,
   "id": "c9840bd1",
   "metadata": {},
   "outputs": [
    {
     "name": "stdout",
     "output_type": "stream",
     "text": [
      "Best parameters:  {'C': 1000, 'degree': 2, 'gamma': 0.01, 'kernel': 'rbf'}\n",
      "Best estimator score:  0.9931078894135855\n",
      "Best estimator score:  0.9926502350989165\n"
     ]
    }
   ],
   "source": [
    "print(\"Best parameters: \", best_params)\n",
    "print(\"Best estimator score: \", best_estimator.score(X_test_scaled, Y_test))\n",
    "print(\"Best estimator score: \", best_estimator.score(X_train_scaled, Y_train))"
   ]
  },
  {
   "cell_type": "code",
   "execution_count": 92,
   "id": "365cbfd4",
   "metadata": {},
   "outputs": [
    {
     "data": {
      "text/plain": [
       "['output/model/best_estimator_model.pkl']"
      ]
     },
     "execution_count": 92,
     "metadata": {},
     "output_type": "execute_result"
    }
   ],
   "source": [
    "import joblib\n",
    "import os\n",
    "model_output_path = 'output/model'\n",
    "model_filename = 'best_estimator_model.pkl'\n",
    "if not os.path.exists(model_output_path):\n",
    "    os.makedirs(model_output_path)\n",
    "joblib.dump(best_estimator, os.path.join(model_output_path, model_filename))"
   ]
  },
  {
   "cell_type": "code",
   "execution_count": null,
   "id": "23049e85",
   "metadata": {},
   "outputs": [],
   "source": []
  },
  {
   "cell_type": "code",
   "execution_count": null,
   "id": "b6af82b0",
   "metadata": {},
   "outputs": [],
   "source": []
  },
  {
   "cell_type": "code",
   "execution_count": null,
   "id": "a12e9ee0",
   "metadata": {},
   "outputs": [],
   "source": []
  }
 ],
 "metadata": {
  "kernelspec": {
   "display_name": "base",
   "language": "python",
   "name": "python3"
  },
  "language_info": {
   "codemirror_mode": {
    "name": "ipython",
    "version": 3
   },
   "file_extension": ".py",
   "mimetype": "text/x-python",
   "name": "python",
   "nbconvert_exporter": "python",
   "pygments_lexer": "ipython3",
   "version": "3.12.7"
  }
 },
 "nbformat": 4,
 "nbformat_minor": 5
}
