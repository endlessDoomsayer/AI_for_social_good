{
 "cells": [
  {
   "cell_type": "markdown",
   "id": "cc7e0ebd-3637-4bfd-af7d-120c6406d679",
   "metadata": {},
   "source": [
    "# Notebook for the development of module \"weather -> photovoltaic output\"\n",
    "### If you develop some new function useful also in other situations, please put it in a dedicated .py file, then import it here"
   ]
  },
  {
   "cell_type": "code",
   "execution_count": 1,
   "id": "4ed7fe7a-eda4-4829-99ec-72c99b96c4fd",
   "metadata": {
    "scrolled": true
   },
   "outputs": [
    {
     "name": "stdout",
     "output_type": "stream",
     "text": [
      "Requirement already satisfied: openmeteo_requests in /home/matteo/miniforge3/lib/python3.12/site-packages (1.4.0)\n",
      "Requirement already satisfied: openmeteo-sdk>=1.4.0 in /home/matteo/miniforge3/lib/python3.12/site-packages (from openmeteo_requests) (1.19.0)\n",
      "Requirement already satisfied: requests in /home/matteo/miniforge3/lib/python3.12/site-packages (from openmeteo_requests) (2.32.3)\n",
      "Requirement already satisfied: flatbuffers==25.2.10 in /home/matteo/miniforge3/lib/python3.12/site-packages (from openmeteo-sdk>=1.4.0->openmeteo_requests) (25.2.10)\n",
      "Requirement already satisfied: charset-normalizer<4,>=2 in /home/matteo/miniforge3/lib/python3.12/site-packages (from requests->openmeteo_requests) (3.4.0)\n",
      "Requirement already satisfied: idna<4,>=2.5 in /home/matteo/miniforge3/lib/python3.12/site-packages (from requests->openmeteo_requests) (3.10)\n",
      "Requirement already satisfied: urllib3<3,>=1.21.1 in /home/matteo/miniforge3/lib/python3.12/site-packages (from requests->openmeteo_requests) (2.2.3)\n",
      "Requirement already satisfied: certifi>=2017.4.17 in /home/matteo/miniforge3/lib/python3.12/site-packages (from requests->openmeteo_requests) (2024.8.30)\n",
      "Requirement already satisfied: requests-cache in /home/matteo/miniforge3/lib/python3.12/site-packages (1.2.1)\n",
      "Requirement already satisfied: retry-requests in /home/matteo/miniforge3/lib/python3.12/site-packages (2.0.0)\n",
      "Requirement already satisfied: attrs>=21.2 in /home/matteo/miniforge3/lib/python3.12/site-packages (from requests-cache) (24.2.0)\n",
      "Requirement already satisfied: cattrs>=22.2 in /home/matteo/miniforge3/lib/python3.12/site-packages (from requests-cache) (24.1.3)\n",
      "Requirement already satisfied: platformdirs>=2.5 in /home/matteo/miniforge3/lib/python3.12/site-packages (from requests-cache) (4.3.6)\n",
      "Requirement already satisfied: requests>=2.22 in /home/matteo/miniforge3/lib/python3.12/site-packages (from requests-cache) (2.32.3)\n",
      "Requirement already satisfied: url-normalize>=1.4 in /home/matteo/miniforge3/lib/python3.12/site-packages (from requests-cache) (2.2.0)\n",
      "Requirement already satisfied: urllib3>=1.25.5 in /home/matteo/miniforge3/lib/python3.12/site-packages (from requests-cache) (2.2.3)\n",
      "Requirement already satisfied: charset-normalizer<4,>=2 in /home/matteo/miniforge3/lib/python3.12/site-packages (from requests>=2.22->requests-cache) (3.4.0)\n",
      "Requirement already satisfied: idna<4,>=2.5 in /home/matteo/miniforge3/lib/python3.12/site-packages (from requests>=2.22->requests-cache) (3.10)\n",
      "Requirement already satisfied: certifi>=2017.4.17 in /home/matteo/miniforge3/lib/python3.12/site-packages (from requests>=2.22->requests-cache) (2024.8.30)\n",
      "Requirement already satisfied: pandas in /home/matteo/miniforge3/lib/python3.12/site-packages (2.2.3)\n",
      "Requirement already satisfied: numpy>=1.26.0 in /home/matteo/miniforge3/lib/python3.12/site-packages (from pandas) (1.26.4)\n",
      "Requirement already satisfied: python-dateutil>=2.8.2 in /home/matteo/miniforge3/lib/python3.12/site-packages (from pandas) (2.9.0.post0)\n",
      "Requirement already satisfied: pytz>=2020.1 in /home/matteo/miniforge3/lib/python3.12/site-packages (from pandas) (2024.2)\n",
      "Requirement already satisfied: tzdata>=2022.7 in /home/matteo/miniforge3/lib/python3.12/site-packages (from pandas) (2024.2)\n",
      "Requirement already satisfied: six>=1.5 in /home/matteo/miniforge3/lib/python3.12/site-packages (from python-dateutil>=2.8.2->pandas) (1.16.0)\n"
     ]
    }
   ],
   "source": [
    "!pip install openmeteo_requests\n",
    "!pip install requests-cache retry-requests\n",
    "!pip install pandas"
   ]
  },
  {
   "cell_type": "code",
   "execution_count": 2,
   "id": "4ff3da28-8598-4f21-8958-40d5637732e8",
   "metadata": {},
   "outputs": [],
   "source": [
    "from data_classes import *\n",
    "from weather_providers import *\n",
    "#import numpy as np        #pip install numpy\n",
    "#import pvlib              #pip install pvlib            #library to automatically convert weather params into pv output"
   ]
  },
  {
   "cell_type": "markdown",
   "id": "9ca3c0d1-899f-4873-aa46-2c721b7a0bf3",
   "metadata": {},
   "source": [
    "#### Set system parameters here"
   ]
  },
  {
   "cell_type": "code",
   "execution_count": 3,
   "id": "bb6536d0-5f62-4fca-9d20-b5471656e0b5",
   "metadata": {},
   "outputs": [
    {
     "name": "stdout",
     "output_type": "stream",
     "text": [
      "System Params: System Losses: 10.0% (Factor: 0.900), Inverter Eff: 97.0% (Factor: 0.970)\n",
      "Location: Lat: 40.7100, Lon: -74.0100, Alt: not defined\n",
      "Orientation: Tilt: 30.0°, Azimuth: 180.0°\n",
      "Panel Specs: Pmax: 400.0Wp, TempCoeff: -35.000%/°C, NOCT: 44.0°C\n"
     ]
    }
   ],
   "source": [
    "my_location = Location(latitude=40.71, longitude=-74.01) # Example: New York\n",
    "my_panel_orientation = PanelOrientation(surface_tilt=30, surface_azimuth=180) # South-facing\n",
    "my_panel_specs = PanelSpecs(rated_power=400, temp_coefficient_power=-0.35, noct=44.0) # Temp coeff as %/C\n",
    "my_system_params = SystemParameters(system_losses=0.90, inverter_efficiency=0.97) # 10% system loss\n",
    "print(f\"System Params: {my_system_params}\")\n",
    "print(f\"Location: {my_location}\")\n",
    "print(f\"Orientation: {my_panel_orientation}\")\n",
    "print(f\"Panel Specs: {my_panel_specs}\")"
   ]
  },
  {
   "cell_type": "markdown",
   "id": "21c3cc16-75a4-4b66-89f2-be37ce28c2d6",
   "metadata": {},
   "source": [
    "#### Weather request start and end time"
   ]
  },
  {
   "cell_type": "code",
   "execution_count": 4,
   "id": "be3255d4-adcd-4a95-a18f-3375808606f1",
   "metadata": {},
   "outputs": [],
   "source": [
    "start_dt = datetime(2025, 4, 10, 0, 0, 0, tzinfo=timezone.utc) # March 1st, 00:00 UTC\n",
    "end_dt = datetime(2025, 4, 14, 23, 59, 59, tzinfo=timezone.utc) # April 14th, end of day UTC"
   ]
  },
  {
   "cell_type": "markdown",
   "id": "607417f7-0e85-496e-8cc6-2640da38b882",
   "metadata": {},
   "source": [
    "#### Call to open-weather"
   ]
  },
  {
   "cell_type": "code",
   "execution_count": 5,
   "id": "611c7ae0-9bcb-4cf3-8577-416efaef684a",
   "metadata": {},
   "outputs": [
    {
     "name": "stdout",
     "output_type": "stream",
     "text": [
      "OpenMeteo client initialized.\n",
      "\n",
      "--- Requesting Hourly DataFrame ---\n",
      "Fetching hourly weather data for Lat: 40.7100, Lon: -74.0100, Alt: not defined from 2025-04-10 00:00:00+00:00 to 2025-04-14 23:59:59+00:00...\n",
      "start time: 2025-04-10, end time: 2025-04-14\n",
      "Requesting Open-Meteo (Hourly) via library: {'latitude': 40.71, 'longitude': -74.01, 'timezone': 'UTC', 'hourly': ['temperature_2m', 'precipitation_probability', 'wind_speed_10m', 'shortwave_radiation_instant', 'diffuse_radiation_instant', 'direct_normal_irradiance_instant', 'cloud_cover', 'precipitation'], 'start_date': '2025-04-10', 'end_date': '2025-04-14'}\n",
      "parsing:  temperature_2m\n",
      "parsing:  precipitation_probability\n",
      "parsing:  wind_speed_10m\n",
      "parsing:  shortwave_radiation_instant\n",
      "parsing:  diffuse_radiation_instant\n",
      "parsing:  direct_normal_irradiance_instant\n",
      "parsing:  cloud_cover\n",
      "parsing:  precipitation\n",
      "\n",
      "Successfully retrieved DataFrame with 120 hourly rows.\n",
      "\n",
      "DataFrame Info:\n",
      "<class 'pandas.core.frame.DataFrame'>\n",
      "DatetimeIndex: 120 entries, 2025-04-10 00:00:00+00:00 to 2025-04-14 23:00:00+00:00\n",
      "Data columns (total 8 columns):\n",
      " #   Column                            Non-Null Count  Dtype  \n",
      "---  ------                            --------------  -----  \n",
      " 0   temperature_2m                    120 non-null    float32\n",
      " 1   precipitation_probability         120 non-null    float32\n",
      " 2   wind_speed_10m                    120 non-null    float32\n",
      " 3   shortwave_radiation_instant       120 non-null    float32\n",
      " 4   diffuse_radiation_instant         120 non-null    float32\n",
      " 5   direct_normal_irradiance_instant  120 non-null    float32\n",
      " 6   cloud_cover                       120 non-null    float32\n",
      " 7   precipitation                     120 non-null    float32\n",
      "dtypes: float32(8)\n",
      "memory usage: 4.7 KB\n",
      "\n",
      "DataFrame Head:\n",
      "                           temperature_2m  precipitation_probability  \\\n",
      "date                                                                   \n",
      "2025-04-10 00:00:00+00:00          4.8135                        0.0   \n",
      "2025-04-10 01:00:00+00:00          4.6135                        0.0   \n",
      "2025-04-10 02:00:00+00:00          4.3635                        0.0   \n",
      "2025-04-10 03:00:00+00:00          3.8135                        0.0   \n",
      "2025-04-10 04:00:00+00:00          3.5635                        0.0   \n",
      "\n",
      "                           wind_speed_10m  shortwave_radiation_instant  \\\n",
      "date                                                                     \n",
      "2025-04-10 00:00:00+00:00       17.114204                          0.0   \n",
      "2025-04-10 01:00:00+00:00       16.171976                          0.0   \n",
      "2025-04-10 02:00:00+00:00       16.203999                          0.0   \n",
      "2025-04-10 03:00:00+00:00       12.849528                          0.0   \n",
      "2025-04-10 04:00:00+00:00       10.137692                          0.0   \n",
      "\n",
      "                           diffuse_radiation_instant  \\\n",
      "date                                                   \n",
      "2025-04-10 00:00:00+00:00                        0.0   \n",
      "2025-04-10 01:00:00+00:00                        0.0   \n",
      "2025-04-10 02:00:00+00:00                        0.0   \n",
      "2025-04-10 03:00:00+00:00                        0.0   \n",
      "2025-04-10 04:00:00+00:00                        0.0   \n",
      "\n",
      "                           direct_normal_irradiance_instant  cloud_cover  \\\n",
      "date                                                                       \n",
      "2025-04-10 00:00:00+00:00                               0.0          0.0   \n",
      "2025-04-10 01:00:00+00:00                               0.0          0.0   \n",
      "2025-04-10 02:00:00+00:00                               0.0          1.0   \n",
      "2025-04-10 03:00:00+00:00                               0.0          0.0   \n",
      "2025-04-10 04:00:00+00:00                               0.0          0.0   \n",
      "\n",
      "                           precipitation  \n",
      "date                                      \n",
      "2025-04-10 00:00:00+00:00            0.0  \n",
      "2025-04-10 01:00:00+00:00            0.0  \n",
      "2025-04-10 02:00:00+00:00            0.0  \n",
      "2025-04-10 03:00:00+00:00            0.0  \n",
      "2025-04-10 04:00:00+00:00            0.0  \n",
      "\n",
      "DataFrame Tail:\n",
      "                           temperature_2m  precipitation_probability  \\\n",
      "date                                                                   \n",
      "2025-04-14 19:00:00+00:00       13.913500                        1.0   \n",
      "2025-04-14 20:00:00+00:00       14.413500                        1.0   \n",
      "2025-04-14 21:00:00+00:00       13.963500                        1.0   \n",
      "2025-04-14 22:00:00+00:00       12.063499                        1.0   \n",
      "2025-04-14 23:00:00+00:00       10.363500                        1.0   \n",
      "\n",
      "                           wind_speed_10m  shortwave_radiation_instant  \\\n",
      "date                                                                     \n",
      "2025-04-14 19:00:00+00:00       11.298495                   735.112488   \n",
      "2025-04-14 20:00:00+00:00       13.441071                   613.579346   \n",
      "2025-04-14 21:00:00+00:00       14.843180                   427.777954   \n",
      "2025-04-14 22:00:00+00:00       12.599998                   198.222229   \n",
      "2025-04-14 23:00:00+00:00       11.885453                    46.092041   \n",
      "\n",
      "                           diffuse_radiation_instant  \\\n",
      "date                                                   \n",
      "2025-04-14 19:00:00+00:00                 292.342041   \n",
      "2025-04-14 20:00:00+00:00                 128.887970   \n",
      "2025-04-14 21:00:00+00:00                 151.984985   \n",
      "2025-04-14 22:00:00+00:00                 167.843338   \n",
      "2025-04-14 23:00:00+00:00                  43.086040   \n",
      "\n",
      "                           direct_normal_irradiance_instant  cloud_cover  \\\n",
      "date                                                                       \n",
      "2025-04-14 19:00:00+00:00                        558.100769         63.0   \n",
      "2025-04-14 20:00:00+00:00                        699.057251        100.0   \n",
      "2025-04-14 21:00:00+00:00                        498.175873         95.0   \n",
      "2025-04-14 22:00:00+00:00                         79.182022        100.0   \n",
      "2025-04-14 23:00:00+00:00                         15.406684         76.0   \n",
      "\n",
      "                           precipitation  \n",
      "date                                      \n",
      "2025-04-14 19:00:00+00:00            0.0  \n",
      "2025-04-14 20:00:00+00:00            0.0  \n",
      "2025-04-14 21:00:00+00:00            0.0  \n",
      "2025-04-14 22:00:00+00:00            0.0  \n",
      "2025-04-14 23:00:00+00:00            0.0  \n"
     ]
    }
   ],
   "source": [
    "try:\n",
    "    weather_provider = get_weather_provider(\"open-meteo\") # Factory returns the correct provider\n",
    "\n",
    "    print(f\"\\n--- Requesting Hourly DataFrame ---\")\n",
    "    print(f\"Fetching hourly weather data for {my_location} from {start_dt} to {end_dt}...\")\n",
    "\n",
    "    weather_df: pd.DataFrame | None = weather_provider.get_weather_data(my_location, start_dt, end_dt)\n",
    "\n",
    "    if weather_df is None:\n",
    "        print(\"Could not retrieve weather data DataFrame.\")\n",
    "    elif weather_df.empty:\n",
    "         print(\"Retrieved DataFrame is empty (no data for the specified range/parameters).\")\n",
    "    else:\n",
    "        print(f\"\\nSuccessfully retrieved DataFrame with {len(weather_df)} hourly rows.\")\n",
    "        print(\"\\nDataFrame Info:\")\n",
    "        weather_df.info()\n",
    "        print(\"\\nDataFrame Head:\")\n",
    "        print(weather_df.head())\n",
    "        print(\"\\nDataFrame Tail:\")\n",
    "        print(weather_df.tail())\n",
    "\n",
    "        # --- Subsequent Processing ---\n",
    "        # Now you can directly use the DataFrame for analysis or PV calculations\n",
    "        # Example: Accessing a column\n",
    "        # temperatures = weather_df['temperature_2m']\n",
    "        # print(\"\\nSample Temperatures:\\n\", temperatures.head())\n",
    "\n",
    "        # Example: Passing data to a PV calculation function (needs adaptation)\n",
    "        # pv_output = calculate_pv_power_from_df(weather_df, my_location, panel_orientation, ...)\n",
    "\n",
    "\n",
    "except ValueError as e:\n",
    "    print(f\"Configuration Error: {e}\")\n",
    "except Exception as e:\n",
    "    print(f\"An unexpected error occurred: {e}\")\n",
    "    import traceback\n",
    "    traceback.print_exc()"
   ]
  },
  {
   "cell_type": "code",
   "execution_count": null,
   "id": "692452f0-72a4-484e-93f8-8ecc48cb6d3e",
   "metadata": {},
   "outputs": [],
   "source": []
  },
  {
   "cell_type": "code",
   "execution_count": null,
   "id": "66ac23e5-154b-4531-8e12-d85f3640e627",
   "metadata": {},
   "outputs": [],
   "source": []
  }
 ],
 "metadata": {
  "kernelspec": {
   "display_name": "Python 3 (ipykernel)",
   "language": "python",
   "name": "python3"
  },
  "language_info": {
   "codemirror_mode": {
    "name": "ipython",
    "version": 3
   },
   "file_extension": ".py",
   "mimetype": "text/x-python",
   "name": "python",
   "nbconvert_exporter": "python",
   "pygments_lexer": "ipython3",
   "version": "3.12.7"
  }
 },
 "nbformat": 4,
 "nbformat_minor": 5
}
